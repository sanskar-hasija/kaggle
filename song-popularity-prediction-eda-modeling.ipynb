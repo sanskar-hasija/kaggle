{
 "cells": [
  {
   "cell_type": "markdown",
   "id": "adaa9f4b",
   "metadata": {
    "_cell_guid": "b1076dfc-b9ad-4769-8c92-a6c4dae69d19",
    "_uuid": "8f2839f25d086af736a60e9eeb907d3b93b6e0e5",
    "papermill": {
     "duration": 0.032071,
     "end_time": "2022-01-18T16:55:04.582092",
     "exception": false,
     "start_time": "2022-01-18T16:55:04.550021",
     "status": "completed"
    },
    "tags": []
   },
   "source": [
    "**Created by Sanskar Hasija**\n",
    "\n",
    "**Song Popularity Prediction - 📊EDA + MODELING📊**\n",
    "\n",
    "**18 JANUARY 2022**\n"
   ]
  },
  {
   "cell_type": "markdown",
   "id": "e87e5a3a",
   "metadata": {
    "papermill": {
     "duration": 0.030645,
     "end_time": "2022-01-18T16:55:04.643776",
     "exception": false,
     "start_time": "2022-01-18T16:55:04.613131",
     "status": "completed"
    },
    "tags": []
   },
   "source": [
    "# <center> SONG POPULARITY PREDICTION - 📊EDA + MODELING📊 </center>\n",
    "## <center>If you find this notebook useful, support with an upvote👍</center>"
   ]
  },
  {
   "cell_type": "markdown",
   "id": "314edde4",
   "metadata": {
    "papermill": {
     "duration": 0.030343,
     "end_time": "2022-01-18T16:55:04.704684",
     "exception": false,
     "start_time": "2022-01-18T16:55:04.674341",
     "status": "completed"
    },
    "tags": []
   },
   "source": [
    "# Table of Contents\n",
    "<a id=\"toc\"></a>\n",
    "- [1. Introduction](#1)\n",
    "- [2. Imports](#2)\n",
    "- [3. Data Loading and Preperation](#3)\n",
    "    - [3.1 Exploring Train Data](#3.1)\n",
    "    - [3.2 Exploring Test Data](#3.2)\n",
    "    - [3.3 Submission File](#3.3)\n",
    "- [4. EDA](#4)\n",
    "    - [4.1 Overview of Data](#4.1)\n",
    "    - [4.2 Continuos and Categorical Data Distribution](#4.2)\n",
    "    - [4.3 Feature Distribution of Continous Features](#4.3)\n",
    "    - [4.4 Feature Distribution of Categorical Features](#4.4)\n",
    "    - [4.5 Target Distribution ](#4.5)\n",
    "    - [4.6 Correlation Matrix ](#4.6)\n",
    "    - [4.7 Null Value Distribution ](#4.7)\n",
    "\n",
    "    \n",
    "- [WORK IN PROGRESS 🙂]()"
   ]
  },
  {
   "cell_type": "markdown",
   "id": "cf8a8fbc",
   "metadata": {
    "papermill": {
     "duration": 0.029887,
     "end_time": "2022-01-18T16:55:04.765107",
     "exception": false,
     "start_time": "2022-01-18T16:55:04.735220",
     "status": "completed"
    },
    "tags": []
   },
   "source": [
    "<a id=\"1\"></a>\n",
    "# Introduction"
   ]
  },
  {
   "cell_type": "markdown",
   "id": "68c123d0",
   "metadata": {
    "papermill": {
     "duration": 0.030549,
     "end_time": "2022-01-18T16:55:04.827867",
     "exception": false,
     "start_time": "2022-01-18T16:55:04.797318",
     "status": "completed"
    },
    "tags": []
   },
   "source": [
    "**The competition is organised by MLspace and is the first competition of the series.**\n",
    "\n",
    "\n",
    "**In this competition, you are supposed to predict the popularity of a song given features like acousticness, danceability, key, loudness, etc.**\n",
    "\n",
    "**Submissions are evaluated on Area Under the ROC Curve (AUC)**"
   ]
  },
  {
   "cell_type": "markdown",
   "id": "4a1fc126",
   "metadata": {
    "papermill": {
     "duration": 0.0299,
     "end_time": "2022-01-18T16:55:04.888163",
     "exception": false,
     "start_time": "2022-01-18T16:55:04.858263",
     "status": "completed"
    },
    "tags": []
   },
   "source": [
    "<a href=\"#toc\" role=\"button\" aria-pressed=\"true\" >⬆️Back to Table of Contents ⬆️</a>"
   ]
  },
  {
   "cell_type": "markdown",
   "id": "7d7033b8",
   "metadata": {
    "papermill": {
     "duration": 0.030104,
     "end_time": "2022-01-18T16:55:04.948675",
     "exception": false,
     "start_time": "2022-01-18T16:55:04.918571",
     "status": "completed"
    },
    "tags": []
   },
   "source": [
    "<a id=\"2\"></a>\n",
    "# Imports"
   ]
  },
  {
   "cell_type": "code",
   "execution_count": 1,
   "id": "31b8223b",
   "metadata": {
    "execution": {
     "iopub.execute_input": "2022-01-18T16:55:05.022373Z",
     "iopub.status.busy": "2022-01-18T16:55:05.013510Z",
     "iopub.status.idle": "2022-01-18T16:55:12.756055Z",
     "shell.execute_reply": "2022-01-18T16:55:12.755434Z",
     "shell.execute_reply.started": "2022-01-18T16:23:08.249643Z"
    },
    "papermill": {
     "duration": 7.777229,
     "end_time": "2022-01-18T16:55:12.756222",
     "exception": false,
     "start_time": "2022-01-18T16:55:04.978993",
     "status": "completed"
    },
    "tags": []
   },
   "outputs": [
    {
     "data": {
      "text/html": [
       "<style type='text/css'>\n",
       ".datatable table.frame { margin-bottom: 0; }\n",
       ".datatable table.frame thead { border-bottom: none; }\n",
       ".datatable table.frame tr.coltypes td {  color: #FFFFFF;  line-height: 6px;  padding: 0 0.5em;}\n",
       ".datatable .bool    { background: #DDDD99; }\n",
       ".datatable .object  { background: #565656; }\n",
       ".datatable .int     { background: #5D9E5D; }\n",
       ".datatable .float   { background: #4040CC; }\n",
       ".datatable .str     { background: #CC4040; }\n",
       ".datatable .time    { background: #40CC40; }\n",
       ".datatable .row_index {  background: var(--jp-border-color3);  border-right: 1px solid var(--jp-border-color0);  color: var(--jp-ui-font-color3);  font-size: 9px;}\n",
       ".datatable .frame tbody td { text-align: left; }\n",
       ".datatable .frame tr.coltypes .row_index {  background: var(--jp-border-color0);}\n",
       ".datatable th:nth-child(2) { padding-left: 12px; }\n",
       ".datatable .hellipsis {  color: var(--jp-cell-editor-border-color);}\n",
       ".datatable .vellipsis {  background: var(--jp-layout-color0);  color: var(--jp-cell-editor-border-color);}\n",
       ".datatable .na {  color: var(--jp-cell-editor-border-color);  font-size: 80%;}\n",
       ".datatable .sp {  opacity: 0.25;}\n",
       ".datatable .footer { font-size: 9px; }\n",
       ".datatable .frame_dimensions {  background: var(--jp-border-color3);  border-top: 1px solid var(--jp-border-color0);  color: var(--jp-ui-font-color3);  display: inline-block;  opacity: 0.6;  padding: 1px 10px 1px 5px;}\n",
       "</style>\n"
      ],
      "text/plain": [
       "<IPython.core.display.HTML object>"
      ]
     },
     "metadata": {},
     "output_type": "display_data"
    }
   ],
   "source": [
    "import numpy as np\n",
    "import pandas as pd\n",
    "import matplotlib.pyplot as plt\n",
    "import seaborn as sns\n",
    "import plotly.express as px\n",
    "\n",
    "\n",
    "from sklearn.model_selection import StratifiedKFold\n",
    "from sklearn.preprocessing import StandardScaler , LabelEncoder\n",
    "from sklearn.metrics import accuracy_score\n",
    "from sklearn.model_selection import train_test_split\n",
    "from scipy.stats import mode\n",
    "\n",
    "\n",
    "from xgboost import XGBClassifier\n",
    "from catboost import CatBoostClassifier\n",
    "from lightgbm import LGBMClassifier\n",
    "\n",
    "import tensorflow as tf\n",
    "from tensorflow.keras import layers\n",
    "from tensorflow.keras import callbacks\n",
    "from tensorflow.keras.utils import to_categorical\n",
    "\n",
    "from matplotlib import ticker\n",
    "import time\n",
    "import warnings\n",
    "pd.set_option('display.max_rows', None)\n",
    "pd.set_option('display.max_columns', None)\n",
    "pd.set_option('float_format', '{:f}'.format)\n",
    "warnings.filterwarnings('ignore')"
   ]
  },
  {
   "cell_type": "markdown",
   "id": "5c9d43ac",
   "metadata": {
    "papermill": {
     "duration": 0.0308,
     "end_time": "2022-01-18T16:55:12.818808",
     "exception": false,
     "start_time": "2022-01-18T16:55:12.788008",
     "status": "completed"
    },
    "tags": []
   },
   "source": [
    "<a href=\"#toc\" role=\"button\" aria-pressed=\"true\" >⬆️Back to Table of Contents ⬆️</a>"
   ]
  },
  {
   "cell_type": "markdown",
   "id": "b944c857",
   "metadata": {
    "papermill": {
     "duration": 0.030271,
     "end_time": "2022-01-18T16:55:12.879903",
     "exception": false,
     "start_time": "2022-01-18T16:55:12.849632",
     "status": "completed"
    },
    "tags": []
   },
   "source": [
    "<a id=\"3\"></a>\n",
    "# Data Loading and Preperation"
   ]
  },
  {
   "cell_type": "code",
   "execution_count": 2,
   "id": "57dfcae7",
   "metadata": {
    "execution": {
     "iopub.execute_input": "2022-01-18T16:55:12.945933Z",
     "iopub.status.busy": "2022-01-18T16:55:12.944875Z",
     "iopub.status.idle": "2022-01-18T16:55:13.209164Z",
     "shell.execute_reply": "2022-01-18T16:55:13.209723Z",
     "shell.execute_reply.started": "2022-01-18T16:23:08.259781Z"
    },
    "papermill": {
     "duration": 0.299353,
     "end_time": "2022-01-18T16:55:13.209910",
     "exception": false,
     "start_time": "2022-01-18T16:55:12.910557",
     "status": "completed"
    },
    "tags": []
   },
   "outputs": [],
   "source": [
    "train = pd.read_csv(\"../input/song-popularity-prediction/train.csv\")\n",
    "test = pd.read_csv(\"../input/song-popularity-prediction/test.csv\")\n",
    "submission = pd.read_csv(\"../input/song-popularity-prediction/sample_submission.csv\")"
   ]
  },
  {
   "cell_type": "markdown",
   "id": "df4e67b3",
   "metadata": {
    "papermill": {
     "duration": 0.031162,
     "end_time": "2022-01-18T16:55:13.272869",
     "exception": false,
     "start_time": "2022-01-18T16:55:13.241707",
     "status": "completed"
    },
    "tags": []
   },
   "source": [
    "<a id=\"3.1\"></a>\n",
    "## Exploring Train Data"
   ]
  },
  {
   "cell_type": "markdown",
   "id": "f7ee164c",
   "metadata": {
    "papermill": {
     "duration": 0.030752,
     "end_time": "2022-01-18T16:55:13.335174",
     "exception": false,
     "start_time": "2022-01-18T16:55:13.304422",
     "status": "completed"
    },
    "tags": []
   },
   "source": [
    "### Observations:\n",
    "\n",
    "* There are total of ```15``` columns : ```10``` continous , ```3``` categorical ```1``` id and ```1``` target column\n",
    "* ```song_popularity column``` is the target variable which is only available in the ```train``` dataset.\n",
    "* Train dataset contain ```527,813``` observation with ```32,178```  missing values.\n",
    "* 8 differnt rows have null values with maximum missings values in ```song_duration_ms``` column."
   ]
  },
  {
   "cell_type": "markdown",
   "id": "a9bd135c",
   "metadata": {
    "papermill": {
     "duration": 0.031739,
     "end_time": "2022-01-18T16:55:13.398426",
     "exception": false,
     "start_time": "2022-01-18T16:55:13.366687",
     "status": "completed"
    },
    "tags": []
   },
   "source": [
    "### Quick view of Train Data"
   ]
  },
  {
   "cell_type": "markdown",
   "id": "df9cfbe4",
   "metadata": {
    "papermill": {
     "duration": 0.031175,
     "end_time": "2022-01-18T16:55:13.460638",
     "exception": false,
     "start_time": "2022-01-18T16:55:13.429463",
     "status": "completed"
    },
    "tags": []
   },
   "source": [
    "Below is the first 5 rows of train dataset:"
   ]
  },
  {
   "cell_type": "code",
   "execution_count": 3,
   "id": "585784fd",
   "metadata": {
    "_kg_hide-input": true,
    "execution": {
     "iopub.execute_input": "2022-01-18T16:55:13.529540Z",
     "iopub.status.busy": "2022-01-18T16:55:13.525665Z",
     "iopub.status.idle": "2022-01-18T16:55:13.544052Z",
     "shell.execute_reply": "2022-01-18T16:55:13.544650Z",
     "shell.execute_reply.started": "2022-01-18T16:23:08.417834Z"
    },
    "papermill": {
     "duration": 0.05319,
     "end_time": "2022-01-18T16:55:13.544813",
     "exception": false,
     "start_time": "2022-01-18T16:55:13.491623",
     "status": "completed"
    },
    "tags": []
   },
   "outputs": [
    {
     "data": {
      "text/html": [
       "<div>\n",
       "<style scoped>\n",
       "    .dataframe tbody tr th:only-of-type {\n",
       "        vertical-align: middle;\n",
       "    }\n",
       "\n",
       "    .dataframe tbody tr th {\n",
       "        vertical-align: top;\n",
       "    }\n",
       "\n",
       "    .dataframe thead th {\n",
       "        text-align: right;\n",
       "    }\n",
       "</style>\n",
       "<table border=\"1\" class=\"dataframe\">\n",
       "  <thead>\n",
       "    <tr style=\"text-align: right;\">\n",
       "      <th></th>\n",
       "      <th>id</th>\n",
       "      <th>song_duration_ms</th>\n",
       "      <th>acousticness</th>\n",
       "      <th>danceability</th>\n",
       "      <th>energy</th>\n",
       "      <th>instrumentalness</th>\n",
       "      <th>key</th>\n",
       "      <th>liveness</th>\n",
       "      <th>loudness</th>\n",
       "      <th>audio_mode</th>\n",
       "      <th>speechiness</th>\n",
       "      <th>tempo</th>\n",
       "      <th>time_signature</th>\n",
       "      <th>audio_valence</th>\n",
       "      <th>song_popularity</th>\n",
       "    </tr>\n",
       "  </thead>\n",
       "  <tbody>\n",
       "    <tr>\n",
       "      <th>0</th>\n",
       "      <td>0</td>\n",
       "      <td>212990.000000</td>\n",
       "      <td>0.642286</td>\n",
       "      <td>0.856520</td>\n",
       "      <td>0.707073</td>\n",
       "      <td>0.002001</td>\n",
       "      <td>10.000000</td>\n",
       "      <td>NaN</td>\n",
       "      <td>-5.619088</td>\n",
       "      <td>0</td>\n",
       "      <td>0.082570</td>\n",
       "      <td>158.386236</td>\n",
       "      <td>4</td>\n",
       "      <td>0.734642</td>\n",
       "      <td>0</td>\n",
       "    </tr>\n",
       "    <tr>\n",
       "      <th>1</th>\n",
       "      <td>1</td>\n",
       "      <td>NaN</td>\n",
       "      <td>0.054866</td>\n",
       "      <td>0.733289</td>\n",
       "      <td>0.835545</td>\n",
       "      <td>0.000996</td>\n",
       "      <td>8.000000</td>\n",
       "      <td>0.436428</td>\n",
       "      <td>-5.236965</td>\n",
       "      <td>1</td>\n",
       "      <td>0.127358</td>\n",
       "      <td>102.752988</td>\n",
       "      <td>3</td>\n",
       "      <td>0.711531</td>\n",
       "      <td>1</td>\n",
       "    </tr>\n",
       "    <tr>\n",
       "      <th>2</th>\n",
       "      <td>2</td>\n",
       "      <td>193213.000000</td>\n",
       "      <td>NaN</td>\n",
       "      <td>0.188387</td>\n",
       "      <td>0.783524</td>\n",
       "      <td>-0.002694</td>\n",
       "      <td>5.000000</td>\n",
       "      <td>0.170499</td>\n",
       "      <td>-4.951759</td>\n",
       "      <td>0</td>\n",
       "      <td>0.052282</td>\n",
       "      <td>178.685791</td>\n",
       "      <td>3</td>\n",
       "      <td>0.425536</td>\n",
       "      <td>0</td>\n",
       "    </tr>\n",
       "    <tr>\n",
       "      <th>3</th>\n",
       "      <td>3</td>\n",
       "      <td>249893.000000</td>\n",
       "      <td>0.488660</td>\n",
       "      <td>0.585234</td>\n",
       "      <td>0.552685</td>\n",
       "      <td>0.000608</td>\n",
       "      <td>0.000000</td>\n",
       "      <td>0.094805</td>\n",
       "      <td>-7.893694</td>\n",
       "      <td>0</td>\n",
       "      <td>0.035618</td>\n",
       "      <td>128.715630</td>\n",
       "      <td>3</td>\n",
       "      <td>0.453597</td>\n",
       "      <td>0</td>\n",
       "    </tr>\n",
       "    <tr>\n",
       "      <th>4</th>\n",
       "      <td>4</td>\n",
       "      <td>165969.000000</td>\n",
       "      <td>0.493017</td>\n",
       "      <td>NaN</td>\n",
       "      <td>0.740982</td>\n",
       "      <td>0.002033</td>\n",
       "      <td>10.000000</td>\n",
       "      <td>0.094891</td>\n",
       "      <td>-2.684095</td>\n",
       "      <td>0</td>\n",
       "      <td>0.050746</td>\n",
       "      <td>121.928157</td>\n",
       "      <td>4</td>\n",
       "      <td>0.741311</td>\n",
       "      <td>0</td>\n",
       "    </tr>\n",
       "  </tbody>\n",
       "</table>\n",
       "</div>"
      ],
      "text/plain": [
       "   id  song_duration_ms  acousticness  danceability   energy  \\\n",
       "0   0     212990.000000      0.642286      0.856520 0.707073   \n",
       "1   1               NaN      0.054866      0.733289 0.835545   \n",
       "2   2     193213.000000           NaN      0.188387 0.783524   \n",
       "3   3     249893.000000      0.488660      0.585234 0.552685   \n",
       "4   4     165969.000000      0.493017           NaN 0.740982   \n",
       "\n",
       "   instrumentalness       key  liveness  loudness  audio_mode  speechiness  \\\n",
       "0          0.002001 10.000000       NaN -5.619088           0     0.082570   \n",
       "1          0.000996  8.000000  0.436428 -5.236965           1     0.127358   \n",
       "2         -0.002694  5.000000  0.170499 -4.951759           0     0.052282   \n",
       "3          0.000608  0.000000  0.094805 -7.893694           0     0.035618   \n",
       "4          0.002033 10.000000  0.094891 -2.684095           0     0.050746   \n",
       "\n",
       "       tempo  time_signature  audio_valence  song_popularity  \n",
       "0 158.386236               4       0.734642                0  \n",
       "1 102.752988               3       0.711531                1  \n",
       "2 178.685791               3       0.425536                0  \n",
       "3 128.715630               3       0.453597                0  \n",
       "4 121.928157               4       0.741311                0  "
      ]
     },
     "execution_count": 3,
     "metadata": {},
     "output_type": "execute_result"
    }
   ],
   "source": [
    "train.head()"
   ]
  },
  {
   "cell_type": "code",
   "execution_count": 4,
   "id": "ba824369",
   "metadata": {
    "_kg_hide-input": true,
    "execution": {
     "iopub.execute_input": "2022-01-18T16:55:13.615644Z",
     "iopub.status.busy": "2022-01-18T16:55:13.614976Z",
     "iopub.status.idle": "2022-01-18T16:55:13.622497Z",
     "shell.execute_reply": "2022-01-18T16:55:13.622952Z",
     "shell.execute_reply.started": "2022-01-18T16:23:08.444090Z"
    },
    "papermill": {
     "duration": 0.046406,
     "end_time": "2022-01-18T16:55:13.623110",
     "exception": false,
     "start_time": "2022-01-18T16:55:13.576704",
     "status": "completed"
    },
    "tags": []
   },
   "outputs": [
    {
     "name": "stdout",
     "output_type": "stream",
     "text": [
      "\u001b[92mNumber of rows in train data: 40000\n",
      "\u001b[94mNumber of columns in train data: 15\n",
      "\u001b[91mNumber of values in train data: 567813\n",
      "\u001b[91mNumber missing values in train data: 32187\n"
     ]
    }
   ],
   "source": [
    "print(f'\\033[92mNumber of rows in train data: {train.shape[0]}')\n",
    "print(f'\\033[94mNumber of columns in train data: {train.shape[1]}')\n",
    "print(f'\\033[91mNumber of values in train data: {train.count().sum()}')\n",
    "print(f'\\033[91mNumber missing values in train data: {sum(train.isna().sum())}')"
   ]
  },
  {
   "cell_type": "markdown",
   "id": "4ee66cfc",
   "metadata": {
    "papermill": {
     "duration": 0.032558,
     "end_time": "2022-01-18T16:55:13.688040",
     "exception": false,
     "start_time": "2022-01-18T16:55:13.655482",
     "status": "completed"
    },
    "tags": []
   },
   "source": [
    "### Column Wise missing values"
   ]
  },
  {
   "cell_type": "code",
   "execution_count": 5,
   "id": "297b2d6c",
   "metadata": {
    "_kg_hide-input": true,
    "execution": {
     "iopub.execute_input": "2022-01-18T16:55:13.758377Z",
     "iopub.status.busy": "2022-01-18T16:55:13.757383Z",
     "iopub.status.idle": "2022-01-18T16:55:13.763895Z",
     "shell.execute_reply": "2022-01-18T16:55:13.764549Z",
     "shell.execute_reply.started": "2022-01-18T16:23:08.461870Z"
    },
    "papermill": {
     "duration": 0.044088,
     "end_time": "2022-01-18T16:55:13.764770",
     "exception": false,
     "start_time": "2022-01-18T16:55:13.720682",
     "status": "completed"
    },
    "tags": []
   },
   "outputs": [
    {
     "name": "stdout",
     "output_type": "stream",
     "text": [
      "song_duration_ms    4101\n",
      "liveness            4086\n",
      "key                 4065\n",
      "danceability        4026\n",
      "acousticness        3992\n",
      "instrumentalness    3985\n",
      "energy              3975\n",
      "loudness            3957\n",
      "id                     0\n",
      "audio_mode             0\n",
      "speechiness            0\n",
      "tempo                  0\n",
      "time_signature         0\n",
      "audio_valence          0\n",
      "song_popularity        0\n",
      "dtype: int64\n"
     ]
    }
   ],
   "source": [
    "print(train.isna().sum().sort_values(ascending = False))"
   ]
  },
  {
   "cell_type": "markdown",
   "id": "5522e79a",
   "metadata": {
    "papermill": {
     "duration": 0.032538,
     "end_time": "2022-01-18T16:55:13.830913",
     "exception": false,
     "start_time": "2022-01-18T16:55:13.798375",
     "status": "completed"
    },
    "tags": []
   },
   "source": [
    "### Basic statistics of training data"
   ]
  },
  {
   "cell_type": "code",
   "execution_count": 6,
   "id": "dc92c5ed",
   "metadata": {
    "_kg_hide-input": true,
    "execution": {
     "iopub.execute_input": "2022-01-18T16:55:13.901282Z",
     "iopub.status.busy": "2022-01-18T16:55:13.900659Z",
     "iopub.status.idle": "2022-01-18T16:55:13.972788Z",
     "shell.execute_reply": "2022-01-18T16:55:13.972124Z",
     "shell.execute_reply.started": "2022-01-18T16:23:08.472311Z"
    },
    "papermill": {
     "duration": 0.109155,
     "end_time": "2022-01-18T16:55:13.972926",
     "exception": false,
     "start_time": "2022-01-18T16:55:13.863771",
     "status": "completed"
    },
    "tags": []
   },
   "outputs": [
    {
     "data": {
      "text/html": [
       "<div>\n",
       "<style scoped>\n",
       "    .dataframe tbody tr th:only-of-type {\n",
       "        vertical-align: middle;\n",
       "    }\n",
       "\n",
       "    .dataframe tbody tr th {\n",
       "        vertical-align: top;\n",
       "    }\n",
       "\n",
       "    .dataframe thead th {\n",
       "        text-align: right;\n",
       "    }\n",
       "</style>\n",
       "<table border=\"1\" class=\"dataframe\">\n",
       "  <thead>\n",
       "    <tr style=\"text-align: right;\">\n",
       "      <th></th>\n",
       "      <th>id</th>\n",
       "      <th>song_duration_ms</th>\n",
       "      <th>acousticness</th>\n",
       "      <th>danceability</th>\n",
       "      <th>energy</th>\n",
       "      <th>instrumentalness</th>\n",
       "      <th>key</th>\n",
       "      <th>liveness</th>\n",
       "      <th>loudness</th>\n",
       "      <th>audio_mode</th>\n",
       "      <th>speechiness</th>\n",
       "      <th>tempo</th>\n",
       "      <th>time_signature</th>\n",
       "      <th>audio_valence</th>\n",
       "      <th>song_popularity</th>\n",
       "    </tr>\n",
       "  </thead>\n",
       "  <tbody>\n",
       "    <tr>\n",
       "      <th>count</th>\n",
       "      <td>40000.000000</td>\n",
       "      <td>35899.000000</td>\n",
       "      <td>36008.000000</td>\n",
       "      <td>35974.000000</td>\n",
       "      <td>36025.000000</td>\n",
       "      <td>36015.000000</td>\n",
       "      <td>35935.000000</td>\n",
       "      <td>35914.000000</td>\n",
       "      <td>36043.000000</td>\n",
       "      <td>40000.000000</td>\n",
       "      <td>40000.000000</td>\n",
       "      <td>40000.000000</td>\n",
       "      <td>40000.000000</td>\n",
       "      <td>40000.000000</td>\n",
       "      <td>40000.000000</td>\n",
       "    </tr>\n",
       "    <tr>\n",
       "      <th>mean</th>\n",
       "      <td>19999.500000</td>\n",
       "      <td>193165.847572</td>\n",
       "      <td>0.276404</td>\n",
       "      <td>0.570951</td>\n",
       "      <td>0.683932</td>\n",
       "      <td>0.036527</td>\n",
       "      <td>5.042605</td>\n",
       "      <td>0.198514</td>\n",
       "      <td>-7.407596</td>\n",
       "      <td>0.321150</td>\n",
       "      <td>0.094107</td>\n",
       "      <td>116.562815</td>\n",
       "      <td>3.394375</td>\n",
       "      <td>0.580645</td>\n",
       "      <td>0.364400</td>\n",
       "    </tr>\n",
       "    <tr>\n",
       "      <th>std</th>\n",
       "      <td>11547.149720</td>\n",
       "      <td>45822.127679</td>\n",
       "      <td>0.297928</td>\n",
       "      <td>0.190010</td>\n",
       "      <td>0.212662</td>\n",
       "      <td>0.150024</td>\n",
       "      <td>3.372728</td>\n",
       "      <td>0.151670</td>\n",
       "      <td>3.877198</td>\n",
       "      <td>0.466924</td>\n",
       "      <td>0.083591</td>\n",
       "      <td>26.167911</td>\n",
       "      <td>0.524405</td>\n",
       "      <td>0.237351</td>\n",
       "      <td>0.481268</td>\n",
       "    </tr>\n",
       "    <tr>\n",
       "      <th>min</th>\n",
       "      <td>0.000000</td>\n",
       "      <td>25658.000000</td>\n",
       "      <td>-0.013551</td>\n",
       "      <td>0.043961</td>\n",
       "      <td>-0.001682</td>\n",
       "      <td>-0.004398</td>\n",
       "      <td>0.000000</td>\n",
       "      <td>0.027843</td>\n",
       "      <td>-32.117911</td>\n",
       "      <td>0.000000</td>\n",
       "      <td>0.015065</td>\n",
       "      <td>62.055779</td>\n",
       "      <td>2.000000</td>\n",
       "      <td>0.013398</td>\n",
       "      <td>0.000000</td>\n",
       "    </tr>\n",
       "    <tr>\n",
       "      <th>25%</th>\n",
       "      <td>9999.750000</td>\n",
       "      <td>166254.500000</td>\n",
       "      <td>0.039618</td>\n",
       "      <td>0.424760</td>\n",
       "      <td>0.539276</td>\n",
       "      <td>0.000941</td>\n",
       "      <td>2.000000</td>\n",
       "      <td>0.111796</td>\n",
       "      <td>-9.578139</td>\n",
       "      <td>0.000000</td>\n",
       "      <td>0.038500</td>\n",
       "      <td>96.995309</td>\n",
       "      <td>3.000000</td>\n",
       "      <td>0.398669</td>\n",
       "      <td>0.000000</td>\n",
       "    </tr>\n",
       "    <tr>\n",
       "      <th>50%</th>\n",
       "      <td>19999.500000</td>\n",
       "      <td>186660.000000</td>\n",
       "      <td>0.140532</td>\n",
       "      <td>0.608234</td>\n",
       "      <td>0.704453</td>\n",
       "      <td>0.001974</td>\n",
       "      <td>5.000000</td>\n",
       "      <td>0.135945</td>\n",
       "      <td>-6.345413</td>\n",
       "      <td>0.000000</td>\n",
       "      <td>0.055881</td>\n",
       "      <td>113.795959</td>\n",
       "      <td>3.000000</td>\n",
       "      <td>0.598827</td>\n",
       "      <td>0.000000</td>\n",
       "    </tr>\n",
       "    <tr>\n",
       "      <th>75%</th>\n",
       "      <td>29999.250000</td>\n",
       "      <td>215116.000000</td>\n",
       "      <td>0.482499</td>\n",
       "      <td>0.718464</td>\n",
       "      <td>0.870503</td>\n",
       "      <td>0.003225</td>\n",
       "      <td>8.000000</td>\n",
       "      <td>0.212842</td>\n",
       "      <td>-4.620711</td>\n",
       "      <td>1.000000</td>\n",
       "      <td>0.118842</td>\n",
       "      <td>128.517383</td>\n",
       "      <td>4.000000</td>\n",
       "      <td>0.759635</td>\n",
       "      <td>1.000000</td>\n",
       "    </tr>\n",
       "    <tr>\n",
       "      <th>max</th>\n",
       "      <td>39999.000000</td>\n",
       "      <td>491671.000000</td>\n",
       "      <td>1.065284</td>\n",
       "      <td>0.957131</td>\n",
       "      <td>1.039741</td>\n",
       "      <td>1.075415</td>\n",
       "      <td>11.000000</td>\n",
       "      <td>1.065298</td>\n",
       "      <td>-0.877346</td>\n",
       "      <td>1.000000</td>\n",
       "      <td>0.560748</td>\n",
       "      <td>219.163578</td>\n",
       "      <td>5.000000</td>\n",
       "      <td>1.022558</td>\n",
       "      <td>1.000000</td>\n",
       "    </tr>\n",
       "  </tbody>\n",
       "</table>\n",
       "</div>"
      ],
      "text/plain": [
       "                id  song_duration_ms  acousticness  danceability       energy  \\\n",
       "count 40000.000000      35899.000000  36008.000000  35974.000000 36025.000000   \n",
       "mean  19999.500000     193165.847572      0.276404      0.570951     0.683932   \n",
       "std   11547.149720      45822.127679      0.297928      0.190010     0.212662   \n",
       "min       0.000000      25658.000000     -0.013551      0.043961    -0.001682   \n",
       "25%    9999.750000     166254.500000      0.039618      0.424760     0.539276   \n",
       "50%   19999.500000     186660.000000      0.140532      0.608234     0.704453   \n",
       "75%   29999.250000     215116.000000      0.482499      0.718464     0.870503   \n",
       "max   39999.000000     491671.000000      1.065284      0.957131     1.039741   \n",
       "\n",
       "       instrumentalness          key     liveness     loudness   audio_mode  \\\n",
       "count      36015.000000 35935.000000 35914.000000 36043.000000 40000.000000   \n",
       "mean           0.036527     5.042605     0.198514    -7.407596     0.321150   \n",
       "std            0.150024     3.372728     0.151670     3.877198     0.466924   \n",
       "min           -0.004398     0.000000     0.027843   -32.117911     0.000000   \n",
       "25%            0.000941     2.000000     0.111796    -9.578139     0.000000   \n",
       "50%            0.001974     5.000000     0.135945    -6.345413     0.000000   \n",
       "75%            0.003225     8.000000     0.212842    -4.620711     1.000000   \n",
       "max            1.075415    11.000000     1.065298    -0.877346     1.000000   \n",
       "\n",
       "       speechiness        tempo  time_signature  audio_valence  \\\n",
       "count 40000.000000 40000.000000    40000.000000   40000.000000   \n",
       "mean      0.094107   116.562815        3.394375       0.580645   \n",
       "std       0.083591    26.167911        0.524405       0.237351   \n",
       "min       0.015065    62.055779        2.000000       0.013398   \n",
       "25%       0.038500    96.995309        3.000000       0.398669   \n",
       "50%       0.055881   113.795959        3.000000       0.598827   \n",
       "75%       0.118842   128.517383        4.000000       0.759635   \n",
       "max       0.560748   219.163578        5.000000       1.022558   \n",
       "\n",
       "       song_popularity  \n",
       "count     40000.000000  \n",
       "mean          0.364400  \n",
       "std           0.481268  \n",
       "min           0.000000  \n",
       "25%           0.000000  \n",
       "50%           0.000000  \n",
       "75%           1.000000  \n",
       "max           1.000000  "
      ]
     },
     "execution_count": 6,
     "metadata": {},
     "output_type": "execute_result"
    }
   ],
   "source": [
    "train.describe()"
   ]
  },
  {
   "cell_type": "markdown",
   "id": "773b9ae8",
   "metadata": {
    "papermill": {
     "duration": 0.033939,
     "end_time": "2022-01-18T16:55:14.039788",
     "exception": false,
     "start_time": "2022-01-18T16:55:14.005849",
     "status": "completed"
    },
    "tags": []
   },
   "source": [
    "<a id=\"3.2\"></a>\n",
    "## Exploring Test Data"
   ]
  },
  {
   "cell_type": "markdown",
   "id": "ee7496f2",
   "metadata": {
    "papermill": {
     "duration": 0.032988,
     "end_time": "2022-01-18T16:55:14.105719",
     "exception": false,
     "start_time": "2022-01-18T16:55:14.072731",
     "status": "completed"
    },
    "tags": []
   },
   "source": [
    "### Observations:\n",
    "\n",
    "* There are total of ```14``` columns : ```10``` continous , ```3``` categorical ```1``` id in ```test``` dataset\n",
    "* Train dataset contain ```122,038``` observation with ```7962```  missing values.\n",
    "* 8 differnt rows have null values with maximum missings values in ```energy``` column."
   ]
  },
  {
   "cell_type": "markdown",
   "id": "02f54765",
   "metadata": {
    "papermill": {
     "duration": 0.03557,
     "end_time": "2022-01-18T16:55:14.174427",
     "exception": false,
     "start_time": "2022-01-18T16:55:14.138857",
     "status": "completed"
    },
    "tags": []
   },
   "source": [
    "### Quick view of Test Data"
   ]
  },
  {
   "cell_type": "code",
   "execution_count": 7,
   "id": "a831ffde",
   "metadata": {
    "_kg_hide-input": true,
    "execution": {
     "iopub.execute_input": "2022-01-18T16:55:14.249349Z",
     "iopub.status.busy": "2022-01-18T16:55:14.243967Z",
     "iopub.status.idle": "2022-01-18T16:55:14.256816Z",
     "shell.execute_reply": "2022-01-18T16:55:14.257393Z",
     "shell.execute_reply.started": "2022-01-18T16:23:08.557703Z"
    },
    "papermill": {
     "duration": 0.049823,
     "end_time": "2022-01-18T16:55:14.257549",
     "exception": false,
     "start_time": "2022-01-18T16:55:14.207726",
     "status": "completed"
    },
    "tags": []
   },
   "outputs": [
    {
     "data": {
      "text/html": [
       "<div>\n",
       "<style scoped>\n",
       "    .dataframe tbody tr th:only-of-type {\n",
       "        vertical-align: middle;\n",
       "    }\n",
       "\n",
       "    .dataframe tbody tr th {\n",
       "        vertical-align: top;\n",
       "    }\n",
       "\n",
       "    .dataframe thead th {\n",
       "        text-align: right;\n",
       "    }\n",
       "</style>\n",
       "<table border=\"1\" class=\"dataframe\">\n",
       "  <thead>\n",
       "    <tr style=\"text-align: right;\">\n",
       "      <th></th>\n",
       "      <th>id</th>\n",
       "      <th>song_duration_ms</th>\n",
       "      <th>acousticness</th>\n",
       "      <th>danceability</th>\n",
       "      <th>energy</th>\n",
       "      <th>instrumentalness</th>\n",
       "      <th>key</th>\n",
       "      <th>liveness</th>\n",
       "      <th>loudness</th>\n",
       "      <th>audio_mode</th>\n",
       "      <th>speechiness</th>\n",
       "      <th>tempo</th>\n",
       "      <th>time_signature</th>\n",
       "      <th>audio_valence</th>\n",
       "    </tr>\n",
       "  </thead>\n",
       "  <tbody>\n",
       "    <tr>\n",
       "      <th>0</th>\n",
       "      <td>0</td>\n",
       "      <td>308523.000000</td>\n",
       "      <td>0.019845</td>\n",
       "      <td>NaN</td>\n",
       "      <td>0.908939</td>\n",
       "      <td>0.001438</td>\n",
       "      <td>NaN</td>\n",
       "      <td>0.112832</td>\n",
       "      <td>-8.890172</td>\n",
       "      <td>0</td>\n",
       "      <td>0.082714</td>\n",
       "      <td>126.129304</td>\n",
       "      <td>4</td>\n",
       "      <td>0.399620</td>\n",
       "    </tr>\n",
       "    <tr>\n",
       "      <th>1</th>\n",
       "      <td>1</td>\n",
       "      <td>200011.000000</td>\n",
       "      <td>0.070119</td>\n",
       "      <td>0.731256</td>\n",
       "      <td>0.444655</td>\n",
       "      <td>0.002020</td>\n",
       "      <td>10.000000</td>\n",
       "      <td>0.139040</td>\n",
       "      <td>-6.301214</td>\n",
       "      <td>0</td>\n",
       "      <td>0.061685</td>\n",
       "      <td>86.448149</td>\n",
       "      <td>3</td>\n",
       "      <td>0.499424</td>\n",
       "    </tr>\n",
       "    <tr>\n",
       "      <th>2</th>\n",
       "      <td>2</td>\n",
       "      <td>279758.000000</td>\n",
       "      <td>0.810637</td>\n",
       "      <td>0.568858</td>\n",
       "      <td>0.125466</td>\n",
       "      <td>0.898841</td>\n",
       "      <td>0.000000</td>\n",
       "      <td>0.226614</td>\n",
       "      <td>-11.542478</td>\n",
       "      <td>0</td>\n",
       "      <td>0.041868</td>\n",
       "      <td>99.544351</td>\n",
       "      <td>3</td>\n",
       "      <td>0.564951</td>\n",
       "    </tr>\n",
       "    <tr>\n",
       "      <th>3</th>\n",
       "      <td>3</td>\n",
       "      <td>249197.000000</td>\n",
       "      <td>NaN</td>\n",
       "      <td>0.871789</td>\n",
       "      <td>0.557342</td>\n",
       "      <td>0.000715</td>\n",
       "      <td>4.000000</td>\n",
       "      <td>0.325391</td>\n",
       "      <td>-7.905546</td>\n",
       "      <td>1</td>\n",
       "      <td>0.046815</td>\n",
       "      <td>123.063854</td>\n",
       "      <td>4</td>\n",
       "      <td>0.906485</td>\n",
       "    </tr>\n",
       "    <tr>\n",
       "      <th>4</th>\n",
       "      <td>4</td>\n",
       "      <td>NaN</td>\n",
       "      <td>0.765568</td>\n",
       "      <td>0.624687</td>\n",
       "      <td>0.710794</td>\n",
       "      <td>0.000346</td>\n",
       "      <td>8.000000</td>\n",
       "      <td>0.308284</td>\n",
       "      <td>NaN</td>\n",
       "      <td>0</td>\n",
       "      <td>0.129284</td>\n",
       "      <td>88.703121</td>\n",
       "      <td>3</td>\n",
       "      <td>0.935571</td>\n",
       "    </tr>\n",
       "  </tbody>\n",
       "</table>\n",
       "</div>"
      ],
      "text/plain": [
       "   id  song_duration_ms  acousticness  danceability   energy  \\\n",
       "0   0     308523.000000      0.019845           NaN 0.908939   \n",
       "1   1     200011.000000      0.070119      0.731256 0.444655   \n",
       "2   2     279758.000000      0.810637      0.568858 0.125466   \n",
       "3   3     249197.000000           NaN      0.871789 0.557342   \n",
       "4   4               NaN      0.765568      0.624687 0.710794   \n",
       "\n",
       "   instrumentalness       key  liveness   loudness  audio_mode  speechiness  \\\n",
       "0          0.001438       NaN  0.112832  -8.890172           0     0.082714   \n",
       "1          0.002020 10.000000  0.139040  -6.301214           0     0.061685   \n",
       "2          0.898841  0.000000  0.226614 -11.542478           0     0.041868   \n",
       "3          0.000715  4.000000  0.325391  -7.905546           1     0.046815   \n",
       "4          0.000346  8.000000  0.308284        NaN           0     0.129284   \n",
       "\n",
       "       tempo  time_signature  audio_valence  \n",
       "0 126.129304               4       0.399620  \n",
       "1  86.448149               3       0.499424  \n",
       "2  99.544351               3       0.564951  \n",
       "3 123.063854               4       0.906485  \n",
       "4  88.703121               3       0.935571  "
      ]
     },
     "execution_count": 7,
     "metadata": {},
     "output_type": "execute_result"
    }
   ],
   "source": [
    "test.head()"
   ]
  },
  {
   "cell_type": "code",
   "execution_count": 8,
   "id": "31306022",
   "metadata": {
    "_kg_hide-input": true,
    "execution": {
     "iopub.execute_input": "2022-01-18T16:55:14.330219Z",
     "iopub.status.busy": "2022-01-18T16:55:14.327090Z",
     "iopub.status.idle": "2022-01-18T16:55:14.337378Z",
     "shell.execute_reply": "2022-01-18T16:55:14.338069Z",
     "shell.execute_reply.started": "2022-01-18T16:23:08.577612Z"
    },
    "papermill": {
     "duration": 0.047256,
     "end_time": "2022-01-18T16:55:14.338285",
     "exception": false,
     "start_time": "2022-01-18T16:55:14.291029",
     "status": "completed"
    },
    "tags": []
   },
   "outputs": [
    {
     "name": "stdout",
     "output_type": "stream",
     "text": [
      "\u001b[92mNumber of rows in test data: 10000\n",
      "\u001b[94mNumber of columns in test data: 14\n",
      "\u001b[91mNumber of values in train data: 132038\n",
      "\u001b[91mNo of rows with missing values  in test data: 7962\n"
     ]
    }
   ],
   "source": [
    "print(f'\\033[92mNumber of rows in test data: {test.shape[0]}')\n",
    "print(f'\\033[94mNumber of columns in test data: {test.shape[1]}')\n",
    "print(f'\\033[91mNumber of values in train data: {test.count().sum()}')\n",
    "print(f'\\033[91mNo of rows with missing values  in test data: {sum(test.isna().sum())}')"
   ]
  },
  {
   "cell_type": "markdown",
   "id": "d9f810d6",
   "metadata": {
    "papermill": {
     "duration": 0.033925,
     "end_time": "2022-01-18T16:55:14.406663",
     "exception": false,
     "start_time": "2022-01-18T16:55:14.372738",
     "status": "completed"
    },
    "tags": []
   },
   "source": [
    "### Column Wise missing values"
   ]
  },
  {
   "cell_type": "code",
   "execution_count": 9,
   "id": "5ddb3d53",
   "metadata": {
    "_kg_hide-input": true,
    "execution": {
     "iopub.execute_input": "2022-01-18T16:55:14.477906Z",
     "iopub.status.busy": "2022-01-18T16:55:14.477303Z",
     "iopub.status.idle": "2022-01-18T16:55:14.484532Z",
     "shell.execute_reply": "2022-01-18T16:55:14.485065Z",
     "shell.execute_reply.started": "2022-01-18T16:23:08.594726Z"
    },
    "papermill": {
     "duration": 0.044549,
     "end_time": "2022-01-18T16:55:14.485229",
     "exception": false,
     "start_time": "2022-01-18T16:55:14.440680",
     "status": "completed"
    },
    "tags": []
   },
   "outputs": [
    {
     "name": "stdout",
     "output_type": "stream",
     "text": [
      "energy              1055\n",
      "loudness            1026\n",
      "liveness            1006\n",
      "instrumentalness    1000\n",
      "key                  992\n",
      "danceability         976\n",
      "song_duration_ms     957\n",
      "acousticness         950\n",
      "id                     0\n",
      "audio_mode             0\n",
      "speechiness            0\n",
      "tempo                  0\n",
      "time_signature         0\n",
      "audio_valence          0\n",
      "dtype: int64\n"
     ]
    }
   ],
   "source": [
    "print((test.isna().sum().sort_values(ascending = False)))"
   ]
  },
  {
   "cell_type": "markdown",
   "id": "9020817b",
   "metadata": {
    "papermill": {
     "duration": 0.034304,
     "end_time": "2022-01-18T16:55:14.553867",
     "exception": false,
     "start_time": "2022-01-18T16:55:14.519563",
     "status": "completed"
    },
    "tags": []
   },
   "source": [
    "### Basic statistics of test data"
   ]
  },
  {
   "cell_type": "code",
   "execution_count": 10,
   "id": "b15211b3",
   "metadata": {
    "_kg_hide-input": true,
    "execution": {
     "iopub.execute_input": "2022-01-18T16:55:14.626293Z",
     "iopub.status.busy": "2022-01-18T16:55:14.625688Z",
     "iopub.status.idle": "2022-01-18T16:55:14.671988Z",
     "shell.execute_reply": "2022-01-18T16:55:14.672515Z",
     "shell.execute_reply.started": "2022-01-18T16:23:08.606672Z"
    },
    "papermill": {
     "duration": 0.084766,
     "end_time": "2022-01-18T16:55:14.672699",
     "exception": false,
     "start_time": "2022-01-18T16:55:14.587933",
     "status": "completed"
    },
    "tags": []
   },
   "outputs": [
    {
     "data": {
      "text/html": [
       "<div>\n",
       "<style scoped>\n",
       "    .dataframe tbody tr th:only-of-type {\n",
       "        vertical-align: middle;\n",
       "    }\n",
       "\n",
       "    .dataframe tbody tr th {\n",
       "        vertical-align: top;\n",
       "    }\n",
       "\n",
       "    .dataframe thead th {\n",
       "        text-align: right;\n",
       "    }\n",
       "</style>\n",
       "<table border=\"1\" class=\"dataframe\">\n",
       "  <thead>\n",
       "    <tr style=\"text-align: right;\">\n",
       "      <th></th>\n",
       "      <th>id</th>\n",
       "      <th>song_duration_ms</th>\n",
       "      <th>acousticness</th>\n",
       "      <th>danceability</th>\n",
       "      <th>energy</th>\n",
       "      <th>instrumentalness</th>\n",
       "      <th>key</th>\n",
       "      <th>liveness</th>\n",
       "      <th>loudness</th>\n",
       "      <th>audio_mode</th>\n",
       "      <th>speechiness</th>\n",
       "      <th>tempo</th>\n",
       "      <th>time_signature</th>\n",
       "      <th>audio_valence</th>\n",
       "    </tr>\n",
       "  </thead>\n",
       "  <tbody>\n",
       "    <tr>\n",
       "      <th>count</th>\n",
       "      <td>10000.000000</td>\n",
       "      <td>9043.000000</td>\n",
       "      <td>9050.000000</td>\n",
       "      <td>9024.000000</td>\n",
       "      <td>8945.000000</td>\n",
       "      <td>9000.000000</td>\n",
       "      <td>9008.000000</td>\n",
       "      <td>8994.000000</td>\n",
       "      <td>8974.000000</td>\n",
       "      <td>10000.000000</td>\n",
       "      <td>10000.000000</td>\n",
       "      <td>10000.000000</td>\n",
       "      <td>10000.000000</td>\n",
       "      <td>10000.000000</td>\n",
       "    </tr>\n",
       "    <tr>\n",
       "      <th>mean</th>\n",
       "      <td>4999.500000</td>\n",
       "      <td>193091.108813</td>\n",
       "      <td>0.280280</td>\n",
       "      <td>0.569817</td>\n",
       "      <td>0.683552</td>\n",
       "      <td>0.036588</td>\n",
       "      <td>5.012544</td>\n",
       "      <td>0.196379</td>\n",
       "      <td>-7.422145</td>\n",
       "      <td>0.323800</td>\n",
       "      <td>0.094242</td>\n",
       "      <td>116.460635</td>\n",
       "      <td>3.391800</td>\n",
       "      <td>0.576109</td>\n",
       "    </tr>\n",
       "    <tr>\n",
       "      <th>std</th>\n",
       "      <td>2886.895680</td>\n",
       "      <td>46502.319884</td>\n",
       "      <td>0.299971</td>\n",
       "      <td>0.190177</td>\n",
       "      <td>0.212561</td>\n",
       "      <td>0.151470</td>\n",
       "      <td>3.387481</td>\n",
       "      <td>0.149440</td>\n",
       "      <td>3.902743</td>\n",
       "      <td>0.467948</td>\n",
       "      <td>0.084294</td>\n",
       "      <td>26.320082</td>\n",
       "      <td>0.529075</td>\n",
       "      <td>0.236501</td>\n",
       "    </tr>\n",
       "    <tr>\n",
       "      <th>min</th>\n",
       "      <td>0.000000</td>\n",
       "      <td>25377.000000</td>\n",
       "      <td>-0.013585</td>\n",
       "      <td>0.064548</td>\n",
       "      <td>0.020959</td>\n",
       "      <td>-0.003344</td>\n",
       "      <td>0.000000</td>\n",
       "      <td>0.034516</td>\n",
       "      <td>-29.887298</td>\n",
       "      <td>0.000000</td>\n",
       "      <td>0.017554</td>\n",
       "      <td>60.702888</td>\n",
       "      <td>2.000000</td>\n",
       "      <td>0.017450</td>\n",
       "    </tr>\n",
       "    <tr>\n",
       "      <th>25%</th>\n",
       "      <td>2499.750000</td>\n",
       "      <td>166689.000000</td>\n",
       "      <td>0.042181</td>\n",
       "      <td>0.426734</td>\n",
       "      <td>0.541975</td>\n",
       "      <td>0.000930</td>\n",
       "      <td>2.000000</td>\n",
       "      <td>0.111599</td>\n",
       "      <td>-9.654517</td>\n",
       "      <td>0.000000</td>\n",
       "      <td>0.038282</td>\n",
       "      <td>96.951325</td>\n",
       "      <td>3.000000</td>\n",
       "      <td>0.395860</td>\n",
       "    </tr>\n",
       "    <tr>\n",
       "      <th>50%</th>\n",
       "      <td>4999.500000</td>\n",
       "      <td>186196.000000</td>\n",
       "      <td>0.141564</td>\n",
       "      <td>0.605759</td>\n",
       "      <td>0.700278</td>\n",
       "      <td>0.001964</td>\n",
       "      <td>5.000000</td>\n",
       "      <td>0.135997</td>\n",
       "      <td>-6.346205</td>\n",
       "      <td>0.000000</td>\n",
       "      <td>0.055208</td>\n",
       "      <td>113.258381</td>\n",
       "      <td>3.000000</td>\n",
       "      <td>0.588477</td>\n",
       "    </tr>\n",
       "    <tr>\n",
       "      <th>75%</th>\n",
       "      <td>7499.250000</td>\n",
       "      <td>215059.000000</td>\n",
       "      <td>0.493003</td>\n",
       "      <td>0.715491</td>\n",
       "      <td>0.870670</td>\n",
       "      <td>0.003165</td>\n",
       "      <td>8.000000</td>\n",
       "      <td>0.208563</td>\n",
       "      <td>-4.605297</td>\n",
       "      <td>1.000000</td>\n",
       "      <td>0.118976</td>\n",
       "      <td>128.020862</td>\n",
       "      <td>4.000000</td>\n",
       "      <td>0.755265</td>\n",
       "    </tr>\n",
       "    <tr>\n",
       "      <th>max</th>\n",
       "      <td>9999.000000</td>\n",
       "      <td>448558.000000</td>\n",
       "      <td>1.046311</td>\n",
       "      <td>0.946831</td>\n",
       "      <td>1.031383</td>\n",
       "      <td>1.020970</td>\n",
       "      <td>11.000000</td>\n",
       "      <td>1.003777</td>\n",
       "      <td>-0.879306</td>\n",
       "      <td>1.000000</td>\n",
       "      <td>0.526199</td>\n",
       "      <td>213.922252</td>\n",
       "      <td>5.000000</td>\n",
       "      <td>1.013865</td>\n",
       "    </tr>\n",
       "  </tbody>\n",
       "</table>\n",
       "</div>"
      ],
      "text/plain": [
       "                id  song_duration_ms  acousticness  danceability      energy  \\\n",
       "count 10000.000000       9043.000000   9050.000000   9024.000000 8945.000000   \n",
       "mean   4999.500000     193091.108813      0.280280      0.569817    0.683552   \n",
       "std    2886.895680      46502.319884      0.299971      0.190177    0.212561   \n",
       "min       0.000000      25377.000000     -0.013585      0.064548    0.020959   \n",
       "25%    2499.750000     166689.000000      0.042181      0.426734    0.541975   \n",
       "50%    4999.500000     186196.000000      0.141564      0.605759    0.700278   \n",
       "75%    7499.250000     215059.000000      0.493003      0.715491    0.870670   \n",
       "max    9999.000000     448558.000000      1.046311      0.946831    1.031383   \n",
       "\n",
       "       instrumentalness         key    liveness    loudness   audio_mode  \\\n",
       "count       9000.000000 9008.000000 8994.000000 8974.000000 10000.000000   \n",
       "mean           0.036588    5.012544    0.196379   -7.422145     0.323800   \n",
       "std            0.151470    3.387481    0.149440    3.902743     0.467948   \n",
       "min           -0.003344    0.000000    0.034516  -29.887298     0.000000   \n",
       "25%            0.000930    2.000000    0.111599   -9.654517     0.000000   \n",
       "50%            0.001964    5.000000    0.135997   -6.346205     0.000000   \n",
       "75%            0.003165    8.000000    0.208563   -4.605297     1.000000   \n",
       "max            1.020970   11.000000    1.003777   -0.879306     1.000000   \n",
       "\n",
       "       speechiness        tempo  time_signature  audio_valence  \n",
       "count 10000.000000 10000.000000    10000.000000   10000.000000  \n",
       "mean      0.094242   116.460635        3.391800       0.576109  \n",
       "std       0.084294    26.320082        0.529075       0.236501  \n",
       "min       0.017554    60.702888        2.000000       0.017450  \n",
       "25%       0.038282    96.951325        3.000000       0.395860  \n",
       "50%       0.055208   113.258381        3.000000       0.588477  \n",
       "75%       0.118976   128.020862        4.000000       0.755265  \n",
       "max       0.526199   213.922252        5.000000       1.013865  "
      ]
     },
     "execution_count": 10,
     "metadata": {},
     "output_type": "execute_result"
    }
   ],
   "source": [
    "test.describe()"
   ]
  },
  {
   "cell_type": "markdown",
   "id": "884d2fe8",
   "metadata": {
    "papermill": {
     "duration": 0.036364,
     "end_time": "2022-01-18T16:55:14.744385",
     "exception": false,
     "start_time": "2022-01-18T16:55:14.708021",
     "status": "completed"
    },
    "tags": []
   },
   "source": [
    "<a id=\"3.3\"></a>\n",
    "## Submission File"
   ]
  },
  {
   "cell_type": "markdown",
   "id": "b0ae7ff5",
   "metadata": {
    "papermill": {
     "duration": 0.034835,
     "end_time": "2022-01-18T16:55:14.814225",
     "exception": false,
     "start_time": "2022-01-18T16:55:14.779390",
     "status": "completed"
    },
    "tags": []
   },
   "source": [
    "### Quick view of Submission File"
   ]
  },
  {
   "cell_type": "code",
   "execution_count": 11,
   "id": "00157c79",
   "metadata": {
    "_kg_hide-input": true,
    "execution": {
     "iopub.execute_input": "2022-01-18T16:55:14.889316Z",
     "iopub.status.busy": "2022-01-18T16:55:14.888355Z",
     "iopub.status.idle": "2022-01-18T16:55:14.896144Z",
     "shell.execute_reply": "2022-01-18T16:55:14.896634Z",
     "shell.execute_reply.started": "2022-01-18T16:23:08.664502Z"
    },
    "papermill": {
     "duration": 0.046908,
     "end_time": "2022-01-18T16:55:14.896804",
     "exception": false,
     "start_time": "2022-01-18T16:55:14.849896",
     "status": "completed"
    },
    "tags": []
   },
   "outputs": [
    {
     "data": {
      "text/html": [
       "<div>\n",
       "<style scoped>\n",
       "    .dataframe tbody tr th:only-of-type {\n",
       "        vertical-align: middle;\n",
       "    }\n",
       "\n",
       "    .dataframe tbody tr th {\n",
       "        vertical-align: top;\n",
       "    }\n",
       "\n",
       "    .dataframe thead th {\n",
       "        text-align: right;\n",
       "    }\n",
       "</style>\n",
       "<table border=\"1\" class=\"dataframe\">\n",
       "  <thead>\n",
       "    <tr style=\"text-align: right;\">\n",
       "      <th></th>\n",
       "      <th>id</th>\n",
       "      <th>song_popularity</th>\n",
       "    </tr>\n",
       "  </thead>\n",
       "  <tbody>\n",
       "    <tr>\n",
       "      <th>0</th>\n",
       "      <td>0</td>\n",
       "      <td>0</td>\n",
       "    </tr>\n",
       "    <tr>\n",
       "      <th>1</th>\n",
       "      <td>1</td>\n",
       "      <td>0</td>\n",
       "    </tr>\n",
       "    <tr>\n",
       "      <th>2</th>\n",
       "      <td>2</td>\n",
       "      <td>0</td>\n",
       "    </tr>\n",
       "    <tr>\n",
       "      <th>3</th>\n",
       "      <td>3</td>\n",
       "      <td>0</td>\n",
       "    </tr>\n",
       "    <tr>\n",
       "      <th>4</th>\n",
       "      <td>4</td>\n",
       "      <td>0</td>\n",
       "    </tr>\n",
       "  </tbody>\n",
       "</table>\n",
       "</div>"
      ],
      "text/plain": [
       "   id  song_popularity\n",
       "0   0                0\n",
       "1   1                0\n",
       "2   2                0\n",
       "3   3                0\n",
       "4   4                0"
      ]
     },
     "execution_count": 11,
     "metadata": {},
     "output_type": "execute_result"
    }
   ],
   "source": [
    "submission.head()"
   ]
  },
  {
   "cell_type": "markdown",
   "id": "6ee6b68f",
   "metadata": {
    "papermill": {
     "duration": 0.035432,
     "end_time": "2022-01-18T16:55:14.967838",
     "exception": false,
     "start_time": "2022-01-18T16:55:14.932406",
     "status": "completed"
    },
    "tags": []
   },
   "source": [
    "<a href=\"#toc\" role=\"button\" aria-pressed=\"true\" >⬆️Back to Table of Contents ⬆️</a>"
   ]
  },
  {
   "cell_type": "markdown",
   "id": "9884bd5d",
   "metadata": {
    "papermill": {
     "duration": 0.036183,
     "end_time": "2022-01-18T16:55:15.041055",
     "exception": false,
     "start_time": "2022-01-18T16:55:15.004872",
     "status": "completed"
    },
    "tags": []
   },
   "source": [
    "<a id=\"4\"></a>\n",
    "# EDA"
   ]
  },
  {
   "cell_type": "markdown",
   "id": "af3f01bd",
   "metadata": {
    "papermill": {
     "duration": 0.036765,
     "end_time": "2022-01-18T16:55:15.115454",
     "exception": false,
     "start_time": "2022-01-18T16:55:15.078689",
     "status": "completed"
    },
    "tags": []
   },
   "source": [
    "<a id=\"4.1\"></a>\n",
    "## Overview of Data"
   ]
  },
  {
   "cell_type": "code",
   "execution_count": 12,
   "id": "7f621bac",
   "metadata": {
    "_kg_hide-input": true,
    "execution": {
     "iopub.execute_input": "2022-01-18T16:55:15.213108Z",
     "iopub.status.busy": "2022-01-18T16:55:15.211978Z",
     "iopub.status.idle": "2022-01-18T16:55:15.215524Z",
     "shell.execute_reply": "2022-01-18T16:55:15.214764Z",
     "shell.execute_reply.started": "2022-01-18T16:23:08.677650Z"
    },
    "papermill": {
     "duration": 0.063593,
     "end_time": "2022-01-18T16:55:15.215686",
     "exception": false,
     "start_time": "2022-01-18T16:55:15.152093",
     "status": "completed"
    },
    "tags": []
   },
   "outputs": [],
   "source": [
    "train.drop([\"id\"] , axis = 1 , inplace = True)\n",
    "test.drop([\"id\"] , axis = 1 , inplace = True)\n",
    "TARGET = 'song_popularity'\n",
    "FEATURES = [col for col in train.columns if col not in ['id', TARGET]]\n",
    "RANDOM_STATE = 12 "
   ]
  },
  {
   "cell_type": "code",
   "execution_count": 13,
   "id": "04b782c0",
   "metadata": {
    "_kg_hide-input": true,
    "execution": {
     "iopub.execute_input": "2022-01-18T16:55:15.309110Z",
     "iopub.status.busy": "2022-01-18T16:55:15.308466Z",
     "iopub.status.idle": "2022-01-18T16:55:15.440128Z",
     "shell.execute_reply": "2022-01-18T16:55:15.440587Z",
     "shell.execute_reply.started": "2022-01-18T16:23:08.691070Z"
    },
    "papermill": {
     "duration": 0.182268,
     "end_time": "2022-01-18T16:55:15.440764",
     "exception": false,
     "start_time": "2022-01-18T16:55:15.258496",
     "status": "completed"
    },
    "tags": []
   },
   "outputs": [
    {
     "data": {
      "text/html": [
       "<style type=\"text/css\">\n",
       "#T_d5528_row0_col0, #T_d5528_row1_col2, #T_d5528_row1_col3, #T_d5528_row1_col4, #T_d5528_row1_col5, #T_d5528_row1_col6, #T_d5528_row2_col2, #T_d5528_row2_col3, #T_d5528_row2_col4, #T_d5528_row2_col5, #T_d5528_row2_col6, #T_d5528_row3_col2, #T_d5528_row3_col3, #T_d5528_row3_col4, #T_d5528_row3_col5, #T_d5528_row3_col6, #T_d5528_row4_col2, #T_d5528_row4_col3, #T_d5528_row4_col4, #T_d5528_row4_col5, #T_d5528_row4_col6, #T_d5528_row5_col2, #T_d5528_row5_col3, #T_d5528_row5_col4, #T_d5528_row5_col5, #T_d5528_row5_col6, #T_d5528_row6_col2, #T_d5528_row6_col3, #T_d5528_row6_col4, #T_d5528_row6_col5, #T_d5528_row6_col6, #T_d5528_row7_col2, #T_d5528_row7_col3, #T_d5528_row7_col4, #T_d5528_row7_col5, #T_d5528_row7_col6, #T_d5528_row8_col2, #T_d5528_row8_col3, #T_d5528_row8_col4, #T_d5528_row8_col5, #T_d5528_row8_col6, #T_d5528_row9_col2, #T_d5528_row9_col3, #T_d5528_row9_col4, #T_d5528_row9_col5, #T_d5528_row9_col6, #T_d5528_row10_col0, #T_d5528_row10_col2, #T_d5528_row10_col3, #T_d5528_row10_col4, #T_d5528_row10_col5, #T_d5528_row10_col6, #T_d5528_row11_col2, #T_d5528_row11_col3, #T_d5528_row11_col4, #T_d5528_row11_col5, #T_d5528_row11_col6, #T_d5528_row12_col2, #T_d5528_row12_col3, #T_d5528_row12_col4, #T_d5528_row12_col5, #T_d5528_row12_col6 {\n",
       "  background-color: #f7fcf0;\n",
       "  color: #000000;\n",
       "}\n",
       "#T_d5528_row0_col1 {\n",
       "  background-color: #084081;\n",
       "  color: #f1f1f1;\n",
       "  width: 10em;\n",
       "  height: 80%;\n",
       "  background: linear-gradient(90deg,green 100.0%, transparent 100.0%);\n",
       "}\n",
       "#T_d5528_row0_col2, #T_d5528_row0_col3, #T_d5528_row0_col4, #T_d5528_row0_col5, #T_d5528_row0_col6, #T_d5528_row1_col0, #T_d5528_row4_col0, #T_d5528_row5_col0, #T_d5528_row7_col0, #T_d5528_row12_col0 {\n",
       "  background-color: #084081;\n",
       "  color: #f1f1f1;\n",
       "}\n",
       "#T_d5528_row0_col7 {\n",
       "  background-color: #084081;\n",
       "  color: #f1f1f1;\n",
       "  width: 10em;\n",
       "  height: 80%;\n",
       "  background: linear-gradient(90deg,#BB0000 100.0%, transparent 100.0%);\n",
       "}\n",
       "#T_d5528_row1_col1 {\n",
       "  background-color: #f7fcf0;\n",
       "  color: #000000;\n",
       "  width: 10em;\n",
       "  height: 80%;\n",
       "  background: linear-gradient(90deg,green 0.1%, transparent 0.1%);\n",
       "}\n",
       "#T_d5528_row1_col7, #T_d5528_row3_col7, #T_d5528_row4_col7, #T_d5528_row5_col7, #T_d5528_row6_col7, #T_d5528_row7_col7, #T_d5528_row8_col7, #T_d5528_row9_col7, #T_d5528_row10_col7, #T_d5528_row11_col7, #T_d5528_row12_col7 {\n",
       "  background-color: #f7fcf0;\n",
       "  color: #000000;\n",
       "  width: 10em;\n",
       "  height: 80%;\n",
       "  background: linear-gradient(90deg,#BB0000 0.0%, transparent 0.0%);\n",
       "}\n",
       "#T_d5528_row2_col0 {\n",
       "  background-color: #f1faeb;\n",
       "  color: #000000;\n",
       "}\n",
       "#T_d5528_row2_col1, #T_d5528_row2_col7 {\n",
       "  background-color: #f7fcf0;\n",
       "  color: #000000;\n",
       "  width: 10em;\n",
       "  height: 80%;\n",
       "}\n",
       "#T_d5528_row3_col0 {\n",
       "  background-color: #f6fbef;\n",
       "  color: #000000;\n",
       "}\n",
       "#T_d5528_row3_col1, #T_d5528_row4_col1, #T_d5528_row5_col1, #T_d5528_row6_col1, #T_d5528_row7_col1, #T_d5528_row8_col1, #T_d5528_row9_col1, #T_d5528_row10_col1, #T_d5528_row11_col1, #T_d5528_row12_col1 {\n",
       "  background-color: #f7fcf0;\n",
       "  color: #000000;\n",
       "  width: 10em;\n",
       "  height: 80%;\n",
       "  background: linear-gradient(90deg,green 0.0%, transparent 0.0%);\n",
       "}\n",
       "#T_d5528_row6_col0 {\n",
       "  background-color: #f3faec;\n",
       "  color: #000000;\n",
       "}\n",
       "#T_d5528_row8_col0, #T_d5528_row11_col0 {\n",
       "  background-color: #f2faeb;\n",
       "  color: #000000;\n",
       "}\n",
       "#T_d5528_row9_col0 {\n",
       "  background-color: #f4fbed;\n",
       "  color: #000000;\n",
       "}\n",
       "</style>\n",
       "<table id=\"T_d5528_\">\n",
       "  <thead>\n",
       "    <tr>\n",
       "      <th class=\"blank level0\" >&nbsp;</th>\n",
       "      <th class=\"col_heading level0 col0\" >count</th>\n",
       "      <th class=\"col_heading level0 col1\" >mean</th>\n",
       "      <th class=\"col_heading level0 col2\" >std</th>\n",
       "      <th class=\"col_heading level0 col3\" >min</th>\n",
       "      <th class=\"col_heading level0 col4\" >25%</th>\n",
       "      <th class=\"col_heading level0 col5\" >50%</th>\n",
       "      <th class=\"col_heading level0 col6\" >75%</th>\n",
       "      <th class=\"col_heading level0 col7\" >max</th>\n",
       "    </tr>\n",
       "  </thead>\n",
       "  <tbody>\n",
       "    <tr>\n",
       "      <th id=\"T_d5528_level0_row0\" class=\"row_heading level0 row0\" >song_duration_ms</th>\n",
       "      <td id=\"T_d5528_row0_col0\" class=\"data row0 col0\" >35899.000000</td>\n",
       "      <td id=\"T_d5528_row0_col1\" class=\"data row0 col1\" >193165.847572</td>\n",
       "      <td id=\"T_d5528_row0_col2\" class=\"data row0 col2\" >45822.127679</td>\n",
       "      <td id=\"T_d5528_row0_col3\" class=\"data row0 col3\" >25658.000000</td>\n",
       "      <td id=\"T_d5528_row0_col4\" class=\"data row0 col4\" >166254.500000</td>\n",
       "      <td id=\"T_d5528_row0_col5\" class=\"data row0 col5\" >186660.000000</td>\n",
       "      <td id=\"T_d5528_row0_col6\" class=\"data row0 col6\" >215116.000000</td>\n",
       "      <td id=\"T_d5528_row0_col7\" class=\"data row0 col7\" >491671.000000</td>\n",
       "    </tr>\n",
       "    <tr>\n",
       "      <th id=\"T_d5528_level0_row1\" class=\"row_heading level0 row1\" >tempo</th>\n",
       "      <td id=\"T_d5528_row1_col0\" class=\"data row1 col0\" >40000.000000</td>\n",
       "      <td id=\"T_d5528_row1_col1\" class=\"data row1 col1\" >116.562815</td>\n",
       "      <td id=\"T_d5528_row1_col2\" class=\"data row1 col2\" >26.167911</td>\n",
       "      <td id=\"T_d5528_row1_col3\" class=\"data row1 col3\" >62.055779</td>\n",
       "      <td id=\"T_d5528_row1_col4\" class=\"data row1 col4\" >96.995309</td>\n",
       "      <td id=\"T_d5528_row1_col5\" class=\"data row1 col5\" >113.795959</td>\n",
       "      <td id=\"T_d5528_row1_col6\" class=\"data row1 col6\" >128.517383</td>\n",
       "      <td id=\"T_d5528_row1_col7\" class=\"data row1 col7\" >219.163578</td>\n",
       "    </tr>\n",
       "    <tr>\n",
       "      <th id=\"T_d5528_level0_row2\" class=\"row_heading level0 row2\" >loudness</th>\n",
       "      <td id=\"T_d5528_row2_col0\" class=\"data row2 col0\" >36043.000000</td>\n",
       "      <td id=\"T_d5528_row2_col1\" class=\"data row2 col1\" >-7.407596</td>\n",
       "      <td id=\"T_d5528_row2_col2\" class=\"data row2 col2\" >3.877198</td>\n",
       "      <td id=\"T_d5528_row2_col3\" class=\"data row2 col3\" >-32.117911</td>\n",
       "      <td id=\"T_d5528_row2_col4\" class=\"data row2 col4\" >-9.578139</td>\n",
       "      <td id=\"T_d5528_row2_col5\" class=\"data row2 col5\" >-6.345413</td>\n",
       "      <td id=\"T_d5528_row2_col6\" class=\"data row2 col6\" >-4.620711</td>\n",
       "      <td id=\"T_d5528_row2_col7\" class=\"data row2 col7\" >-0.877346</td>\n",
       "    </tr>\n",
       "    <tr>\n",
       "      <th id=\"T_d5528_level0_row3\" class=\"row_heading level0 row3\" >key</th>\n",
       "      <td id=\"T_d5528_row3_col0\" class=\"data row3 col0\" >35935.000000</td>\n",
       "      <td id=\"T_d5528_row3_col1\" class=\"data row3 col1\" >5.042605</td>\n",
       "      <td id=\"T_d5528_row3_col2\" class=\"data row3 col2\" >3.372728</td>\n",
       "      <td id=\"T_d5528_row3_col3\" class=\"data row3 col3\" >0.000000</td>\n",
       "      <td id=\"T_d5528_row3_col4\" class=\"data row3 col4\" >2.000000</td>\n",
       "      <td id=\"T_d5528_row3_col5\" class=\"data row3 col5\" >5.000000</td>\n",
       "      <td id=\"T_d5528_row3_col6\" class=\"data row3 col6\" >8.000000</td>\n",
       "      <td id=\"T_d5528_row3_col7\" class=\"data row3 col7\" >11.000000</td>\n",
       "    </tr>\n",
       "    <tr>\n",
       "      <th id=\"T_d5528_level0_row4\" class=\"row_heading level0 row4\" >time_signature</th>\n",
       "      <td id=\"T_d5528_row4_col0\" class=\"data row4 col0\" >40000.000000</td>\n",
       "      <td id=\"T_d5528_row4_col1\" class=\"data row4 col1\" >3.394375</td>\n",
       "      <td id=\"T_d5528_row4_col2\" class=\"data row4 col2\" >0.524405</td>\n",
       "      <td id=\"T_d5528_row4_col3\" class=\"data row4 col3\" >2.000000</td>\n",
       "      <td id=\"T_d5528_row4_col4\" class=\"data row4 col4\" >3.000000</td>\n",
       "      <td id=\"T_d5528_row4_col5\" class=\"data row4 col5\" >3.000000</td>\n",
       "      <td id=\"T_d5528_row4_col6\" class=\"data row4 col6\" >4.000000</td>\n",
       "      <td id=\"T_d5528_row4_col7\" class=\"data row4 col7\" >5.000000</td>\n",
       "    </tr>\n",
       "    <tr>\n",
       "      <th id=\"T_d5528_level0_row5\" class=\"row_heading level0 row5\" >audio_mode</th>\n",
       "      <td id=\"T_d5528_row5_col0\" class=\"data row5 col0\" >40000.000000</td>\n",
       "      <td id=\"T_d5528_row5_col1\" class=\"data row5 col1\" >0.321150</td>\n",
       "      <td id=\"T_d5528_row5_col2\" class=\"data row5 col2\" >0.466924</td>\n",
       "      <td id=\"T_d5528_row5_col3\" class=\"data row5 col3\" >0.000000</td>\n",
       "      <td id=\"T_d5528_row5_col4\" class=\"data row5 col4\" >0.000000</td>\n",
       "      <td id=\"T_d5528_row5_col5\" class=\"data row5 col5\" >0.000000</td>\n",
       "      <td id=\"T_d5528_row5_col6\" class=\"data row5 col6\" >1.000000</td>\n",
       "      <td id=\"T_d5528_row5_col7\" class=\"data row5 col7\" >1.000000</td>\n",
       "    </tr>\n",
       "    <tr>\n",
       "      <th id=\"T_d5528_level0_row6\" class=\"row_heading level0 row6\" >acousticness</th>\n",
       "      <td id=\"T_d5528_row6_col0\" class=\"data row6 col0\" >36008.000000</td>\n",
       "      <td id=\"T_d5528_row6_col1\" class=\"data row6 col1\" >0.276404</td>\n",
       "      <td id=\"T_d5528_row6_col2\" class=\"data row6 col2\" >0.297928</td>\n",
       "      <td id=\"T_d5528_row6_col3\" class=\"data row6 col3\" >-0.013551</td>\n",
       "      <td id=\"T_d5528_row6_col4\" class=\"data row6 col4\" >0.039618</td>\n",
       "      <td id=\"T_d5528_row6_col5\" class=\"data row6 col5\" >0.140532</td>\n",
       "      <td id=\"T_d5528_row6_col6\" class=\"data row6 col6\" >0.482499</td>\n",
       "      <td id=\"T_d5528_row6_col7\" class=\"data row6 col7\" >1.065284</td>\n",
       "    </tr>\n",
       "    <tr>\n",
       "      <th id=\"T_d5528_level0_row7\" class=\"row_heading level0 row7\" >audio_valence</th>\n",
       "      <td id=\"T_d5528_row7_col0\" class=\"data row7 col0\" >40000.000000</td>\n",
       "      <td id=\"T_d5528_row7_col1\" class=\"data row7 col1\" >0.580645</td>\n",
       "      <td id=\"T_d5528_row7_col2\" class=\"data row7 col2\" >0.237351</td>\n",
       "      <td id=\"T_d5528_row7_col3\" class=\"data row7 col3\" >0.013398</td>\n",
       "      <td id=\"T_d5528_row7_col4\" class=\"data row7 col4\" >0.398669</td>\n",
       "      <td id=\"T_d5528_row7_col5\" class=\"data row7 col5\" >0.598827</td>\n",
       "      <td id=\"T_d5528_row7_col6\" class=\"data row7 col6\" >0.759635</td>\n",
       "      <td id=\"T_d5528_row7_col7\" class=\"data row7 col7\" >1.022558</td>\n",
       "    </tr>\n",
       "    <tr>\n",
       "      <th id=\"T_d5528_level0_row8\" class=\"row_heading level0 row8\" >energy</th>\n",
       "      <td id=\"T_d5528_row8_col0\" class=\"data row8 col0\" >36025.000000</td>\n",
       "      <td id=\"T_d5528_row8_col1\" class=\"data row8 col1\" >0.683932</td>\n",
       "      <td id=\"T_d5528_row8_col2\" class=\"data row8 col2\" >0.212662</td>\n",
       "      <td id=\"T_d5528_row8_col3\" class=\"data row8 col3\" >-0.001682</td>\n",
       "      <td id=\"T_d5528_row8_col4\" class=\"data row8 col4\" >0.539276</td>\n",
       "      <td id=\"T_d5528_row8_col5\" class=\"data row8 col5\" >0.704453</td>\n",
       "      <td id=\"T_d5528_row8_col6\" class=\"data row8 col6\" >0.870503</td>\n",
       "      <td id=\"T_d5528_row8_col7\" class=\"data row8 col7\" >1.039741</td>\n",
       "    </tr>\n",
       "    <tr>\n",
       "      <th id=\"T_d5528_level0_row9\" class=\"row_heading level0 row9\" >danceability</th>\n",
       "      <td id=\"T_d5528_row9_col0\" class=\"data row9 col0\" >35974.000000</td>\n",
       "      <td id=\"T_d5528_row9_col1\" class=\"data row9 col1\" >0.570951</td>\n",
       "      <td id=\"T_d5528_row9_col2\" class=\"data row9 col2\" >0.190010</td>\n",
       "      <td id=\"T_d5528_row9_col3\" class=\"data row9 col3\" >0.043961</td>\n",
       "      <td id=\"T_d5528_row9_col4\" class=\"data row9 col4\" >0.424760</td>\n",
       "      <td id=\"T_d5528_row9_col5\" class=\"data row9 col5\" >0.608234</td>\n",
       "      <td id=\"T_d5528_row9_col6\" class=\"data row9 col6\" >0.718464</td>\n",
       "      <td id=\"T_d5528_row9_col7\" class=\"data row9 col7\" >0.957131</td>\n",
       "    </tr>\n",
       "    <tr>\n",
       "      <th id=\"T_d5528_level0_row10\" class=\"row_heading level0 row10\" >liveness</th>\n",
       "      <td id=\"T_d5528_row10_col0\" class=\"data row10 col0\" >35914.000000</td>\n",
       "      <td id=\"T_d5528_row10_col1\" class=\"data row10 col1\" >0.198514</td>\n",
       "      <td id=\"T_d5528_row10_col2\" class=\"data row10 col2\" >0.151670</td>\n",
       "      <td id=\"T_d5528_row10_col3\" class=\"data row10 col3\" >0.027843</td>\n",
       "      <td id=\"T_d5528_row10_col4\" class=\"data row10 col4\" >0.111796</td>\n",
       "      <td id=\"T_d5528_row10_col5\" class=\"data row10 col5\" >0.135945</td>\n",
       "      <td id=\"T_d5528_row10_col6\" class=\"data row10 col6\" >0.212842</td>\n",
       "      <td id=\"T_d5528_row10_col7\" class=\"data row10 col7\" >1.065298</td>\n",
       "    </tr>\n",
       "    <tr>\n",
       "      <th id=\"T_d5528_level0_row11\" class=\"row_heading level0 row11\" >instrumentalness</th>\n",
       "      <td id=\"T_d5528_row11_col0\" class=\"data row11 col0\" >36015.000000</td>\n",
       "      <td id=\"T_d5528_row11_col1\" class=\"data row11 col1\" >0.036527</td>\n",
       "      <td id=\"T_d5528_row11_col2\" class=\"data row11 col2\" >0.150024</td>\n",
       "      <td id=\"T_d5528_row11_col3\" class=\"data row11 col3\" >-0.004398</td>\n",
       "      <td id=\"T_d5528_row11_col4\" class=\"data row11 col4\" >0.000941</td>\n",
       "      <td id=\"T_d5528_row11_col5\" class=\"data row11 col5\" >0.001974</td>\n",
       "      <td id=\"T_d5528_row11_col6\" class=\"data row11 col6\" >0.003225</td>\n",
       "      <td id=\"T_d5528_row11_col7\" class=\"data row11 col7\" >1.075415</td>\n",
       "    </tr>\n",
       "    <tr>\n",
       "      <th id=\"T_d5528_level0_row12\" class=\"row_heading level0 row12\" >speechiness</th>\n",
       "      <td id=\"T_d5528_row12_col0\" class=\"data row12 col0\" >40000.000000</td>\n",
       "      <td id=\"T_d5528_row12_col1\" class=\"data row12 col1\" >0.094107</td>\n",
       "      <td id=\"T_d5528_row12_col2\" class=\"data row12 col2\" >0.083591</td>\n",
       "      <td id=\"T_d5528_row12_col3\" class=\"data row12 col3\" >0.015065</td>\n",
       "      <td id=\"T_d5528_row12_col4\" class=\"data row12 col4\" >0.038500</td>\n",
       "      <td id=\"T_d5528_row12_col5\" class=\"data row12 col5\" >0.055881</td>\n",
       "      <td id=\"T_d5528_row12_col6\" class=\"data row12 col6\" >0.118842</td>\n",
       "      <td id=\"T_d5528_row12_col7\" class=\"data row12 col7\" >0.560748</td>\n",
       "    </tr>\n",
       "  </tbody>\n",
       "</table>\n"
      ],
      "text/plain": [
       "<pandas.io.formats.style.Styler at 0x7f48dadb5d90>"
      ]
     },
     "execution_count": 13,
     "metadata": {},
     "output_type": "execute_result"
    }
   ],
   "source": [
    "train.iloc[:, :-1].describe().T.sort_values(by='std' , ascending = False)\\\n",
    "                     .style.background_gradient(cmap='GnBu')\\\n",
    "                     .bar(subset=[\"max\"], color='#BB0000')\\\n",
    "                     .bar(subset=[\"mean\",], color='green')"
   ]
  },
  {
   "cell_type": "markdown",
   "id": "5283195f",
   "metadata": {
    "papermill": {
     "duration": 0.036302,
     "end_time": "2022-01-18T16:55:15.514195",
     "exception": false,
     "start_time": "2022-01-18T16:55:15.477893",
     "status": "completed"
    },
    "tags": []
   },
   "source": [
    "<a id=\"4.2\"></a>\n",
    "## Continuos and Categorical Data Distribution"
   ]
  },
  {
   "cell_type": "code",
   "execution_count": 14,
   "id": "2f166309",
   "metadata": {
    "_kg_hide-input": true,
    "execution": {
     "iopub.execute_input": "2022-01-18T16:55:15.597745Z",
     "iopub.status.busy": "2022-01-18T16:55:15.597057Z",
     "iopub.status.idle": "2022-01-18T16:55:15.781336Z",
     "shell.execute_reply": "2022-01-18T16:55:15.782168Z",
     "shell.execute_reply.started": "2022-01-18T16:23:08.848136Z"
    },
    "papermill": {
     "duration": 0.232043,
     "end_time": "2022-01-18T16:55:15.782457",
     "exception": false,
     "start_time": "2022-01-18T16:55:15.550414",
     "status": "completed"
    },
    "tags": []
   },
   "outputs": [
    {
     "name": "stdout",
     "output_type": "stream",
     "text": [
      "Total number of features: 13\n",
      "\u001b[92mNumber of categorical features: 3\n",
      "\u001b[96mNumber of continuos features: 10\n"
     ]
    },
    {
     "data": {
      "image/png": "[encoded data removed]",
      "text/plain": [
       "<Figure size 432x288 with 1 Axes>"
      ]
     },
     "metadata": {},
     "output_type": "display_data"
    }
   ],
   "source": [
    "df = pd.concat([train[FEATURES], test[FEATURES]], axis=0)\n",
    "\n",
    "cat_features = [col for col in FEATURES if df[col].nunique() < 15]\n",
    "cont_features = [col for col in FEATURES if df[col].nunique() >= 15]\n",
    "\n",
    "del df\n",
    "print(f'Total number of features: {len(FEATURES)}')\n",
    "print(f'\\033[92mNumber of categorical features: {len(cat_features)}')\n",
    "print(f'\\033[96mNumber of continuos features: {len(cont_features)}')\n",
    "\n",
    "plt.pie([len(cat_features), len(cont_features)], \n",
    "        labels=['Categorical', 'Continuos'],\n",
    "        colors=['green', 'cyan'],\n",
    "        textprops={'fontsize': 13},\n",
    "        autopct='%1.1f%%')\n",
    "plt.show()"
   ]
  },
  {
   "cell_type": "markdown",
   "id": "06704358",
   "metadata": {
    "papermill": {
     "duration": 0.039784,
     "end_time": "2022-01-18T16:55:15.892399",
     "exception": false,
     "start_time": "2022-01-18T16:55:15.852615",
     "status": "completed"
    },
    "tags": []
   },
   "source": [
    "<a id=\"4.3\"></a>\n",
    "## Feature Distribution of Continous Features"
   ]
  },
  {
   "cell_type": "code",
   "execution_count": 15,
   "id": "51a7b2c3",
   "metadata": {
    "_kg_hide-input": true,
    "execution": {
     "iopub.execute_input": "2022-01-18T16:55:15.970549Z",
     "iopub.status.busy": "2022-01-18T16:55:15.969886Z",
     "iopub.status.idle": "2022-01-18T16:55:20.133611Z",
     "shell.execute_reply": "2022-01-18T16:55:20.134066Z",
     "shell.execute_reply.started": "2022-01-18T16:54:07.925832Z"
    },
    "papermill": {
     "duration": 4.204198,
     "end_time": "2022-01-18T16:55:20.134230",
     "exception": false,
     "start_time": "2022-01-18T16:55:15.930032",
     "status": "completed"
    },
    "tags": []
   },
   "outputs": [
    {
     "data": {
      "image/png": "[encoded data removed]",
      "text/plain": [
       "<Figure size 1296x720 with 10 Axes>"
      ]
     },
     "metadata": {},
     "output_type": "display_data"
    }
   ],
   "source": [
    "ncols = 5\n",
    "nrows = int(len(cont_features) / ncols + (len(FEATURES) % ncols > 0))-1\n",
    "\n",
    "fig, axes = plt.subplots(nrows, ncols, figsize=(18, 10), facecolor='#EAEAF2')\n",
    "\n",
    "for r in range(nrows):\n",
    "    for c in range(ncols):\n",
    "        col = cont_features[r*ncols+c]\n",
    "        sns.kdeplot(x=train[col], ax=axes[r, c], color='#58D68D', label='Train data' , fill =True)\n",
    "        sns.kdeplot(x=test[col], ax=axes[r, c], color='#DE3163', label='Test data')\n",
    "        axes[r,c].legend()\n",
    "        axes[r, c].set_ylabel('')\n",
    "        axes[r, c].set_xlabel(col, fontsize=8)\n",
    "        axes[r, c].tick_params(labelsize=5, width=0.5)\n",
    "        axes[r, c].xaxis.offsetText.set_fontsize(4)\n",
    "        axes[r, c].yaxis.offsetText.set_fontsize(4)\n",
    "plt.show()"
   ]
  },
  {
   "cell_type": "markdown",
   "id": "e2d62fed",
   "metadata": {
    "papermill": {
     "duration": 0.04053,
     "end_time": "2022-01-18T16:55:20.216061",
     "exception": false,
     "start_time": "2022-01-18T16:55:20.175531",
     "status": "completed"
    },
    "tags": []
   },
   "source": [
    "<a id=\"4.4\"></a>\n",
    "## Feature Distribution of Categorical Features"
   ]
  },
  {
   "cell_type": "code",
   "execution_count": 16,
   "id": "0e3b6881",
   "metadata": {
    "_kg_hide-input": true,
    "execution": {
     "iopub.execute_input": "2022-01-18T16:55:20.301705Z",
     "iopub.status.busy": "2022-01-18T16:55:20.300777Z",
     "iopub.status.idle": "2022-01-18T16:55:20.838886Z",
     "shell.execute_reply": "2022-01-18T16:55:20.838342Z",
     "shell.execute_reply.started": "2022-01-18T16:53:51.179362Z"
    },
    "papermill": {
     "duration": 0.581707,
     "end_time": "2022-01-18T16:55:20.839047",
     "exception": false,
     "start_time": "2022-01-18T16:55:20.257340",
     "status": "completed"
    },
    "tags": []
   },
   "outputs": [
    {
     "data": {
      "image/png": "[encoded data removed]",
      "text/plain": [
       "<Figure size 1296x360 with 3 Axes>"
      ]
     },
     "metadata": {
      "needs_background": "light"
     },
     "output_type": "display_data"
    }
   ],
   "source": [
    "if len(cat_features) == 0 :\n",
    "    print(\"No Categorical features\")\n",
    "else:\n",
    "    ncols = 3\n",
    "    nrows = 1\n",
    "\n",
    "    fig, axes = plt.subplots(nrows, ncols, figsize=(18, 5))\n",
    "    for r in range(nrows):\n",
    "        for c in range(ncols):\n",
    "            col = cat_features[c]\n",
    "            sns.countplot(train[col],ax = axes[c] ,palette = \"viridis\", label='Train data')\n",
    "            sns.countplot(test[col],ax = axes[c] ,palette = \"magma\", label='Train data')\n",
    "            axes[c].legend()\n",
    "            axes[c].set_ylabel('')\n",
    "            axes[c].set_xlabel(col, fontsize=20)\n",
    "            axes[c].tick_params(labelsize=10, width=0.5)\n",
    "            axes[c].xaxis.offsetText.set_fontsize(4)\n",
    "            axes[c].yaxis.offsetText.set_fontsize(4)\n",
    "    plt.show()"
   ]
  },
  {
   "cell_type": "markdown",
   "id": "ec6e732f",
   "metadata": {
    "papermill": {
     "duration": 0.041553,
     "end_time": "2022-01-18T16:55:20.922914",
     "exception": false,
     "start_time": "2022-01-18T16:55:20.881361",
     "status": "completed"
    },
    "tags": []
   },
   "source": [
    "<a id=\"4.5\"></a>\n",
    "## Target Distribution"
   ]
  },
  {
   "cell_type": "code",
   "execution_count": 17,
   "id": "a8b55d4c",
   "metadata": {
    "_kg_hide-input": true,
    "execution": {
     "iopub.execute_input": "2022-01-18T16:55:21.011321Z",
     "iopub.status.busy": "2022-01-18T16:55:21.010301Z",
     "iopub.status.idle": "2022-01-18T16:55:21.954622Z",
     "shell.execute_reply": "2022-01-18T16:55:21.953952Z",
     "shell.execute_reply.started": "2022-01-18T16:23:14.008950Z"
    },
    "papermill": {
     "duration": 0.989985,
     "end_time": "2022-01-18T16:55:21.954784",
     "exception": false,
     "start_time": "2022-01-18T16:55:20.964799",
     "status": "completed"
    },
    "tags": []
   },
   "outputs": [
    {
     "name": "stdout",
     "output_type": "stream",
     "text": [
      "\u001b[94mPercentage of song_popularity = 0: 63.56 %\n",
      "\u001b[94mPercentage of song_popularity = 1: 36.44 %\n"
     ]
    },
    {
     "data": {
      "text/html": [
       "        <script type=\"text/javascript\">\n",
       "        window.PlotlyConfig = {MathJaxConfig: 'local'};\n",
       "        if (window.MathJax) {MathJax.Hub.Config({SVG: {font: \"STIX-Web\"}});}\n",
       "        if (typeof require !== 'undefined') {\n",
       "        require.undef(\"plotly\");\n",
       "        requirejs.config({\n",
       "            paths: {\n",
       "                'plotly': ['https://cdn.plot.ly/plotly-2.8.3.min']\n",
       "            }\n",
       "        });\n",
       "        require(['plotly'], function(Plotly) {\n",
       "            window._Plotly = Plotly;\n",
       "        });\n",
       "        }\n",
       "        </script>\n",
       "        "
      ]
     },
     "metadata": {},
     "output_type": "display_data"
    },
    {
     "data": {
      "text/html": [
       "<div>                            <div id=\"89664a43-fe29-4c4b-9b6d-fb4767480d90\" class=\"plotly-graph-div\" style=\"height:525px; width:100%;\"></div>            <script type=\"text/javascript\">                require([\"plotly\"], function(Plotly) {                    window.PLOTLYENV=window.PLOTLYENV || {};                                    if (document.getElementById(\"89664a43-fe29-4c4b-9b6d-fb4767480d90\")) {                    Plotly.newPlot(                        \"89664a43-fe29-4c4b-9b6d-fb4767480d90\",                        [{\"alignmentgroup\":\"True\",\"hovertemplate\":\"song_popularity=%{x}<br>count=%{marker.color}<extra></extra>\",\"legendgroup\":\"\",\"marker\":{\"color\":[25424,14576],\"coloraxis\":\"coloraxis\",\"pattern\":{\"shape\":\"\"}},\"name\":\"\",\"offsetgroup\":\"\",\"orientation\":\"v\",\"showlegend\":false,\"textposition\":\"auto\",\"x\":[0,1],\"xaxis\":\"x\",\"y\":[25424,14576],\"yaxis\":\"y\",\"type\":\"bar\"}],                        {\"template\":{\"data\":{\"bar\":[{\"error_x\":{\"color\":\"#2a3f5f\"},\"error_y\":{\"color\":\"#2a3f5f\"},\"marker\":{\"line\":{\"color\":\"#E5ECF6\",\"width\":0.5},\"pattern\":{\"fillmode\":\"overlay\",\"size\":10,\"solidity\":0.2}},\"type\":\"bar\"}],\"barpolar\":[{\"marker\":{\"line\":{\"color\":\"#E5ECF6\",\"width\":0.5},\"pattern\":{\"fillmode\":\"overlay\",\"size\":10,\"solidity\":0.2}},\"type\":\"barpolar\"}],\"carpet\":[{\"aaxis\":{\"endlinecolor\":\"#2a3f5f\",\"gridcolor\":\"white\",\"linecolor\":\"white\",\"minorgridcolor\":\"white\",\"startlinecolor\":\"#2a3f5f\"},\"baxis\":{\"endlinecolor\":\"#2a3f5f\",\"gridcolor\":\"white\",\"linecolor\":\"white\",\"minorgridcolor\":\"white\",\"startlinecolor\":\"#2a3f5f\"},\"type\":\"carpet\"}],\"choropleth\":[{\"colorbar\":{\"outlinewidth\":0,\"ticks\":\"\"},\"type\":\"choropleth\"}],\"contour\":[{\"colorbar\":{\"outlinewidth\":0,\"ticks\":\"\"},\"colorscale\":[[0.0,\"#0d0887\"],[0.1111111111111111,\"#46039f\"],[0.2222222222222222,\"#7201a8\"],[0.3333333333333333,\"#9c179e\"],[0.4444444444444444,\"#bd3786\"],[0.5555555555555556,\"#d8576b\"],[0.6666666666666666,\"#ed7953\"],[0.7777777777777778,\"#fb9f3a\"],[0.8888888888888888,\"#fdca26\"],[1.0,\"#f0f921\"]],\"type\":\"contour\"}],\"contourcarpet\":[{\"colorbar\":{\"outlinewidth\":0,\"ticks\":\"\"},\"type\":\"contourcarpet\"}],\"heatmap\":[{\"colorbar\":{\"outlinewidth\":0,\"ticks\":\"\"},\"colorscale\":[[0.0,\"#0d0887\"],[0.1111111111111111,\"#46039f\"],[0.2222222222222222,\"#7201a8\"],[0.3333333333333333,\"#9c179e\"],[0.4444444444444444,\"#bd3786\"],[0.5555555555555556,\"#d8576b\"],[0.6666666666666666,\"#ed7953\"],[0.7777777777777778,\"#fb9f3a\"],[0.8888888888888888,\"#fdca26\"],[1.0,\"#f0f921\"]],\"type\":\"heatmap\"}],\"heatmapgl\":[{\"colorbar\":{\"outlinewidth\":0,\"ticks\":\"\"},\"colorscale\":[[0.0,\"#0d0887\"],[0.1111111111111111,\"#46039f\"],[0.2222222222222222,\"#7201a8\"],[0.3333333333333333,\"#9c179e\"],[0.4444444444444444,\"#bd3786\"],[0.5555555555555556,\"#d8576b\"],[0.6666666666666666,\"#ed7953\"],[0.7777777777777778,\"#fb9f3a\"],[0.8888888888888888,\"#fdca26\"],[1.0,\"#f0f921\"]],\"type\":\"heatmapgl\"}],\"histogram\":[{\"marker\":{\"pattern\":{\"fillmode\":\"overlay\",\"size\":10,\"solidity\":0.2}},\"type\":\"histogram\"}],\"histogram2d\":[{\"colorbar\":{\"outlinewidth\":0,\"ticks\":\"\"},\"colorscale\":[[0.0,\"#0d0887\"],[0.1111111111111111,\"#46039f\"],[0.2222222222222222,\"#7201a8\"],[0.3333333333333333,\"#9c179e\"],[0.4444444444444444,\"#bd3786\"],[0.5555555555555556,\"#d8576b\"],[0.6666666666666666,\"#ed7953\"],[0.7777777777777778,\"#fb9f3a\"],[0.8888888888888888,\"#fdca26\"],[1.0,\"#f0f921\"]],\"type\":\"histogram2d\"}],\"histogram2dcontour\":[{\"colorbar\":{\"outlinewidth\":0,\"ticks\":\"\"},\"colorscale\":[[0.0,\"#0d0887\"],[0.1111111111111111,\"#46039f\"],[0.2222222222222222,\"#7201a8\"],[0.3333333333333333,\"#9c179e\"],[0.4444444444444444,\"#bd3786\"],[0.5555555555555556,\"#d8576b\"],[0.6666666666666666,\"#ed7953\"],[0.7777777777777778,\"#fb9f3a\"],[0.8888888888888888,\"#fdca26\"],[1.0,\"#f0f921\"]],\"type\":\"histogram2dcontour\"}],\"mesh3d\":[{\"colorbar\":{\"outlinewidth\":0,\"ticks\":\"\"},\"type\":\"mesh3d\"}],\"parcoords\":[{\"line\":{\"colorbar\":{\"outlinewidth\":0,\"ticks\":\"\"}},\"type\":\"parcoords\"}],\"pie\":[{\"automargin\":true,\"type\":\"pie\"}],\"scatter\":[{\"marker\":{\"colorbar\":{\"outlinewidth\":0,\"ticks\":\"\"}},\"type\":\"scatter\"}],\"scatter3d\":[{\"line\":{\"colorbar\":{\"outlinewidth\":0,\"ticks\":\"\"}},\"marker\":{\"colorbar\":{\"outlinewidth\":0,\"ticks\":\"\"}},\"type\":\"scatter3d\"}],\"scattercarpet\":[{\"marker\":{\"colorbar\":{\"outlinewidth\":0,\"ticks\":\"\"}},\"type\":\"scattercarpet\"}],\"scattergeo\":[{\"marker\":{\"colorbar\":{\"outlinewidth\":0,\"ticks\":\"\"}},\"type\":\"scattergeo\"}],\"scattergl\":[{\"marker\":{\"colorbar\":{\"outlinewidth\":0,\"ticks\":\"\"}},\"type\":\"scattergl\"}],\"scattermapbox\":[{\"marker\":{\"colorbar\":{\"outlinewidth\":0,\"ticks\":\"\"}},\"type\":\"scattermapbox\"}],\"scatterpolar\":[{\"marker\":{\"colorbar\":{\"outlinewidth\":0,\"ticks\":\"\"}},\"type\":\"scatterpolar\"}],\"scatterpolargl\":[{\"marker\":{\"colorbar\":{\"outlinewidth\":0,\"ticks\":\"\"}},\"type\":\"scatterpolargl\"}],\"scatterternary\":[{\"marker\":{\"colorbar\":{\"outlinewidth\":0,\"ticks\":\"\"}},\"type\":\"scatterternary\"}],\"surface\":[{\"colorbar\":{\"outlinewidth\":0,\"ticks\":\"\"},\"colorscale\":[[0.0,\"#0d0887\"],[0.1111111111111111,\"#46039f\"],[0.2222222222222222,\"#7201a8\"],[0.3333333333333333,\"#9c179e\"],[0.4444444444444444,\"#bd3786\"],[0.5555555555555556,\"#d8576b\"],[0.6666666666666666,\"#ed7953\"],[0.7777777777777778,\"#fb9f3a\"],[0.8888888888888888,\"#fdca26\"],[1.0,\"#f0f921\"]],\"type\":\"surface\"}],\"table\":[{\"cells\":{\"fill\":{\"color\":\"#EBF0F8\"},\"line\":{\"color\":\"white\"}},\"header\":{\"fill\":{\"color\":\"#C8D4E3\"},\"line\":{\"color\":\"white\"}},\"type\":\"table\"}]},\"layout\":{\"annotationdefaults\":{\"arrowcolor\":\"#2a3f5f\",\"arrowhead\":0,\"arrowwidth\":1},\"autotypenumbers\":\"strict\",\"coloraxis\":{\"colorbar\":{\"outlinewidth\":0,\"ticks\":\"\"}},\"colorscale\":{\"diverging\":[[0,\"#8e0152\"],[0.1,\"#c51b7d\"],[0.2,\"#de77ae\"],[0.3,\"#f1b6da\"],[0.4,\"#fde0ef\"],[0.5,\"#f7f7f7\"],[0.6,\"#e6f5d0\"],[0.7,\"#b8e186\"],[0.8,\"#7fbc41\"],[0.9,\"#4d9221\"],[1,\"#276419\"]],\"sequential\":[[0.0,\"#0d0887\"],[0.1111111111111111,\"#46039f\"],[0.2222222222222222,\"#7201a8\"],[0.3333333333333333,\"#9c179e\"],[0.4444444444444444,\"#bd3786\"],[0.5555555555555556,\"#d8576b\"],[0.6666666666666666,\"#ed7953\"],[0.7777777777777778,\"#fb9f3a\"],[0.8888888888888888,\"#fdca26\"],[1.0,\"#f0f921\"]],\"sequentialminus\":[[0.0,\"#0d0887\"],[0.1111111111111111,\"#46039f\"],[0.2222222222222222,\"#7201a8\"],[0.3333333333333333,\"#9c179e\"],[0.4444444444444444,\"#bd3786\"],[0.5555555555555556,\"#d8576b\"],[0.6666666666666666,\"#ed7953\"],[0.7777777777777778,\"#fb9f3a\"],[0.8888888888888888,\"#fdca26\"],[1.0,\"#f0f921\"]]},\"colorway\":[\"#636efa\",\"#EF553B\",\"#00cc96\",\"#ab63fa\",\"#FFA15A\",\"#19d3f3\",\"#FF6692\",\"#B6E880\",\"#FF97FF\",\"#FECB52\"],\"font\":{\"color\":\"#2a3f5f\"},\"geo\":{\"bgcolor\":\"white\",\"lakecolor\":\"white\",\"landcolor\":\"#E5ECF6\",\"showlakes\":true,\"showland\":true,\"subunitcolor\":\"white\"},\"hoverlabel\":{\"align\":\"left\"},\"hovermode\":\"closest\",\"mapbox\":{\"style\":\"light\"},\"paper_bgcolor\":\"white\",\"plot_bgcolor\":\"#E5ECF6\",\"polar\":{\"angularaxis\":{\"gridcolor\":\"white\",\"linecolor\":\"white\",\"ticks\":\"\"},\"bgcolor\":\"#E5ECF6\",\"radialaxis\":{\"gridcolor\":\"white\",\"linecolor\":\"white\",\"ticks\":\"\"}},\"scene\":{\"xaxis\":{\"backgroundcolor\":\"#E5ECF6\",\"gridcolor\":\"white\",\"gridwidth\":2,\"linecolor\":\"white\",\"showbackground\":true,\"ticks\":\"\",\"zerolinecolor\":\"white\"},\"yaxis\":{\"backgroundcolor\":\"#E5ECF6\",\"gridcolor\":\"white\",\"gridwidth\":2,\"linecolor\":\"white\",\"showbackground\":true,\"ticks\":\"\",\"zerolinecolor\":\"white\"},\"zaxis\":{\"backgroundcolor\":\"#E5ECF6\",\"gridcolor\":\"white\",\"gridwidth\":2,\"linecolor\":\"white\",\"showbackground\":true,\"ticks\":\"\",\"zerolinecolor\":\"white\"}},\"shapedefaults\":{\"line\":{\"color\":\"#2a3f5f\"}},\"ternary\":{\"aaxis\":{\"gridcolor\":\"white\",\"linecolor\":\"white\",\"ticks\":\"\"},\"baxis\":{\"gridcolor\":\"white\",\"linecolor\":\"white\",\"ticks\":\"\"},\"bgcolor\":\"#E5ECF6\",\"caxis\":{\"gridcolor\":\"white\",\"linecolor\":\"white\",\"ticks\":\"\"}},\"title\":{\"x\":0.05},\"xaxis\":{\"automargin\":true,\"gridcolor\":\"white\",\"linecolor\":\"white\",\"ticks\":\"\",\"title\":{\"standoff\":15},\"zerolinecolor\":\"white\",\"zerolinewidth\":2},\"yaxis\":{\"automargin\":true,\"gridcolor\":\"white\",\"linecolor\":\"white\",\"ticks\":\"\",\"title\":{\"standoff\":15},\"zerolinecolor\":\"white\",\"zerolinewidth\":2}}},\"xaxis\":{\"anchor\":\"y\",\"domain\":[0.0,1.0],\"title\":{\"text\":\"song_popularity\"}},\"yaxis\":{\"anchor\":\"x\",\"domain\":[0.0,1.0],\"title\":{\"text\":\"count\"}},\"coloraxis\":{\"colorbar\":{\"title\":{\"text\":\"count\"}},\"colorscale\":[[0.0,\"rgb(211, 242, 163)\"],[0.16666666666666666,\"rgb(151, 225, 150)\"],[0.3333333333333333,\"rgb(108, 192, 139)\"],[0.5,\"rgb(76, 155, 130)\"],[0.6666666666666666,\"rgb(33, 122, 121)\"],[0.8333333333333334,\"rgb(16, 89, 101)\"],[1.0,\"rgb(7, 64, 80)\"]]},\"legend\":{\"tracegroupgap\":0},\"margin\":{\"t\":60},\"barmode\":\"relative\"},                        {\"responsive\": true}                    ).then(function(){\n",
       "                            \n",
       "var gd = document.getElementById('89664a43-fe29-4c4b-9b6d-fb4767480d90');\n",
       "var x = new MutationObserver(function (mutations, observer) {{\n",
       "        var display = window.getComputedStyle(gd).display;\n",
       "        if (!display || display === 'none') {{\n",
       "            console.log([gd, 'removed!']);\n",
       "            Plotly.purge(gd);\n",
       "            observer.disconnect();\n",
       "        }}\n",
       "}});\n",
       "\n",
       "// Listen for the removal of the full notebook cells\n",
       "var notebookContainer = gd.closest('#notebook-container');\n",
       "if (notebookContainer) {{\n",
       "    x.observe(notebookContainer, {childList: true});\n",
       "}}\n",
       "\n",
       "// Listen for the clearing of the current output cell\n",
       "var outputEl = gd.closest('.output');\n",
       "if (outputEl) {{\n",
       "    x.observe(outputEl, {childList: true});\n",
       "}}\n",
       "\n",
       "                        })                };                });            </script>        </div>"
      ]
     },
     "metadata": {},
     "output_type": "display_data"
    }
   ],
   "source": [
    "target_df = pd.DataFrame(train[TARGET].value_counts()).reset_index()\n",
    "target_df.columns = [TARGET, 'count']\n",
    "fig = px.bar(data_frame =target_df, \n",
    "             x = TARGET,\n",
    "             y = 'count' , \n",
    "             color = \"count\",\n",
    "             color_continuous_scale=\"Emrld\") \n",
    "print(\"\\033[94mPercentage of song_popularity = 0: {:.2f} %\".format(target_df[\"count\"][0] *100 / train.shape[0]))\n",
    "print(\"\\033[94mPercentage of song_popularity = 1: {:.2f} %\".format(target_df[\"count\"][1]* 100 / train.shape[0]))\n",
    "fig.show()"
   ]
  },
  {
   "cell_type": "markdown",
   "id": "8b46cf38",
   "metadata": {
    "papermill": {
     "duration": 0.043956,
     "end_time": "2022-01-18T16:55:22.043730",
     "exception": false,
     "start_time": "2022-01-18T16:55:21.999774",
     "status": "completed"
    },
    "tags": []
   },
   "source": [
    "<a id=\"4.6\"></a>\n",
    "## Correlation matrix"
   ]
  },
  {
   "cell_type": "code",
   "execution_count": 18,
   "id": "bbff15ad",
   "metadata": {
    "_kg_hide-input": true,
    "execution": {
     "iopub.execute_input": "2022-01-18T16:55:22.137381Z",
     "iopub.status.busy": "2022-01-18T16:55:22.136112Z",
     "iopub.status.idle": "2022-01-18T16:55:23.303613Z",
     "shell.execute_reply": "2022-01-18T16:55:23.304102Z",
     "shell.execute_reply.started": "2022-01-18T16:35:31.936046Z"
    },
    "papermill": {
     "duration": 1.216956,
     "end_time": "2022-01-18T16:55:23.304288",
     "exception": false,
     "start_time": "2022-01-18T16:55:22.087332",
     "status": "completed"
    },
    "tags": []
   },
   "outputs": [
    {
     "data": {
      "image/png": "[encoded data removed]",
      "text/plain": [
       "<Figure size 1296x720 with 2 Axes>"
      ]
     },
     "metadata": {
      "needs_background": "light"
     },
     "output_type": "display_data"
    }
   ],
   "source": [
    "plt.rcParams[\"figure.figsize\"] = (18,10)\n",
    "dataplot = sns.heatmap(train.corr(), cmap=\"YlGnBu\", annot=True)\n",
    "plt.show()"
   ]
  },
  {
   "cell_type": "markdown",
   "id": "e80bdee6",
   "metadata": {
    "papermill": {
     "duration": 0.047763,
     "end_time": "2022-01-18T16:55:23.401627",
     "exception": false,
     "start_time": "2022-01-18T16:55:23.353864",
     "status": "completed"
    },
    "tags": []
   },
   "source": [
    "<a id=\"4.7\"></a>\n",
    "## Null Value Distribution "
   ]
  },
  {
   "cell_type": "code",
   "execution_count": 19,
   "id": "1ad8a873",
   "metadata": {
    "_kg_hide-input": true,
    "execution": {
     "iopub.execute_input": "2022-01-18T16:55:23.507575Z",
     "iopub.status.busy": "2022-01-18T16:55:23.505046Z",
     "iopub.status.idle": "2022-01-18T16:55:23.931574Z",
     "shell.execute_reply": "2022-01-18T16:55:23.931116Z",
     "shell.execute_reply.started": "2022-01-18T16:49:15.739015Z"
    },
    "papermill": {
     "duration": 0.481762,
     "end_time": "2022-01-18T16:55:23.931709",
     "exception": false,
     "start_time": "2022-01-18T16:55:23.449947",
     "status": "completed"
    },
    "tags": []
   },
   "outputs": [
    {
     "data": {
      "text/plain": [
       "Text(0.5, 0, 'TEST DATA COLUMNS')"
      ]
     },
     "execution_count": 19,
     "metadata": {},
     "output_type": "execute_result"
    },
    {
     "data": {
      "image/png": "[encoded data removed]",
      "text/plain": [
       "<Figure size 1296x720 with 2 Axes>"
      ]
     },
     "metadata": {
      "needs_background": "light"
     },
     "output_type": "display_data"
    }
   ],
   "source": [
    "test_null = pd.DataFrame(test.isna().sum())\n",
    "test_null = test_null.sort_values(by = 0 ,ascending = False)[:-5]\n",
    "train_null = pd.DataFrame(train.isna().sum())\n",
    "train_null = train_null.sort_values(by = 0 ,ascending = False)[:-6]\n",
    "fig, axes = plt.subplots(1,2, figsize=(18,10))\n",
    "sns.barplot( y =test_null.index ,  x  = test_null[0] ,ax = axes[1] )\n",
    "sns.barplot( y =train_null.index ,  x  = train_null[0],ax = axes[0])\n",
    "axes[0].set_xlabel(\"TRAIN DATA COLUMNS\")\n",
    "axes[1].set_xlabel(\"TEST DATA COLUMNS\")"
   ]
  },
  {
   "cell_type": "markdown",
   "id": "e1367fdf",
   "metadata": {
    "papermill": {
     "duration": 0.049852,
     "end_time": "2022-01-18T16:55:24.031413",
     "exception": false,
     "start_time": "2022-01-18T16:55:23.981561",
     "status": "completed"
    },
    "tags": []
   },
   "source": [
    "<a href=\"#toc\" role=\"button\" aria-pressed=\"true\" >⬆️Back to Table of Contents ⬆️</a>"
   ]
  },
  {
   "cell_type": "markdown",
   "id": "d80a3249",
   "metadata": {
    "papermill": {
     "duration": 0.049775,
     "end_time": "2022-01-18T16:55:24.130739",
     "exception": false,
     "start_time": "2022-01-18T16:55:24.080964",
     "status": "completed"
    },
    "tags": []
   },
   "source": [
    "## <center>WORK IN PROGRESS 🙂</center>"
   ]
  }
 ],
 "metadata": {
  "kernelspec": {
   "display_name": "Python 3",
   "language": "python",
   "name": "python3"
  },
  "language_info": {
   "codemirror_mode": {
    "name": "ipython",
    "version": 3
   },
   "file_extension": ".py",
   "mimetype": "text/x-python",
   "name": "python",
   "nbconvert_exporter": "python",
   "pygments_lexer": "ipython3",
   "version": "3.7.12"
  },
  "papermill": {
   "default_parameters": {},
   "duration": 32.647552,
   "end_time": "2022-01-18T16:55:27.620707",
   "environment_variables": {},
   "exception": null,
   "input_path": "__notebook__.ipynb",
   "output_path": "__notebook__.ipynb",
   "parameters": {},
   "start_time": "2022-01-18T16:54:54.973155",
   "version": "2.3.3"
  }
 },
 "nbformat": 4,
 "nbformat_minor": 5
}
