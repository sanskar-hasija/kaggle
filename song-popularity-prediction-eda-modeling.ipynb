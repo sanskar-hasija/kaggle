{
 "cells": [
  {
   "cell_type": "markdown",
   "id": "b81e55e6",
   "metadata": {
    "_cell_guid": "b1076dfc-b9ad-4769-8c92-a6c4dae69d19",
    "_uuid": "8f2839f25d086af736a60e9eeb907d3b93b6e0e5",
    "papermill": {
     "duration": 0.036822,
     "end_time": "2022-01-18T17:59:06.364781",
     "exception": false,
     "start_time": "2022-01-18T17:59:06.327959",
     "status": "completed"
    },
    "tags": []
   },
   "source": [
    "**Created by Sanskar Hasija**\n",
    "\n",
    "**Song Popularity Prediction - 📊EDA + MODELING📊**\n",
    "\n",
    "**18 JANUARY 2022**\n"
   ]
  },
  {
   "cell_type": "markdown",
   "id": "e6aad5a4",
   "metadata": {
    "papermill": {
     "duration": 0.035454,
     "end_time": "2022-01-18T17:59:06.436066",
     "exception": false,
     "start_time": "2022-01-18T17:59:06.400612",
     "status": "completed"
    },
    "tags": []
   },
   "source": [
    "# <center> SONG POPULARITY PREDICTION - 📊EDA + MODELING📊 </center>\n",
    "## <center>If you find this notebook useful, support with an upvote👍</center>"
   ]
  },
  {
   "cell_type": "markdown",
   "id": "4e81af0d",
   "metadata": {
    "papermill": {
     "duration": 0.035924,
     "end_time": "2022-01-18T17:59:06.510451",
     "exception": false,
     "start_time": "2022-01-18T17:59:06.474527",
     "status": "completed"
    },
    "tags": []
   },
   "source": [
    "# Table of Contents\n",
    "<a id=\"toc\"></a>\n",
    "- [1. Introduction](#1)\n",
    "- [2. Imports](#2)\n",
    "- [3. Data Loading and Preperation](#3)\n",
    "    - [3.1 Exploring Train Data](#3.1)\n",
    "    - [3.2 Exploring Test Data](#3.2)\n",
    "    - [3.3 Submission File](#3.3)\n",
    "- [4. EDA](#4)\n",
    "    - [4.1 Overview of Data](#4.1)\n",
    "    - [4.2 Null Value Distribution](#4.7)\n",
    "    - [4.3 Continuos and Categorical Data Distribution](#4.2)\n",
    "    - [4.4 Feature Distribution of Continous Features](#4.3)\n",
    "    - [4.5 Feature Distribution of Categorical Features](#4.4)\n",
    "    - [4.6 Target Distribution ](#4.5)\n",
    "    - [4.7 Correlation Matrix ](#4.6)\n",
    "    \n",
    "\n",
    "    \n",
    "- [WORK IN PROGRESS 🙂]()"
   ]
  },
  {
   "cell_type": "markdown",
   "id": "4428d082",
   "metadata": {
    "papermill": {
     "duration": 0.035045,
     "end_time": "2022-01-18T17:59:06.581502",
     "exception": false,
     "start_time": "2022-01-18T17:59:06.546457",
     "status": "completed"
    },
    "tags": []
   },
   "source": [
    "<a id=\"1\"></a>\n",
    "# Introduction"
   ]
  },
  {
   "cell_type": "markdown",
   "id": "fbdd298d",
   "metadata": {
    "papermill": {
     "duration": 0.035315,
     "end_time": "2022-01-18T17:59:06.651937",
     "exception": false,
     "start_time": "2022-01-18T17:59:06.616622",
     "status": "completed"
    },
    "tags": []
   },
   "source": [
    "**The competition is organised by MLspace and is the first competition of the series.**\n",
    "\n",
    "\n",
    "**In this competition, you are supposed to predict the popularity of a song given features like acousticness, danceability, key, loudness, etc.**\n",
    "\n",
    "**Submissions are evaluated on Area Under the ROC Curve (AUC)**"
   ]
  },
  {
   "cell_type": "markdown",
   "id": "9997d1a2",
   "metadata": {
    "papermill": {
     "duration": 0.034848,
     "end_time": "2022-01-18T17:59:06.721851",
     "exception": false,
     "start_time": "2022-01-18T17:59:06.687003",
     "status": "completed"
    },
    "tags": []
   },
   "source": [
    "<a href=\"#toc\" role=\"button\" aria-pressed=\"true\" >⬆️Back to Table of Contents ⬆️</a>"
   ]
  },
  {
   "cell_type": "markdown",
   "id": "a9d3c69e",
   "metadata": {
    "papermill": {
     "duration": 0.035571,
     "end_time": "2022-01-18T17:59:06.792846",
     "exception": false,
     "start_time": "2022-01-18T17:59:06.757275",
     "status": "completed"
    },
    "tags": []
   },
   "source": [
    "<a id=\"2\"></a>\n",
    "# Imports"
   ]
  },
  {
   "cell_type": "code",
   "execution_count": 1,
   "id": "ddf38c9b",
   "metadata": {
    "_kg_hide-input": true,
    "execution": {
     "iopub.execute_input": "2022-01-18T17:59:06.867836Z",
     "iopub.status.busy": "2022-01-18T17:59:06.866617Z",
     "iopub.status.idle": "2022-01-18T17:59:15.716535Z",
     "shell.execute_reply": "2022-01-18T17:59:15.715520Z",
     "shell.execute_reply.started": "2022-01-18T17:58:15.452937Z"
    },
    "papermill": {
     "duration": 8.888532,
     "end_time": "2022-01-18T17:59:15.716704",
     "exception": false,
     "start_time": "2022-01-18T17:59:06.828172",
     "status": "completed"
    },
    "tags": []
   },
   "outputs": [
    {
     "data": {
      "text/html": [
       "<style type='text/css'>\n",
       ".datatable table.frame { margin-bottom: 0; }\n",
       ".datatable table.frame thead { border-bottom: none; }\n",
       ".datatable table.frame tr.coltypes td {  color: #FFFFFF;  line-height: 6px;  padding: 0 0.5em;}\n",
       ".datatable .bool    { background: #DDDD99; }\n",
       ".datatable .object  { background: #565656; }\n",
       ".datatable .int     { background: #5D9E5D; }\n",
       ".datatable .float   { background: #4040CC; }\n",
       ".datatable .str     { background: #CC4040; }\n",
       ".datatable .time    { background: #40CC40; }\n",
       ".datatable .row_index {  background: var(--jp-border-color3);  border-right: 1px solid var(--jp-border-color0);  color: var(--jp-ui-font-color3);  font-size: 9px;}\n",
       ".datatable .frame tbody td { text-align: left; }\n",
       ".datatable .frame tr.coltypes .row_index {  background: var(--jp-border-color0);}\n",
       ".datatable th:nth-child(2) { padding-left: 12px; }\n",
       ".datatable .hellipsis {  color: var(--jp-cell-editor-border-color);}\n",
       ".datatable .vellipsis {  background: var(--jp-layout-color0);  color: var(--jp-cell-editor-border-color);}\n",
       ".datatable .na {  color: var(--jp-cell-editor-border-color);  font-size: 80%;}\n",
       ".datatable .sp {  opacity: 0.25;}\n",
       ".datatable .footer { font-size: 9px; }\n",
       ".datatable .frame_dimensions {  background: var(--jp-border-color3);  border-top: 1px solid var(--jp-border-color0);  color: var(--jp-ui-font-color3);  display: inline-block;  opacity: 0.6;  padding: 1px 10px 1px 5px;}\n",
       "</style>\n"
      ],
      "text/plain": [
       "<IPython.core.display.HTML object>"
      ]
     },
     "metadata": {},
     "output_type": "display_data"
    }
   ],
   "source": [
    "import numpy as np\n",
    "import pandas as pd\n",
    "import matplotlib.pyplot as plt\n",
    "import seaborn as sns\n",
    "import plotly.express as px\n",
    "\n",
    "\n",
    "from sklearn.model_selection import StratifiedKFold\n",
    "from sklearn.preprocessing import StandardScaler , LabelEncoder\n",
    "from sklearn.metrics import accuracy_score\n",
    "from sklearn.model_selection import train_test_split\n",
    "from scipy.stats import mode\n",
    "\n",
    "\n",
    "from xgboost import XGBClassifier\n",
    "from catboost import CatBoostClassifier\n",
    "from lightgbm import LGBMClassifier\n",
    "\n",
    "import tensorflow as tf\n",
    "from tensorflow.keras import layers\n",
    "from tensorflow.keras import callbacks\n",
    "from tensorflow.keras.utils import to_categorical\n",
    "\n",
    "from matplotlib import ticker\n",
    "import time\n",
    "import warnings\n",
    "pd.set_option('display.max_rows', None)\n",
    "pd.set_option('display.max_columns', None)\n",
    "pd.set_option('float_format', '{:f}'.format)\n",
    "warnings.filterwarnings('ignore')"
   ]
  },
  {
   "cell_type": "markdown",
   "id": "e4a4f1b1",
   "metadata": {
    "papermill": {
     "duration": 0.035569,
     "end_time": "2022-01-18T17:59:15.789234",
     "exception": false,
     "start_time": "2022-01-18T17:59:15.753665",
     "status": "completed"
    },
    "tags": []
   },
   "source": [
    "<a href=\"#toc\" role=\"button\" aria-pressed=\"true\" >⬆️Back to Table of Contents ⬆️</a>"
   ]
  },
  {
   "cell_type": "markdown",
   "id": "62c0b50a",
   "metadata": {
    "papermill": {
     "duration": 0.035488,
     "end_time": "2022-01-18T17:59:15.860561",
     "exception": false,
     "start_time": "2022-01-18T17:59:15.825073",
     "status": "completed"
    },
    "tags": []
   },
   "source": [
    "<a id=\"3\"></a>\n",
    "# Data Loading and Preperation"
   ]
  },
  {
   "cell_type": "code",
   "execution_count": 2,
   "id": "7cc632da",
   "metadata": {
    "execution": {
     "iopub.execute_input": "2022-01-18T17:59:15.936731Z",
     "iopub.status.busy": "2022-01-18T17:59:15.935708Z",
     "iopub.status.idle": "2022-01-18T17:59:16.264581Z",
     "shell.execute_reply": "2022-01-18T17:59:16.263862Z",
     "shell.execute_reply.started": "2022-01-18T17:58:24.116923Z"
    },
    "papermill": {
     "duration": 0.368359,
     "end_time": "2022-01-18T17:59:16.264722",
     "exception": false,
     "start_time": "2022-01-18T17:59:15.896363",
     "status": "completed"
    },
    "tags": []
   },
   "outputs": [],
   "source": [
    "train = pd.read_csv(\"../input/song-popularity-prediction/train.csv\")\n",
    "test = pd.read_csv(\"../input/song-popularity-prediction/test.csv\")\n",
    "submission = pd.read_csv(\"../input/song-popularity-prediction/sample_submission.csv\")"
   ]
  },
  {
   "cell_type": "markdown",
   "id": "654d3eda",
   "metadata": {
    "papermill": {
     "duration": 0.035947,
     "end_time": "2022-01-18T17:59:16.336680",
     "exception": false,
     "start_time": "2022-01-18T17:59:16.300733",
     "status": "completed"
    },
    "tags": []
   },
   "source": [
    "<a id=\"3.1\"></a>\n",
    "## Exploring Train Data"
   ]
  },
  {
   "cell_type": "markdown",
   "id": "94d609ab",
   "metadata": {
    "papermill": {
     "duration": 0.042799,
     "end_time": "2022-01-18T17:59:16.415436",
     "exception": false,
     "start_time": "2022-01-18T17:59:16.372637",
     "status": "completed"
    },
    "tags": []
   },
   "source": [
    "### Observations:\n",
    "\n",
    "* There are total of ```15``` columns : ```10``` continous , ```3``` categorical ```1``` id and ```1``` target column\n",
    "* ```song_popularity column``` is the target variable which is only available in the ```train``` dataset.\n",
    "* Train dataset contain ```527,813``` observation with ```32,178```  missing values.\n",
    "* 8 differnt rows have null values with maximum missings values in ```song_duration_ms``` column."
   ]
  },
  {
   "cell_type": "markdown",
   "id": "46f47942",
   "metadata": {
    "papermill": {
     "duration": 0.047017,
     "end_time": "2022-01-18T17:59:16.506732",
     "exception": false,
     "start_time": "2022-01-18T17:59:16.459715",
     "status": "completed"
    },
    "tags": []
   },
   "source": [
    "### Quick view of Train Data"
   ]
  },
  {
   "cell_type": "markdown",
   "id": "d23c20a7",
   "metadata": {
    "papermill": {
     "duration": 0.037373,
     "end_time": "2022-01-18T17:59:16.583333",
     "exception": false,
     "start_time": "2022-01-18T17:59:16.545960",
     "status": "completed"
    },
    "tags": []
   },
   "source": [
    "Below is the first 5 rows of train dataset:"
   ]
  },
  {
   "cell_type": "code",
   "execution_count": 3,
   "id": "5abe4389",
   "metadata": {
    "_kg_hide-input": true,
    "execution": {
     "iopub.execute_input": "2022-01-18T17:59:16.657789Z",
     "iopub.status.busy": "2022-01-18T17:59:16.657196Z",
     "iopub.status.idle": "2022-01-18T17:59:16.678491Z",
     "shell.execute_reply": "2022-01-18T17:59:16.679003Z",
     "shell.execute_reply.started": "2022-01-18T17:58:24.440033Z"
    },
    "papermill": {
     "duration": 0.060285,
     "end_time": "2022-01-18T17:59:16.679189",
     "exception": false,
     "start_time": "2022-01-18T17:59:16.618904",
     "status": "completed"
    },
    "tags": []
   },
   "outputs": [
    {
     "data": {
      "text/html": [
       "<div>\n",
       "<style scoped>\n",
       "    .dataframe tbody tr th:only-of-type {\n",
       "        vertical-align: middle;\n",
       "    }\n",
       "\n",
       "    .dataframe tbody tr th {\n",
       "        vertical-align: top;\n",
       "    }\n",
       "\n",
       "    .dataframe thead th {\n",
       "        text-align: right;\n",
       "    }\n",
       "</style>\n",
       "<table border=\"1\" class=\"dataframe\">\n",
       "  <thead>\n",
       "    <tr style=\"text-align: right;\">\n",
       "      <th></th>\n",
       "      <th>id</th>\n",
       "      <th>song_duration_ms</th>\n",
       "      <th>acousticness</th>\n",
       "      <th>danceability</th>\n",
       "      <th>energy</th>\n",
       "      <th>instrumentalness</th>\n",
       "      <th>key</th>\n",
       "      <th>liveness</th>\n",
       "      <th>loudness</th>\n",
       "      <th>audio_mode</th>\n",
       "      <th>speechiness</th>\n",
       "      <th>tempo</th>\n",
       "      <th>time_signature</th>\n",
       "      <th>audio_valence</th>\n",
       "      <th>song_popularity</th>\n",
       "    </tr>\n",
       "  </thead>\n",
       "  <tbody>\n",
       "    <tr>\n",
       "      <th>0</th>\n",
       "      <td>0</td>\n",
       "      <td>212990.000000</td>\n",
       "      <td>0.642286</td>\n",
       "      <td>0.856520</td>\n",
       "      <td>0.707073</td>\n",
       "      <td>0.002001</td>\n",
       "      <td>10.000000</td>\n",
       "      <td>NaN</td>\n",
       "      <td>-5.619088</td>\n",
       "      <td>0</td>\n",
       "      <td>0.082570</td>\n",
       "      <td>158.386236</td>\n",
       "      <td>4</td>\n",
       "      <td>0.734642</td>\n",
       "      <td>0</td>\n",
       "    </tr>\n",
       "    <tr>\n",
       "      <th>1</th>\n",
       "      <td>1</td>\n",
       "      <td>NaN</td>\n",
       "      <td>0.054866</td>\n",
       "      <td>0.733289</td>\n",
       "      <td>0.835545</td>\n",
       "      <td>0.000996</td>\n",
       "      <td>8.000000</td>\n",
       "      <td>0.436428</td>\n",
       "      <td>-5.236965</td>\n",
       "      <td>1</td>\n",
       "      <td>0.127358</td>\n",
       "      <td>102.752988</td>\n",
       "      <td>3</td>\n",
       "      <td>0.711531</td>\n",
       "      <td>1</td>\n",
       "    </tr>\n",
       "    <tr>\n",
       "      <th>2</th>\n",
       "      <td>2</td>\n",
       "      <td>193213.000000</td>\n",
       "      <td>NaN</td>\n",
       "      <td>0.188387</td>\n",
       "      <td>0.783524</td>\n",
       "      <td>-0.002694</td>\n",
       "      <td>5.000000</td>\n",
       "      <td>0.170499</td>\n",
       "      <td>-4.951759</td>\n",
       "      <td>0</td>\n",
       "      <td>0.052282</td>\n",
       "      <td>178.685791</td>\n",
       "      <td>3</td>\n",
       "      <td>0.425536</td>\n",
       "      <td>0</td>\n",
       "    </tr>\n",
       "    <tr>\n",
       "      <th>3</th>\n",
       "      <td>3</td>\n",
       "      <td>249893.000000</td>\n",
       "      <td>0.488660</td>\n",
       "      <td>0.585234</td>\n",
       "      <td>0.552685</td>\n",
       "      <td>0.000608</td>\n",
       "      <td>0.000000</td>\n",
       "      <td>0.094805</td>\n",
       "      <td>-7.893694</td>\n",
       "      <td>0</td>\n",
       "      <td>0.035618</td>\n",
       "      <td>128.715630</td>\n",
       "      <td>3</td>\n",
       "      <td>0.453597</td>\n",
       "      <td>0</td>\n",
       "    </tr>\n",
       "    <tr>\n",
       "      <th>4</th>\n",
       "      <td>4</td>\n",
       "      <td>165969.000000</td>\n",
       "      <td>0.493017</td>\n",
       "      <td>NaN</td>\n",
       "      <td>0.740982</td>\n",
       "      <td>0.002033</td>\n",
       "      <td>10.000000</td>\n",
       "      <td>0.094891</td>\n",
       "      <td>-2.684095</td>\n",
       "      <td>0</td>\n",
       "      <td>0.050746</td>\n",
       "      <td>121.928157</td>\n",
       "      <td>4</td>\n",
       "      <td>0.741311</td>\n",
       "      <td>0</td>\n",
       "    </tr>\n",
       "  </tbody>\n",
       "</table>\n",
       "</div>"
      ],
      "text/plain": [
       "   id  song_duration_ms  acousticness  danceability   energy  \\\n",
       "0   0     212990.000000      0.642286      0.856520 0.707073   \n",
       "1   1               NaN      0.054866      0.733289 0.835545   \n",
       "2   2     193213.000000           NaN      0.188387 0.783524   \n",
       "3   3     249893.000000      0.488660      0.585234 0.552685   \n",
       "4   4     165969.000000      0.493017           NaN 0.740982   \n",
       "\n",
       "   instrumentalness       key  liveness  loudness  audio_mode  speechiness  \\\n",
       "0          0.002001 10.000000       NaN -5.619088           0     0.082570   \n",
       "1          0.000996  8.000000  0.436428 -5.236965           1     0.127358   \n",
       "2         -0.002694  5.000000  0.170499 -4.951759           0     0.052282   \n",
       "3          0.000608  0.000000  0.094805 -7.893694           0     0.035618   \n",
       "4          0.002033 10.000000  0.094891 -2.684095           0     0.050746   \n",
       "\n",
       "       tempo  time_signature  audio_valence  song_popularity  \n",
       "0 158.386236               4       0.734642                0  \n",
       "1 102.752988               3       0.711531                1  \n",
       "2 178.685791               3       0.425536                0  \n",
       "3 128.715630               3       0.453597                0  \n",
       "4 121.928157               4       0.741311                0  "
      ]
     },
     "execution_count": 3,
     "metadata": {},
     "output_type": "execute_result"
    }
   ],
   "source": [
    "train.head()"
   ]
  },
  {
   "cell_type": "code",
   "execution_count": 4,
   "id": "a2376210",
   "metadata": {
    "_kg_hide-input": true,
    "execution": {
     "iopub.execute_input": "2022-01-18T17:59:16.756755Z",
     "iopub.status.busy": "2022-01-18T17:59:16.756036Z",
     "iopub.status.idle": "2022-01-18T17:59:16.770290Z",
     "shell.execute_reply": "2022-01-18T17:59:16.769720Z",
     "shell.execute_reply.started": "2022-01-18T17:58:24.463601Z"
    },
    "papermill": {
     "duration": 0.054333,
     "end_time": "2022-01-18T17:59:16.770448",
     "exception": false,
     "start_time": "2022-01-18T17:59:16.716115",
     "status": "completed"
    },
    "tags": []
   },
   "outputs": [
    {
     "name": "stdout",
     "output_type": "stream",
     "text": [
      "\u001b[92mNumber of rows in train data: 40000\n",
      "\u001b[94mNumber of columns in train data: 15\n",
      "\u001b[91mNumber of values in train data: 567813\n",
      "\u001b[91mNumber missing values in train data: 32187\n"
     ]
    }
   ],
   "source": [
    "print(f'\\033[92mNumber of rows in train data: {train.shape[0]}')\n",
    "print(f'\\033[94mNumber of columns in train data: {train.shape[1]}')\n",
    "print(f'\\033[91mNumber of values in train data: {train.count().sum()}')\n",
    "print(f'\\033[91mNumber missing values in train data: {sum(train.isna().sum())}')"
   ]
  },
  {
   "cell_type": "markdown",
   "id": "d6033411",
   "metadata": {
    "papermill": {
     "duration": 0.037351,
     "end_time": "2022-01-18T17:59:16.845627",
     "exception": false,
     "start_time": "2022-01-18T17:59:16.808276",
     "status": "completed"
    },
    "tags": []
   },
   "source": [
    "### Column Wise missing values"
   ]
  },
  {
   "cell_type": "code",
   "execution_count": 5,
   "id": "b8dc02b9",
   "metadata": {
    "_kg_hide-input": true,
    "execution": {
     "iopub.execute_input": "2022-01-18T17:59:16.923338Z",
     "iopub.status.busy": "2022-01-18T17:59:16.922663Z",
     "iopub.status.idle": "2022-01-18T17:59:16.931201Z",
     "shell.execute_reply": "2022-01-18T17:59:16.930537Z",
     "shell.execute_reply.started": "2022-01-18T17:58:24.480281Z"
    },
    "papermill": {
     "duration": 0.048835,
     "end_time": "2022-01-18T17:59:16.931349",
     "exception": false,
     "start_time": "2022-01-18T17:59:16.882514",
     "status": "completed"
    },
    "tags": []
   },
   "outputs": [
    {
     "name": "stdout",
     "output_type": "stream",
     "text": [
      "song_duration_ms    4101\n",
      "liveness            4086\n",
      "key                 4065\n",
      "danceability        4026\n",
      "acousticness        3992\n",
      "instrumentalness    3985\n",
      "energy              3975\n",
      "loudness            3957\n",
      "id                     0\n",
      "audio_mode             0\n",
      "speechiness            0\n",
      "tempo                  0\n",
      "time_signature         0\n",
      "audio_valence          0\n",
      "song_popularity        0\n",
      "dtype: int64\n"
     ]
    }
   ],
   "source": [
    "print(train.isna().sum().sort_values(ascending = False))"
   ]
  },
  {
   "cell_type": "markdown",
   "id": "394d5d2f",
   "metadata": {
    "papermill": {
     "duration": 0.037033,
     "end_time": "2022-01-18T17:59:17.006786",
     "exception": false,
     "start_time": "2022-01-18T17:59:16.969753",
     "status": "completed"
    },
    "tags": []
   },
   "source": [
    "### Basic statistics of training data"
   ]
  },
  {
   "cell_type": "markdown",
   "id": "4109fc70",
   "metadata": {
    "papermill": {
     "duration": 0.036802,
     "end_time": "2022-01-18T17:59:17.080819",
     "exception": false,
     "start_time": "2022-01-18T17:59:17.044017",
     "status": "completed"
    },
    "tags": []
   },
   "source": [
    "Below is the basic statistics for each variables which contain information on `count`, `mean`, `standard deviation`, `minimum`, `1st quartile`, `median`, `3rd quartile` and `maximum`."
   ]
  },
  {
   "cell_type": "code",
   "execution_count": 6,
   "id": "fd2777dd",
   "metadata": {
    "_kg_hide-input": true,
    "execution": {
     "iopub.execute_input": "2022-01-18T17:59:17.165950Z",
     "iopub.status.busy": "2022-01-18T17:59:17.165300Z",
     "iopub.status.idle": "2022-01-18T17:59:17.231086Z",
     "shell.execute_reply": "2022-01-18T17:59:17.231598Z",
     "shell.execute_reply.started": "2022-01-18T17:58:24.489941Z"
    },
    "papermill": {
     "duration": 0.113716,
     "end_time": "2022-01-18T17:59:17.231768",
     "exception": false,
     "start_time": "2022-01-18T17:59:17.118052",
     "status": "completed"
    },
    "tags": []
   },
   "outputs": [
    {
     "data": {
      "text/html": [
       "<div>\n",
       "<style scoped>\n",
       "    .dataframe tbody tr th:only-of-type {\n",
       "        vertical-align: middle;\n",
       "    }\n",
       "\n",
       "    .dataframe tbody tr th {\n",
       "        vertical-align: top;\n",
       "    }\n",
       "\n",
       "    .dataframe thead th {\n",
       "        text-align: right;\n",
       "    }\n",
       "</style>\n",
       "<table border=\"1\" class=\"dataframe\">\n",
       "  <thead>\n",
       "    <tr style=\"text-align: right;\">\n",
       "      <th></th>\n",
       "      <th>id</th>\n",
       "      <th>song_duration_ms</th>\n",
       "      <th>acousticness</th>\n",
       "      <th>danceability</th>\n",
       "      <th>energy</th>\n",
       "      <th>instrumentalness</th>\n",
       "      <th>key</th>\n",
       "      <th>liveness</th>\n",
       "      <th>loudness</th>\n",
       "      <th>audio_mode</th>\n",
       "      <th>speechiness</th>\n",
       "      <th>tempo</th>\n",
       "      <th>time_signature</th>\n",
       "      <th>audio_valence</th>\n",
       "      <th>song_popularity</th>\n",
       "    </tr>\n",
       "  </thead>\n",
       "  <tbody>\n",
       "    <tr>\n",
       "      <th>count</th>\n",
       "      <td>40000.000000</td>\n",
       "      <td>35899.000000</td>\n",
       "      <td>36008.000000</td>\n",
       "      <td>35974.000000</td>\n",
       "      <td>36025.000000</td>\n",
       "      <td>36015.000000</td>\n",
       "      <td>35935.000000</td>\n",
       "      <td>35914.000000</td>\n",
       "      <td>36043.000000</td>\n",
       "      <td>40000.000000</td>\n",
       "      <td>40000.000000</td>\n",
       "      <td>40000.000000</td>\n",
       "      <td>40000.000000</td>\n",
       "      <td>40000.000000</td>\n",
       "      <td>40000.000000</td>\n",
       "    </tr>\n",
       "    <tr>\n",
       "      <th>mean</th>\n",
       "      <td>19999.500000</td>\n",
       "      <td>193165.847572</td>\n",
       "      <td>0.276404</td>\n",
       "      <td>0.570951</td>\n",
       "      <td>0.683932</td>\n",
       "      <td>0.036527</td>\n",
       "      <td>5.042605</td>\n",
       "      <td>0.198514</td>\n",
       "      <td>-7.407596</td>\n",
       "      <td>0.321150</td>\n",
       "      <td>0.094107</td>\n",
       "      <td>116.562815</td>\n",
       "      <td>3.394375</td>\n",
       "      <td>0.580645</td>\n",
       "      <td>0.364400</td>\n",
       "    </tr>\n",
       "    <tr>\n",
       "      <th>std</th>\n",
       "      <td>11547.149720</td>\n",
       "      <td>45822.127679</td>\n",
       "      <td>0.297928</td>\n",
       "      <td>0.190010</td>\n",
       "      <td>0.212662</td>\n",
       "      <td>0.150024</td>\n",
       "      <td>3.372728</td>\n",
       "      <td>0.151670</td>\n",
       "      <td>3.877198</td>\n",
       "      <td>0.466924</td>\n",
       "      <td>0.083591</td>\n",
       "      <td>26.167911</td>\n",
       "      <td>0.524405</td>\n",
       "      <td>0.237351</td>\n",
       "      <td>0.481268</td>\n",
       "    </tr>\n",
       "    <tr>\n",
       "      <th>min</th>\n",
       "      <td>0.000000</td>\n",
       "      <td>25658.000000</td>\n",
       "      <td>-0.013551</td>\n",
       "      <td>0.043961</td>\n",
       "      <td>-0.001682</td>\n",
       "      <td>-0.004398</td>\n",
       "      <td>0.000000</td>\n",
       "      <td>0.027843</td>\n",
       "      <td>-32.117911</td>\n",
       "      <td>0.000000</td>\n",
       "      <td>0.015065</td>\n",
       "      <td>62.055779</td>\n",
       "      <td>2.000000</td>\n",
       "      <td>0.013398</td>\n",
       "      <td>0.000000</td>\n",
       "    </tr>\n",
       "    <tr>\n",
       "      <th>25%</th>\n",
       "      <td>9999.750000</td>\n",
       "      <td>166254.500000</td>\n",
       "      <td>0.039618</td>\n",
       "      <td>0.424760</td>\n",
       "      <td>0.539276</td>\n",
       "      <td>0.000941</td>\n",
       "      <td>2.000000</td>\n",
       "      <td>0.111796</td>\n",
       "      <td>-9.578139</td>\n",
       "      <td>0.000000</td>\n",
       "      <td>0.038500</td>\n",
       "      <td>96.995309</td>\n",
       "      <td>3.000000</td>\n",
       "      <td>0.398669</td>\n",
       "      <td>0.000000</td>\n",
       "    </tr>\n",
       "    <tr>\n",
       "      <th>50%</th>\n",
       "      <td>19999.500000</td>\n",
       "      <td>186660.000000</td>\n",
       "      <td>0.140532</td>\n",
       "      <td>0.608234</td>\n",
       "      <td>0.704453</td>\n",
       "      <td>0.001974</td>\n",
       "      <td>5.000000</td>\n",
       "      <td>0.135945</td>\n",
       "      <td>-6.345413</td>\n",
       "      <td>0.000000</td>\n",
       "      <td>0.055881</td>\n",
       "      <td>113.795959</td>\n",
       "      <td>3.000000</td>\n",
       "      <td>0.598827</td>\n",
       "      <td>0.000000</td>\n",
       "    </tr>\n",
       "    <tr>\n",
       "      <th>75%</th>\n",
       "      <td>29999.250000</td>\n",
       "      <td>215116.000000</td>\n",
       "      <td>0.482499</td>\n",
       "      <td>0.718464</td>\n",
       "      <td>0.870503</td>\n",
       "      <td>0.003225</td>\n",
       "      <td>8.000000</td>\n",
       "      <td>0.212842</td>\n",
       "      <td>-4.620711</td>\n",
       "      <td>1.000000</td>\n",
       "      <td>0.118842</td>\n",
       "      <td>128.517383</td>\n",
       "      <td>4.000000</td>\n",
       "      <td>0.759635</td>\n",
       "      <td>1.000000</td>\n",
       "    </tr>\n",
       "    <tr>\n",
       "      <th>max</th>\n",
       "      <td>39999.000000</td>\n",
       "      <td>491671.000000</td>\n",
       "      <td>1.065284</td>\n",
       "      <td>0.957131</td>\n",
       "      <td>1.039741</td>\n",
       "      <td>1.075415</td>\n",
       "      <td>11.000000</td>\n",
       "      <td>1.065298</td>\n",
       "      <td>-0.877346</td>\n",
       "      <td>1.000000</td>\n",
       "      <td>0.560748</td>\n",
       "      <td>219.163578</td>\n",
       "      <td>5.000000</td>\n",
       "      <td>1.022558</td>\n",
       "      <td>1.000000</td>\n",
       "    </tr>\n",
       "  </tbody>\n",
       "</table>\n",
       "</div>"
      ],
      "text/plain": [
       "                id  song_duration_ms  acousticness  danceability       energy  \\\n",
       "count 40000.000000      35899.000000  36008.000000  35974.000000 36025.000000   \n",
       "mean  19999.500000     193165.847572      0.276404      0.570951     0.683932   \n",
       "std   11547.149720      45822.127679      0.297928      0.190010     0.212662   \n",
       "min       0.000000      25658.000000     -0.013551      0.043961    -0.001682   \n",
       "25%    9999.750000     166254.500000      0.039618      0.424760     0.539276   \n",
       "50%   19999.500000     186660.000000      0.140532      0.608234     0.704453   \n",
       "75%   29999.250000     215116.000000      0.482499      0.718464     0.870503   \n",
       "max   39999.000000     491671.000000      1.065284      0.957131     1.039741   \n",
       "\n",
       "       instrumentalness          key     liveness     loudness   audio_mode  \\\n",
       "count      36015.000000 35935.000000 35914.000000 36043.000000 40000.000000   \n",
       "mean           0.036527     5.042605     0.198514    -7.407596     0.321150   \n",
       "std            0.150024     3.372728     0.151670     3.877198     0.466924   \n",
       "min           -0.004398     0.000000     0.027843   -32.117911     0.000000   \n",
       "25%            0.000941     2.000000     0.111796    -9.578139     0.000000   \n",
       "50%            0.001974     5.000000     0.135945    -6.345413     0.000000   \n",
       "75%            0.003225     8.000000     0.212842    -4.620711     1.000000   \n",
       "max            1.075415    11.000000     1.065298    -0.877346     1.000000   \n",
       "\n",
       "       speechiness        tempo  time_signature  audio_valence  \\\n",
       "count 40000.000000 40000.000000    40000.000000   40000.000000   \n",
       "mean      0.094107   116.562815        3.394375       0.580645   \n",
       "std       0.083591    26.167911        0.524405       0.237351   \n",
       "min       0.015065    62.055779        2.000000       0.013398   \n",
       "25%       0.038500    96.995309        3.000000       0.398669   \n",
       "50%       0.055881   113.795959        3.000000       0.598827   \n",
       "75%       0.118842   128.517383        4.000000       0.759635   \n",
       "max       0.560748   219.163578        5.000000       1.022558   \n",
       "\n",
       "       song_popularity  \n",
       "count     40000.000000  \n",
       "mean          0.364400  \n",
       "std           0.481268  \n",
       "min           0.000000  \n",
       "25%           0.000000  \n",
       "50%           0.000000  \n",
       "75%           1.000000  \n",
       "max           1.000000  "
      ]
     },
     "execution_count": 6,
     "metadata": {},
     "output_type": "execute_result"
    }
   ],
   "source": [
    "train.describe()"
   ]
  },
  {
   "cell_type": "markdown",
   "id": "98a911a3",
   "metadata": {
    "papermill": {
     "duration": 0.037718,
     "end_time": "2022-01-18T17:59:17.307529",
     "exception": false,
     "start_time": "2022-01-18T17:59:17.269811",
     "status": "completed"
    },
    "tags": []
   },
   "source": [
    "<a id=\"3.2\"></a>\n",
    "## Exploring Test Data"
   ]
  },
  {
   "cell_type": "markdown",
   "id": "fce45cd1",
   "metadata": {
    "papermill": {
     "duration": 0.037862,
     "end_time": "2022-01-18T17:59:17.383382",
     "exception": false,
     "start_time": "2022-01-18T17:59:17.345520",
     "status": "completed"
    },
    "tags": []
   },
   "source": [
    "### Observations:\n",
    "\n",
    "* There are total of ```14``` columns : ```10``` continous , ```3``` categorical ```1``` id in ```test``` dataset\n",
    "* Train dataset contain ```122,038``` observation with ```7962```  missing values.\n",
    "* 8 differnt rows have null values with maximum missings values in ```energy``` column."
   ]
  },
  {
   "cell_type": "markdown",
   "id": "2bfc21be",
   "metadata": {
    "papermill": {
     "duration": 0.037778,
     "end_time": "2022-01-18T17:59:17.458879",
     "exception": false,
     "start_time": "2022-01-18T17:59:17.421101",
     "status": "completed"
    },
    "tags": []
   },
   "source": [
    "### Quick view of Test Data"
   ]
  },
  {
   "cell_type": "code",
   "execution_count": 7,
   "id": "d9317c88",
   "metadata": {
    "_kg_hide-input": true,
    "execution": {
     "iopub.execute_input": "2022-01-18T17:59:17.549025Z",
     "iopub.status.busy": "2022-01-18T17:59:17.548334Z",
     "iopub.status.idle": "2022-01-18T17:59:17.551996Z",
     "shell.execute_reply": "2022-01-18T17:59:17.551488Z",
     "shell.execute_reply.started": "2022-01-18T17:58:24.569791Z"
    },
    "papermill": {
     "duration": 0.055483,
     "end_time": "2022-01-18T17:59:17.552175",
     "exception": false,
     "start_time": "2022-01-18T17:59:17.496692",
     "status": "completed"
    },
    "tags": []
   },
   "outputs": [
    {
     "data": {
      "text/html": [
       "<div>\n",
       "<style scoped>\n",
       "    .dataframe tbody tr th:only-of-type {\n",
       "        vertical-align: middle;\n",
       "    }\n",
       "\n",
       "    .dataframe tbody tr th {\n",
       "        vertical-align: top;\n",
       "    }\n",
       "\n",
       "    .dataframe thead th {\n",
       "        text-align: right;\n",
       "    }\n",
       "</style>\n",
       "<table border=\"1\" class=\"dataframe\">\n",
       "  <thead>\n",
       "    <tr style=\"text-align: right;\">\n",
       "      <th></th>\n",
       "      <th>id</th>\n",
       "      <th>song_duration_ms</th>\n",
       "      <th>acousticness</th>\n",
       "      <th>danceability</th>\n",
       "      <th>energy</th>\n",
       "      <th>instrumentalness</th>\n",
       "      <th>key</th>\n",
       "      <th>liveness</th>\n",
       "      <th>loudness</th>\n",
       "      <th>audio_mode</th>\n",
       "      <th>speechiness</th>\n",
       "      <th>tempo</th>\n",
       "      <th>time_signature</th>\n",
       "      <th>audio_valence</th>\n",
       "    </tr>\n",
       "  </thead>\n",
       "  <tbody>\n",
       "    <tr>\n",
       "      <th>0</th>\n",
       "      <td>0</td>\n",
       "      <td>308523.000000</td>\n",
       "      <td>0.019845</td>\n",
       "      <td>NaN</td>\n",
       "      <td>0.908939</td>\n",
       "      <td>0.001438</td>\n",
       "      <td>NaN</td>\n",
       "      <td>0.112832</td>\n",
       "      <td>-8.890172</td>\n",
       "      <td>0</td>\n",
       "      <td>0.082714</td>\n",
       "      <td>126.129304</td>\n",
       "      <td>4</td>\n",
       "      <td>0.399620</td>\n",
       "    </tr>\n",
       "    <tr>\n",
       "      <th>1</th>\n",
       "      <td>1</td>\n",
       "      <td>200011.000000</td>\n",
       "      <td>0.070119</td>\n",
       "      <td>0.731256</td>\n",
       "      <td>0.444655</td>\n",
       "      <td>0.002020</td>\n",
       "      <td>10.000000</td>\n",
       "      <td>0.139040</td>\n",
       "      <td>-6.301214</td>\n",
       "      <td>0</td>\n",
       "      <td>0.061685</td>\n",
       "      <td>86.448149</td>\n",
       "      <td>3</td>\n",
       "      <td>0.499424</td>\n",
       "    </tr>\n",
       "    <tr>\n",
       "      <th>2</th>\n",
       "      <td>2</td>\n",
       "      <td>279758.000000</td>\n",
       "      <td>0.810637</td>\n",
       "      <td>0.568858</td>\n",
       "      <td>0.125466</td>\n",
       "      <td>0.898841</td>\n",
       "      <td>0.000000</td>\n",
       "      <td>0.226614</td>\n",
       "      <td>-11.542478</td>\n",
       "      <td>0</td>\n",
       "      <td>0.041868</td>\n",
       "      <td>99.544351</td>\n",
       "      <td>3</td>\n",
       "      <td>0.564951</td>\n",
       "    </tr>\n",
       "    <tr>\n",
       "      <th>3</th>\n",
       "      <td>3</td>\n",
       "      <td>249197.000000</td>\n",
       "      <td>NaN</td>\n",
       "      <td>0.871789</td>\n",
       "      <td>0.557342</td>\n",
       "      <td>0.000715</td>\n",
       "      <td>4.000000</td>\n",
       "      <td>0.325391</td>\n",
       "      <td>-7.905546</td>\n",
       "      <td>1</td>\n",
       "      <td>0.046815</td>\n",
       "      <td>123.063854</td>\n",
       "      <td>4</td>\n",
       "      <td>0.906485</td>\n",
       "    </tr>\n",
       "    <tr>\n",
       "      <th>4</th>\n",
       "      <td>4</td>\n",
       "      <td>NaN</td>\n",
       "      <td>0.765568</td>\n",
       "      <td>0.624687</td>\n",
       "      <td>0.710794</td>\n",
       "      <td>0.000346</td>\n",
       "      <td>8.000000</td>\n",
       "      <td>0.308284</td>\n",
       "      <td>NaN</td>\n",
       "      <td>0</td>\n",
       "      <td>0.129284</td>\n",
       "      <td>88.703121</td>\n",
       "      <td>3</td>\n",
       "      <td>0.935571</td>\n",
       "    </tr>\n",
       "  </tbody>\n",
       "</table>\n",
       "</div>"
      ],
      "text/plain": [
       "   id  song_duration_ms  acousticness  danceability   energy  \\\n",
       "0   0     308523.000000      0.019845           NaN 0.908939   \n",
       "1   1     200011.000000      0.070119      0.731256 0.444655   \n",
       "2   2     279758.000000      0.810637      0.568858 0.125466   \n",
       "3   3     249197.000000           NaN      0.871789 0.557342   \n",
       "4   4               NaN      0.765568      0.624687 0.710794   \n",
       "\n",
       "   instrumentalness       key  liveness   loudness  audio_mode  speechiness  \\\n",
       "0          0.001438       NaN  0.112832  -8.890172           0     0.082714   \n",
       "1          0.002020 10.000000  0.139040  -6.301214           0     0.061685   \n",
       "2          0.898841  0.000000  0.226614 -11.542478           0     0.041868   \n",
       "3          0.000715  4.000000  0.325391  -7.905546           1     0.046815   \n",
       "4          0.000346  8.000000  0.308284        NaN           0     0.129284   \n",
       "\n",
       "       tempo  time_signature  audio_valence  \n",
       "0 126.129304               4       0.399620  \n",
       "1  86.448149               3       0.499424  \n",
       "2  99.544351               3       0.564951  \n",
       "3 123.063854               4       0.906485  \n",
       "4  88.703121               3       0.935571  "
      ]
     },
     "execution_count": 7,
     "metadata": {},
     "output_type": "execute_result"
    }
   ],
   "source": [
    "test.head()"
   ]
  },
  {
   "cell_type": "code",
   "execution_count": 8,
   "id": "8fb9f913",
   "metadata": {
    "_kg_hide-input": true,
    "execution": {
     "iopub.execute_input": "2022-01-18T17:59:17.635518Z",
     "iopub.status.busy": "2022-01-18T17:59:17.634868Z",
     "iopub.status.idle": "2022-01-18T17:59:17.641499Z",
     "shell.execute_reply": "2022-01-18T17:59:17.642073Z",
     "shell.execute_reply.started": "2022-01-18T17:58:24.586233Z"
    },
    "papermill": {
     "duration": 0.051529,
     "end_time": "2022-01-18T17:59:17.642267",
     "exception": false,
     "start_time": "2022-01-18T17:59:17.590738",
     "status": "completed"
    },
    "tags": []
   },
   "outputs": [
    {
     "name": "stdout",
     "output_type": "stream",
     "text": [
      "\u001b[92mNumber of rows in test data: 10000\n",
      "\u001b[94mNumber of columns in test data: 14\n",
      "\u001b[91mNumber of values in train data: 132038\n",
      "\u001b[91mNo of rows with missing values  in test data: 7962\n"
     ]
    }
   ],
   "source": [
    "print(f'\\033[92mNumber of rows in test data: {test.shape[0]}')\n",
    "print(f'\\033[94mNumber of columns in test data: {test.shape[1]}')\n",
    "print(f'\\033[91mNumber of values in train data: {test.count().sum()}')\n",
    "print(f'\\033[91mNo of rows with missing values  in test data: {sum(test.isna().sum())}')"
   ]
  },
  {
   "cell_type": "markdown",
   "id": "4834e1bb",
   "metadata": {
    "papermill": {
     "duration": 0.039252,
     "end_time": "2022-01-18T17:59:17.720937",
     "exception": false,
     "start_time": "2022-01-18T17:59:17.681685",
     "status": "completed"
    },
    "tags": []
   },
   "source": [
    "### Column Wise missing values"
   ]
  },
  {
   "cell_type": "code",
   "execution_count": 9,
   "id": "161dae02",
   "metadata": {
    "_kg_hide-input": true,
    "execution": {
     "iopub.execute_input": "2022-01-18T17:59:17.803326Z",
     "iopub.status.busy": "2022-01-18T17:59:17.802677Z",
     "iopub.status.idle": "2022-01-18T17:59:17.810143Z",
     "shell.execute_reply": "2022-01-18T17:59:17.810652Z",
     "shell.execute_reply.started": "2022-01-18T17:58:24.601962Z"
    },
    "papermill": {
     "duration": 0.050526,
     "end_time": "2022-01-18T17:59:17.810825",
     "exception": false,
     "start_time": "2022-01-18T17:59:17.760299",
     "status": "completed"
    },
    "tags": []
   },
   "outputs": [
    {
     "name": "stdout",
     "output_type": "stream",
     "text": [
      "energy              1055\n",
      "loudness            1026\n",
      "liveness            1006\n",
      "instrumentalness    1000\n",
      "key                  992\n",
      "danceability         976\n",
      "song_duration_ms     957\n",
      "acousticness         950\n",
      "id                     0\n",
      "audio_mode             0\n",
      "speechiness            0\n",
      "tempo                  0\n",
      "time_signature         0\n",
      "audio_valence          0\n",
      "dtype: int64\n"
     ]
    }
   ],
   "source": [
    "print((test.isna().sum().sort_values(ascending = False)))"
   ]
  },
  {
   "cell_type": "markdown",
   "id": "93f0c6d1",
   "metadata": {
    "papermill": {
     "duration": 0.039397,
     "end_time": "2022-01-18T17:59:17.889935",
     "exception": false,
     "start_time": "2022-01-18T17:59:17.850538",
     "status": "completed"
    },
    "tags": []
   },
   "source": [
    "### Basic statistics of test data"
   ]
  },
  {
   "cell_type": "markdown",
   "id": "667127db",
   "metadata": {
    "papermill": {
     "duration": 0.039495,
     "end_time": "2022-01-18T17:59:17.968778",
     "exception": false,
     "start_time": "2022-01-18T17:59:17.929283",
     "status": "completed"
    },
    "tags": []
   },
   "source": [
    "Below is the basic statistics for each variables which contain information on `count`, `mean`, `standard deviation`, `minimum`, `1st quartile`, `median`, `3rd quartile` and `maximum`."
   ]
  },
  {
   "cell_type": "code",
   "execution_count": 10,
   "id": "7a6886f6",
   "metadata": {
    "_kg_hide-input": true,
    "execution": {
     "iopub.execute_input": "2022-01-18T17:59:18.051023Z",
     "iopub.status.busy": "2022-01-18T17:59:18.050403Z",
     "iopub.status.idle": "2022-01-18T17:59:18.096735Z",
     "shell.execute_reply": "2022-01-18T17:59:18.096207Z",
     "shell.execute_reply.started": "2022-01-18T17:58:24.612936Z"
    },
    "papermill": {
     "duration": 0.088456,
     "end_time": "2022-01-18T17:59:18.096870",
     "exception": false,
     "start_time": "2022-01-18T17:59:18.008414",
     "status": "completed"
    },
    "tags": []
   },
   "outputs": [
    {
     "data": {
      "text/html": [
       "<div>\n",
       "<style scoped>\n",
       "    .dataframe tbody tr th:only-of-type {\n",
       "        vertical-align: middle;\n",
       "    }\n",
       "\n",
       "    .dataframe tbody tr th {\n",
       "        vertical-align: top;\n",
       "    }\n",
       "\n",
       "    .dataframe thead th {\n",
       "        text-align: right;\n",
       "    }\n",
       "</style>\n",
       "<table border=\"1\" class=\"dataframe\">\n",
       "  <thead>\n",
       "    <tr style=\"text-align: right;\">\n",
       "      <th></th>\n",
       "      <th>id</th>\n",
       "      <th>song_duration_ms</th>\n",
       "      <th>acousticness</th>\n",
       "      <th>danceability</th>\n",
       "      <th>energy</th>\n",
       "      <th>instrumentalness</th>\n",
       "      <th>key</th>\n",
       "      <th>liveness</th>\n",
       "      <th>loudness</th>\n",
       "      <th>audio_mode</th>\n",
       "      <th>speechiness</th>\n",
       "      <th>tempo</th>\n",
       "      <th>time_signature</th>\n",
       "      <th>audio_valence</th>\n",
       "    </tr>\n",
       "  </thead>\n",
       "  <tbody>\n",
       "    <tr>\n",
       "      <th>count</th>\n",
       "      <td>10000.000000</td>\n",
       "      <td>9043.000000</td>\n",
       "      <td>9050.000000</td>\n",
       "      <td>9024.000000</td>\n",
       "      <td>8945.000000</td>\n",
       "      <td>9000.000000</td>\n",
       "      <td>9008.000000</td>\n",
       "      <td>8994.000000</td>\n",
       "      <td>8974.000000</td>\n",
       "      <td>10000.000000</td>\n",
       "      <td>10000.000000</td>\n",
       "      <td>10000.000000</td>\n",
       "      <td>10000.000000</td>\n",
       "      <td>10000.000000</td>\n",
       "    </tr>\n",
       "    <tr>\n",
       "      <th>mean</th>\n",
       "      <td>4999.500000</td>\n",
       "      <td>193091.108813</td>\n",
       "      <td>0.280280</td>\n",
       "      <td>0.569817</td>\n",
       "      <td>0.683552</td>\n",
       "      <td>0.036588</td>\n",
       "      <td>5.012544</td>\n",
       "      <td>0.196379</td>\n",
       "      <td>-7.422145</td>\n",
       "      <td>0.323800</td>\n",
       "      <td>0.094242</td>\n",
       "      <td>116.460635</td>\n",
       "      <td>3.391800</td>\n",
       "      <td>0.576109</td>\n",
       "    </tr>\n",
       "    <tr>\n",
       "      <th>std</th>\n",
       "      <td>2886.895680</td>\n",
       "      <td>46502.319884</td>\n",
       "      <td>0.299971</td>\n",
       "      <td>0.190177</td>\n",
       "      <td>0.212561</td>\n",
       "      <td>0.151470</td>\n",
       "      <td>3.387481</td>\n",
       "      <td>0.149440</td>\n",
       "      <td>3.902743</td>\n",
       "      <td>0.467948</td>\n",
       "      <td>0.084294</td>\n",
       "      <td>26.320082</td>\n",
       "      <td>0.529075</td>\n",
       "      <td>0.236501</td>\n",
       "    </tr>\n",
       "    <tr>\n",
       "      <th>min</th>\n",
       "      <td>0.000000</td>\n",
       "      <td>25377.000000</td>\n",
       "      <td>-0.013585</td>\n",
       "      <td>0.064548</td>\n",
       "      <td>0.020959</td>\n",
       "      <td>-0.003344</td>\n",
       "      <td>0.000000</td>\n",
       "      <td>0.034516</td>\n",
       "      <td>-29.887298</td>\n",
       "      <td>0.000000</td>\n",
       "      <td>0.017554</td>\n",
       "      <td>60.702888</td>\n",
       "      <td>2.000000</td>\n",
       "      <td>0.017450</td>\n",
       "    </tr>\n",
       "    <tr>\n",
       "      <th>25%</th>\n",
       "      <td>2499.750000</td>\n",
       "      <td>166689.000000</td>\n",
       "      <td>0.042181</td>\n",
       "      <td>0.426734</td>\n",
       "      <td>0.541975</td>\n",
       "      <td>0.000930</td>\n",
       "      <td>2.000000</td>\n",
       "      <td>0.111599</td>\n",
       "      <td>-9.654517</td>\n",
       "      <td>0.000000</td>\n",
       "      <td>0.038282</td>\n",
       "      <td>96.951325</td>\n",
       "      <td>3.000000</td>\n",
       "      <td>0.395860</td>\n",
       "    </tr>\n",
       "    <tr>\n",
       "      <th>50%</th>\n",
       "      <td>4999.500000</td>\n",
       "      <td>186196.000000</td>\n",
       "      <td>0.141564</td>\n",
       "      <td>0.605759</td>\n",
       "      <td>0.700278</td>\n",
       "      <td>0.001964</td>\n",
       "      <td>5.000000</td>\n",
       "      <td>0.135997</td>\n",
       "      <td>-6.346205</td>\n",
       "      <td>0.000000</td>\n",
       "      <td>0.055208</td>\n",
       "      <td>113.258381</td>\n",
       "      <td>3.000000</td>\n",
       "      <td>0.588477</td>\n",
       "    </tr>\n",
       "    <tr>\n",
       "      <th>75%</th>\n",
       "      <td>7499.250000</td>\n",
       "      <td>215059.000000</td>\n",
       "      <td>0.493003</td>\n",
       "      <td>0.715491</td>\n",
       "      <td>0.870670</td>\n",
       "      <td>0.003165</td>\n",
       "      <td>8.000000</td>\n",
       "      <td>0.208563</td>\n",
       "      <td>-4.605297</td>\n",
       "      <td>1.000000</td>\n",
       "      <td>0.118976</td>\n",
       "      <td>128.020862</td>\n",
       "      <td>4.000000</td>\n",
       "      <td>0.755265</td>\n",
       "    </tr>\n",
       "    <tr>\n",
       "      <th>max</th>\n",
       "      <td>9999.000000</td>\n",
       "      <td>448558.000000</td>\n",
       "      <td>1.046311</td>\n",
       "      <td>0.946831</td>\n",
       "      <td>1.031383</td>\n",
       "      <td>1.020970</td>\n",
       "      <td>11.000000</td>\n",
       "      <td>1.003777</td>\n",
       "      <td>-0.879306</td>\n",
       "      <td>1.000000</td>\n",
       "      <td>0.526199</td>\n",
       "      <td>213.922252</td>\n",
       "      <td>5.000000</td>\n",
       "      <td>1.013865</td>\n",
       "    </tr>\n",
       "  </tbody>\n",
       "</table>\n",
       "</div>"
      ],
      "text/plain": [
       "                id  song_duration_ms  acousticness  danceability      energy  \\\n",
       "count 10000.000000       9043.000000   9050.000000   9024.000000 8945.000000   \n",
       "mean   4999.500000     193091.108813      0.280280      0.569817    0.683552   \n",
       "std    2886.895680      46502.319884      0.299971      0.190177    0.212561   \n",
       "min       0.000000      25377.000000     -0.013585      0.064548    0.020959   \n",
       "25%    2499.750000     166689.000000      0.042181      0.426734    0.541975   \n",
       "50%    4999.500000     186196.000000      0.141564      0.605759    0.700278   \n",
       "75%    7499.250000     215059.000000      0.493003      0.715491    0.870670   \n",
       "max    9999.000000     448558.000000      1.046311      0.946831    1.031383   \n",
       "\n",
       "       instrumentalness         key    liveness    loudness   audio_mode  \\\n",
       "count       9000.000000 9008.000000 8994.000000 8974.000000 10000.000000   \n",
       "mean           0.036588    5.012544    0.196379   -7.422145     0.323800   \n",
       "std            0.151470    3.387481    0.149440    3.902743     0.467948   \n",
       "min           -0.003344    0.000000    0.034516  -29.887298     0.000000   \n",
       "25%            0.000930    2.000000    0.111599   -9.654517     0.000000   \n",
       "50%            0.001964    5.000000    0.135997   -6.346205     0.000000   \n",
       "75%            0.003165    8.000000    0.208563   -4.605297     1.000000   \n",
       "max            1.020970   11.000000    1.003777   -0.879306     1.000000   \n",
       "\n",
       "       speechiness        tempo  time_signature  audio_valence  \n",
       "count 10000.000000 10000.000000    10000.000000   10000.000000  \n",
       "mean      0.094242   116.460635        3.391800       0.576109  \n",
       "std       0.084294    26.320082        0.529075       0.236501  \n",
       "min       0.017554    60.702888        2.000000       0.017450  \n",
       "25%       0.038282    96.951325        3.000000       0.395860  \n",
       "50%       0.055208   113.258381        3.000000       0.588477  \n",
       "75%       0.118976   128.020862        4.000000       0.755265  \n",
       "max       0.526199   213.922252        5.000000       1.013865  "
      ]
     },
     "execution_count": 10,
     "metadata": {},
     "output_type": "execute_result"
    }
   ],
   "source": [
    "test.describe()"
   ]
  },
  {
   "cell_type": "markdown",
   "id": "908ba721",
   "metadata": {
    "papermill": {
     "duration": 0.039819,
     "end_time": "2022-01-18T17:59:18.176791",
     "exception": false,
     "start_time": "2022-01-18T17:59:18.136972",
     "status": "completed"
    },
    "tags": []
   },
   "source": [
    "<a id=\"3.3\"></a>\n",
    "## Submission File"
   ]
  },
  {
   "cell_type": "markdown",
   "id": "c963f540",
   "metadata": {
    "papermill": {
     "duration": 0.039737,
     "end_time": "2022-01-18T17:59:18.256539",
     "exception": false,
     "start_time": "2022-01-18T17:59:18.216802",
     "status": "completed"
    },
    "tags": []
   },
   "source": [
    "### Quick view of Submission File"
   ]
  },
  {
   "cell_type": "code",
   "execution_count": 11,
   "id": "bff7ec8b",
   "metadata": {
    "_kg_hide-input": true,
    "execution": {
     "iopub.execute_input": "2022-01-18T17:59:18.340044Z",
     "iopub.status.busy": "2022-01-18T17:59:18.339430Z",
     "iopub.status.idle": "2022-01-18T17:59:18.347374Z",
     "shell.execute_reply": "2022-01-18T17:59:18.347868Z",
     "shell.execute_reply.started": "2022-01-18T17:58:24.666936Z"
    },
    "papermill": {
     "duration": 0.051394,
     "end_time": "2022-01-18T17:59:18.348044",
     "exception": false,
     "start_time": "2022-01-18T17:59:18.296650",
     "status": "completed"
    },
    "tags": []
   },
   "outputs": [
    {
     "data": {
      "text/html": [
       "<div>\n",
       "<style scoped>\n",
       "    .dataframe tbody tr th:only-of-type {\n",
       "        vertical-align: middle;\n",
       "    }\n",
       "\n",
       "    .dataframe tbody tr th {\n",
       "        vertical-align: top;\n",
       "    }\n",
       "\n",
       "    .dataframe thead th {\n",
       "        text-align: right;\n",
       "    }\n",
       "</style>\n",
       "<table border=\"1\" class=\"dataframe\">\n",
       "  <thead>\n",
       "    <tr style=\"text-align: right;\">\n",
       "      <th></th>\n",
       "      <th>id</th>\n",
       "      <th>song_popularity</th>\n",
       "    </tr>\n",
       "  </thead>\n",
       "  <tbody>\n",
       "    <tr>\n",
       "      <th>0</th>\n",
       "      <td>0</td>\n",
       "      <td>0</td>\n",
       "    </tr>\n",
       "    <tr>\n",
       "      <th>1</th>\n",
       "      <td>1</td>\n",
       "      <td>0</td>\n",
       "    </tr>\n",
       "    <tr>\n",
       "      <th>2</th>\n",
       "      <td>2</td>\n",
       "      <td>0</td>\n",
       "    </tr>\n",
       "    <tr>\n",
       "      <th>3</th>\n",
       "      <td>3</td>\n",
       "      <td>0</td>\n",
       "    </tr>\n",
       "    <tr>\n",
       "      <th>4</th>\n",
       "      <td>4</td>\n",
       "      <td>0</td>\n",
       "    </tr>\n",
       "  </tbody>\n",
       "</table>\n",
       "</div>"
      ],
      "text/plain": [
       "   id  song_popularity\n",
       "0   0                0\n",
       "1   1                0\n",
       "2   2                0\n",
       "3   3                0\n",
       "4   4                0"
      ]
     },
     "execution_count": 11,
     "metadata": {},
     "output_type": "execute_result"
    }
   ],
   "source": [
    "submission.head()"
   ]
  },
  {
   "cell_type": "markdown",
   "id": "16671054",
   "metadata": {
    "papermill": {
     "duration": 0.040181,
     "end_time": "2022-01-18T17:59:18.428754",
     "exception": false,
     "start_time": "2022-01-18T17:59:18.388573",
     "status": "completed"
    },
    "tags": []
   },
   "source": [
    "<a href=\"#toc\" role=\"button\" aria-pressed=\"true\" >⬆️Back to Table of Contents ⬆️</a>"
   ]
  },
  {
   "cell_type": "markdown",
   "id": "48772136",
   "metadata": {
    "papermill": {
     "duration": 0.040128,
     "end_time": "2022-01-18T17:59:18.509408",
     "exception": false,
     "start_time": "2022-01-18T17:59:18.469280",
     "status": "completed"
    },
    "tags": []
   },
   "source": [
    "<a id=\"4\"></a>\n",
    "# EDA"
   ]
  },
  {
   "cell_type": "markdown",
   "id": "49191a8a",
   "metadata": {
    "papermill": {
     "duration": 0.040161,
     "end_time": "2022-01-18T17:59:18.590020",
     "exception": false,
     "start_time": "2022-01-18T17:59:18.549859",
     "status": "completed"
    },
    "tags": []
   },
   "source": [
    "<a id=\"4.1\"></a>\n",
    "## Overview of Data"
   ]
  },
  {
   "cell_type": "code",
   "execution_count": 12,
   "id": "92bcaa9b",
   "metadata": {
    "_kg_hide-input": true,
    "execution": {
     "iopub.execute_input": "2022-01-18T17:59:18.673949Z",
     "iopub.status.busy": "2022-01-18T17:59:18.673330Z",
     "iopub.status.idle": "2022-01-18T17:59:18.681534Z",
     "shell.execute_reply": "2022-01-18T17:59:18.682016Z",
     "shell.execute_reply.started": "2022-01-18T17:58:24.678968Z"
    },
    "papermill": {
     "duration": 0.051862,
     "end_time": "2022-01-18T17:59:18.682211",
     "exception": false,
     "start_time": "2022-01-18T17:59:18.630349",
     "status": "completed"
    },
    "tags": []
   },
   "outputs": [],
   "source": [
    "train.drop([\"id\"] , axis = 1 , inplace = True)\n",
    "test.drop([\"id\"] , axis = 1 , inplace = True)\n",
    "TARGET = 'song_popularity'\n",
    "FEATURES = [col for col in train.columns if col not in ['id', TARGET]]\n",
    "RANDOM_STATE = 12 "
   ]
  },
  {
   "cell_type": "code",
   "execution_count": 13,
   "id": "5a1374f8",
   "metadata": {
    "_kg_hide-input": true,
    "execution": {
     "iopub.execute_input": "2022-01-18T17:59:18.777556Z",
     "iopub.status.busy": "2022-01-18T17:59:18.774630Z",
     "iopub.status.idle": "2022-01-18T17:59:18.911772Z",
     "shell.execute_reply": "2022-01-18T17:59:18.912259Z",
     "shell.execute_reply.started": "2022-01-18T17:58:24.692372Z"
    },
    "papermill": {
     "duration": 0.189469,
     "end_time": "2022-01-18T17:59:18.912437",
     "exception": false,
     "start_time": "2022-01-18T17:59:18.722968",
     "status": "completed"
    },
    "tags": []
   },
   "outputs": [
    {
     "data": {
      "text/html": [
       "<style type=\"text/css\">\n",
       "#T_5c251_row0_col0, #T_5c251_row1_col2, #T_5c251_row1_col3, #T_5c251_row1_col4, #T_5c251_row1_col5, #T_5c251_row1_col6, #T_5c251_row2_col2, #T_5c251_row2_col3, #T_5c251_row2_col4, #T_5c251_row2_col5, #T_5c251_row2_col6, #T_5c251_row3_col2, #T_5c251_row3_col3, #T_5c251_row3_col4, #T_5c251_row3_col5, #T_5c251_row3_col6, #T_5c251_row4_col2, #T_5c251_row4_col3, #T_5c251_row4_col4, #T_5c251_row4_col5, #T_5c251_row4_col6, #T_5c251_row5_col2, #T_5c251_row5_col3, #T_5c251_row5_col4, #T_5c251_row5_col5, #T_5c251_row5_col6, #T_5c251_row6_col2, #T_5c251_row6_col3, #T_5c251_row6_col4, #T_5c251_row6_col5, #T_5c251_row6_col6, #T_5c251_row7_col2, #T_5c251_row7_col3, #T_5c251_row7_col4, #T_5c251_row7_col5, #T_5c251_row7_col6, #T_5c251_row8_col2, #T_5c251_row8_col3, #T_5c251_row8_col4, #T_5c251_row8_col5, #T_5c251_row8_col6, #T_5c251_row9_col2, #T_5c251_row9_col3, #T_5c251_row9_col4, #T_5c251_row9_col5, #T_5c251_row9_col6, #T_5c251_row10_col0, #T_5c251_row10_col2, #T_5c251_row10_col3, #T_5c251_row10_col4, #T_5c251_row10_col5, #T_5c251_row10_col6, #T_5c251_row11_col2, #T_5c251_row11_col3, #T_5c251_row11_col4, #T_5c251_row11_col5, #T_5c251_row11_col6, #T_5c251_row12_col2, #T_5c251_row12_col3, #T_5c251_row12_col4, #T_5c251_row12_col5, #T_5c251_row12_col6 {\n",
       "  background-color: #f7fcf0;\n",
       "  color: #000000;\n",
       "}\n",
       "#T_5c251_row0_col1 {\n",
       "  background-color: #084081;\n",
       "  color: #f1f1f1;\n",
       "  width: 10em;\n",
       "  height: 80%;\n",
       "  background: linear-gradient(90deg,green 100.0%, transparent 100.0%);\n",
       "}\n",
       "#T_5c251_row0_col2, #T_5c251_row0_col3, #T_5c251_row0_col4, #T_5c251_row0_col5, #T_5c251_row0_col6, #T_5c251_row1_col0, #T_5c251_row4_col0, #T_5c251_row5_col0, #T_5c251_row7_col0, #T_5c251_row12_col0 {\n",
       "  background-color: #084081;\n",
       "  color: #f1f1f1;\n",
       "}\n",
       "#T_5c251_row0_col7 {\n",
       "  background-color: #084081;\n",
       "  color: #f1f1f1;\n",
       "  width: 10em;\n",
       "  height: 80%;\n",
       "  background: linear-gradient(90deg,#BB0000 100.0%, transparent 100.0%);\n",
       "}\n",
       "#T_5c251_row1_col1 {\n",
       "  background-color: #f7fcf0;\n",
       "  color: #000000;\n",
       "  width: 10em;\n",
       "  height: 80%;\n",
       "  background: linear-gradient(90deg,green 0.1%, transparent 0.1%);\n",
       "}\n",
       "#T_5c251_row1_col7, #T_5c251_row3_col7, #T_5c251_row4_col7, #T_5c251_row5_col7, #T_5c251_row6_col7, #T_5c251_row7_col7, #T_5c251_row8_col7, #T_5c251_row9_col7, #T_5c251_row10_col7, #T_5c251_row11_col7, #T_5c251_row12_col7 {\n",
       "  background-color: #f7fcf0;\n",
       "  color: #000000;\n",
       "  width: 10em;\n",
       "  height: 80%;\n",
       "  background: linear-gradient(90deg,#BB0000 0.0%, transparent 0.0%);\n",
       "}\n",
       "#T_5c251_row2_col0 {\n",
       "  background-color: #f1faeb;\n",
       "  color: #000000;\n",
       "}\n",
       "#T_5c251_row2_col1, #T_5c251_row2_col7 {\n",
       "  background-color: #f7fcf0;\n",
       "  color: #000000;\n",
       "  width: 10em;\n",
       "  height: 80%;\n",
       "}\n",
       "#T_5c251_row3_col0 {\n",
       "  background-color: #f6fbef;\n",
       "  color: #000000;\n",
       "}\n",
       "#T_5c251_row3_col1, #T_5c251_row4_col1, #T_5c251_row5_col1, #T_5c251_row6_col1, #T_5c251_row7_col1, #T_5c251_row8_col1, #T_5c251_row9_col1, #T_5c251_row10_col1, #T_5c251_row11_col1, #T_5c251_row12_col1 {\n",
       "  background-color: #f7fcf0;\n",
       "  color: #000000;\n",
       "  width: 10em;\n",
       "  height: 80%;\n",
       "  background: linear-gradient(90deg,green 0.0%, transparent 0.0%);\n",
       "}\n",
       "#T_5c251_row6_col0 {\n",
       "  background-color: #f3faec;\n",
       "  color: #000000;\n",
       "}\n",
       "#T_5c251_row8_col0, #T_5c251_row11_col0 {\n",
       "  background-color: #f2faeb;\n",
       "  color: #000000;\n",
       "}\n",
       "#T_5c251_row9_col0 {\n",
       "  background-color: #f4fbed;\n",
       "  color: #000000;\n",
       "}\n",
       "</style>\n",
       "<table id=\"T_5c251_\">\n",
       "  <thead>\n",
       "    <tr>\n",
       "      <th class=\"blank level0\" >&nbsp;</th>\n",
       "      <th class=\"col_heading level0 col0\" >count</th>\n",
       "      <th class=\"col_heading level0 col1\" >mean</th>\n",
       "      <th class=\"col_heading level0 col2\" >std</th>\n",
       "      <th class=\"col_heading level0 col3\" >min</th>\n",
       "      <th class=\"col_heading level0 col4\" >25%</th>\n",
       "      <th class=\"col_heading level0 col5\" >50%</th>\n",
       "      <th class=\"col_heading level0 col6\" >75%</th>\n",
       "      <th class=\"col_heading level0 col7\" >max</th>\n",
       "    </tr>\n",
       "  </thead>\n",
       "  <tbody>\n",
       "    <tr>\n",
       "      <th id=\"T_5c251_level0_row0\" class=\"row_heading level0 row0\" >song_duration_ms</th>\n",
       "      <td id=\"T_5c251_row0_col0\" class=\"data row0 col0\" >35899.000000</td>\n",
       "      <td id=\"T_5c251_row0_col1\" class=\"data row0 col1\" >193165.847572</td>\n",
       "      <td id=\"T_5c251_row0_col2\" class=\"data row0 col2\" >45822.127679</td>\n",
       "      <td id=\"T_5c251_row0_col3\" class=\"data row0 col3\" >25658.000000</td>\n",
       "      <td id=\"T_5c251_row0_col4\" class=\"data row0 col4\" >166254.500000</td>\n",
       "      <td id=\"T_5c251_row0_col5\" class=\"data row0 col5\" >186660.000000</td>\n",
       "      <td id=\"T_5c251_row0_col6\" class=\"data row0 col6\" >215116.000000</td>\n",
       "      <td id=\"T_5c251_row0_col7\" class=\"data row0 col7\" >491671.000000</td>\n",
       "    </tr>\n",
       "    <tr>\n",
       "      <th id=\"T_5c251_level0_row1\" class=\"row_heading level0 row1\" >tempo</th>\n",
       "      <td id=\"T_5c251_row1_col0\" class=\"data row1 col0\" >40000.000000</td>\n",
       "      <td id=\"T_5c251_row1_col1\" class=\"data row1 col1\" >116.562815</td>\n",
       "      <td id=\"T_5c251_row1_col2\" class=\"data row1 col2\" >26.167911</td>\n",
       "      <td id=\"T_5c251_row1_col3\" class=\"data row1 col3\" >62.055779</td>\n",
       "      <td id=\"T_5c251_row1_col4\" class=\"data row1 col4\" >96.995309</td>\n",
       "      <td id=\"T_5c251_row1_col5\" class=\"data row1 col5\" >113.795959</td>\n",
       "      <td id=\"T_5c251_row1_col6\" class=\"data row1 col6\" >128.517383</td>\n",
       "      <td id=\"T_5c251_row1_col7\" class=\"data row1 col7\" >219.163578</td>\n",
       "    </tr>\n",
       "    <tr>\n",
       "      <th id=\"T_5c251_level0_row2\" class=\"row_heading level0 row2\" >loudness</th>\n",
       "      <td id=\"T_5c251_row2_col0\" class=\"data row2 col0\" >36043.000000</td>\n",
       "      <td id=\"T_5c251_row2_col1\" class=\"data row2 col1\" >-7.407596</td>\n",
       "      <td id=\"T_5c251_row2_col2\" class=\"data row2 col2\" >3.877198</td>\n",
       "      <td id=\"T_5c251_row2_col3\" class=\"data row2 col3\" >-32.117911</td>\n",
       "      <td id=\"T_5c251_row2_col4\" class=\"data row2 col4\" >-9.578139</td>\n",
       "      <td id=\"T_5c251_row2_col5\" class=\"data row2 col5\" >-6.345413</td>\n",
       "      <td id=\"T_5c251_row2_col6\" class=\"data row2 col6\" >-4.620711</td>\n",
       "      <td id=\"T_5c251_row2_col7\" class=\"data row2 col7\" >-0.877346</td>\n",
       "    </tr>\n",
       "    <tr>\n",
       "      <th id=\"T_5c251_level0_row3\" class=\"row_heading level0 row3\" >key</th>\n",
       "      <td id=\"T_5c251_row3_col0\" class=\"data row3 col0\" >35935.000000</td>\n",
       "      <td id=\"T_5c251_row3_col1\" class=\"data row3 col1\" >5.042605</td>\n",
       "      <td id=\"T_5c251_row3_col2\" class=\"data row3 col2\" >3.372728</td>\n",
       "      <td id=\"T_5c251_row3_col3\" class=\"data row3 col3\" >0.000000</td>\n",
       "      <td id=\"T_5c251_row3_col4\" class=\"data row3 col4\" >2.000000</td>\n",
       "      <td id=\"T_5c251_row3_col5\" class=\"data row3 col5\" >5.000000</td>\n",
       "      <td id=\"T_5c251_row3_col6\" class=\"data row3 col6\" >8.000000</td>\n",
       "      <td id=\"T_5c251_row3_col7\" class=\"data row3 col7\" >11.000000</td>\n",
       "    </tr>\n",
       "    <tr>\n",
       "      <th id=\"T_5c251_level0_row4\" class=\"row_heading level0 row4\" >time_signature</th>\n",
       "      <td id=\"T_5c251_row4_col0\" class=\"data row4 col0\" >40000.000000</td>\n",
       "      <td id=\"T_5c251_row4_col1\" class=\"data row4 col1\" >3.394375</td>\n",
       "      <td id=\"T_5c251_row4_col2\" class=\"data row4 col2\" >0.524405</td>\n",
       "      <td id=\"T_5c251_row4_col3\" class=\"data row4 col3\" >2.000000</td>\n",
       "      <td id=\"T_5c251_row4_col4\" class=\"data row4 col4\" >3.000000</td>\n",
       "      <td id=\"T_5c251_row4_col5\" class=\"data row4 col5\" >3.000000</td>\n",
       "      <td id=\"T_5c251_row4_col6\" class=\"data row4 col6\" >4.000000</td>\n",
       "      <td id=\"T_5c251_row4_col7\" class=\"data row4 col7\" >5.000000</td>\n",
       "    </tr>\n",
       "    <tr>\n",
       "      <th id=\"T_5c251_level0_row5\" class=\"row_heading level0 row5\" >audio_mode</th>\n",
       "      <td id=\"T_5c251_row5_col0\" class=\"data row5 col0\" >40000.000000</td>\n",
       "      <td id=\"T_5c251_row5_col1\" class=\"data row5 col1\" >0.321150</td>\n",
       "      <td id=\"T_5c251_row5_col2\" class=\"data row5 col2\" >0.466924</td>\n",
       "      <td id=\"T_5c251_row5_col3\" class=\"data row5 col3\" >0.000000</td>\n",
       "      <td id=\"T_5c251_row5_col4\" class=\"data row5 col4\" >0.000000</td>\n",
       "      <td id=\"T_5c251_row5_col5\" class=\"data row5 col5\" >0.000000</td>\n",
       "      <td id=\"T_5c251_row5_col6\" class=\"data row5 col6\" >1.000000</td>\n",
       "      <td id=\"T_5c251_row5_col7\" class=\"data row5 col7\" >1.000000</td>\n",
       "    </tr>\n",
       "    <tr>\n",
       "      <th id=\"T_5c251_level0_row6\" class=\"row_heading level0 row6\" >acousticness</th>\n",
       "      <td id=\"T_5c251_row6_col0\" class=\"data row6 col0\" >36008.000000</td>\n",
       "      <td id=\"T_5c251_row6_col1\" class=\"data row6 col1\" >0.276404</td>\n",
       "      <td id=\"T_5c251_row6_col2\" class=\"data row6 col2\" >0.297928</td>\n",
       "      <td id=\"T_5c251_row6_col3\" class=\"data row6 col3\" >-0.013551</td>\n",
       "      <td id=\"T_5c251_row6_col4\" class=\"data row6 col4\" >0.039618</td>\n",
       "      <td id=\"T_5c251_row6_col5\" class=\"data row6 col5\" >0.140532</td>\n",
       "      <td id=\"T_5c251_row6_col6\" class=\"data row6 col6\" >0.482499</td>\n",
       "      <td id=\"T_5c251_row6_col7\" class=\"data row6 col7\" >1.065284</td>\n",
       "    </tr>\n",
       "    <tr>\n",
       "      <th id=\"T_5c251_level0_row7\" class=\"row_heading level0 row7\" >audio_valence</th>\n",
       "      <td id=\"T_5c251_row7_col0\" class=\"data row7 col0\" >40000.000000</td>\n",
       "      <td id=\"T_5c251_row7_col1\" class=\"data row7 col1\" >0.580645</td>\n",
       "      <td id=\"T_5c251_row7_col2\" class=\"data row7 col2\" >0.237351</td>\n",
       "      <td id=\"T_5c251_row7_col3\" class=\"data row7 col3\" >0.013398</td>\n",
       "      <td id=\"T_5c251_row7_col4\" class=\"data row7 col4\" >0.398669</td>\n",
       "      <td id=\"T_5c251_row7_col5\" class=\"data row7 col5\" >0.598827</td>\n",
       "      <td id=\"T_5c251_row7_col6\" class=\"data row7 col6\" >0.759635</td>\n",
       "      <td id=\"T_5c251_row7_col7\" class=\"data row7 col7\" >1.022558</td>\n",
       "    </tr>\n",
       "    <tr>\n",
       "      <th id=\"T_5c251_level0_row8\" class=\"row_heading level0 row8\" >energy</th>\n",
       "      <td id=\"T_5c251_row8_col0\" class=\"data row8 col0\" >36025.000000</td>\n",
       "      <td id=\"T_5c251_row8_col1\" class=\"data row8 col1\" >0.683932</td>\n",
       "      <td id=\"T_5c251_row8_col2\" class=\"data row8 col2\" >0.212662</td>\n",
       "      <td id=\"T_5c251_row8_col3\" class=\"data row8 col3\" >-0.001682</td>\n",
       "      <td id=\"T_5c251_row8_col4\" class=\"data row8 col4\" >0.539276</td>\n",
       "      <td id=\"T_5c251_row8_col5\" class=\"data row8 col5\" >0.704453</td>\n",
       "      <td id=\"T_5c251_row8_col6\" class=\"data row8 col6\" >0.870503</td>\n",
       "      <td id=\"T_5c251_row8_col7\" class=\"data row8 col7\" >1.039741</td>\n",
       "    </tr>\n",
       "    <tr>\n",
       "      <th id=\"T_5c251_level0_row9\" class=\"row_heading level0 row9\" >danceability</th>\n",
       "      <td id=\"T_5c251_row9_col0\" class=\"data row9 col0\" >35974.000000</td>\n",
       "      <td id=\"T_5c251_row9_col1\" class=\"data row9 col1\" >0.570951</td>\n",
       "      <td id=\"T_5c251_row9_col2\" class=\"data row9 col2\" >0.190010</td>\n",
       "      <td id=\"T_5c251_row9_col3\" class=\"data row9 col3\" >0.043961</td>\n",
       "      <td id=\"T_5c251_row9_col4\" class=\"data row9 col4\" >0.424760</td>\n",
       "      <td id=\"T_5c251_row9_col5\" class=\"data row9 col5\" >0.608234</td>\n",
       "      <td id=\"T_5c251_row9_col6\" class=\"data row9 col6\" >0.718464</td>\n",
       "      <td id=\"T_5c251_row9_col7\" class=\"data row9 col7\" >0.957131</td>\n",
       "    </tr>\n",
       "    <tr>\n",
       "      <th id=\"T_5c251_level0_row10\" class=\"row_heading level0 row10\" >liveness</th>\n",
       "      <td id=\"T_5c251_row10_col0\" class=\"data row10 col0\" >35914.000000</td>\n",
       "      <td id=\"T_5c251_row10_col1\" class=\"data row10 col1\" >0.198514</td>\n",
       "      <td id=\"T_5c251_row10_col2\" class=\"data row10 col2\" >0.151670</td>\n",
       "      <td id=\"T_5c251_row10_col3\" class=\"data row10 col3\" >0.027843</td>\n",
       "      <td id=\"T_5c251_row10_col4\" class=\"data row10 col4\" >0.111796</td>\n",
       "      <td id=\"T_5c251_row10_col5\" class=\"data row10 col5\" >0.135945</td>\n",
       "      <td id=\"T_5c251_row10_col6\" class=\"data row10 col6\" >0.212842</td>\n",
       "      <td id=\"T_5c251_row10_col7\" class=\"data row10 col7\" >1.065298</td>\n",
       "    </tr>\n",
       "    <tr>\n",
       "      <th id=\"T_5c251_level0_row11\" class=\"row_heading level0 row11\" >instrumentalness</th>\n",
       "      <td id=\"T_5c251_row11_col0\" class=\"data row11 col0\" >36015.000000</td>\n",
       "      <td id=\"T_5c251_row11_col1\" class=\"data row11 col1\" >0.036527</td>\n",
       "      <td id=\"T_5c251_row11_col2\" class=\"data row11 col2\" >0.150024</td>\n",
       "      <td id=\"T_5c251_row11_col3\" class=\"data row11 col3\" >-0.004398</td>\n",
       "      <td id=\"T_5c251_row11_col4\" class=\"data row11 col4\" >0.000941</td>\n",
       "      <td id=\"T_5c251_row11_col5\" class=\"data row11 col5\" >0.001974</td>\n",
       "      <td id=\"T_5c251_row11_col6\" class=\"data row11 col6\" >0.003225</td>\n",
       "      <td id=\"T_5c251_row11_col7\" class=\"data row11 col7\" >1.075415</td>\n",
       "    </tr>\n",
       "    <tr>\n",
       "      <th id=\"T_5c251_level0_row12\" class=\"row_heading level0 row12\" >speechiness</th>\n",
       "      <td id=\"T_5c251_row12_col0\" class=\"data row12 col0\" >40000.000000</td>\n",
       "      <td id=\"T_5c251_row12_col1\" class=\"data row12 col1\" >0.094107</td>\n",
       "      <td id=\"T_5c251_row12_col2\" class=\"data row12 col2\" >0.083591</td>\n",
       "      <td id=\"T_5c251_row12_col3\" class=\"data row12 col3\" >0.015065</td>\n",
       "      <td id=\"T_5c251_row12_col4\" class=\"data row12 col4\" >0.038500</td>\n",
       "      <td id=\"T_5c251_row12_col5\" class=\"data row12 col5\" >0.055881</td>\n",
       "      <td id=\"T_5c251_row12_col6\" class=\"data row12 col6\" >0.118842</td>\n",
       "      <td id=\"T_5c251_row12_col7\" class=\"data row12 col7\" >0.560748</td>\n",
       "    </tr>\n",
       "  </tbody>\n",
       "</table>\n"
      ],
      "text/plain": [
       "<pandas.io.formats.style.Styler at 0x7f0396f83f90>"
      ]
     },
     "execution_count": 13,
     "metadata": {},
     "output_type": "execute_result"
    }
   ],
   "source": [
    "train.iloc[:, :-1].describe().T.sort_values(by='std' , ascending = False)\\\n",
    "                     .style.background_gradient(cmap='GnBu')\\\n",
    "                     .bar(subset=[\"max\"], color='#BB0000')\\\n",
    "                     .bar(subset=[\"mean\",], color='green')"
   ]
  },
  {
   "cell_type": "markdown",
   "id": "2e33a140",
   "metadata": {
    "papermill": {
     "duration": 0.041924,
     "end_time": "2022-01-18T17:59:18.996745",
     "exception": false,
     "start_time": "2022-01-18T17:59:18.954821",
     "status": "completed"
    },
    "tags": []
   },
   "source": [
    "<a id=\"4.2\"></a>\n",
    "## Null Value Distribution "
   ]
  },
  {
   "cell_type": "markdown",
   "id": "9409814c",
   "metadata": {
    "papermill": {
     "duration": 0.041907,
     "end_time": "2022-01-18T17:59:19.079984",
     "exception": false,
     "start_time": "2022-01-18T17:59:19.038077",
     "status": "completed"
    },
    "tags": []
   },
   "source": [
    "**Observations:**\n",
    "- The maximum of missing value in an observation is `6` and the lowest is `no missing value`.\n",
    "- Interestingly, the missing value distribution (row basis) is quite the same between `train` and `test` dataset.\n",
    "- There are around `44%` of the observations (row basis) that has no missing values.\n",
    "- `56.28%` of total observations with missing values have `1 to 3` missing values in the a observations. "
   ]
  },
  {
   "cell_type": "markdown",
   "id": "76110c6e",
   "metadata": {
    "papermill": {
     "duration": 0.040959,
     "end_time": "2022-01-18T17:59:19.162041",
     "exception": false,
     "start_time": "2022-01-18T17:59:19.121082",
     "status": "completed"
    },
    "tags": []
   },
   "source": [
    "<a id=\"4.2.1\"></a>\n",
    "### Column wise Null Value Distribution "
   ]
  },
  {
   "cell_type": "code",
   "execution_count": 14,
   "id": "2f4f0847",
   "metadata": {
    "execution": {
     "iopub.execute_input": "2022-01-18T17:59:19.250136Z",
     "iopub.status.busy": "2022-01-18T17:59:19.249491Z",
     "iopub.status.idle": "2022-01-18T17:59:19.736556Z",
     "shell.execute_reply": "2022-01-18T17:59:19.737084Z",
     "shell.execute_reply.started": "2022-01-18T17:58:24.843385Z"
    },
    "papermill": {
     "duration": 0.53278,
     "end_time": "2022-01-18T17:59:19.737276",
     "exception": false,
     "start_time": "2022-01-18T17:59:19.204496",
     "status": "completed"
    },
    "tags": []
   },
   "outputs": [
    {
     "data": {
      "image/png": "[encoded data removed]",
      "text/plain": [
       "<Figure size 1296x720 with 2 Axes>"
      ]
     },
     "metadata": {
      "needs_background": "light"
     },
     "output_type": "display_data"
    }
   ],
   "source": [
    "test_null = pd.DataFrame(test.isna().sum())\n",
    "test_null = test_null.sort_values(by = 0 ,ascending = False)[:-5]\n",
    "train_null = pd.DataFrame(train.isna().sum())\n",
    "train_null = train_null.sort_values(by = 0 ,ascending = False)[:-6]\n",
    "fig, axes = plt.subplots(1,2, figsize=(18,10))\n",
    "sns.barplot( y =test_null.index ,  x  = test_null[0] ,ax = axes[1] ,palette = \"viridis\")\n",
    "sns.barplot( y =train_null.index ,  x  = train_null[0],ax = axes[0],palette = \"viridis\")\n",
    "axes[0].set_xlabel(\"TRAIN DATA COLUMNS\")\n",
    "axes[1].set_xlabel(\"TEST DATA COLUMNS\");"
   ]
  },
  {
   "cell_type": "markdown",
   "id": "4667d4ea",
   "metadata": {
    "papermill": {
     "duration": 0.042137,
     "end_time": "2022-01-18T17:59:19.829197",
     "exception": false,
     "start_time": "2022-01-18T17:59:19.787060",
     "status": "completed"
    },
    "tags": []
   },
   "source": [
    "<a id=\"4.7.2\"></a>\n",
    "### Row wise Null Value Distribution "
   ]
  },
  {
   "cell_type": "code",
   "execution_count": 15,
   "id": "d5a7cf6a",
   "metadata": {
    "execution": {
     "iopub.execute_input": "2022-01-18T17:59:19.918838Z",
     "iopub.status.busy": "2022-01-18T17:59:19.917811Z",
     "iopub.status.idle": "2022-01-18T17:59:20.305126Z",
     "shell.execute_reply": "2022-01-18T17:59:20.304520Z",
     "shell.execute_reply.started": "2022-01-18T17:58:25.314204Z"
    },
    "papermill": {
     "duration": 0.433587,
     "end_time": "2022-01-18T17:59:20.305292",
     "exception": false,
     "start_time": "2022-01-18T17:59:19.871705",
     "status": "completed"
    },
    "tags": []
   },
   "outputs": [
    {
     "data": {
      "image/png": "[encoded data removed]",
      "text/plain": [
       "<Figure size 1296x432 with 2 Axes>"
      ]
     },
     "metadata": {
      "needs_background": "light"
     },
     "output_type": "display_data"
    }
   ],
   "source": [
    "missing_train_row = train.isna().sum(axis=1)\n",
    "missing_train_row = pd.DataFrame(missing_train_row.value_counts()/train.shape[0]).reset_index()\n",
    "missing_test_row = test.isna().sum(axis=1)\n",
    "missing_test_row = pd.DataFrame(missing_test_row.value_counts()/test.shape[0]).reset_index()\n",
    "missing_train_row.columns = ['no', 'count']\n",
    "missing_test_row.columns = ['no', 'count']\n",
    "missing_train_row[\"count\"] = missing_train_row[\"count\"]*100\n",
    "missing_test_row[\"count\"] = missing_test_row[\"count\"]*100\n",
    "fig, axes = plt.subplots(1,2, figsize=(18,6))\n",
    "sns.barplot( y =missing_train_row[\"count\"] ,  x  = missing_train_row[\"no\"],ax = axes[1] ,palette = \"viridis\")\n",
    "sns.barplot( y =missing_test_row[\"count\"] ,  x  = missing_test_row[\"no\"],ax = axes[0] ,palette = \"viridis\")\n",
    "axes[0].set_ylabel(\"Percentage of Null values\")\n",
    "axes[1].set_ylabel(\"Percentage of Null values\")\n",
    "axes[0].set_xlabel(\"TRAIN DATASET\")\n",
    "axes[1].set_xlabel(\"TEST DATASET\");"
   ]
  },
  {
   "cell_type": "markdown",
   "id": "c7224668",
   "metadata": {
    "papermill": {
     "duration": 0.042693,
     "end_time": "2022-01-18T17:59:20.391311",
     "exception": false,
     "start_time": "2022-01-18T17:59:20.348618",
     "status": "completed"
    },
    "tags": []
   },
   "source": [
    "### Dealing with missing value (reference)\n",
    "Some references on how to deal with missing value:\n",
    "- [Missing Values](https://www.kaggle.com/alexisbcook/missing-values) by [Alexis Cook](https://www.kaggle.com/alexisbcook)\n",
    "- [Data Cleaning Challenge: Handling missing values](https://www.kaggle.com/rtatman/data-cleaning-challenge-handling-missing-values) by [Rachael Tatman](https://www.kaggle.com/rtatman)\n",
    "- [A Guide to Handling Missing values in Python ](https://www.kaggle.com/parulpandey/a-guide-to-handling-missing-values-in-python) by [Parul Pandey](https://www.kaggle.com/parulpandey)\n",
    "\n",
    "Some models that have capability to handle missing value by default are:\n",
    "- XGBoost: https://xgboost.readthedocs.io/en/latest/faq.html\n",
    "- LightGBM: https://lightgbm.readthedocs.io/en/latest/Advanced-Topics.html\n",
    "- Catboost: https://catboost.ai/docs/concepts/algorithm-missing-values-processing.html"
   ]
  },
  {
   "cell_type": "markdown",
   "id": "f5c3ba50",
   "metadata": {
    "papermill": {
     "duration": 0.042635,
     "end_time": "2022-01-18T17:59:20.476966",
     "exception": false,
     "start_time": "2022-01-18T17:59:20.434331",
     "status": "completed"
    },
    "tags": []
   },
   "source": [
    "<a id=\"4.2\"></a>\n",
    "## Continuos and Categorical Data Distribution"
   ]
  },
  {
   "cell_type": "markdown",
   "id": "831a190b",
   "metadata": {
    "papermill": {
     "duration": 0.042818,
     "end_time": "2022-01-18T17:59:20.563033",
     "exception": false,
     "start_time": "2022-01-18T17:59:20.520215",
     "status": "completed"
    },
    "tags": []
   },
   "source": [
    "**Observations:**\n",
    "- Out of 13 features `10` features are continous and `3` features are categorical.\n",
    "- `key` feature has `11` differnt unique values\n",
    "- `time_signature` has`4` differnt unique values.\n",
    "- `audio_mode` feature is a binary cateogorical feature with `1` and `0` values.\n"
   ]
  },
  {
   "cell_type": "code",
   "execution_count": 16,
   "id": "ab5bb2d5",
   "metadata": {
    "_kg_hide-input": true,
    "execution": {
     "iopub.execute_input": "2022-01-18T17:59:20.653207Z",
     "iopub.status.busy": "2022-01-18T17:59:20.652231Z",
     "iopub.status.idle": "2022-01-18T17:59:20.823900Z",
     "shell.execute_reply": "2022-01-18T17:59:20.824779Z",
     "shell.execute_reply.started": "2022-01-18T17:58:25.881293Z"
    },
    "papermill": {
     "duration": 0.219064,
     "end_time": "2022-01-18T17:59:20.825058",
     "exception": false,
     "start_time": "2022-01-18T17:59:20.605994",
     "status": "completed"
    },
    "tags": []
   },
   "outputs": [
    {
     "name": "stdout",
     "output_type": "stream",
     "text": [
      "Total number of features: 13\n",
      "\u001b[92mNumber of categorical features: 3\n",
      "\u001b[96mNumber of continuos features: 10\n"
     ]
    },
    {
     "data": {
      "image/png": "[encoded data removed]",
      "text/plain": [
       "<Figure size 432x288 with 1 Axes>"
      ]
     },
     "metadata": {},
     "output_type": "display_data"
    }
   ],
   "source": [
    "df = pd.concat([train[FEATURES], test[FEATURES]], axis=0)\n",
    "\n",
    "cat_features = [col for col in FEATURES if df[col].nunique() < 15]\n",
    "cont_features = [col for col in FEATURES if df[col].nunique() >= 15]\n",
    "\n",
    "del df\n",
    "print(f'Total number of features: {len(FEATURES)}')\n",
    "print(f'\\033[92mNumber of categorical features: {len(cat_features)}')\n",
    "print(f'\\033[96mNumber of continuos features: {len(cont_features)}')\n",
    "\n",
    "plt.pie([len(cat_features), len(cont_features)], \n",
    "        labels=['Categorical', 'Continuos'],\n",
    "        colors=['green', 'cyan'],\n",
    "        textprops={'fontsize': 13},\n",
    "        autopct='%1.1f%%')\n",
    "plt.show()"
   ]
  },
  {
   "cell_type": "markdown",
   "id": "fca30c23",
   "metadata": {
    "papermill": {
     "duration": 0.046322,
     "end_time": "2022-01-18T17:59:20.955080",
     "exception": false,
     "start_time": "2022-01-18T17:59:20.908758",
     "status": "completed"
    },
    "tags": []
   },
   "source": [
    "<a id=\"4.3\"></a>\n",
    "## Feature Distribution of Continous Features"
   ]
  },
  {
   "cell_type": "code",
   "execution_count": 17,
   "id": "ae260f53",
   "metadata": {
    "_kg_hide-input": true,
    "execution": {
     "iopub.execute_input": "2022-01-18T17:59:21.258392Z",
     "iopub.status.busy": "2022-01-18T17:59:21.257678Z",
     "iopub.status.idle": "2022-01-18T17:59:25.362695Z",
     "shell.execute_reply": "2022-01-18T17:59:25.363205Z",
     "shell.execute_reply.started": "2022-01-18T17:58:26.056722Z"
    },
    "papermill": {
     "duration": 4.362511,
     "end_time": "2022-01-18T17:59:25.363377",
     "exception": false,
     "start_time": "2022-01-18T17:59:21.000866",
     "status": "completed"
    },
    "tags": []
   },
   "outputs": [
    {
     "data": {
      "image/png": "[encoded data removed]",
      "text/plain": [
       "<Figure size 1296x720 with 10 Axes>"
      ]
     },
     "metadata": {},
     "output_type": "display_data"
    }
   ],
   "source": [
    "ncols = 5\n",
    "nrows = int(len(cont_features) / ncols + (len(FEATURES) % ncols > 0))-1\n",
    "\n",
    "fig, axes = plt.subplots(nrows, ncols, figsize=(18, 10), facecolor='#EAEAF2')\n",
    "\n",
    "for r in range(nrows):\n",
    "    for c in range(ncols):\n",
    "        col = cont_features[r*ncols+c]\n",
    "        sns.kdeplot(x=train[col], ax=axes[r, c], color='#58D68D', label='Train data' , fill =True)\n",
    "        sns.kdeplot(x=test[col], ax=axes[r, c], color='#DE3163', label='Test data')\n",
    "        axes[r,c].legend()\n",
    "        axes[r, c].set_ylabel('')\n",
    "        axes[r, c].set_xlabel(col, fontsize=8)\n",
    "        axes[r, c].tick_params(labelsize=5, width=0.5)\n",
    "        axes[r, c].xaxis.offsetText.set_fontsize(4)\n",
    "        axes[r, c].yaxis.offsetText.set_fontsize(4)\n",
    "plt.show()"
   ]
  },
  {
   "cell_type": "markdown",
   "id": "746a9422",
   "metadata": {
    "papermill": {
     "duration": 0.047833,
     "end_time": "2022-01-18T17:59:25.460089",
     "exception": false,
     "start_time": "2022-01-18T17:59:25.412256",
     "status": "completed"
    },
    "tags": []
   },
   "source": [
    "<a id=\"4.4\"></a>\n",
    "## Feature Distribution of Categorical Features"
   ]
  },
  {
   "cell_type": "code",
   "execution_count": 18,
   "id": "495fffe2",
   "metadata": {
    "_kg_hide-input": true,
    "execution": {
     "iopub.execute_input": "2022-01-18T17:59:25.559556Z",
     "iopub.status.busy": "2022-01-18T17:59:25.558899Z",
     "iopub.status.idle": "2022-01-18T17:59:26.114703Z",
     "shell.execute_reply": "2022-01-18T17:59:26.115224Z",
     "shell.execute_reply.started": "2022-01-18T17:58:30.122403Z"
    },
    "papermill": {
     "duration": 0.607384,
     "end_time": "2022-01-18T17:59:26.115398",
     "exception": false,
     "start_time": "2022-01-18T17:59:25.508014",
     "status": "completed"
    },
    "tags": []
   },
   "outputs": [
    {
     "data": {
      "image/png": "[encoded data removed]",
      "text/plain": [
       "<Figure size 1296x360 with 3 Axes>"
      ]
     },
     "metadata": {
      "needs_background": "light"
     },
     "output_type": "display_data"
    }
   ],
   "source": [
    "if len(cat_features) == 0 :\n",
    "    print(\"No Categorical features\")\n",
    "else:\n",
    "    ncols = 3\n",
    "    nrows = 1\n",
    "\n",
    "    fig, axes = plt.subplots(nrows, ncols, figsize=(18, 5))\n",
    "    for r in range(nrows):\n",
    "        for c in range(ncols):\n",
    "            col = cat_features[c]\n",
    "            sns.countplot(train[col],ax = axes[c] ,palette = \"viridis\", label='Train data')\n",
    "            sns.countplot(test[col],ax = axes[c] ,palette = \"magma\", label='Train data')\n",
    "            axes[c].legend()\n",
    "            axes[c].set_ylabel('')\n",
    "            axes[c].set_xlabel(col, fontsize=20)\n",
    "            axes[c].tick_params(labelsize=10, width=0.5)\n",
    "            axes[c].xaxis.offsetText.set_fontsize(4)\n",
    "            axes[c].yaxis.offsetText.set_fontsize(4)\n",
    "    plt.show()"
   ]
  },
  {
   "cell_type": "markdown",
   "id": "8a8ca8b1",
   "metadata": {
    "papermill": {
     "duration": 0.050537,
     "end_time": "2022-01-18T17:59:26.215389",
     "exception": false,
     "start_time": "2022-01-18T17:59:26.164852",
     "status": "completed"
    },
    "tags": []
   },
   "source": [
    "<a id=\"4.5\"></a>\n",
    "## Target Distribution"
   ]
  },
  {
   "cell_type": "markdown",
   "id": "19584022",
   "metadata": {
    "papermill": {
     "duration": 0.049279,
     "end_time": "2022-01-18T17:59:26.314090",
     "exception": false,
     "start_time": "2022-01-18T17:59:26.264811",
     "status": "completed"
    },
    "tags": []
   },
   "source": [
    "**Observations:**\n",
    "- There are two target values - `0` and `1`.\n",
    "- Almost 2/3rd - `63.56%` of total observations comprise of `0` target value.\n",
    "- Almost 1/3rd - `36.44%` of total observations comprise of `1` target value."
   ]
  },
  {
   "cell_type": "code",
   "execution_count": 19,
   "id": "e8e357e7",
   "metadata": {
    "_kg_hide-input": true,
    "execution": {
     "iopub.execute_input": "2022-01-18T17:59:26.423909Z",
     "iopub.status.busy": "2022-01-18T17:59:26.423224Z",
     "iopub.status.idle": "2022-01-18T17:59:27.474202Z",
     "shell.execute_reply": "2022-01-18T17:59:27.474718Z",
     "shell.execute_reply.started": "2022-01-18T17:58:36.768607Z"
    },
    "papermill": {
     "duration": 1.111662,
     "end_time": "2022-01-18T17:59:27.474916",
     "exception": false,
     "start_time": "2022-01-18T17:59:26.363254",
     "status": "completed"
    },
    "tags": []
   },
   "outputs": [
    {
     "name": "stdout",
     "output_type": "stream",
     "text": [
      "\u001b[94mPercentage of song_popularity = 0: 63.56 %\n",
      "\u001b[94mPercentage of song_popularity = 1: 36.44 %\n"
     ]
    },
    {
     "data": {
      "text/html": [
       "        <script type=\"text/javascript\">\n",
       "        window.PlotlyConfig = {MathJaxConfig: 'local'};\n",
       "        if (window.MathJax) {MathJax.Hub.Config({SVG: {font: \"STIX-Web\"}});}\n",
       "        if (typeof require !== 'undefined') {\n",
       "        require.undef(\"plotly\");\n",
       "        requirejs.config({\n",
       "            paths: {\n",
       "                'plotly': ['https://cdn.plot.ly/plotly-2.8.3.min']\n",
       "            }\n",
       "        });\n",
       "        require(['plotly'], function(Plotly) {\n",
       "            window._Plotly = Plotly;\n",
       "        });\n",
       "        }\n",
       "        </script>\n",
       "        "
      ]
     },
     "metadata": {},
     "output_type": "display_data"
    },
    {
     "data": {
      "text/html": [
       "<div>                            <div id=\"a0148842-9d23-49af-8028-7ccc6bc10408\" class=\"plotly-graph-div\" style=\"height:525px; width:100%;\"></div>            <script type=\"text/javascript\">                require([\"plotly\"], function(Plotly) {                    window.PLOTLYENV=window.PLOTLYENV || {};                                    if (document.getElementById(\"a0148842-9d23-49af-8028-7ccc6bc10408\")) {                    Plotly.newPlot(                        \"a0148842-9d23-49af-8028-7ccc6bc10408\",                        [{\"alignmentgroup\":\"True\",\"hovertemplate\":\"song_popularity=%{x}<br>count=%{marker.color}<extra></extra>\",\"legendgroup\":\"\",\"marker\":{\"color\":[25424,14576],\"coloraxis\":\"coloraxis\",\"pattern\":{\"shape\":\"\"}},\"name\":\"\",\"offsetgroup\":\"\",\"orientation\":\"v\",\"showlegend\":false,\"textposition\":\"auto\",\"x\":[0,1],\"xaxis\":\"x\",\"y\":[25424,14576],\"yaxis\":\"y\",\"type\":\"bar\"}],                        {\"template\":{\"data\":{\"bar\":[{\"error_x\":{\"color\":\"#2a3f5f\"},\"error_y\":{\"color\":\"#2a3f5f\"},\"marker\":{\"line\":{\"color\":\"#E5ECF6\",\"width\":0.5},\"pattern\":{\"fillmode\":\"overlay\",\"size\":10,\"solidity\":0.2}},\"type\":\"bar\"}],\"barpolar\":[{\"marker\":{\"line\":{\"color\":\"#E5ECF6\",\"width\":0.5},\"pattern\":{\"fillmode\":\"overlay\",\"size\":10,\"solidity\":0.2}},\"type\":\"barpolar\"}],\"carpet\":[{\"aaxis\":{\"endlinecolor\":\"#2a3f5f\",\"gridcolor\":\"white\",\"linecolor\":\"white\",\"minorgridcolor\":\"white\",\"startlinecolor\":\"#2a3f5f\"},\"baxis\":{\"endlinecolor\":\"#2a3f5f\",\"gridcolor\":\"white\",\"linecolor\":\"white\",\"minorgridcolor\":\"white\",\"startlinecolor\":\"#2a3f5f\"},\"type\":\"carpet\"}],\"choropleth\":[{\"colorbar\":{\"outlinewidth\":0,\"ticks\":\"\"},\"type\":\"choropleth\"}],\"contour\":[{\"colorbar\":{\"outlinewidth\":0,\"ticks\":\"\"},\"colorscale\":[[0.0,\"#0d0887\"],[0.1111111111111111,\"#46039f\"],[0.2222222222222222,\"#7201a8\"],[0.3333333333333333,\"#9c179e\"],[0.4444444444444444,\"#bd3786\"],[0.5555555555555556,\"#d8576b\"],[0.6666666666666666,\"#ed7953\"],[0.7777777777777778,\"#fb9f3a\"],[0.8888888888888888,\"#fdca26\"],[1.0,\"#f0f921\"]],\"type\":\"contour\"}],\"contourcarpet\":[{\"colorbar\":{\"outlinewidth\":0,\"ticks\":\"\"},\"type\":\"contourcarpet\"}],\"heatmap\":[{\"colorbar\":{\"outlinewidth\":0,\"ticks\":\"\"},\"colorscale\":[[0.0,\"#0d0887\"],[0.1111111111111111,\"#46039f\"],[0.2222222222222222,\"#7201a8\"],[0.3333333333333333,\"#9c179e\"],[0.4444444444444444,\"#bd3786\"],[0.5555555555555556,\"#d8576b\"],[0.6666666666666666,\"#ed7953\"],[0.7777777777777778,\"#fb9f3a\"],[0.8888888888888888,\"#fdca26\"],[1.0,\"#f0f921\"]],\"type\":\"heatmap\"}],\"heatmapgl\":[{\"colorbar\":{\"outlinewidth\":0,\"ticks\":\"\"},\"colorscale\":[[0.0,\"#0d0887\"],[0.1111111111111111,\"#46039f\"],[0.2222222222222222,\"#7201a8\"],[0.3333333333333333,\"#9c179e\"],[0.4444444444444444,\"#bd3786\"],[0.5555555555555556,\"#d8576b\"],[0.6666666666666666,\"#ed7953\"],[0.7777777777777778,\"#fb9f3a\"],[0.8888888888888888,\"#fdca26\"],[1.0,\"#f0f921\"]],\"type\":\"heatmapgl\"}],\"histogram\":[{\"marker\":{\"pattern\":{\"fillmode\":\"overlay\",\"size\":10,\"solidity\":0.2}},\"type\":\"histogram\"}],\"histogram2d\":[{\"colorbar\":{\"outlinewidth\":0,\"ticks\":\"\"},\"colorscale\":[[0.0,\"#0d0887\"],[0.1111111111111111,\"#46039f\"],[0.2222222222222222,\"#7201a8\"],[0.3333333333333333,\"#9c179e\"],[0.4444444444444444,\"#bd3786\"],[0.5555555555555556,\"#d8576b\"],[0.6666666666666666,\"#ed7953\"],[0.7777777777777778,\"#fb9f3a\"],[0.8888888888888888,\"#fdca26\"],[1.0,\"#f0f921\"]],\"type\":\"histogram2d\"}],\"histogram2dcontour\":[{\"colorbar\":{\"outlinewidth\":0,\"ticks\":\"\"},\"colorscale\":[[0.0,\"#0d0887\"],[0.1111111111111111,\"#46039f\"],[0.2222222222222222,\"#7201a8\"],[0.3333333333333333,\"#9c179e\"],[0.4444444444444444,\"#bd3786\"],[0.5555555555555556,\"#d8576b\"],[0.6666666666666666,\"#ed7953\"],[0.7777777777777778,\"#fb9f3a\"],[0.8888888888888888,\"#fdca26\"],[1.0,\"#f0f921\"]],\"type\":\"histogram2dcontour\"}],\"mesh3d\":[{\"colorbar\":{\"outlinewidth\":0,\"ticks\":\"\"},\"type\":\"mesh3d\"}],\"parcoords\":[{\"line\":{\"colorbar\":{\"outlinewidth\":0,\"ticks\":\"\"}},\"type\":\"parcoords\"}],\"pie\":[{\"automargin\":true,\"type\":\"pie\"}],\"scatter\":[{\"marker\":{\"colorbar\":{\"outlinewidth\":0,\"ticks\":\"\"}},\"type\":\"scatter\"}],\"scatter3d\":[{\"line\":{\"colorbar\":{\"outlinewidth\":0,\"ticks\":\"\"}},\"marker\":{\"colorbar\":{\"outlinewidth\":0,\"ticks\":\"\"}},\"type\":\"scatter3d\"}],\"scattercarpet\":[{\"marker\":{\"colorbar\":{\"outlinewidth\":0,\"ticks\":\"\"}},\"type\":\"scattercarpet\"}],\"scattergeo\":[{\"marker\":{\"colorbar\":{\"outlinewidth\":0,\"ticks\":\"\"}},\"type\":\"scattergeo\"}],\"scattergl\":[{\"marker\":{\"colorbar\":{\"outlinewidth\":0,\"ticks\":\"\"}},\"type\":\"scattergl\"}],\"scattermapbox\":[{\"marker\":{\"colorbar\":{\"outlinewidth\":0,\"ticks\":\"\"}},\"type\":\"scattermapbox\"}],\"scatterpolar\":[{\"marker\":{\"colorbar\":{\"outlinewidth\":0,\"ticks\":\"\"}},\"type\":\"scatterpolar\"}],\"scatterpolargl\":[{\"marker\":{\"colorbar\":{\"outlinewidth\":0,\"ticks\":\"\"}},\"type\":\"scatterpolargl\"}],\"scatterternary\":[{\"marker\":{\"colorbar\":{\"outlinewidth\":0,\"ticks\":\"\"}},\"type\":\"scatterternary\"}],\"surface\":[{\"colorbar\":{\"outlinewidth\":0,\"ticks\":\"\"},\"colorscale\":[[0.0,\"#0d0887\"],[0.1111111111111111,\"#46039f\"],[0.2222222222222222,\"#7201a8\"],[0.3333333333333333,\"#9c179e\"],[0.4444444444444444,\"#bd3786\"],[0.5555555555555556,\"#d8576b\"],[0.6666666666666666,\"#ed7953\"],[0.7777777777777778,\"#fb9f3a\"],[0.8888888888888888,\"#fdca26\"],[1.0,\"#f0f921\"]],\"type\":\"surface\"}],\"table\":[{\"cells\":{\"fill\":{\"color\":\"#EBF0F8\"},\"line\":{\"color\":\"white\"}},\"header\":{\"fill\":{\"color\":\"#C8D4E3\"},\"line\":{\"color\":\"white\"}},\"type\":\"table\"}]},\"layout\":{\"annotationdefaults\":{\"arrowcolor\":\"#2a3f5f\",\"arrowhead\":0,\"arrowwidth\":1},\"autotypenumbers\":\"strict\",\"coloraxis\":{\"colorbar\":{\"outlinewidth\":0,\"ticks\":\"\"}},\"colorscale\":{\"diverging\":[[0,\"#8e0152\"],[0.1,\"#c51b7d\"],[0.2,\"#de77ae\"],[0.3,\"#f1b6da\"],[0.4,\"#fde0ef\"],[0.5,\"#f7f7f7\"],[0.6,\"#e6f5d0\"],[0.7,\"#b8e186\"],[0.8,\"#7fbc41\"],[0.9,\"#4d9221\"],[1,\"#276419\"]],\"sequential\":[[0.0,\"#0d0887\"],[0.1111111111111111,\"#46039f\"],[0.2222222222222222,\"#7201a8\"],[0.3333333333333333,\"#9c179e\"],[0.4444444444444444,\"#bd3786\"],[0.5555555555555556,\"#d8576b\"],[0.6666666666666666,\"#ed7953\"],[0.7777777777777778,\"#fb9f3a\"],[0.8888888888888888,\"#fdca26\"],[1.0,\"#f0f921\"]],\"sequentialminus\":[[0.0,\"#0d0887\"],[0.1111111111111111,\"#46039f\"],[0.2222222222222222,\"#7201a8\"],[0.3333333333333333,\"#9c179e\"],[0.4444444444444444,\"#bd3786\"],[0.5555555555555556,\"#d8576b\"],[0.6666666666666666,\"#ed7953\"],[0.7777777777777778,\"#fb9f3a\"],[0.8888888888888888,\"#fdca26\"],[1.0,\"#f0f921\"]]},\"colorway\":[\"#636efa\",\"#EF553B\",\"#00cc96\",\"#ab63fa\",\"#FFA15A\",\"#19d3f3\",\"#FF6692\",\"#B6E880\",\"#FF97FF\",\"#FECB52\"],\"font\":{\"color\":\"#2a3f5f\"},\"geo\":{\"bgcolor\":\"white\",\"lakecolor\":\"white\",\"landcolor\":\"#E5ECF6\",\"showlakes\":true,\"showland\":true,\"subunitcolor\":\"white\"},\"hoverlabel\":{\"align\":\"left\"},\"hovermode\":\"closest\",\"mapbox\":{\"style\":\"light\"},\"paper_bgcolor\":\"white\",\"plot_bgcolor\":\"#E5ECF6\",\"polar\":{\"angularaxis\":{\"gridcolor\":\"white\",\"linecolor\":\"white\",\"ticks\":\"\"},\"bgcolor\":\"#E5ECF6\",\"radialaxis\":{\"gridcolor\":\"white\",\"linecolor\":\"white\",\"ticks\":\"\"}},\"scene\":{\"xaxis\":{\"backgroundcolor\":\"#E5ECF6\",\"gridcolor\":\"white\",\"gridwidth\":2,\"linecolor\":\"white\",\"showbackground\":true,\"ticks\":\"\",\"zerolinecolor\":\"white\"},\"yaxis\":{\"backgroundcolor\":\"#E5ECF6\",\"gridcolor\":\"white\",\"gridwidth\":2,\"linecolor\":\"white\",\"showbackground\":true,\"ticks\":\"\",\"zerolinecolor\":\"white\"},\"zaxis\":{\"backgroundcolor\":\"#E5ECF6\",\"gridcolor\":\"white\",\"gridwidth\":2,\"linecolor\":\"white\",\"showbackground\":true,\"ticks\":\"\",\"zerolinecolor\":\"white\"}},\"shapedefaults\":{\"line\":{\"color\":\"#2a3f5f\"}},\"ternary\":{\"aaxis\":{\"gridcolor\":\"white\",\"linecolor\":\"white\",\"ticks\":\"\"},\"baxis\":{\"gridcolor\":\"white\",\"linecolor\":\"white\",\"ticks\":\"\"},\"bgcolor\":\"#E5ECF6\",\"caxis\":{\"gridcolor\":\"white\",\"linecolor\":\"white\",\"ticks\":\"\"}},\"title\":{\"x\":0.05},\"xaxis\":{\"automargin\":true,\"gridcolor\":\"white\",\"linecolor\":\"white\",\"ticks\":\"\",\"title\":{\"standoff\":15},\"zerolinecolor\":\"white\",\"zerolinewidth\":2},\"yaxis\":{\"automargin\":true,\"gridcolor\":\"white\",\"linecolor\":\"white\",\"ticks\":\"\",\"title\":{\"standoff\":15},\"zerolinecolor\":\"white\",\"zerolinewidth\":2}}},\"xaxis\":{\"anchor\":\"y\",\"domain\":[0.0,1.0],\"title\":{\"text\":\"song_popularity\"}},\"yaxis\":{\"anchor\":\"x\",\"domain\":[0.0,1.0],\"title\":{\"text\":\"count\"}},\"coloraxis\":{\"colorbar\":{\"title\":{\"text\":\"count\"}},\"colorscale\":[[0.0,\"rgb(211, 242, 163)\"],[0.16666666666666666,\"rgb(151, 225, 150)\"],[0.3333333333333333,\"rgb(108, 192, 139)\"],[0.5,\"rgb(76, 155, 130)\"],[0.6666666666666666,\"rgb(33, 122, 121)\"],[0.8333333333333334,\"rgb(16, 89, 101)\"],[1.0,\"rgb(7, 64, 80)\"]]},\"legend\":{\"tracegroupgap\":0},\"margin\":{\"t\":60},\"barmode\":\"relative\"},                        {\"responsive\": true}                    ).then(function(){\n",
       "                            \n",
       "var gd = document.getElementById('a0148842-9d23-49af-8028-7ccc6bc10408');\n",
       "var x = new MutationObserver(function (mutations, observer) {{\n",
       "        var display = window.getComputedStyle(gd).display;\n",
       "        if (!display || display === 'none') {{\n",
       "            console.log([gd, 'removed!']);\n",
       "            Plotly.purge(gd);\n",
       "            observer.disconnect();\n",
       "        }}\n",
       "}});\n",
       "\n",
       "// Listen for the removal of the full notebook cells\n",
       "var notebookContainer = gd.closest('#notebook-container');\n",
       "if (notebookContainer) {{\n",
       "    x.observe(notebookContainer, {childList: true});\n",
       "}}\n",
       "\n",
       "// Listen for the clearing of the current output cell\n",
       "var outputEl = gd.closest('.output');\n",
       "if (outputEl) {{\n",
       "    x.observe(outputEl, {childList: true});\n",
       "}}\n",
       "\n",
       "                        })                };                });            </script>        </div>"
      ]
     },
     "metadata": {},
     "output_type": "display_data"
    }
   ],
   "source": [
    "target_df = pd.DataFrame(train[TARGET].value_counts()).reset_index()\n",
    "target_df.columns = [TARGET, 'count']\n",
    "fig = px.bar(data_frame =target_df, \n",
    "             x = TARGET,\n",
    "             y = 'count' , \n",
    "             color = \"count\",\n",
    "             color_continuous_scale=\"Emrld\") \n",
    "print(\"\\033[94mPercentage of song_popularity = 0: {:.2f} %\".format(target_df[\"count\"][0] *100 / train.shape[0]))\n",
    "print(\"\\033[94mPercentage of song_popularity = 1: {:.2f} %\".format(target_df[\"count\"][1]* 100 / train.shape[0]))\n",
    "fig.show()"
   ]
  },
  {
   "cell_type": "markdown",
   "id": "9483a65a",
   "metadata": {
    "papermill": {
     "duration": 0.051339,
     "end_time": "2022-01-18T17:59:27.586336",
     "exception": false,
     "start_time": "2022-01-18T17:59:27.534997",
     "status": "completed"
    },
    "tags": []
   },
   "source": [
    "<a id=\"4.6\"></a>\n",
    "## Correlation matrix"
   ]
  },
  {
   "cell_type": "code",
   "execution_count": 20,
   "id": "8bb0788d",
   "metadata": {
    "_kg_hide-input": true,
    "execution": {
     "iopub.execute_input": "2022-01-18T17:59:27.694578Z",
     "iopub.status.busy": "2022-01-18T17:59:27.693820Z",
     "iopub.status.idle": "2022-01-18T17:59:28.919940Z",
     "shell.execute_reply": "2022-01-18T17:59:28.920436Z",
     "shell.execute_reply.started": "2022-01-18T17:58:41.808721Z"
    },
    "papermill": {
     "duration": 1.282723,
     "end_time": "2022-01-18T17:59:28.920613",
     "exception": false,
     "start_time": "2022-01-18T17:59:27.637890",
     "status": "completed"
    },
    "tags": []
   },
   "outputs": [
    {
     "data": {
      "image/png": "[encoded data removed]",
      "text/plain": [
       "<Figure size 1296x720 with 2 Axes>"
      ]
     },
     "metadata": {
      "needs_background": "light"
     },
     "output_type": "display_data"
    }
   ],
   "source": [
    "plt.rcParams[\"figure.figsize\"] = (18,10)\n",
    "dataplot = sns.heatmap(train.corr(), cmap=\"YlGnBu\", annot=True)\n",
    "plt.show()"
   ]
  },
  {
   "cell_type": "markdown",
   "id": "88feb87a",
   "metadata": {
    "papermill": {
     "duration": 0.056097,
     "end_time": "2022-01-18T17:59:29.032484",
     "exception": false,
     "start_time": "2022-01-18T17:59:28.976387",
     "status": "completed"
    },
    "tags": []
   },
   "source": [
    "<a href=\"#toc\" role=\"button\" aria-pressed=\"true\" >⬆️Back to Table of Contents ⬆️</a>"
   ]
  },
  {
   "cell_type": "markdown",
   "id": "e676f130",
   "metadata": {
    "papermill": {
     "duration": 0.054815,
     "end_time": "2022-01-18T17:59:29.142029",
     "exception": false,
     "start_time": "2022-01-18T17:59:29.087214",
     "status": "completed"
    },
    "tags": []
   },
   "source": [
    "## <center>WORK IN PROGRESS 🙂</center>"
   ]
  }
 ],
 "metadata": {
  "kernelspec": {
   "display_name": "Python 3",
   "language": "python",
   "name": "python3"
  },
  "language_info": {
   "codemirror_mode": {
    "name": "ipython",
    "version": 3
   },
   "file_extension": ".py",
   "mimetype": "text/x-python",
   "name": "python",
   "nbconvert_exporter": "python",
   "pygments_lexer": "ipython3",
   "version": "3.7.12"
  },
  "papermill": {
   "default_parameters": {},
   "duration": 35.71381,
   "end_time": "2022-01-18T17:59:32.006231",
   "environment_variables": {},
   "exception": null,
   "input_path": "__notebook__.ipynb",
   "output_path": "__notebook__.ipynb",
   "parameters": {},
   "start_time": "2022-01-18T17:58:56.292421",
   "version": "2.3.3"
  }
 },
 "nbformat": 4,
 "nbformat_minor": 5
}
