{
 "cells": [
  {
   "cell_type": "markdown",
   "id": "8a914f7a",
   "metadata": {
    "papermill": {
     "duration": 0.00354,
     "end_time": "2022-05-25T19:53:33.928167",
     "exception": false,
     "start_time": "2022-05-25T19:53:33.924627",
     "status": "completed"
    },
    "tags": []
   },
   "source": [
    "**Created by Sanskar Hasija**\n",
    "\n",
    "**Load Parquet Files with Low Memory🤖**\n",
    "\n",
    "**26 May 2021**\n"
   ]
  },
  {
   "cell_type": "markdown",
   "id": "bc02cda0",
   "metadata": {
    "papermill": {
     "duration": 0.002463,
     "end_time": "2022-05-25T19:53:33.933539",
     "exception": false,
     "start_time": "2022-05-25T19:53:33.931076",
     "status": "completed"
    },
    "tags": []
   },
   "source": [
    "#### Dataset link - https://www.kaggle.com/datasets/odins0n/amex-parquet\n",
    "##### Read about parquet files here: https://databricks.com/glossary/what-is-parquet"
   ]
  },
  {
   "cell_type": "markdown",
   "id": "9ce94322",
   "metadata": {
    "papermill": {
     "duration": 0.00236,
     "end_time": "2022-05-25T19:53:33.938560",
     "exception": false,
     "start_time": "2022-05-25T19:53:33.936200",
     "status": "completed"
    },
    "tags": []
   },
   "source": [
    "## Imports "
   ]
  },
  {
   "cell_type": "code",
   "execution_count": 1,
   "id": "af670a94",
   "metadata": {
    "_cell_guid": "b1076dfc-b9ad-4769-8c92-a6c4dae69d19",
    "_uuid": "8f2839f25d086af736a60e9eeb907d3b93b6e0e5",
    "execution": {
     "iopub.execute_input": "2022-05-25T19:53:33.945540Z",
     "iopub.status.busy": "2022-05-25T19:53:33.944942Z",
     "iopub.status.idle": "2022-05-25T19:53:33.954979Z",
     "shell.execute_reply": "2022-05-25T19:53:33.954285Z"
    },
    "papermill": {
     "duration": 0.015714,
     "end_time": "2022-05-25T19:53:33.956742",
     "exception": false,
     "start_time": "2022-05-25T19:53:33.941028",
     "status": "completed"
    },
    "tags": []
   },
   "outputs": [],
   "source": [
    "import pandas as pd \n",
    "import gc"
   ]
  },
  {
   "cell_type": "markdown",
   "id": "6043d902",
   "metadata": {
    "papermill": {
     "duration": 0.004533,
     "end_time": "2022-05-25T19:53:33.963962",
     "exception": false,
     "start_time": "2022-05-25T19:53:33.959429",
     "status": "completed"
    },
    "tags": []
   },
   "source": [
    "## Reading Train Parquet File"
   ]
  },
  {
   "cell_type": "code",
   "execution_count": 2,
   "id": "4a4589c8",
   "metadata": {
    "execution": {
     "iopub.execute_input": "2022-05-25T19:53:33.970675Z",
     "iopub.status.busy": "2022-05-25T19:53:33.970129Z",
     "iopub.status.idle": "2022-05-25T19:54:03.585267Z",
     "shell.execute_reply": "2022-05-25T19:54:03.584344Z"
    },
    "papermill": {
     "duration": 29.621083,
     "end_time": "2022-05-25T19:54:03.587608",
     "exception": false,
     "start_time": "2022-05-25T19:53:33.966525",
     "status": "completed"
    },
    "tags": []
   },
   "outputs": [
    {
     "name": "stdout",
     "output_type": "stream",
     "text": [
      "CPU times: user 10.7 s, sys: 14.4 s, total: 25.1 s\n",
      "Wall time: 29.6 s\n"
     ]
    }
   ],
   "source": [
    "%%time\n",
    "train = pd.read_parquet('../input/amex-parquet/train_data.parquet')"
   ]
  },
  {
   "cell_type": "code",
   "execution_count": 3,
   "id": "c797ea99",
   "metadata": {
    "execution": {
     "iopub.execute_input": "2022-05-25T19:54:03.595189Z",
     "iopub.status.busy": "2022-05-25T19:54:03.594848Z",
     "iopub.status.idle": "2022-05-25T19:54:03.617380Z",
     "shell.execute_reply": "2022-05-25T19:54:03.616154Z"
    },
    "papermill": {
     "duration": 0.028426,
     "end_time": "2022-05-25T19:54:03.619449",
     "exception": false,
     "start_time": "2022-05-25T19:54:03.591023",
     "status": "completed"
    },
    "tags": []
   },
   "outputs": [
    {
     "name": "stdout",
     "output_type": "stream",
     "text": [
      "<class 'pandas.core.frame.DataFrame'>\n",
      "RangeIndex: 5531451 entries, 0 to 5531450\n",
      "Columns: 190 entries, customer_ID to D_145\n",
      "dtypes: float32(185), int64(1), object(4)\n",
      "memory usage: 4.0+ GB\n"
     ]
    }
   ],
   "source": [
    "train.info()"
   ]
  },
  {
   "cell_type": "code",
   "execution_count": 4,
   "id": "c403a7cf",
   "metadata": {
    "execution": {
     "iopub.execute_input": "2022-05-25T19:54:03.626349Z",
     "iopub.status.busy": "2022-05-25T19:54:03.625987Z",
     "iopub.status.idle": "2022-05-25T19:54:03.635794Z",
     "shell.execute_reply": "2022-05-25T19:54:03.634969Z"
    },
    "papermill": {
     "duration": 0.015295,
     "end_time": "2022-05-25T19:54:03.637528",
     "exception": false,
     "start_time": "2022-05-25T19:54:03.622233",
     "status": "completed"
    },
    "tags": []
   },
   "outputs": [
    {
     "data": {
      "text/plain": [
       "customer_ID     object\n",
       "S_2             object\n",
       "P_2            float32\n",
       "D_39           float32\n",
       "B_1            float32\n",
       "                ...   \n",
       "D_141          float32\n",
       "D_142          float32\n",
       "D_143          float32\n",
       "D_144          float32\n",
       "D_145          float32\n",
       "Length: 190, dtype: object"
      ]
     },
     "execution_count": 4,
     "metadata": {},
     "output_type": "execute_result"
    }
   ],
   "source": [
    "train.dtypes"
   ]
  },
  {
   "cell_type": "code",
   "execution_count": 5,
   "id": "c7790fa1",
   "metadata": {
    "_kg_hide-input": true,
    "execution": {
     "iopub.execute_input": "2022-05-25T19:54:03.645071Z",
     "iopub.status.busy": "2022-05-25T19:54:03.644224Z",
     "iopub.status.idle": "2022-05-25T19:54:03.808926Z",
     "shell.execute_reply": "2022-05-25T19:54:03.807971Z"
    },
    "papermill": {
     "duration": 0.17031,
     "end_time": "2022-05-25T19:54:03.810772",
     "exception": false,
     "start_time": "2022-05-25T19:54:03.640462",
     "status": "completed"
    },
    "tags": []
   },
   "outputs": [
    {
     "data": {
      "text/plain": [
       "91"
      ]
     },
     "execution_count": 5,
     "metadata": {},
     "output_type": "execute_result"
    }
   ],
   "source": [
    "del train\n",
    "gc.collect()"
   ]
  },
  {
   "cell_type": "markdown",
   "id": "e702d3d2",
   "metadata": {
    "papermill": {
     "duration": 0.002797,
     "end_time": "2022-05-25T19:54:03.816505",
     "exception": false,
     "start_time": "2022-05-25T19:54:03.813708",
     "status": "completed"
    },
    "tags": []
   },
   "source": [
    "## Reading Test Parquet File"
   ]
  },
  {
   "cell_type": "markdown",
   "id": "d03c6b1b",
   "metadata": {
    "papermill": {
     "duration": 0.002527,
     "end_time": "2022-05-25T19:54:03.821805",
     "exception": false,
     "start_time": "2022-05-25T19:54:03.819278",
     "status": "completed"
    },
    "tags": []
   },
   "source": [
    "# <center>Work in progress 😊</center>"
   ]
  }
 ],
 "metadata": {
  "kernelspec": {
   "display_name": "Python 3",
   "language": "python",
   "name": "python3"
  },
  "language_info": {
   "codemirror_mode": {
    "name": "ipython",
    "version": 3
   },
   "file_extension": ".py",
   "mimetype": "text/x-python",
   "name": "python",
   "nbconvert_exporter": "python",
   "pygments_lexer": "ipython3",
   "version": "3.7.12"
  },
  "papermill": {
   "default_parameters": {},
   "duration": 39.314713,
   "end_time": "2022-05-25T19:54:04.847135",
   "environment_variables": {},
   "exception": null,
   "input_path": "__notebook__.ipynb",
   "output_path": "__notebook__.ipynb",
   "parameters": {},
   "start_time": "2022-05-25T19:53:25.532422",
   "version": "2.3.4"
  }
 },
 "nbformat": 4,
 "nbformat_minor": 5
}
