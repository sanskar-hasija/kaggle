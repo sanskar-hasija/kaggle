{
 "cells": [
  {
   "cell_type": "code",
   "execution_count": 9,
   "id": "aed43832-b4d8-4751-a2be-a67fd70dbf6f",
   "metadata": {},
   "outputs": [
    {
     "name": "stdout",
     "output_type": "stream",
     "text": [
      "Total Notebooks in the dataset =  248761\n"
     ]
    },
    {
     "name": "stderr",
     "output_type": "stream",
     "text": [
      "  7%|█████                                                                    | 17458/248761 [31:42<5:40:10, 11.33it/s]D:\\Anaconda\\envs\\gpu\\lib\\site-packages\\bs4\\builder\\__init__.py:545: XMLParsedAsHTMLWarning: It looks like you're parsing an XML document using an HTML parser. If this really is an HTML document (maybe it's XHTML?), you can ignore or filter this warning. If it's XML, you should know that using an XML parser will be more reliable. To parse this document as XML, make sure you have the lxml package installed, and pass the keyword argument `features=\"xml\"` into the BeautifulSoup constructor.\n",
      "  warnings.warn(\n",
      " 20%|█████████████▋                                                        | 48525/248761 [1:38:39<21:00:39,  2.65it/s]D:\\Anaconda\\envs\\gpu\\lib\\site-packages\\bs4\\builder\\__init__.py:545: XMLParsedAsHTMLWarning: It looks like you're parsing an XML document using an HTML parser. If this really is an HTML document (maybe it's XHTML?), you can ignore or filter this warning. If it's XML, you should know that using an XML parser will be more reliable. To parse this document as XML, make sure you have the lxml package installed, and pass the keyword argument `features=\"xml\"` into the BeautifulSoup constructor.\n",
      "  warnings.warn(\n",
      "100%|███████████████████████████████████████████████████████████████████████| 248761/248761 [14:50:16<00:00,  4.66it/s]\n"
     ]
    },
    {
     "name": "stdout",
     "output_type": "stream",
     "text": [
      "Total notebooks used for generating dataset =  168787\n"
     ]
    }
   ],
   "source": [
    "## imoprts \n",
    "import os \n",
    "import re\n",
    "import json\n",
    "import pandas as pd\n",
    "from markdown import markdown\n",
    "from bs4 import BeautifulSoup\n",
    "from tqdm import tqdm\n",
    "\n",
    "## input directory \n",
    "input_dir = \"KT_dataset/\"\n",
    "filenames =  os.listdir(input_dir)\n",
    "print(\"Total Notebooks in the dataset = \", len(filenames))\n",
    "\n",
    "## utility functions\n",
    "def check_df(df):\n",
    "    try:\n",
    "        out = len(df.cell_type.value_counts().index) == 2 and df.cell_type.value_counts().loc[\"code\"] >=1 and df.cell_type.value_counts().loc[\"markdown\"] >=1\n",
    "    except:\n",
    "        out = False\n",
    "    return out\n",
    "\n",
    "def markdown_to_text(markdown_string):\n",
    "    \"\"\" Converts a markdown string to plaintext \"\"\"\n",
    "    html = markdown(markdown_string)\n",
    "    html = re.sub(r'<pre>(.*?)</pre>', ' ', html)\n",
    "    html = re.sub(r'<code>(.*?)</code >', ' ', html)\n",
    "    soup = BeautifulSoup(html, \"html.parser\")\n",
    "    text = ''.join(soup.findAll(text=True))\n",
    "    return text\n",
    "\n",
    "def preprocess_text(text):\n",
    "    if type(text) == str:\n",
    "        return text\n",
    "    else:\n",
    "        return \" \".join(text)\n",
    "    \n",
    "## generating data\n",
    "data = pd.DataFrame(data = [])\n",
    "count = 0\n",
    "for i in tqdm(range(len(filenames))):\n",
    "    filename = filenames[i]\n",
    "    try:\n",
    "        ## loading notebook\n",
    "        notebook = json.load(open(input_dir + filename))\n",
    "    except:\n",
    "        ## invlalid files\n",
    "        continue\n",
    "        \n",
    "    df = pd.DataFrame(notebook[\"cells\"], columns = [\"source\",\"cell_type\"])\n",
    "\n",
    "    if check_df(df):\n",
    "        df.dropna(inplace = True)\n",
    "        df[\"rank\"] = df.index\n",
    "        df[\"pct_rank\"] = df.index/ len(df)\n",
    "        df[\"source\"] = df[\"source\"].apply(preprocess_text)\n",
    "        df[\"source\"] = df[\"source\"].apply(markdown_to_text)\n",
    "        df[\"notebook_id\"] = i\n",
    "        data = pd.concat([data, df])\n",
    "        count += 1\n",
    "\n",
    "print(\"Total notebooks used for generating dataset = \", count)\n",
    "data[\"rank\"] = data[\"rank\"].astype(\"int\")\n",
    "data[\"notebook_id\"] = data[\"notebook_id\"].astype(\"int\")      \n",
    "data.to_csv(\"custom_gen_data.csv\", index = False)"
   ]
  }
 ],
 "metadata": {
  "kernelspec": {
   "display_name": "Python 3 (ipykernel)",
   "language": "python",
   "name": "python3"
  },
  "language_info": {
   "codemirror_mode": {
    "name": "ipython",
    "version": 3
   },
   "file_extension": ".py",
   "mimetype": "text/x-python",
   "name": "python",
   "nbconvert_exporter": "python",
   "pygments_lexer": "ipython3",
   "version": "3.9.7"
  }
 },
 "nbformat": 4,
 "nbformat_minor": 5
}
