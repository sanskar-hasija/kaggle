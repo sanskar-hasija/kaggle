{
 "cells": [
  {
   "cell_type": "markdown",
   "id": "ae3ecb98",
   "metadata": {
    "_cell_guid": "b1076dfc-b9ad-4769-8c92-a6c4dae69d19",
    "_uuid": "8f2839f25d086af736a60e9eeb907d3b93b6e0e5",
    "papermill": {
     "duration": 0.017454,
     "end_time": "2021-10-28T17:33:42.251160",
     "exception": false,
     "start_time": "2021-10-28T17:33:42.233706",
     "status": "completed"
    },
    "tags": []
   },
   "source": [
    "**Created by Sanskar Hasija**\n",
    "\n",
    "**😡🤢😱😊😐😔😲 Emotion Detection**\n",
    "\n",
    "**28 OCTOBER 2021**\n"
   ]
  },
  {
   "cell_type": "markdown",
   "id": "3696e732",
   "metadata": {
    "execution": {
     "iopub.execute_input": "2021-10-28T16:21:47.129947Z",
     "iopub.status.busy": "2021-10-28T16:21:47.129681Z",
     "iopub.status.idle": "2021-10-28T16:21:47.135185Z",
     "shell.execute_reply": "2021-10-28T16:21:47.134018Z",
     "shell.execute_reply.started": "2021-10-28T16:21:47.129921Z"
    },
    "papermill": {
     "duration": 0.015738,
     "end_time": "2021-10-28T17:33:42.284986",
     "exception": false,
     "start_time": "2021-10-28T17:33:42.269248",
     "status": "completed"
    },
    "tags": []
   },
   "source": [
    "# <center> 😡🤢😱😊😐😔😲 EMOTION DETECTION </center>\n",
    "## <center>If you find this notebook useful, support with an upvote👍</center>"
   ]
  },
  {
   "cell_type": "markdown",
   "id": "44acf7a4",
   "metadata": {
    "papermill": {
     "duration": 0.015723,
     "end_time": "2021-10-28T17:33:42.316610",
     "exception": false,
     "start_time": "2021-10-28T17:33:42.300887",
     "status": "completed"
    },
    "tags": []
   },
   "source": [
    "## [1. Imports](#im) ##\n",
    "## [2. HyperParameters](#hp) ##\n",
    "## [3. Data Loading and Preprocessing](#data) ##\n",
    "## [4. DenseNet169 Model](#model)  ##\n",
    "## [5. Training and Fine Tuning](#train) ##\n",
    "## [6. Visualizing Results](#vis) ##"
   ]
  },
  {
   "cell_type": "markdown",
   "id": "21168fbd",
   "metadata": {
    "execution": {
     "iopub.execute_input": "2021-10-28T16:25:41.041859Z",
     "iopub.status.busy": "2021-10-28T16:25:41.041154Z",
     "iopub.status.idle": "2021-10-28T16:25:41.047378Z",
     "shell.execute_reply": "2021-10-28T16:25:41.046222Z",
     "shell.execute_reply.started": "2021-10-28T16:25:41.041821Z"
    },
    "papermill": {
     "duration": 0.015714,
     "end_time": "2021-10-28T17:33:42.348172",
     "exception": false,
     "start_time": "2021-10-28T17:33:42.332458",
     "status": "completed"
    },
    "tags": []
   },
   "source": [
    "<a id=\"im\"></a>\n",
    "# <center>IMPORTING LIBRARIES</center> "
   ]
  },
  {
   "cell_type": "code",
   "execution_count": 1,
   "id": "45f3279c",
   "metadata": {
    "execution": {
     "iopub.execute_input": "2021-10-28T17:33:42.390883Z",
     "iopub.status.busy": "2021-10-28T17:33:42.390214Z",
     "iopub.status.idle": "2021-10-28T17:33:50.384413Z",
     "shell.execute_reply": "2021-10-28T17:33:50.383772Z",
     "shell.execute_reply.started": "2021-10-28T16:27:13.067977Z"
    },
    "papermill": {
     "duration": 8.020514,
     "end_time": "2021-10-28T17:33:50.384605",
     "exception": false,
     "start_time": "2021-10-28T17:33:42.364091",
     "status": "completed"
    },
    "tags": []
   },
   "outputs": [],
   "source": [
    "import pandas as pd\n",
    "import numpy as np\n",
    "import matplotlib.pyplot as plt\n",
    "import seaborn as sns\n",
    "import plotly.express as px\n",
    "\n",
    "\n",
    "import tensorflow as tf\n",
    "from tensorflow.keras.preprocessing.image import ImageDataGenerator\n",
    "from sklearn.metrics import classification_report\n",
    "\n",
    "\n",
    "from IPython.display import clear_output\n",
    "import warnings\n",
    "warnings.filterwarnings('ignore')"
   ]
  },
  {
   "cell_type": "markdown",
   "id": "148ba243",
   "metadata": {
    "papermill": {
     "duration": 0.016368,
     "end_time": "2021-10-28T17:33:50.417490",
     "exception": false,
     "start_time": "2021-10-28T17:33:50.401122",
     "status": "completed"
    },
    "tags": []
   },
   "source": [
    "<a id=\"hp\"></a>\n",
    "# <center>HYPERPARAMETRERS AND DIRECTORIES</center>"
   ]
  },
  {
   "cell_type": "code",
   "execution_count": 2,
   "id": "9f3a886a",
   "metadata": {
    "execution": {
     "iopub.execute_input": "2021-10-28T17:33:50.456083Z",
     "iopub.status.busy": "2021-10-28T17:33:50.455229Z",
     "iopub.status.idle": "2021-10-28T17:33:50.456995Z",
     "shell.execute_reply": "2021-10-28T17:33:50.457493Z",
     "shell.execute_reply.started": "2021-10-28T16:27:21.212574Z"
    },
    "papermill": {
     "duration": 0.023972,
     "end_time": "2021-10-28T17:33:50.457649",
     "exception": false,
     "start_time": "2021-10-28T17:33:50.433677",
     "status": "completed"
    },
    "tags": []
   },
   "outputs": [],
   "source": [
    "train_dir = \"../input/emotion-detection-fer/train\"\n",
    "test_dir = \"../input/emotion-detection-fer/test\"\n",
    "\n",
    "SEED = 12\n",
    "IMG_HEIGHT = 48\n",
    "IMG_WIDTH = 48\n",
    "BATCH_SIZE = 64\n",
    "EPOCHS = 30\n",
    "FINE_TUNING_EPOCHS = 20\n",
    "LR = 0.01\n",
    "NUM_CLASSES = 7\n",
    "EARLY_STOPPING_CRITERIA=3\n",
    "CLASS_LABELS  = ['Anger', 'Disgust', 'Fear', 'Happy', 'Neutral', 'Sadness', \"Surprise\"]\n",
    "CLASS_LABELS_EMOJIS = [\"👿\", \"🤢\" , \"😱\" , \"😊\" , \"😐 \", \"😔\" , \"😲\" ]"
   ]
  },
  {
   "cell_type": "markdown",
   "id": "d6f229a6",
   "metadata": {
    "papermill": {
     "duration": 0.016048,
     "end_time": "2021-10-28T17:33:50.489865",
     "exception": false,
     "start_time": "2021-10-28T17:33:50.473817",
     "status": "completed"
    },
    "tags": []
   },
   "source": [
    "<a id=\"data\"></a>\n",
    "# <center> DATA LOADING AND PRE-PROCESSING</center>"
   ]
  },
  {
   "cell_type": "code",
   "execution_count": 3,
   "id": "845b6579",
   "metadata": {
    "_kg_hide-input": true,
    "execution": {
     "iopub.execute_input": "2021-10-28T17:33:50.531479Z",
     "iopub.status.busy": "2021-10-28T17:33:50.530911Z",
     "iopub.status.idle": "2021-10-28T17:34:05.248243Z",
     "shell.execute_reply": "2021-10-28T17:34:05.248774Z",
     "shell.execute_reply.started": "2021-10-28T16:27:56.28833Z"
    },
    "papermill": {
     "duration": 14.743106,
     "end_time": "2021-10-28T17:34:05.248928",
     "exception": false,
     "start_time": "2021-10-28T17:33:50.505822",
     "status": "completed"
    },
    "tags": []
   },
   "outputs": [
    {
     "name": "stdout",
     "output_type": "stream",
     "text": [
      "Found 22968 images belonging to 7 classes.\n",
      "Found 5741 images belonging to 7 classes.\n",
      "Found 7178 images belonging to 7 classes.\n"
     ]
    }
   ],
   "source": [
    "preprocess_fun = tf.keras.applications.densenet.preprocess_input\n",
    "\n",
    "train_datagen = ImageDataGenerator(horizontal_flip=True,\n",
    "                                   width_shift_range=0.1,\n",
    "                                   height_shift_range=0.05,\n",
    "                                   rescale = 1./255,\n",
    "                                   validation_split = 0.2,\n",
    "                                   preprocessing_function=preprocess_fun\n",
    "                                  )\n",
    "test_datagen = ImageDataGenerator(rescale = 1./255,\n",
    "                                  validation_split = 0.2,\n",
    "                                  preprocessing_function=preprocess_fun)\n",
    "\n",
    "train_generator = train_datagen.flow_from_directory(directory = train_dir,\n",
    "                                                    target_size = (IMG_HEIGHT ,IMG_WIDTH),\n",
    "                                                    batch_size = BATCH_SIZE,\n",
    "                                                    shuffle  = True , \n",
    "                                                    color_mode = \"rgb\",\n",
    "                                                    class_mode = \"categorical\",\n",
    "                                                    subset = \"training\",\n",
    "                                                    seed = 12\n",
    "                                                   )\n",
    "\n",
    "validation_generator = test_datagen.flow_from_directory(directory = train_dir,\n",
    "                                                         target_size = (IMG_HEIGHT ,IMG_WIDTH),\n",
    "                                                         batch_size = BATCH_SIZE,\n",
    "                                                         shuffle  = True , \n",
    "                                                         color_mode = \"rgb\",\n",
    "                                                         class_mode = \"categorical\",\n",
    "                                                         subset = \"validation\",\n",
    "                                                         seed = 12\n",
    "                                                        )\n",
    "\n",
    "test_generator = test_datagen.flow_from_directory(directory = test_dir,\n",
    "                                                   target_size = (IMG_HEIGHT ,IMG_WIDTH),\n",
    "                                                    batch_size = BATCH_SIZE,\n",
    "                                                    shuffle  = True , \n",
    "                                                    color_mode = \"rgb\",\n",
    "                                                    class_mode = \"categorical\",\n",
    "                                                    seed = 12\n",
    "                                                  )"
   ]
  },
  {
   "cell_type": "markdown",
   "id": "767845e7",
   "metadata": {
    "papermill": {
     "duration": 0.016653,
     "end_time": "2021-10-28T17:34:05.283073",
     "exception": false,
     "start_time": "2021-10-28T17:34:05.266420",
     "status": "completed"
    },
    "tags": []
   },
   "source": [
    "## Images with different emotions"
   ]
  },
  {
   "cell_type": "code",
   "execution_count": 4,
   "id": "265ce7c3",
   "metadata": {
    "_kg_hide-input": true,
    "execution": {
     "iopub.execute_input": "2021-10-28T17:34:05.329196Z",
     "iopub.status.busy": "2021-10-28T17:34:05.328303Z",
     "iopub.status.idle": "2021-10-28T17:34:08.065833Z",
     "shell.execute_reply": "2021-10-28T17:34:08.066254Z",
     "shell.execute_reply.started": "2021-10-28T16:29:50.537206Z"
    },
    "papermill": {
     "duration": 2.766542,
     "end_time": "2021-10-28T17:34:08.066395",
     "exception": false,
     "start_time": "2021-10-28T17:34:05.299853",
     "status": "completed"
    },
    "tags": []
   },
   "outputs": [
    {
     "data": {
      "image/png": "[encoded data removed]",
      "text/plain": [
       "<Figure size 936x936 with 9 Axes>"
      ]
     },
     "metadata": {
      "needs_background": "light"
     },
     "output_type": "display_data"
    }
   ],
   "source": [
    "# Helper Functions\n",
    "def display_one_image(image, title, subplot, color):\n",
    "    plt.subplot(subplot)\n",
    "    plt.axis('off')\n",
    "    plt.imshow(image)\n",
    "    plt.title(title, fontsize=16)\n",
    "    \n",
    "def display_nine_images(images, titles, title_colors=None):\n",
    "    subplot = 331\n",
    "    plt.figure(figsize=(13,13))\n",
    "    for i in range(9):\n",
    "        color = 'black' if title_colors is None else title_colors[i]\n",
    "        display_one_image(images[i], titles[i], 331+i, color)\n",
    "    plt.tight_layout()\n",
    "    plt.subplots_adjust(wspace=0.1, hspace=0.1)\n",
    "    plt.show()\n",
    "\n",
    "def image_title(label, prediction):\n",
    "  # Both prediction (probabilities) and label (one-hot) are arrays with one item per class.\n",
    "    class_idx = np.argmax(label, axis=-1)\n",
    "    prediction_idx = np.argmax(prediction, axis=-1)\n",
    "    if class_idx == prediction_idx:\n",
    "        return f'{CLASS_LABELS[prediction_idx]} [correct]', 'black'\n",
    "    else:\n",
    "        return f'{CLASS_LABELS[prediction_idx]} [incorrect, should be {CLASS_LABELS[class_idx]}]', 'red'\n",
    "\n",
    "def get_titles(images, labels, model):\n",
    "    predictions = model.predict(images)\n",
    "    titles, colors = [], []\n",
    "    for label, prediction in zip(classes, predictions):\n",
    "        title, color = image_title(label, prediction)\n",
    "        titles.append(title)\n",
    "        colors.append(color)\n",
    "    return titles, colors\n",
    "\n",
    "img_datagen = ImageDataGenerator(rescale = 1./255)\n",
    "img_generator = img_datagen.flow_from_directory(directory = train_dir,\n",
    "                                                   target_size = (IMG_HEIGHT ,IMG_WIDTH),\n",
    "                                                    batch_size = BATCH_SIZE,\n",
    "                                                    shuffle  = True , \n",
    "                                                    color_mode = \"rgb\",\n",
    "                                                    class_mode = \"categorical\",\n",
    "                                                    seed = 12\n",
    "                                                  )\n",
    "clear_output()\n",
    "\n",
    "images, classes = next(img_generator)\n",
    "class_idxs = np.argmax(classes, axis=-1) \n",
    "labels = [CLASS_LABELS[idx] for idx in class_idxs]\n",
    "display_nine_images(images, labels)"
   ]
  },
  {
   "cell_type": "markdown",
   "id": "f1e3479f",
   "metadata": {
    "papermill": {
     "duration": 0.01888,
     "end_time": "2021-10-28T17:34:08.104608",
     "exception": false,
     "start_time": "2021-10-28T17:34:08.085728",
     "status": "completed"
    },
    "tags": []
   },
   "source": [
    "## Data distribution (count) among differnt emotions"
   ]
  },
  {
   "cell_type": "code",
   "execution_count": 5,
   "id": "a7c76b48",
   "metadata": {
    "_kg_hide-input": true,
    "execution": {
     "iopub.execute_input": "2021-10-28T17:34:08.148629Z",
     "iopub.status.busy": "2021-10-28T17:34:08.148071Z",
     "iopub.status.idle": "2021-10-28T17:34:08.987508Z",
     "shell.execute_reply": "2021-10-28T17:34:08.987988Z",
     "shell.execute_reply.started": "2021-10-28T16:51:42.047976Z"
    },
    "papermill": {
     "duration": 0.864681,
     "end_time": "2021-10-28T17:34:08.988175",
     "exception": false,
     "start_time": "2021-10-28T17:34:08.123494",
     "status": "completed"
    },
    "tags": []
   },
   "outputs": [
    {
     "data": {
      "text/html": [
       "        <script type=\"text/javascript\">\n",
       "        window.PlotlyConfig = {MathJaxConfig: 'local'};\n",
       "        if (window.MathJax) {MathJax.Hub.Config({SVG: {font: \"STIX-Web\"}});}\n",
       "        if (typeof require !== 'undefined') {\n",
       "        require.undef(\"plotly\");\n",
       "        requirejs.config({\n",
       "            paths: {\n",
       "                'plotly': ['https://cdn.plot.ly/plotly-2.4.2.min']\n",
       "            }\n",
       "        });\n",
       "        require(['plotly'], function(Plotly) {\n",
       "            window._Plotly = Plotly;\n",
       "        });\n",
       "        }\n",
       "        </script>\n",
       "        "
      ]
     },
     "metadata": {},
     "output_type": "display_data"
    },
    {
     "data": {
      "text/html": [
       "<div>                            <div id=\"6824b7c3-6e54-4ac8-a1b1-c6cd36a7fee4\" class=\"plotly-graph-div\" style=\"height:525px; width:100%;\"></div>            <script type=\"text/javascript\">                require([\"plotly\"], function(Plotly) {                    window.PLOTLYENV=window.PLOTLYENV || {};                                    if (document.getElementById(\"6824b7c3-6e54-4ac8-a1b1-c6cd36a7fee4\")) {                    Plotly.newPlot(                        \"6824b7c3-6e54-4ac8-a1b1-c6cd36a7fee4\",                        [{\"alignmentgroup\":\"True\",\"hovertemplate\":\"x=%{x}<br>y=%{y}<br>color=%{marker.color}<extra></extra>\",\"legendgroup\":\"\",\"marker\":{\"color\":[0,1,2,3,4,5,6],\"coloraxis\":\"coloraxis\",\"pattern\":{\"shape\":\"\"}},\"name\":\"\",\"offsetgroup\":\"\",\"orientation\":\"v\",\"showlegend\":false,\"textposition\":\"auto\",\"type\":\"bar\",\"x\":[\"👿\",\"🤢\",\"😱\",\"😊\",\"😐 \",\"😔\",\"😲\"],\"xaxis\":\"x\",\"y\":[3196,349,3278,5772,3972,3864,2537],\"yaxis\":\"y\"}],                        {\"barmode\":\"relative\",\"coloraxis\":{\"colorbar\":{\"title\":{\"text\":\"color\"}},\"colorscale\":[[0.0,\"rgb(211, 242, 163)\"],[0.16666666666666666,\"rgb(151, 225, 150)\"],[0.3333333333333333,\"rgb(108, 192, 139)\"],[0.5,\"rgb(76, 155, 130)\"],[0.6666666666666666,\"rgb(33, 122, 121)\"],[0.8333333333333334,\"rgb(16, 89, 101)\"],[1.0,\"rgb(7, 64, 80)\"]]},\"legend\":{\"tracegroupgap\":0},\"margin\":{\"t\":60},\"showlegend\":true,\"template\":{\"data\":{\"bar\":[{\"error_x\":{\"color\":\"#2a3f5f\"},\"error_y\":{\"color\":\"#2a3f5f\"},\"marker\":{\"line\":{\"color\":\"#E5ECF6\",\"width\":0.5},\"pattern\":{\"fillmode\":\"overlay\",\"size\":10,\"solidity\":0.2}},\"type\":\"bar\"}],\"barpolar\":[{\"marker\":{\"line\":{\"color\":\"#E5ECF6\",\"width\":0.5},\"pattern\":{\"fillmode\":\"overlay\",\"size\":10,\"solidity\":0.2}},\"type\":\"barpolar\"}],\"carpet\":[{\"aaxis\":{\"endlinecolor\":\"#2a3f5f\",\"gridcolor\":\"white\",\"linecolor\":\"white\",\"minorgridcolor\":\"white\",\"startlinecolor\":\"#2a3f5f\"},\"baxis\":{\"endlinecolor\":\"#2a3f5f\",\"gridcolor\":\"white\",\"linecolor\":\"white\",\"minorgridcolor\":\"white\",\"startlinecolor\":\"#2a3f5f\"},\"type\":\"carpet\"}],\"choropleth\":[{\"colorbar\":{\"outlinewidth\":0,\"ticks\":\"\"},\"type\":\"choropleth\"}],\"contour\":[{\"colorbar\":{\"outlinewidth\":0,\"ticks\":\"\"},\"colorscale\":[[0.0,\"#0d0887\"],[0.1111111111111111,\"#46039f\"],[0.2222222222222222,\"#7201a8\"],[0.3333333333333333,\"#9c179e\"],[0.4444444444444444,\"#bd3786\"],[0.5555555555555556,\"#d8576b\"],[0.6666666666666666,\"#ed7953\"],[0.7777777777777778,\"#fb9f3a\"],[0.8888888888888888,\"#fdca26\"],[1.0,\"#f0f921\"]],\"type\":\"contour\"}],\"contourcarpet\":[{\"colorbar\":{\"outlinewidth\":0,\"ticks\":\"\"},\"type\":\"contourcarpet\"}],\"heatmap\":[{\"colorbar\":{\"outlinewidth\":0,\"ticks\":\"\"},\"colorscale\":[[0.0,\"#0d0887\"],[0.1111111111111111,\"#46039f\"],[0.2222222222222222,\"#7201a8\"],[0.3333333333333333,\"#9c179e\"],[0.4444444444444444,\"#bd3786\"],[0.5555555555555556,\"#d8576b\"],[0.6666666666666666,\"#ed7953\"],[0.7777777777777778,\"#fb9f3a\"],[0.8888888888888888,\"#fdca26\"],[1.0,\"#f0f921\"]],\"type\":\"heatmap\"}],\"heatmapgl\":[{\"colorbar\":{\"outlinewidth\":0,\"ticks\":\"\"},\"colorscale\":[[0.0,\"#0d0887\"],[0.1111111111111111,\"#46039f\"],[0.2222222222222222,\"#7201a8\"],[0.3333333333333333,\"#9c179e\"],[0.4444444444444444,\"#bd3786\"],[0.5555555555555556,\"#d8576b\"],[0.6666666666666666,\"#ed7953\"],[0.7777777777777778,\"#fb9f3a\"],[0.8888888888888888,\"#fdca26\"],[1.0,\"#f0f921\"]],\"type\":\"heatmapgl\"}],\"histogram\":[{\"marker\":{\"pattern\":{\"fillmode\":\"overlay\",\"size\":10,\"solidity\":0.2}},\"type\":\"histogram\"}],\"histogram2d\":[{\"colorbar\":{\"outlinewidth\":0,\"ticks\":\"\"},\"colorscale\":[[0.0,\"#0d0887\"],[0.1111111111111111,\"#46039f\"],[0.2222222222222222,\"#7201a8\"],[0.3333333333333333,\"#9c179e\"],[0.4444444444444444,\"#bd3786\"],[0.5555555555555556,\"#d8576b\"],[0.6666666666666666,\"#ed7953\"],[0.7777777777777778,\"#fb9f3a\"],[0.8888888888888888,\"#fdca26\"],[1.0,\"#f0f921\"]],\"type\":\"histogram2d\"}],\"histogram2dcontour\":[{\"colorbar\":{\"outlinewidth\":0,\"ticks\":\"\"},\"colorscale\":[[0.0,\"#0d0887\"],[0.1111111111111111,\"#46039f\"],[0.2222222222222222,\"#7201a8\"],[0.3333333333333333,\"#9c179e\"],[0.4444444444444444,\"#bd3786\"],[0.5555555555555556,\"#d8576b\"],[0.6666666666666666,\"#ed7953\"],[0.7777777777777778,\"#fb9f3a\"],[0.8888888888888888,\"#fdca26\"],[1.0,\"#f0f921\"]],\"type\":\"histogram2dcontour\"}],\"mesh3d\":[{\"colorbar\":{\"outlinewidth\":0,\"ticks\":\"\"},\"type\":\"mesh3d\"}],\"parcoords\":[{\"line\":{\"colorbar\":{\"outlinewidth\":0,\"ticks\":\"\"}},\"type\":\"parcoords\"}],\"pie\":[{\"automargin\":true,\"type\":\"pie\"}],\"scatter\":[{\"marker\":{\"colorbar\":{\"outlinewidth\":0,\"ticks\":\"\"}},\"type\":\"scatter\"}],\"scatter3d\":[{\"line\":{\"colorbar\":{\"outlinewidth\":0,\"ticks\":\"\"}},\"marker\":{\"colorbar\":{\"outlinewidth\":0,\"ticks\":\"\"}},\"type\":\"scatter3d\"}],\"scattercarpet\":[{\"marker\":{\"colorbar\":{\"outlinewidth\":0,\"ticks\":\"\"}},\"type\":\"scattercarpet\"}],\"scattergeo\":[{\"marker\":{\"colorbar\":{\"outlinewidth\":0,\"ticks\":\"\"}},\"type\":\"scattergeo\"}],\"scattergl\":[{\"marker\":{\"colorbar\":{\"outlinewidth\":0,\"ticks\":\"\"}},\"type\":\"scattergl\"}],\"scattermapbox\":[{\"marker\":{\"colorbar\":{\"outlinewidth\":0,\"ticks\":\"\"}},\"type\":\"scattermapbox\"}],\"scatterpolar\":[{\"marker\":{\"colorbar\":{\"outlinewidth\":0,\"ticks\":\"\"}},\"type\":\"scatterpolar\"}],\"scatterpolargl\":[{\"marker\":{\"colorbar\":{\"outlinewidth\":0,\"ticks\":\"\"}},\"type\":\"scatterpolargl\"}],\"scatterternary\":[{\"marker\":{\"colorbar\":{\"outlinewidth\":0,\"ticks\":\"\"}},\"type\":\"scatterternary\"}],\"surface\":[{\"colorbar\":{\"outlinewidth\":0,\"ticks\":\"\"},\"colorscale\":[[0.0,\"#0d0887\"],[0.1111111111111111,\"#46039f\"],[0.2222222222222222,\"#7201a8\"],[0.3333333333333333,\"#9c179e\"],[0.4444444444444444,\"#bd3786\"],[0.5555555555555556,\"#d8576b\"],[0.6666666666666666,\"#ed7953\"],[0.7777777777777778,\"#fb9f3a\"],[0.8888888888888888,\"#fdca26\"],[1.0,\"#f0f921\"]],\"type\":\"surface\"}],\"table\":[{\"cells\":{\"fill\":{\"color\":\"#EBF0F8\"},\"line\":{\"color\":\"white\"}},\"header\":{\"fill\":{\"color\":\"#C8D4E3\"},\"line\":{\"color\":\"white\"}},\"type\":\"table\"}]},\"layout\":{\"annotationdefaults\":{\"arrowcolor\":\"#2a3f5f\",\"arrowhead\":0,\"arrowwidth\":1},\"autotypenumbers\":\"strict\",\"coloraxis\":{\"colorbar\":{\"outlinewidth\":0,\"ticks\":\"\"}},\"colorscale\":{\"diverging\":[[0,\"#8e0152\"],[0.1,\"#c51b7d\"],[0.2,\"#de77ae\"],[0.3,\"#f1b6da\"],[0.4,\"#fde0ef\"],[0.5,\"#f7f7f7\"],[0.6,\"#e6f5d0\"],[0.7,\"#b8e186\"],[0.8,\"#7fbc41\"],[0.9,\"#4d9221\"],[1,\"#276419\"]],\"sequential\":[[0.0,\"#0d0887\"],[0.1111111111111111,\"#46039f\"],[0.2222222222222222,\"#7201a8\"],[0.3333333333333333,\"#9c179e\"],[0.4444444444444444,\"#bd3786\"],[0.5555555555555556,\"#d8576b\"],[0.6666666666666666,\"#ed7953\"],[0.7777777777777778,\"#fb9f3a\"],[0.8888888888888888,\"#fdca26\"],[1.0,\"#f0f921\"]],\"sequentialminus\":[[0.0,\"#0d0887\"],[0.1111111111111111,\"#46039f\"],[0.2222222222222222,\"#7201a8\"],[0.3333333333333333,\"#9c179e\"],[0.4444444444444444,\"#bd3786\"],[0.5555555555555556,\"#d8576b\"],[0.6666666666666666,\"#ed7953\"],[0.7777777777777778,\"#fb9f3a\"],[0.8888888888888888,\"#fdca26\"],[1.0,\"#f0f921\"]]},\"colorway\":[\"#636efa\",\"#EF553B\",\"#00cc96\",\"#ab63fa\",\"#FFA15A\",\"#19d3f3\",\"#FF6692\",\"#B6E880\",\"#FF97FF\",\"#FECB52\"],\"font\":{\"color\":\"#2a3f5f\"},\"geo\":{\"bgcolor\":\"white\",\"lakecolor\":\"white\",\"landcolor\":\"#E5ECF6\",\"showlakes\":true,\"showland\":true,\"subunitcolor\":\"white\"},\"hoverlabel\":{\"align\":\"left\"},\"hovermode\":\"closest\",\"mapbox\":{\"style\":\"light\"},\"paper_bgcolor\":\"white\",\"plot_bgcolor\":\"#E5ECF6\",\"polar\":{\"angularaxis\":{\"gridcolor\":\"white\",\"linecolor\":\"white\",\"ticks\":\"\"},\"bgcolor\":\"#E5ECF6\",\"radialaxis\":{\"gridcolor\":\"white\",\"linecolor\":\"white\",\"ticks\":\"\"}},\"scene\":{\"xaxis\":{\"backgroundcolor\":\"#E5ECF6\",\"gridcolor\":\"white\",\"gridwidth\":2,\"linecolor\":\"white\",\"showbackground\":true,\"ticks\":\"\",\"zerolinecolor\":\"white\"},\"yaxis\":{\"backgroundcolor\":\"#E5ECF6\",\"gridcolor\":\"white\",\"gridwidth\":2,\"linecolor\":\"white\",\"showbackground\":true,\"ticks\":\"\",\"zerolinecolor\":\"white\"},\"zaxis\":{\"backgroundcolor\":\"#E5ECF6\",\"gridcolor\":\"white\",\"gridwidth\":2,\"linecolor\":\"white\",\"showbackground\":true,\"ticks\":\"\",\"zerolinecolor\":\"white\"}},\"shapedefaults\":{\"line\":{\"color\":\"#2a3f5f\"}},\"ternary\":{\"aaxis\":{\"gridcolor\":\"white\",\"linecolor\":\"white\",\"ticks\":\"\"},\"baxis\":{\"gridcolor\":\"white\",\"linecolor\":\"white\",\"ticks\":\"\"},\"bgcolor\":\"#E5ECF6\",\"caxis\":{\"gridcolor\":\"white\",\"linecolor\":\"white\",\"ticks\":\"\"}},\"title\":{\"x\":0.05},\"xaxis\":{\"automargin\":true,\"gridcolor\":\"white\",\"linecolor\":\"white\",\"ticks\":\"\",\"title\":{\"standoff\":15},\"zerolinecolor\":\"white\",\"zerolinewidth\":2},\"yaxis\":{\"automargin\":true,\"gridcolor\":\"white\",\"linecolor\":\"white\",\"ticks\":\"\",\"title\":{\"standoff\":15},\"zerolinecolor\":\"white\",\"zerolinewidth\":2}}},\"title\":{\"text\":\"Train Data Distribution \",\"x\":0.5,\"xanchor\":\"center\",\"y\":0.95,\"yanchor\":\"top\"},\"xaxis\":{\"anchor\":\"y\",\"domain\":[0.0,1.0],\"title\":{\"text\":\"Emotions\"}},\"yaxis\":{\"anchor\":\"x\",\"domain\":[0.0,1.0],\"title\":{\"text\":\"Number of Images\"}}},                        {\"responsive\": true}                    ).then(function(){\n",
       "                            \n",
       "var gd = document.getElementById('6824b7c3-6e54-4ac8-a1b1-c6cd36a7fee4');\n",
       "var x = new MutationObserver(function (mutations, observer) {{\n",
       "        var display = window.getComputedStyle(gd).display;\n",
       "        if (!display || display === 'none') {{\n",
       "            console.log([gd, 'removed!']);\n",
       "            Plotly.purge(gd);\n",
       "            observer.disconnect();\n",
       "        }}\n",
       "}});\n",
       "\n",
       "// Listen for the removal of the full notebook cells\n",
       "var notebookContainer = gd.closest('#notebook-container');\n",
       "if (notebookContainer) {{\n",
       "    x.observe(notebookContainer, {childList: true});\n",
       "}}\n",
       "\n",
       "// Listen for the clearing of the current output cell\n",
       "var outputEl = gd.closest('.output');\n",
       "if (outputEl) {{\n",
       "    x.observe(outputEl, {childList: true});\n",
       "}}\n",
       "\n",
       "                        })                };                });            </script>        </div>"
      ]
     },
     "metadata": {},
     "output_type": "display_data"
    }
   ],
   "source": [
    "fig = px.bar(x = CLASS_LABELS_EMOJIS,\n",
    "             y = [list(train_generator.classes).count(i) for i in np.unique(train_generator.classes)] , \n",
    "             color = np.unique(train_generator.classes) ,\n",
    "             color_continuous_scale=\"Emrld\") \n",
    "fig.update_xaxes(title=\"Emotions\")\n",
    "fig.update_yaxes(title = \"Number of Images\")\n",
    "fig.update_layout(showlegend = True,\n",
    "    title = {\n",
    "        'text': 'Train Data Distribution ',\n",
    "        'y':0.95,\n",
    "        'x':0.5,\n",
    "        'xanchor': 'center',\n",
    "        'yanchor': 'top'})\n",
    "fig.show()"
   ]
  },
  {
   "cell_type": "markdown",
   "id": "f5ebe799",
   "metadata": {
    "papermill": {
     "duration": 0.020582,
     "end_time": "2021-10-28T17:34:09.029861",
     "exception": false,
     "start_time": "2021-10-28T17:34:09.009279",
     "status": "completed"
    },
    "tags": []
   },
   "source": [
    "<a id=\"model\"></a>\n",
    "# <center> DenseNet169 Transfer Learning  </center>"
   ]
  },
  {
   "cell_type": "code",
   "execution_count": 6,
   "id": "d84d15b4",
   "metadata": {
    "execution": {
     "iopub.execute_input": "2021-10-28T17:34:09.083486Z",
     "iopub.status.busy": "2021-10-28T17:34:09.082569Z",
     "iopub.status.idle": "2021-10-28T17:34:09.084775Z",
     "shell.execute_reply": "2021-10-28T17:34:09.085211Z",
     "shell.execute_reply.started": "2021-10-28T16:31:50.432097Z"
    },
    "papermill": {
     "duration": 0.034454,
     "end_time": "2021-10-28T17:34:09.085351",
     "exception": false,
     "start_time": "2021-10-28T17:34:09.050897",
     "status": "completed"
    },
    "tags": []
   },
   "outputs": [],
   "source": [
    "def feature_extractor(inputs):\n",
    "    feature_extractor = tf.keras.applications.DenseNet169(input_shape=(IMG_HEIGHT,IMG_WIDTH, 3),\n",
    "                                               include_top=False,\n",
    "                                               weights=\"imagenet\")(inputs)\n",
    "    \n",
    "    return feature_extractor\n",
    "\n",
    "def classifier(inputs):\n",
    "    x = tf.keras.layers.GlobalAveragePooling2D()(inputs)\n",
    "    x = tf.keras.layers.Dense(256, activation=\"relu\", kernel_regularizer = tf.keras.regularizers.l2(0.01))(x)\n",
    "    x = tf.keras.layers.Dropout(0.3)(x)\n",
    "    x = tf.keras.layers.Dense(1024, activation=\"relu\", kernel_regularizer = tf.keras.regularizers.l2(0.01))(x)\n",
    "    x = tf.keras.layers.Dropout(0.5)(x)\n",
    "    x = tf.keras.layers.Dense(512, activation=\"relu\", kernel_regularizer = tf.keras.regularizers.l2(0.01))(x)\n",
    "    x = tf.keras.layers.Dropout(0.5) (x)\n",
    "    x = tf.keras.layers.Dense(NUM_CLASSES, activation=\"softmax\", name=\"classification\")(x)\n",
    "    \n",
    "    return x\n",
    "\n",
    "def final_model(inputs):\n",
    "    densenet_feature_extractor = feature_extractor(inputs)\n",
    "    classification_output = classifier(densenet_feature_extractor)\n",
    "    \n",
    "    return classification_output\n",
    "\n",
    "def define_compile_model():\n",
    "    \n",
    "    inputs = tf.keras.layers.Input(shape=(IMG_HEIGHT ,IMG_WIDTH,3))\n",
    "    classification_output = final_model(inputs) \n",
    "    model = tf.keras.Model(inputs=inputs, outputs = classification_output)\n",
    "     \n",
    "    model.compile(optimizer=tf.keras.optimizers.SGD(0.1), \n",
    "                loss='categorical_crossentropy',\n",
    "                metrics = ['accuracy'])\n",
    "  \n",
    "    return model"
   ]
  },
  {
   "cell_type": "markdown",
   "id": "1ab02154",
   "metadata": {
    "papermill": {
     "duration": 0.019805,
     "end_time": "2021-10-28T17:34:09.125295",
     "exception": false,
     "start_time": "2021-10-28T17:34:09.105490",
     "status": "completed"
    },
    "tags": []
   },
   "source": [
    "## Summary of model"
   ]
  },
  {
   "cell_type": "code",
   "execution_count": 7,
   "id": "fe5f5ba2",
   "metadata": {
    "_kg_hide-input": true,
    "execution": {
     "iopub.execute_input": "2021-10-28T17:34:09.169624Z",
     "iopub.status.busy": "2021-10-28T17:34:09.169076Z",
     "iopub.status.idle": "2021-10-28T17:34:16.762340Z",
     "shell.execute_reply": "2021-10-28T17:34:16.761458Z",
     "shell.execute_reply.started": "2021-10-28T16:31:52.443634Z"
    },
    "papermill": {
     "duration": 7.617238,
     "end_time": "2021-10-28T17:34:16.762492",
     "exception": false,
     "start_time": "2021-10-28T17:34:09.145254",
     "status": "completed"
    },
    "tags": []
   },
   "outputs": [
    {
     "name": "stdout",
     "output_type": "stream",
     "text": [
      "Model: \"model\"\n",
      "_________________________________________________________________\n",
      "Layer (type)                 Output Shape              Param #   \n",
      "=================================================================\n",
      "input_1 (InputLayer)         [(None, 48, 48, 3)]       0         \n",
      "_________________________________________________________________\n",
      "densenet169 (Functional)     (None, 1, 1, 1664)        12642880  \n",
      "_________________________________________________________________\n",
      "global_average_pooling2d (Gl (None, 1664)              0         \n",
      "_________________________________________________________________\n",
      "dense (Dense)                (None, 256)               426240    \n",
      "_________________________________________________________________\n",
      "dropout (Dropout)            (None, 256)               0         \n",
      "_________________________________________________________________\n",
      "dense_1 (Dense)              (None, 1024)              263168    \n",
      "_________________________________________________________________\n",
      "dropout_1 (Dropout)          (None, 1024)              0         \n",
      "_________________________________________________________________\n",
      "dense_2 (Dense)              (None, 512)               524800    \n",
      "_________________________________________________________________\n",
      "dropout_2 (Dropout)          (None, 512)               0         \n",
      "_________________________________________________________________\n",
      "classification (Dense)       (None, 7)                 3591      \n",
      "=================================================================\n",
      "Total params: 13,860,679\n",
      "Trainable params: 1,217,799\n",
      "Non-trainable params: 12,642,880\n",
      "_________________________________________________________________\n"
     ]
    }
   ],
   "source": [
    "model = define_compile_model()\n",
    "clear_output()\n",
    "\n",
    "# Feezing the feature extraction layers\n",
    "model.layers[1].trainable = False\n",
    "\n",
    "model.summary()"
   ]
  },
  {
   "cell_type": "markdown",
   "id": "8b21dbb3",
   "metadata": {
    "papermill": {
     "duration": 0.02047,
     "end_time": "2021-10-28T17:34:16.804236",
     "exception": false,
     "start_time": "2021-10-28T17:34:16.783766",
     "status": "completed"
    },
    "tags": []
   },
   "source": [
    "<a id=\"train\"></a>\n",
    "# <center> Training and Fine-Tuning </center> "
   ]
  },
  {
   "cell_type": "markdown",
   "id": "14421c47",
   "metadata": {
    "papermill": {
     "duration": 0.021219,
     "end_time": "2021-10-28T17:34:16.846546",
     "exception": false,
     "start_time": "2021-10-28T17:34:16.825327",
     "status": "completed"
    },
    "tags": []
   },
   "source": [
    "## Training model with freezed layers of DenseNer169"
   ]
  },
  {
   "cell_type": "code",
   "execution_count": 8,
   "id": "2d365f94",
   "metadata": {
    "_kg_hide-output": true,
    "execution": {
     "iopub.execute_input": "2021-10-28T17:34:16.921735Z",
     "iopub.status.busy": "2021-10-28T17:34:16.895836Z",
     "iopub.status.idle": "2021-10-28T17:49:58.815828Z",
     "shell.execute_reply": "2021-10-28T17:49:58.813921Z",
     "shell.execute_reply.started": "2021-10-28T16:33:06.48321Z"
    },
    "papermill": {
     "duration": 941.948573,
     "end_time": "2021-10-28T17:49:58.816003",
     "exception": false,
     "start_time": "2021-10-28T17:34:16.867430",
     "status": "completed"
    },
    "tags": []
   },
   "outputs": [
    {
     "name": "stderr",
     "output_type": "stream",
     "text": [
      "2021-10-28 17:34:17.364249: I tensorflow/compiler/mlir/mlir_graph_optimization_pass.cc:185] None of the MLIR Optimization Passes are enabled (registered 2)\n"
     ]
    },
    {
     "name": "stdout",
     "output_type": "stream",
     "text": [
      "Epoch 1/30\n"
     ]
    },
    {
     "name": "stderr",
     "output_type": "stream",
     "text": [
      "2021-10-28 17:34:30.376837: I tensorflow/stream_executor/cuda/cuda_dnn.cc:369] Loaded cuDNN version 8005\n"
     ]
    },
    {
     "name": "stdout",
     "output_type": "stream",
     "text": [
      "359/359 [==============================] - 140s 336ms/step - loss: 9.9331 - accuracy: 0.2891 - val_loss: 5.5342 - val_accuracy: 0.2750\n",
      "Epoch 2/30\n",
      "359/359 [==============================] - 56s 157ms/step - loss: 3.4128 - accuracy: 0.4223 - val_loss: 2.4288 - val_accuracy: 0.3790\n",
      "Epoch 3/30\n",
      "359/359 [==============================] - 57s 159ms/step - loss: 1.8440 - accuracy: 0.4688 - val_loss: 1.6175 - val_accuracy: 0.4595\n",
      "Epoch 4/30\n",
      "359/359 [==============================] - 57s 157ms/step - loss: 1.4522 - accuracy: 0.5016 - val_loss: 1.4011 - val_accuracy: 0.5201\n",
      "Epoch 5/30\n",
      "359/359 [==============================] - 56s 155ms/step - loss: 1.3111 - accuracy: 0.5324 - val_loss: 1.2429 - val_accuracy: 0.5543\n",
      "Epoch 6/30\n",
      "359/359 [==============================] - 57s 158ms/step - loss: 1.2460 - accuracy: 0.5520 - val_loss: 1.2713 - val_accuracy: 0.5471\n",
      "Epoch 7/30\n",
      "359/359 [==============================] - 56s 157ms/step - loss: 1.2122 - accuracy: 0.5662 - val_loss: 1.2596 - val_accuracy: 0.5628\n",
      "Epoch 8/30\n",
      "359/359 [==============================] - 57s 158ms/step - loss: 1.1805 - accuracy: 0.5851 - val_loss: 1.2192 - val_accuracy: 0.5710\n",
      "Epoch 9/30\n",
      "359/359 [==============================] - 57s 159ms/step - loss: 1.1532 - accuracy: 0.6012 - val_loss: 1.1902 - val_accuracy: 0.5783\n",
      "Epoch 10/30\n",
      "359/359 [==============================] - 57s 160ms/step - loss: 1.1222 - accuracy: 0.6141 - val_loss: 1.1805 - val_accuracy: 0.5908\n",
      "Epoch 11/30\n",
      "359/359 [==============================] - 57s 160ms/step - loss: 1.1094 - accuracy: 0.6223 - val_loss: 1.1959 - val_accuracy: 0.5863\n",
      "Epoch 12/30\n",
      "359/359 [==============================] - 56s 157ms/step - loss: 1.0852 - accuracy: 0.6371 - val_loss: 1.1449 - val_accuracy: 0.6168\n",
      "Epoch 13/30\n",
      "359/359 [==============================] - 57s 159ms/step - loss: 1.0580 - accuracy: 0.6460 - val_loss: 1.1899 - val_accuracy: 0.5825\n",
      "Epoch 14/30\n",
      "359/359 [==============================] - 59s 163ms/step - loss: 1.0346 - accuracy: 0.6560 - val_loss: 1.2902 - val_accuracy: 0.5741\n",
      "Epoch 15/30\n",
      "359/359 [==============================] - 57s 158ms/step - loss: 1.0209 - accuracy: 0.6640 - val_loss: 1.2705 - val_accuracy: 0.5658\n",
      "Restoring model weights from the end of the best epoch.\n",
      "Epoch 00015: early stopping\n"
     ]
    }
   ],
   "source": [
    "earlyStoppingCallback = tf.keras.callbacks.EarlyStopping(monitor='val_loss', \n",
    "                                                         patience=EARLY_STOPPING_CRITERIA,\n",
    "                                                         verbose= 1 ,\n",
    "                                                         restore_best_weights=True\n",
    "                                                        )\n",
    "\n",
    "history = model.fit(x = train_generator,\n",
    "                    epochs = EPOCHS ,\n",
    "                    validation_data = validation_generator , \n",
    "                    callbacks= [earlyStoppingCallback])\n",
    "\n",
    "history = pd.DataFrame(history.history)"
   ]
  },
  {
   "cell_type": "markdown",
   "id": "88b76b23",
   "metadata": {
    "papermill": {
     "duration": 1.475711,
     "end_time": "2021-10-28T17:50:01.719922",
     "exception": false,
     "start_time": "2021-10-28T17:50:00.244211",
     "status": "completed"
    },
    "tags": []
   },
   "source": [
    "## Fine Tuning"
   ]
  },
  {
   "cell_type": "code",
   "execution_count": 9,
   "id": "3f147ef9",
   "metadata": {
    "_kg_hide-output": true,
    "execution": {
     "iopub.execute_input": "2021-10-28T17:50:04.885971Z",
     "iopub.status.busy": "2021-10-28T17:50:04.881155Z",
     "iopub.status.idle": "2021-10-28T18:11:19.579814Z",
     "shell.execute_reply": "2021-10-28T18:11:19.581030Z",
     "shell.execute_reply.started": "2021-10-28T16:40:49.276082Z"
    },
    "papermill": {
     "duration": 1276.412607,
     "end_time": "2021-10-28T18:11:19.581271",
     "exception": false,
     "start_time": "2021-10-28T17:50:03.168664",
     "status": "completed"
    },
    "tags": []
   },
   "outputs": [
    {
     "name": "stdout",
     "output_type": "stream",
     "text": [
      "Epoch 1/20\n",
      "359/359 [==============================] - 70s 164ms/step - loss: 0.9970 - accuracy: 0.6693 - val_loss: 1.0773 - val_accuracy: 0.6360\n",
      "Epoch 2/20\n",
      "359/359 [==============================] - 58s 162ms/step - loss: 0.9609 - accuracy: 0.6813 - val_loss: 1.0681 - val_accuracy: 0.6382\n",
      "Epoch 3/20\n",
      "359/359 [==============================] - 58s 162ms/step - loss: 0.9503 - accuracy: 0.6806 - val_loss: 1.0651 - val_accuracy: 0.6368\n",
      "Epoch 4/20\n",
      "359/359 [==============================] - 57s 159ms/step - loss: 0.9348 - accuracy: 0.6883 - val_loss: 1.0626 - val_accuracy: 0.6393\n",
      "Epoch 5/20\n",
      "359/359 [==============================] - 58s 161ms/step - loss: 0.9310 - accuracy: 0.6900 - val_loss: 1.0603 - val_accuracy: 0.6408\n",
      "Epoch 6/20\n",
      "359/359 [==============================] - 58s 161ms/step - loss: 0.9139 - accuracy: 0.6989 - val_loss: 1.0607 - val_accuracy: 0.6419\n",
      "Epoch 7/20\n",
      "359/359 [==============================] - 57s 159ms/step - loss: 0.9176 - accuracy: 0.6957 - val_loss: 1.0582 - val_accuracy: 0.6431\n",
      "Epoch 8/20\n",
      "359/359 [==============================] - 58s 161ms/step - loss: 0.9106 - accuracy: 0.7002 - val_loss: 1.0560 - val_accuracy: 0.6407\n",
      "Epoch 9/20\n",
      "359/359 [==============================] - 57s 159ms/step - loss: 0.9080 - accuracy: 0.6979 - val_loss: 1.0550 - val_accuracy: 0.6427\n",
      "Epoch 10/20\n",
      "359/359 [==============================] - 59s 165ms/step - loss: 0.8991 - accuracy: 0.7012 - val_loss: 1.0539 - val_accuracy: 0.6410\n",
      "Epoch 11/20\n",
      "359/359 [==============================] - 56s 157ms/step - loss: 0.8944 - accuracy: 0.7035 - val_loss: 1.0547 - val_accuracy: 0.6417\n",
      "Epoch 12/20\n",
      "359/359 [==============================] - 60s 167ms/step - loss: 0.8869 - accuracy: 0.7080 - val_loss: 1.0552 - val_accuracy: 0.6436\n",
      "Epoch 13/20\n",
      "359/359 [==============================] - 57s 160ms/step - loss: 0.8796 - accuracy: 0.7072 - val_loss: 1.0548 - val_accuracy: 0.6427\n",
      "Epoch 14/20\n",
      "359/359 [==============================] - 60s 167ms/step - loss: 0.8744 - accuracy: 0.7077 - val_loss: 1.0562 - val_accuracy: 0.6429\n",
      "Epoch 15/20\n",
      "359/359 [==============================] - 57s 159ms/step - loss: 0.8812 - accuracy: 0.7070 - val_loss: 1.0547 - val_accuracy: 0.6427\n",
      "Epoch 16/20\n",
      "359/359 [==============================] - 60s 166ms/step - loss: 0.8660 - accuracy: 0.7130 - val_loss: 1.0541 - val_accuracy: 0.6408\n",
      "Epoch 17/20\n",
      "359/359 [==============================] - 60s 166ms/step - loss: 0.8647 - accuracy: 0.7143 - val_loss: 1.0540 - val_accuracy: 0.6447\n",
      "Epoch 18/20\n",
      "359/359 [==============================] - 58s 160ms/step - loss: 0.8651 - accuracy: 0.7121 - val_loss: 1.0535 - val_accuracy: 0.6457\n",
      "Epoch 19/20\n",
      "359/359 [==============================] - 58s 161ms/step - loss: 0.8618 - accuracy: 0.7129 - val_loss: 1.0536 - val_accuracy: 0.6433\n",
      "Epoch 20/20\n",
      "359/359 [==============================] - 57s 159ms/step - loss: 0.8619 - accuracy: 0.7135 - val_loss: 1.0522 - val_accuracy: 0.6440\n"
     ]
    }
   ],
   "source": [
    "# Un-Freezing the feature extraction layers for fine tuning \n",
    "model.layers[1].trainable = True\n",
    "\n",
    "model.compile(optimizer=tf.keras.optimizers.SGD(0.001), #lower learning rate\n",
    "                loss='categorical_crossentropy',\n",
    "                metrics = ['accuracy'])\n",
    "\n",
    "history_ = model.fit(x = train_generator,epochs = FINE_TUNING_EPOCHS ,validation_data = validation_generator)\n",
    "history = history.append(pd.DataFrame(history_.history) , ignore_index=True)"
   ]
  },
  {
   "cell_type": "markdown",
   "id": "ad849a53",
   "metadata": {
    "papermill": {
     "duration": 3.265471,
     "end_time": "2021-10-28T18:11:26.365540",
     "exception": false,
     "start_time": "2021-10-28T18:11:23.100069",
     "status": "completed"
    },
    "tags": []
   },
   "source": [
    "## Training plots"
   ]
  },
  {
   "cell_type": "code",
   "execution_count": 10,
   "id": "55fdb861",
   "metadata": {
    "_kg_hide-input": true,
    "execution": {
     "iopub.execute_input": "2021-10-28T18:11:33.366342Z",
     "iopub.status.busy": "2021-10-28T18:11:33.365546Z",
     "iopub.status.idle": "2021-10-28T18:11:33.454163Z",
     "shell.execute_reply": "2021-10-28T18:11:33.454567Z",
     "shell.execute_reply.started": "2021-10-28T16:48:28.261145Z"
    },
    "papermill": {
     "duration": 3.733824,
     "end_time": "2021-10-28T18:11:33.454718",
     "exception": false,
     "start_time": "2021-10-28T18:11:29.720894",
     "status": "completed"
    },
    "tags": []
   },
   "outputs": [
    {
     "data": {
      "text/html": [
       "<div>                            <div id=\"96150fc9-438e-4266-8389-0a714b9df065\" class=\"plotly-graph-div\" style=\"height:525px; width:100%;\"></div>            <script type=\"text/javascript\">                require([\"plotly\"], function(Plotly) {                    window.PLOTLYENV=window.PLOTLYENV || {};                                    if (document.getElementById(\"96150fc9-438e-4266-8389-0a714b9df065\")) {                    Plotly.newPlot(                        \"96150fc9-438e-4266-8389-0a714b9df065\",                        [{\"hovertemplate\":\"variable=accuracy<br>index=%{x}<br>value=%{y}<extra></extra>\",\"legendgroup\":\"accuracy\",\"line\":{\"color\":\"#636efa\",\"dash\":\"solid\"},\"marker\":{\"symbol\":\"circle\"},\"mode\":\"lines+markers\",\"name\":\"accuracy\",\"orientation\":\"v\",\"showlegend\":true,\"type\":\"scatter\",\"x\":[0,1,2,3,4,5,6,7,8,9,10,11,12,13,14,15,16,17,18,19,20,21,22,23,24,25,26,27,28,29,30,31,32,33,34],\"xaxis\":\"x\",\"y\":[0.2891414165496826,0.4223267138004303,0.46882620453834534,0.5016109347343445,0.5323929190635681,0.5519853830337524,0.5661790370941162,0.5851184129714966,0.6011842489242554,0.614115297794342,0.6223441362380981,0.6371473073959351,0.6460292339324951,0.6560431718826294,0.6640108227729797,0.6693225502967834,0.6813392639160156,0.6805990934371948,0.6883490085601807,0.6900034546852112,0.6988853812217712,0.6956635117530823,0.70023512840271,0.6979275345802307,0.7012364864349365,0.7035440802574158,0.7079850435256958,0.7072013020515442,0.7077237963676453,0.7069836258888245,0.713035523891449,0.7143417000770569,0.7120776772499084,0.7128613591194153,0.7134709358215332],\"yaxis\":\"y\"},{\"hovertemplate\":\"variable=val_accuracy<br>index=%{x}<br>value=%{y}<extra></extra>\",\"legendgroup\":\"val_accuracy\",\"line\":{\"color\":\"#EF553B\",\"dash\":\"solid\"},\"marker\":{\"symbol\":\"circle\"},\"mode\":\"lines+markers\",\"name\":\"val_accuracy\",\"orientation\":\"v\",\"showlegend\":true,\"type\":\"scatter\",\"x\":[0,1,2,3,4,5,6,7,8,9,10,11,12,13,14,15,16,17,18,19,20,21,22,23,24,25,26,27,28,29,30,31,32,33,34],\"xaxis\":\"x\",\"y\":[0.2750391960144043,0.3790280520915985,0.45950183272361755,0.5201184749603271,0.5542588233947754,0.5471172332763672,0.5627939105033875,0.5709806680679321,0.5782964825630188,0.590837836265564,0.586309015750885,0.6167914867401123,0.5824769139289856,0.5741159915924072,0.5657550692558289,0.6359519362449646,0.6382163166999817,0.6368228793144226,0.6392614245414734,0.6408291459083557,0.6418742537498474,0.6430935263633728,0.6406549215316772,0.6427451372146606,0.6410033106803894,0.641700029373169,0.6436160802841187,0.6427451372146606,0.6429193615913391,0.6427451372146606,0.6408291459083557,0.6446611881256104,0.645706295967102,0.6432677507400513,0.6439644694328308],\"yaxis\":\"y\"}],                        {\"legend\":{\"title\":{\"text\":\"variable\"},\"tracegroupgap\":0},\"margin\":{\"t\":60},\"showlegend\":true,\"template\":{\"data\":{\"bar\":[{\"error_x\":{\"color\":\"#2a3f5f\"},\"error_y\":{\"color\":\"#2a3f5f\"},\"marker\":{\"line\":{\"color\":\"#E5ECF6\",\"width\":0.5},\"pattern\":{\"fillmode\":\"overlay\",\"size\":10,\"solidity\":0.2}},\"type\":\"bar\"}],\"barpolar\":[{\"marker\":{\"line\":{\"color\":\"#E5ECF6\",\"width\":0.5},\"pattern\":{\"fillmode\":\"overlay\",\"size\":10,\"solidity\":0.2}},\"type\":\"barpolar\"}],\"carpet\":[{\"aaxis\":{\"endlinecolor\":\"#2a3f5f\",\"gridcolor\":\"white\",\"linecolor\":\"white\",\"minorgridcolor\":\"white\",\"startlinecolor\":\"#2a3f5f\"},\"baxis\":{\"endlinecolor\":\"#2a3f5f\",\"gridcolor\":\"white\",\"linecolor\":\"white\",\"minorgridcolor\":\"white\",\"startlinecolor\":\"#2a3f5f\"},\"type\":\"carpet\"}],\"choropleth\":[{\"colorbar\":{\"outlinewidth\":0,\"ticks\":\"\"},\"type\":\"choropleth\"}],\"contour\":[{\"colorbar\":{\"outlinewidth\":0,\"ticks\":\"\"},\"colorscale\":[[0.0,\"#0d0887\"],[0.1111111111111111,\"#46039f\"],[0.2222222222222222,\"#7201a8\"],[0.3333333333333333,\"#9c179e\"],[0.4444444444444444,\"#bd3786\"],[0.5555555555555556,\"#d8576b\"],[0.6666666666666666,\"#ed7953\"],[0.7777777777777778,\"#fb9f3a\"],[0.8888888888888888,\"#fdca26\"],[1.0,\"#f0f921\"]],\"type\":\"contour\"}],\"contourcarpet\":[{\"colorbar\":{\"outlinewidth\":0,\"ticks\":\"\"},\"type\":\"contourcarpet\"}],\"heatmap\":[{\"colorbar\":{\"outlinewidth\":0,\"ticks\":\"\"},\"colorscale\":[[0.0,\"#0d0887\"],[0.1111111111111111,\"#46039f\"],[0.2222222222222222,\"#7201a8\"],[0.3333333333333333,\"#9c179e\"],[0.4444444444444444,\"#bd3786\"],[0.5555555555555556,\"#d8576b\"],[0.6666666666666666,\"#ed7953\"],[0.7777777777777778,\"#fb9f3a\"],[0.8888888888888888,\"#fdca26\"],[1.0,\"#f0f921\"]],\"type\":\"heatmap\"}],\"heatmapgl\":[{\"colorbar\":{\"outlinewidth\":0,\"ticks\":\"\"},\"colorscale\":[[0.0,\"#0d0887\"],[0.1111111111111111,\"#46039f\"],[0.2222222222222222,\"#7201a8\"],[0.3333333333333333,\"#9c179e\"],[0.4444444444444444,\"#bd3786\"],[0.5555555555555556,\"#d8576b\"],[0.6666666666666666,\"#ed7953\"],[0.7777777777777778,\"#fb9f3a\"],[0.8888888888888888,\"#fdca26\"],[1.0,\"#f0f921\"]],\"type\":\"heatmapgl\"}],\"histogram\":[{\"marker\":{\"pattern\":{\"fillmode\":\"overlay\",\"size\":10,\"solidity\":0.2}},\"type\":\"histogram\"}],\"histogram2d\":[{\"colorbar\":{\"outlinewidth\":0,\"ticks\":\"\"},\"colorscale\":[[0.0,\"#0d0887\"],[0.1111111111111111,\"#46039f\"],[0.2222222222222222,\"#7201a8\"],[0.3333333333333333,\"#9c179e\"],[0.4444444444444444,\"#bd3786\"],[0.5555555555555556,\"#d8576b\"],[0.6666666666666666,\"#ed7953\"],[0.7777777777777778,\"#fb9f3a\"],[0.8888888888888888,\"#fdca26\"],[1.0,\"#f0f921\"]],\"type\":\"histogram2d\"}],\"histogram2dcontour\":[{\"colorbar\":{\"outlinewidth\":0,\"ticks\":\"\"},\"colorscale\":[[0.0,\"#0d0887\"],[0.1111111111111111,\"#46039f\"],[0.2222222222222222,\"#7201a8\"],[0.3333333333333333,\"#9c179e\"],[0.4444444444444444,\"#bd3786\"],[0.5555555555555556,\"#d8576b\"],[0.6666666666666666,\"#ed7953\"],[0.7777777777777778,\"#fb9f3a\"],[0.8888888888888888,\"#fdca26\"],[1.0,\"#f0f921\"]],\"type\":\"histogram2dcontour\"}],\"mesh3d\":[{\"colorbar\":{\"outlinewidth\":0,\"ticks\":\"\"},\"type\":\"mesh3d\"}],\"parcoords\":[{\"line\":{\"colorbar\":{\"outlinewidth\":0,\"ticks\":\"\"}},\"type\":\"parcoords\"}],\"pie\":[{\"automargin\":true,\"type\":\"pie\"}],\"scatter\":[{\"marker\":{\"colorbar\":{\"outlinewidth\":0,\"ticks\":\"\"}},\"type\":\"scatter\"}],\"scatter3d\":[{\"line\":{\"colorbar\":{\"outlinewidth\":0,\"ticks\":\"\"}},\"marker\":{\"colorbar\":{\"outlinewidth\":0,\"ticks\":\"\"}},\"type\":\"scatter3d\"}],\"scattercarpet\":[{\"marker\":{\"colorbar\":{\"outlinewidth\":0,\"ticks\":\"\"}},\"type\":\"scattercarpet\"}],\"scattergeo\":[{\"marker\":{\"colorbar\":{\"outlinewidth\":0,\"ticks\":\"\"}},\"type\":\"scattergeo\"}],\"scattergl\":[{\"marker\":{\"colorbar\":{\"outlinewidth\":0,\"ticks\":\"\"}},\"type\":\"scattergl\"}],\"scattermapbox\":[{\"marker\":{\"colorbar\":{\"outlinewidth\":0,\"ticks\":\"\"}},\"type\":\"scattermapbox\"}],\"scatterpolar\":[{\"marker\":{\"colorbar\":{\"outlinewidth\":0,\"ticks\":\"\"}},\"type\":\"scatterpolar\"}],\"scatterpolargl\":[{\"marker\":{\"colorbar\":{\"outlinewidth\":0,\"ticks\":\"\"}},\"type\":\"scatterpolargl\"}],\"scatterternary\":[{\"marker\":{\"colorbar\":{\"outlinewidth\":0,\"ticks\":\"\"}},\"type\":\"scatterternary\"}],\"surface\":[{\"colorbar\":{\"outlinewidth\":0,\"ticks\":\"\"},\"colorscale\":[[0.0,\"#0d0887\"],[0.1111111111111111,\"#46039f\"],[0.2222222222222222,\"#7201a8\"],[0.3333333333333333,\"#9c179e\"],[0.4444444444444444,\"#bd3786\"],[0.5555555555555556,\"#d8576b\"],[0.6666666666666666,\"#ed7953\"],[0.7777777777777778,\"#fb9f3a\"],[0.8888888888888888,\"#fdca26\"],[1.0,\"#f0f921\"]],\"type\":\"surface\"}],\"table\":[{\"cells\":{\"fill\":{\"color\":\"#EBF0F8\"},\"line\":{\"color\":\"white\"}},\"header\":{\"fill\":{\"color\":\"#C8D4E3\"},\"line\":{\"color\":\"white\"}},\"type\":\"table\"}]},\"layout\":{\"annotationdefaults\":{\"arrowcolor\":\"#2a3f5f\",\"arrowhead\":0,\"arrowwidth\":1},\"autotypenumbers\":\"strict\",\"coloraxis\":{\"colorbar\":{\"outlinewidth\":0,\"ticks\":\"\"}},\"colorscale\":{\"diverging\":[[0,\"#8e0152\"],[0.1,\"#c51b7d\"],[0.2,\"#de77ae\"],[0.3,\"#f1b6da\"],[0.4,\"#fde0ef\"],[0.5,\"#f7f7f7\"],[0.6,\"#e6f5d0\"],[0.7,\"#b8e186\"],[0.8,\"#7fbc41\"],[0.9,\"#4d9221\"],[1,\"#276419\"]],\"sequential\":[[0.0,\"#0d0887\"],[0.1111111111111111,\"#46039f\"],[0.2222222222222222,\"#7201a8\"],[0.3333333333333333,\"#9c179e\"],[0.4444444444444444,\"#bd3786\"],[0.5555555555555556,\"#d8576b\"],[0.6666666666666666,\"#ed7953\"],[0.7777777777777778,\"#fb9f3a\"],[0.8888888888888888,\"#fdca26\"],[1.0,\"#f0f921\"]],\"sequentialminus\":[[0.0,\"#0d0887\"],[0.1111111111111111,\"#46039f\"],[0.2222222222222222,\"#7201a8\"],[0.3333333333333333,\"#9c179e\"],[0.4444444444444444,\"#bd3786\"],[0.5555555555555556,\"#d8576b\"],[0.6666666666666666,\"#ed7953\"],[0.7777777777777778,\"#fb9f3a\"],[0.8888888888888888,\"#fdca26\"],[1.0,\"#f0f921\"]]},\"colorway\":[\"#636efa\",\"#EF553B\",\"#00cc96\",\"#ab63fa\",\"#FFA15A\",\"#19d3f3\",\"#FF6692\",\"#B6E880\",\"#FF97FF\",\"#FECB52\"],\"font\":{\"color\":\"#2a3f5f\"},\"geo\":{\"bgcolor\":\"white\",\"lakecolor\":\"white\",\"landcolor\":\"#E5ECF6\",\"showlakes\":true,\"showland\":true,\"subunitcolor\":\"white\"},\"hoverlabel\":{\"align\":\"left\"},\"hovermode\":\"closest\",\"mapbox\":{\"style\":\"light\"},\"paper_bgcolor\":\"white\",\"plot_bgcolor\":\"#E5ECF6\",\"polar\":{\"angularaxis\":{\"gridcolor\":\"white\",\"linecolor\":\"white\",\"ticks\":\"\"},\"bgcolor\":\"#E5ECF6\",\"radialaxis\":{\"gridcolor\":\"white\",\"linecolor\":\"white\",\"ticks\":\"\"}},\"scene\":{\"xaxis\":{\"backgroundcolor\":\"#E5ECF6\",\"gridcolor\":\"white\",\"gridwidth\":2,\"linecolor\":\"white\",\"showbackground\":true,\"ticks\":\"\",\"zerolinecolor\":\"white\"},\"yaxis\":{\"backgroundcolor\":\"#E5ECF6\",\"gridcolor\":\"white\",\"gridwidth\":2,\"linecolor\":\"white\",\"showbackground\":true,\"ticks\":\"\",\"zerolinecolor\":\"white\"},\"zaxis\":{\"backgroundcolor\":\"#E5ECF6\",\"gridcolor\":\"white\",\"gridwidth\":2,\"linecolor\":\"white\",\"showbackground\":true,\"ticks\":\"\",\"zerolinecolor\":\"white\"}},\"shapedefaults\":{\"line\":{\"color\":\"#2a3f5f\"}},\"ternary\":{\"aaxis\":{\"gridcolor\":\"white\",\"linecolor\":\"white\",\"ticks\":\"\"},\"baxis\":{\"gridcolor\":\"white\",\"linecolor\":\"white\",\"ticks\":\"\"},\"bgcolor\":\"#E5ECF6\",\"caxis\":{\"gridcolor\":\"white\",\"linecolor\":\"white\",\"ticks\":\"\"}},\"title\":{\"x\":0.05},\"xaxis\":{\"automargin\":true,\"gridcolor\":\"white\",\"linecolor\":\"white\",\"ticks\":\"\",\"title\":{\"standoff\":15},\"zerolinecolor\":\"white\",\"zerolinewidth\":2},\"yaxis\":{\"automargin\":true,\"gridcolor\":\"white\",\"linecolor\":\"white\",\"ticks\":\"\",\"title\":{\"standoff\":15},\"zerolinecolor\":\"white\",\"zerolinewidth\":2}}},\"title\":{\"text\":\"Accuracy vs Number of Epochs\",\"x\":0.5,\"xanchor\":\"center\",\"y\":0.94,\"yanchor\":\"top\"},\"xaxis\":{\"anchor\":\"y\",\"domain\":[0.0,1.0],\"title\":{\"text\":\"Number of Epochs\"}},\"yaxis\":{\"anchor\":\"x\",\"domain\":[0.0,1.0],\"title\":{\"text\":\"Accuracy\"}}},                        {\"responsive\": true}                    ).then(function(){\n",
       "                            \n",
       "var gd = document.getElementById('96150fc9-438e-4266-8389-0a714b9df065');\n",
       "var x = new MutationObserver(function (mutations, observer) {{\n",
       "        var display = window.getComputedStyle(gd).display;\n",
       "        if (!display || display === 'none') {{\n",
       "            console.log([gd, 'removed!']);\n",
       "            Plotly.purge(gd);\n",
       "            observer.disconnect();\n",
       "        }}\n",
       "}});\n",
       "\n",
       "// Listen for the removal of the full notebook cells\n",
       "var notebookContainer = gd.closest('#notebook-container');\n",
       "if (notebookContainer) {{\n",
       "    x.observe(notebookContainer, {childList: true});\n",
       "}}\n",
       "\n",
       "// Listen for the clearing of the current output cell\n",
       "var outputEl = gd.closest('.output');\n",
       "if (outputEl) {{\n",
       "    x.observe(outputEl, {childList: true});\n",
       "}}\n",
       "\n",
       "                        })                };                });            </script>        </div>"
      ]
     },
     "metadata": {},
     "output_type": "display_data"
    }
   ],
   "source": [
    "x = px.line(data_frame= history , y= [\"accuracy\" , \"val_accuracy\"] ,markers = True )\n",
    "x.update_xaxes(title=\"Number of Epochs\")\n",
    "x.update_yaxes(title = \"Accuracy\")\n",
    "x.update_layout(showlegend = True,\n",
    "    title = {\n",
    "        'text': 'Accuracy vs Number of Epochs',\n",
    "        'y':0.94,\n",
    "        'x':0.5,\n",
    "        'xanchor': 'center',\n",
    "        'yanchor': 'top'})\n",
    "x.show()"
   ]
  },
  {
   "cell_type": "code",
   "execution_count": 11,
   "id": "7186918a",
   "metadata": {
    "_kg_hide-input": true,
    "execution": {
     "iopub.execute_input": "2021-10-28T18:11:40.554498Z",
     "iopub.status.busy": "2021-10-28T18:11:40.505571Z",
     "iopub.status.idle": "2021-10-28T18:11:40.557502Z",
     "shell.execute_reply": "2021-10-28T18:11:40.557956Z",
     "shell.execute_reply.started": "2021-10-28T16:48:28.38595Z"
    },
    "papermill": {
     "duration": 3.780831,
     "end_time": "2021-10-28T18:11:40.558095",
     "exception": false,
     "start_time": "2021-10-28T18:11:36.777264",
     "status": "completed"
    },
    "tags": []
   },
   "outputs": [
    {
     "data": {
      "text/html": [
       "<div>                            <div id=\"5a78867f-954a-4696-adb4-e544f997121d\" class=\"plotly-graph-div\" style=\"height:525px; width:100%;\"></div>            <script type=\"text/javascript\">                require([\"plotly\"], function(Plotly) {                    window.PLOTLYENV=window.PLOTLYENV || {};                                    if (document.getElementById(\"5a78867f-954a-4696-adb4-e544f997121d\")) {                    Plotly.newPlot(                        \"5a78867f-954a-4696-adb4-e544f997121d\",                        [{\"hovertemplate\":\"variable=loss<br>index=%{x}<br>value=%{y}<extra></extra>\",\"legendgroup\":\"loss\",\"line\":{\"color\":\"#636efa\",\"dash\":\"solid\"},\"marker\":{\"symbol\":\"circle\"},\"mode\":\"lines+markers\",\"name\":\"loss\",\"orientation\":\"v\",\"showlegend\":true,\"type\":\"scatter\",\"x\":[0,1,2,3,4,5,6,7,8,9,10,11,12,13,14,15,16,17,18,19,20,21,22,23,24,25,26,27,28,29,30,31,32,33,34],\"xaxis\":\"x\",\"y\":[9.933147430419922,3.4127635955810547,1.8439851999282837,1.4522007703781128,1.3111426830291748,1.2460130453109741,1.2121800184249878,1.180517315864563,1.1531727313995361,1.1222028732299805,1.1093918085098267,1.0851765871047974,1.0579700469970703,1.0345921516418457,1.020866870880127,0.9970155358314514,0.9609347581863403,0.9502758979797363,0.9348207712173462,0.9309952855110168,0.9139308333396912,0.9176432490348816,0.9105780124664307,0.9080187678337097,0.8990761041641235,0.8943654298782349,0.8868573307991028,0.8796175718307495,0.8743986487388611,0.8811922073364258,0.8660076260566711,0.8647112250328064,0.8650693893432617,0.8617929220199585,0.8618755340576172],\"yaxis\":\"y\"},{\"hovertemplate\":\"variable=val_loss<br>index=%{x}<br>value=%{y}<extra></extra>\",\"legendgroup\":\"val_loss\",\"line\":{\"color\":\"#EF553B\",\"dash\":\"solid\"},\"marker\":{\"symbol\":\"circle\"},\"mode\":\"lines+markers\",\"name\":\"val_loss\",\"orientation\":\"v\",\"showlegend\":true,\"type\":\"scatter\",\"x\":[0,1,2,3,4,5,6,7,8,9,10,11,12,13,14,15,16,17,18,19,20,21,22,23,24,25,26,27,28,29,30,31,32,33,34],\"xaxis\":\"x\",\"y\":[5.53420352935791,2.428816318511963,1.6174705028533936,1.4011322259902954,1.242896318435669,1.2712509632110596,1.2596378326416016,1.2192267179489136,1.190163254737854,1.1805013418197632,1.195865511894226,1.144892692565918,1.1899102926254272,1.290210485458374,1.2704538106918335,1.0772795677185059,1.068053126335144,1.0651144981384277,1.062564492225647,1.0602920055389404,1.0607271194458008,1.0582486391067505,1.0560181140899658,1.0549657344818115,1.0538859367370605,1.0546880960464478,1.055177092552185,1.0548189878463745,1.0562134981155396,1.054726243019104,1.0540907382965088,1.0539790391921997,1.0534805059432983,1.0535656213760376,1.0521854162216187],\"yaxis\":\"y\"}],                        {\"legend\":{\"title\":{\"text\":\"variable\"},\"tracegroupgap\":0},\"margin\":{\"t\":60},\"showlegend\":true,\"template\":{\"data\":{\"bar\":[{\"error_x\":{\"color\":\"#2a3f5f\"},\"error_y\":{\"color\":\"#2a3f5f\"},\"marker\":{\"line\":{\"color\":\"#E5ECF6\",\"width\":0.5},\"pattern\":{\"fillmode\":\"overlay\",\"size\":10,\"solidity\":0.2}},\"type\":\"bar\"}],\"barpolar\":[{\"marker\":{\"line\":{\"color\":\"#E5ECF6\",\"width\":0.5},\"pattern\":{\"fillmode\":\"overlay\",\"size\":10,\"solidity\":0.2}},\"type\":\"barpolar\"}],\"carpet\":[{\"aaxis\":{\"endlinecolor\":\"#2a3f5f\",\"gridcolor\":\"white\",\"linecolor\":\"white\",\"minorgridcolor\":\"white\",\"startlinecolor\":\"#2a3f5f\"},\"baxis\":{\"endlinecolor\":\"#2a3f5f\",\"gridcolor\":\"white\",\"linecolor\":\"white\",\"minorgridcolor\":\"white\",\"startlinecolor\":\"#2a3f5f\"},\"type\":\"carpet\"}],\"choropleth\":[{\"colorbar\":{\"outlinewidth\":0,\"ticks\":\"\"},\"type\":\"choropleth\"}],\"contour\":[{\"colorbar\":{\"outlinewidth\":0,\"ticks\":\"\"},\"colorscale\":[[0.0,\"#0d0887\"],[0.1111111111111111,\"#46039f\"],[0.2222222222222222,\"#7201a8\"],[0.3333333333333333,\"#9c179e\"],[0.4444444444444444,\"#bd3786\"],[0.5555555555555556,\"#d8576b\"],[0.6666666666666666,\"#ed7953\"],[0.7777777777777778,\"#fb9f3a\"],[0.8888888888888888,\"#fdca26\"],[1.0,\"#f0f921\"]],\"type\":\"contour\"}],\"contourcarpet\":[{\"colorbar\":{\"outlinewidth\":0,\"ticks\":\"\"},\"type\":\"contourcarpet\"}],\"heatmap\":[{\"colorbar\":{\"outlinewidth\":0,\"ticks\":\"\"},\"colorscale\":[[0.0,\"#0d0887\"],[0.1111111111111111,\"#46039f\"],[0.2222222222222222,\"#7201a8\"],[0.3333333333333333,\"#9c179e\"],[0.4444444444444444,\"#bd3786\"],[0.5555555555555556,\"#d8576b\"],[0.6666666666666666,\"#ed7953\"],[0.7777777777777778,\"#fb9f3a\"],[0.8888888888888888,\"#fdca26\"],[1.0,\"#f0f921\"]],\"type\":\"heatmap\"}],\"heatmapgl\":[{\"colorbar\":{\"outlinewidth\":0,\"ticks\":\"\"},\"colorscale\":[[0.0,\"#0d0887\"],[0.1111111111111111,\"#46039f\"],[0.2222222222222222,\"#7201a8\"],[0.3333333333333333,\"#9c179e\"],[0.4444444444444444,\"#bd3786\"],[0.5555555555555556,\"#d8576b\"],[0.6666666666666666,\"#ed7953\"],[0.7777777777777778,\"#fb9f3a\"],[0.8888888888888888,\"#fdca26\"],[1.0,\"#f0f921\"]],\"type\":\"heatmapgl\"}],\"histogram\":[{\"marker\":{\"pattern\":{\"fillmode\":\"overlay\",\"size\":10,\"solidity\":0.2}},\"type\":\"histogram\"}],\"histogram2d\":[{\"colorbar\":{\"outlinewidth\":0,\"ticks\":\"\"},\"colorscale\":[[0.0,\"#0d0887\"],[0.1111111111111111,\"#46039f\"],[0.2222222222222222,\"#7201a8\"],[0.3333333333333333,\"#9c179e\"],[0.4444444444444444,\"#bd3786\"],[0.5555555555555556,\"#d8576b\"],[0.6666666666666666,\"#ed7953\"],[0.7777777777777778,\"#fb9f3a\"],[0.8888888888888888,\"#fdca26\"],[1.0,\"#f0f921\"]],\"type\":\"histogram2d\"}],\"histogram2dcontour\":[{\"colorbar\":{\"outlinewidth\":0,\"ticks\":\"\"},\"colorscale\":[[0.0,\"#0d0887\"],[0.1111111111111111,\"#46039f\"],[0.2222222222222222,\"#7201a8\"],[0.3333333333333333,\"#9c179e\"],[0.4444444444444444,\"#bd3786\"],[0.5555555555555556,\"#d8576b\"],[0.6666666666666666,\"#ed7953\"],[0.7777777777777778,\"#fb9f3a\"],[0.8888888888888888,\"#fdca26\"],[1.0,\"#f0f921\"]],\"type\":\"histogram2dcontour\"}],\"mesh3d\":[{\"colorbar\":{\"outlinewidth\":0,\"ticks\":\"\"},\"type\":\"mesh3d\"}],\"parcoords\":[{\"line\":{\"colorbar\":{\"outlinewidth\":0,\"ticks\":\"\"}},\"type\":\"parcoords\"}],\"pie\":[{\"automargin\":true,\"type\":\"pie\"}],\"scatter\":[{\"marker\":{\"colorbar\":{\"outlinewidth\":0,\"ticks\":\"\"}},\"type\":\"scatter\"}],\"scatter3d\":[{\"line\":{\"colorbar\":{\"outlinewidth\":0,\"ticks\":\"\"}},\"marker\":{\"colorbar\":{\"outlinewidth\":0,\"ticks\":\"\"}},\"type\":\"scatter3d\"}],\"scattercarpet\":[{\"marker\":{\"colorbar\":{\"outlinewidth\":0,\"ticks\":\"\"}},\"type\":\"scattercarpet\"}],\"scattergeo\":[{\"marker\":{\"colorbar\":{\"outlinewidth\":0,\"ticks\":\"\"}},\"type\":\"scattergeo\"}],\"scattergl\":[{\"marker\":{\"colorbar\":{\"outlinewidth\":0,\"ticks\":\"\"}},\"type\":\"scattergl\"}],\"scattermapbox\":[{\"marker\":{\"colorbar\":{\"outlinewidth\":0,\"ticks\":\"\"}},\"type\":\"scattermapbox\"}],\"scatterpolar\":[{\"marker\":{\"colorbar\":{\"outlinewidth\":0,\"ticks\":\"\"}},\"type\":\"scatterpolar\"}],\"scatterpolargl\":[{\"marker\":{\"colorbar\":{\"outlinewidth\":0,\"ticks\":\"\"}},\"type\":\"scatterpolargl\"}],\"scatterternary\":[{\"marker\":{\"colorbar\":{\"outlinewidth\":0,\"ticks\":\"\"}},\"type\":\"scatterternary\"}],\"surface\":[{\"colorbar\":{\"outlinewidth\":0,\"ticks\":\"\"},\"colorscale\":[[0.0,\"#0d0887\"],[0.1111111111111111,\"#46039f\"],[0.2222222222222222,\"#7201a8\"],[0.3333333333333333,\"#9c179e\"],[0.4444444444444444,\"#bd3786\"],[0.5555555555555556,\"#d8576b\"],[0.6666666666666666,\"#ed7953\"],[0.7777777777777778,\"#fb9f3a\"],[0.8888888888888888,\"#fdca26\"],[1.0,\"#f0f921\"]],\"type\":\"surface\"}],\"table\":[{\"cells\":{\"fill\":{\"color\":\"#EBF0F8\"},\"line\":{\"color\":\"white\"}},\"header\":{\"fill\":{\"color\":\"#C8D4E3\"},\"line\":{\"color\":\"white\"}},\"type\":\"table\"}]},\"layout\":{\"annotationdefaults\":{\"arrowcolor\":\"#2a3f5f\",\"arrowhead\":0,\"arrowwidth\":1},\"autotypenumbers\":\"strict\",\"coloraxis\":{\"colorbar\":{\"outlinewidth\":0,\"ticks\":\"\"}},\"colorscale\":{\"diverging\":[[0,\"#8e0152\"],[0.1,\"#c51b7d\"],[0.2,\"#de77ae\"],[0.3,\"#f1b6da\"],[0.4,\"#fde0ef\"],[0.5,\"#f7f7f7\"],[0.6,\"#e6f5d0\"],[0.7,\"#b8e186\"],[0.8,\"#7fbc41\"],[0.9,\"#4d9221\"],[1,\"#276419\"]],\"sequential\":[[0.0,\"#0d0887\"],[0.1111111111111111,\"#46039f\"],[0.2222222222222222,\"#7201a8\"],[0.3333333333333333,\"#9c179e\"],[0.4444444444444444,\"#bd3786\"],[0.5555555555555556,\"#d8576b\"],[0.6666666666666666,\"#ed7953\"],[0.7777777777777778,\"#fb9f3a\"],[0.8888888888888888,\"#fdca26\"],[1.0,\"#f0f921\"]],\"sequentialminus\":[[0.0,\"#0d0887\"],[0.1111111111111111,\"#46039f\"],[0.2222222222222222,\"#7201a8\"],[0.3333333333333333,\"#9c179e\"],[0.4444444444444444,\"#bd3786\"],[0.5555555555555556,\"#d8576b\"],[0.6666666666666666,\"#ed7953\"],[0.7777777777777778,\"#fb9f3a\"],[0.8888888888888888,\"#fdca26\"],[1.0,\"#f0f921\"]]},\"colorway\":[\"#636efa\",\"#EF553B\",\"#00cc96\",\"#ab63fa\",\"#FFA15A\",\"#19d3f3\",\"#FF6692\",\"#B6E880\",\"#FF97FF\",\"#FECB52\"],\"font\":{\"color\":\"#2a3f5f\"},\"geo\":{\"bgcolor\":\"white\",\"lakecolor\":\"white\",\"landcolor\":\"#E5ECF6\",\"showlakes\":true,\"showland\":true,\"subunitcolor\":\"white\"},\"hoverlabel\":{\"align\":\"left\"},\"hovermode\":\"closest\",\"mapbox\":{\"style\":\"light\"},\"paper_bgcolor\":\"white\",\"plot_bgcolor\":\"#E5ECF6\",\"polar\":{\"angularaxis\":{\"gridcolor\":\"white\",\"linecolor\":\"white\",\"ticks\":\"\"},\"bgcolor\":\"#E5ECF6\",\"radialaxis\":{\"gridcolor\":\"white\",\"linecolor\":\"white\",\"ticks\":\"\"}},\"scene\":{\"xaxis\":{\"backgroundcolor\":\"#E5ECF6\",\"gridcolor\":\"white\",\"gridwidth\":2,\"linecolor\":\"white\",\"showbackground\":true,\"ticks\":\"\",\"zerolinecolor\":\"white\"},\"yaxis\":{\"backgroundcolor\":\"#E5ECF6\",\"gridcolor\":\"white\",\"gridwidth\":2,\"linecolor\":\"white\",\"showbackground\":true,\"ticks\":\"\",\"zerolinecolor\":\"white\"},\"zaxis\":{\"backgroundcolor\":\"#E5ECF6\",\"gridcolor\":\"white\",\"gridwidth\":2,\"linecolor\":\"white\",\"showbackground\":true,\"ticks\":\"\",\"zerolinecolor\":\"white\"}},\"shapedefaults\":{\"line\":{\"color\":\"#2a3f5f\"}},\"ternary\":{\"aaxis\":{\"gridcolor\":\"white\",\"linecolor\":\"white\",\"ticks\":\"\"},\"baxis\":{\"gridcolor\":\"white\",\"linecolor\":\"white\",\"ticks\":\"\"},\"bgcolor\":\"#E5ECF6\",\"caxis\":{\"gridcolor\":\"white\",\"linecolor\":\"white\",\"ticks\":\"\"}},\"title\":{\"x\":0.05},\"xaxis\":{\"automargin\":true,\"gridcolor\":\"white\",\"linecolor\":\"white\",\"ticks\":\"\",\"title\":{\"standoff\":15},\"zerolinecolor\":\"white\",\"zerolinewidth\":2},\"yaxis\":{\"automargin\":true,\"gridcolor\":\"white\",\"linecolor\":\"white\",\"ticks\":\"\",\"title\":{\"standoff\":15},\"zerolinecolor\":\"white\",\"zerolinewidth\":2}}},\"title\":{\"text\":\"Loss vs Number of Epochs\",\"x\":0.5,\"xanchor\":\"center\",\"y\":0.94,\"yanchor\":\"top\"},\"xaxis\":{\"anchor\":\"y\",\"domain\":[0.0,1.0],\"title\":{\"text\":\"Number of Epochs\"}},\"yaxis\":{\"anchor\":\"x\",\"domain\":[0.0,1.0],\"title\":{\"text\":\"Loss\"}}},                        {\"responsive\": true}                    ).then(function(){\n",
       "                            \n",
       "var gd = document.getElementById('5a78867f-954a-4696-adb4-e544f997121d');\n",
       "var x = new MutationObserver(function (mutations, observer) {{\n",
       "        var display = window.getComputedStyle(gd).display;\n",
       "        if (!display || display === 'none') {{\n",
       "            console.log([gd, 'removed!']);\n",
       "            Plotly.purge(gd);\n",
       "            observer.disconnect();\n",
       "        }}\n",
       "}});\n",
       "\n",
       "// Listen for the removal of the full notebook cells\n",
       "var notebookContainer = gd.closest('#notebook-container');\n",
       "if (notebookContainer) {{\n",
       "    x.observe(notebookContainer, {childList: true});\n",
       "}}\n",
       "\n",
       "// Listen for the clearing of the current output cell\n",
       "var outputEl = gd.closest('.output');\n",
       "if (outputEl) {{\n",
       "    x.observe(outputEl, {childList: true});\n",
       "}}\n",
       "\n",
       "                        })                };                });            </script>        </div>"
      ]
     },
     "metadata": {},
     "output_type": "display_data"
    }
   ],
   "source": [
    "x = px.line(data_frame= history , \n",
    "            y= [\"loss\" , \"val_loss\"] , markers = True )\n",
    "x.update_xaxes(title=\"Number of Epochs\")\n",
    "x.update_yaxes(title = \"Loss\")\n",
    "x.update_layout(showlegend = True,\n",
    "    title = {\n",
    "        'text': 'Loss vs Number of Epochs',\n",
    "        'y':0.94,\n",
    "        'x':0.5,\n",
    "        'xanchor': 'center',\n",
    "        'yanchor': 'top'})\n",
    "x.show()"
   ]
  },
  {
   "cell_type": "markdown",
   "id": "c87914dc",
   "metadata": {
    "papermill": {
     "duration": 3.311903,
     "end_time": "2021-10-28T18:11:47.459376",
     "exception": false,
     "start_time": "2021-10-28T18:11:44.147473",
     "status": "completed"
    },
    "tags": []
   },
   "source": [
    "<a id=\"vis\"></a>\n",
    "# <center> Visualizing Results </center> "
   ]
  },
  {
   "cell_type": "markdown",
   "id": "cdb498c3",
   "metadata": {
    "papermill": {
     "duration": 3.568,
     "end_time": "2021-10-28T18:11:54.305515",
     "exception": false,
     "start_time": "2021-10-28T18:11:50.737515",
     "status": "completed"
    },
    "tags": []
   },
   "source": [
    "## Model Evaluation"
   ]
  },
  {
   "cell_type": "code",
   "execution_count": 12,
   "id": "bac9e563",
   "metadata": {
    "execution": {
     "iopub.execute_input": "2021-10-28T18:12:00.886037Z",
     "iopub.status.busy": "2021-10-28T18:12:00.885443Z",
     "iopub.status.idle": "2021-10-28T18:12:31.225687Z",
     "shell.execute_reply": "2021-10-28T18:12:31.225190Z",
     "shell.execute_reply.started": "2021-10-28T16:48:43.931458Z"
    },
    "papermill": {
     "duration": 33.650128,
     "end_time": "2021-10-28T18:12:31.225827",
     "exception": false,
     "start_time": "2021-10-28T18:11:57.575699",
     "status": "completed"
    },
    "tags": []
   },
   "outputs": [
    {
     "data": {
      "text/plain": [
       "[1.0665851831436157, 0.6398718357086182]"
      ]
     },
     "execution_count": 12,
     "metadata": {},
     "output_type": "execute_result"
    }
   ],
   "source": [
    "model.evaluate(test_generator , verbose = 0)"
   ]
  },
  {
   "cell_type": "code",
   "execution_count": 13,
   "id": "9ebf1f13",
   "metadata": {
    "_kg_hide-input": true,
    "execution": {
     "iopub.execute_input": "2021-10-28T18:12:38.133741Z",
     "iopub.status.busy": "2021-10-28T18:12:38.133204Z",
     "iopub.status.idle": "2021-10-28T18:12:46.952031Z",
     "shell.execute_reply": "2021-10-28T18:12:46.952777Z",
     "shell.execute_reply.started": "2021-10-28T16:49:22.074698Z"
    },
    "papermill": {
     "duration": 12.390316,
     "end_time": "2021-10-28T18:12:46.953005",
     "exception": false,
     "start_time": "2021-10-28T18:12:34.562689",
     "status": "completed"
    },
    "tags": []
   },
   "outputs": [
    {
     "name": "stdout",
     "output_type": "stream",
     "text": [
      "              precision    recall  f1-score   support\n",
      "\n",
      "           0       0.13      0.33      0.19       958\n",
      "           1       0.00      0.00      0.00       111\n",
      "           2       0.14      0.07      0.09      1024\n",
      "           3       0.25      0.23      0.24      1774\n",
      "           4       0.16      0.14      0.15      1233\n",
      "           5       0.15      0.10      0.12      1247\n",
      "           6       0.12      0.10      0.11       831\n",
      "\n",
      "    accuracy                           0.16      7178\n",
      "   macro avg       0.13      0.14      0.13      7178\n",
      "weighted avg       0.17      0.16      0.16      7178\n",
      "\n"
     ]
    }
   ],
   "source": [
    "probs = model.predict(test_generator)\n",
    "y_test =test_generator.classes\n",
    "y_preds = probs >0.5\n",
    "y_preds =np.argmax(y_preds, axis=1)\n",
    "print(classification_report(y_test , y_preds))"
   ]
  }
 ],
 "metadata": {
  "kernelspec": {
   "display_name": "Python 3",
   "language": "python",
   "name": "python3"
  },
  "language_info": {
   "codemirror_mode": {
    "name": "ipython",
    "version": 3
   },
   "file_extension": ".py",
   "mimetype": "text/x-python",
   "name": "python",
   "nbconvert_exporter": "python",
   "pygments_lexer": "ipython3",
   "version": "3.7.10"
  },
  "papermill": {
   "default_parameters": {},
   "duration": 2358.788746,
   "end_time": "2021-10-28T18:12:53.430400",
   "environment_variables": {},
   "exception": null,
   "input_path": "__notebook__.ipynb",
   "output_path": "__notebook__.ipynb",
   "parameters": {},
   "start_time": "2021-10-28T17:33:34.641654",
   "version": "2.3.3"
  }
 },
 "nbformat": 4,
 "nbformat_minor": 5
}
