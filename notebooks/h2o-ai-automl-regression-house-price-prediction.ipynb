{
 "cells": [
  {
   "cell_type": "markdown",
   "id": "e894fa01",
   "metadata": {
    "_cell_guid": "b1076dfc-b9ad-4769-8c92-a6c4dae69d19",
    "_uuid": "8f2839f25d086af736a60e9eeb907d3b93b6e0e5",
    "papermill": {
     "duration": 0.013753,
     "end_time": "2021-11-16T05:01:11.616968",
     "exception": false,
     "start_time": "2021-11-16T05:01:11.603215",
     "status": "completed"
    },
    "tags": []
   },
   "source": [
    "**Created by Sanskar Hasija**\n",
    "\n",
    "**🤖🤖H2O.ai AutoML Regression-House Price Prediction**\n",
    "\n",
    "**15 NOVEMBER 2021**\n"
   ]
  },
  {
   "cell_type": "markdown",
   "id": "64b16204",
   "metadata": {
    "execution": {
     "iopub.execute_input": "2021-11-16T04:46:45.042710Z",
     "iopub.status.busy": "2021-11-16T04:46:45.042381Z",
     "iopub.status.idle": "2021-11-16T04:46:45.064237Z",
     "shell.execute_reply": "2021-11-16T04:46:45.063598Z",
     "shell.execute_reply.started": "2021-11-16T04:46:45.042607Z"
    },
    "papermill": {
     "duration": 0.010053,
     "end_time": "2021-11-16T05:01:11.637767",
     "exception": false,
     "start_time": "2021-11-16T05:01:11.627714",
     "status": "completed"
    },
    "tags": []
   },
   "source": [
    "# <center> 🤖🤖H2O.AI AUTOML REGRESSION-HOUSE PRICE PREDICTION</center>\n",
    "## <center>If you find this notebook useful, support with an upvote👍</center>"
   ]
  },
  {
   "cell_type": "markdown",
   "id": "f21f3dc8",
   "metadata": {
    "papermill": {
     "duration": 0.010154,
     "end_time": "2021-11-16T05:01:11.658366",
     "exception": false,
     "start_time": "2021-11-16T05:01:11.648212",
     "status": "completed"
    },
    "tags": []
   },
   "source": [
    "# Imports"
   ]
  },
  {
   "cell_type": "code",
   "execution_count": 1,
   "id": "b1a2bcd9",
   "metadata": {
    "execution": {
     "iopub.execute_input": "2021-11-16T05:01:11.684958Z",
     "iopub.status.busy": "2021-11-16T05:01:11.683336Z",
     "iopub.status.idle": "2021-11-16T05:01:11.793610Z",
     "shell.execute_reply": "2021-11-16T05:01:11.792635Z",
     "shell.execute_reply.started": "2021-11-16T04:59:54.845627Z"
    },
    "papermill": {
     "duration": 0.124863,
     "end_time": "2021-11-16T05:01:11.793801",
     "exception": false,
     "start_time": "2021-11-16T05:01:11.668938",
     "status": "completed"
    },
    "tags": []
   },
   "outputs": [],
   "source": [
    "from IPython.display import clear_output\n",
    "\n",
    "import numpy as np\n",
    "import pandas as pd\n",
    "\n",
    "import h2o\n",
    "from h2o.automl import H2OAutoML"
   ]
  },
  {
   "cell_type": "markdown",
   "id": "41fdf298",
   "metadata": {
    "papermill": {
     "duration": 0.009758,
     "end_time": "2021-11-16T05:01:11.813605",
     "exception": false,
     "start_time": "2021-11-16T05:01:11.803847",
     "status": "completed"
    },
    "tags": []
   },
   "source": [
    "# Initializing H20 Cluster"
   ]
  },
  {
   "cell_type": "code",
   "execution_count": 2,
   "id": "61c2f20b",
   "metadata": {
    "execution": {
     "iopub.execute_input": "2021-11-16T05:01:11.839481Z",
     "iopub.status.busy": "2021-11-16T05:01:11.838631Z",
     "iopub.status.idle": "2021-11-16T05:01:19.341435Z",
     "shell.execute_reply": "2021-11-16T05:01:19.342519Z",
     "shell.execute_reply.started": "2021-11-16T04:57:56.256180Z"
    },
    "papermill": {
     "duration": 7.519106,
     "end_time": "2021-11-16T05:01:19.342746",
     "exception": false,
     "start_time": "2021-11-16T05:01:11.823640",
     "status": "completed"
    },
    "tags": []
   },
   "outputs": [
    {
     "name": "stdout",
     "output_type": "stream",
     "text": [
      "Checking whether there is an H2O instance running at http://localhost:54321 ..... not found.\n",
      "Attempting to start a local H2O server...\n",
      "  Java Version: openjdk version \"11.0.11\" 2021-04-20; OpenJDK Runtime Environment (build 11.0.11+9-Ubuntu-0ubuntu2.18.04); OpenJDK 64-Bit Server VM (build 11.0.11+9-Ubuntu-0ubuntu2.18.04, mixed mode, sharing)\n",
      "  Starting server from /opt/conda/lib/python3.7/site-packages/h2o/backend/bin/h2o.jar\n",
      "  Ice root: /tmp/tmpom4zle_n\n",
      "  JVM stdout: /tmp/tmpom4zle_n/h2o_unknownUser_started_from_python.out\n",
      "  JVM stderr: /tmp/tmpom4zle_n/h2o_unknownUser_started_from_python.err\n",
      "  Server is running at http://127.0.0.1:54321\n",
      "Connecting to H2O server at http://127.0.0.1:54321 ... successful.\n"
     ]
    },
    {
     "data": {
      "text/html": [
       "<div style=\"overflow:auto\"><table style=\"width:50%\"><tr><td>H2O_cluster_uptime:</td>\n",
       "<td>02 secs</td></tr>\n",
       "<tr><td>H2O_cluster_timezone:</td>\n",
       "<td>Etc/UTC</td></tr>\n",
       "<tr><td>H2O_data_parsing_timezone:</td>\n",
       "<td>UTC</td></tr>\n",
       "<tr><td>H2O_cluster_version:</td>\n",
       "<td>3.34.0.3</td></tr>\n",
       "<tr><td>H2O_cluster_version_age:</td>\n",
       "<td>1 month and 8 days </td></tr>\n",
       "<tr><td>H2O_cluster_name:</td>\n",
       "<td>H2O_from_python_unknownUser_0ppfuc</td></tr>\n",
       "<tr><td>H2O_cluster_total_nodes:</td>\n",
       "<td>1</td></tr>\n",
       "<tr><td>H2O_cluster_free_memory:</td>\n",
       "<td>3.250 Gb</td></tr>\n",
       "<tr><td>H2O_cluster_total_cores:</td>\n",
       "<td>2</td></tr>\n",
       "<tr><td>H2O_cluster_allowed_cores:</td>\n",
       "<td>2</td></tr>\n",
       "<tr><td>H2O_cluster_status:</td>\n",
       "<td>locked, healthy</td></tr>\n",
       "<tr><td>H2O_connection_url:</td>\n",
       "<td>http://127.0.0.1:54321</td></tr>\n",
       "<tr><td>H2O_connection_proxy:</td>\n",
       "<td>{\"http\": null, \"https\": null}</td></tr>\n",
       "<tr><td>H2O_internal_security:</td>\n",
       "<td>False</td></tr>\n",
       "<tr><td>H2O_API_Extensions:</td>\n",
       "<td>Amazon S3, XGBoost, Algos, AutoML, Core V3, TargetEncoder, Core V4</td></tr>\n",
       "<tr><td>Python_version:</td>\n",
       "<td>3.7.10 final</td></tr></table></div>"
      ],
      "text/plain": [
       "--------------------------  ------------------------------------------------------------------\n",
       "H2O_cluster_uptime:         02 secs\n",
       "H2O_cluster_timezone:       Etc/UTC\n",
       "H2O_data_parsing_timezone:  UTC\n",
       "H2O_cluster_version:        3.34.0.3\n",
       "H2O_cluster_version_age:    1 month and 8 days\n",
       "H2O_cluster_name:           H2O_from_python_unknownUser_0ppfuc\n",
       "H2O_cluster_total_nodes:    1\n",
       "H2O_cluster_free_memory:    3.250 Gb\n",
       "H2O_cluster_total_cores:    2\n",
       "H2O_cluster_allowed_cores:  2\n",
       "H2O_cluster_status:         locked, healthy\n",
       "H2O_connection_url:         http://127.0.0.1:54321\n",
       "H2O_connection_proxy:       {\"http\": null, \"https\": null}\n",
       "H2O_internal_security:      False\n",
       "H2O_API_Extensions:         Amazon S3, XGBoost, Algos, AutoML, Core V3, TargetEncoder, Core V4\n",
       "Python_version:             3.7.10 final\n",
       "--------------------------  ------------------------------------------------------------------"
      ]
     },
     "metadata": {},
     "output_type": "display_data"
    }
   ],
   "source": [
    "from h2o.automl import H2OAutoML\n",
    "h2o.init()"
   ]
  },
  {
   "cell_type": "markdown",
   "id": "b80f6093",
   "metadata": {
    "papermill": {
     "duration": 0.020251,
     "end_time": "2021-11-16T05:01:19.384285",
     "exception": false,
     "start_time": "2021-11-16T05:01:19.364034",
     "status": "completed"
    },
    "tags": []
   },
   "source": [
    "# Data Loading and Preprocessing"
   ]
  },
  {
   "cell_type": "code",
   "execution_count": 3,
   "id": "e50f9360",
   "metadata": {
    "execution": {
     "iopub.execute_input": "2021-11-16T05:01:19.433800Z",
     "iopub.status.busy": "2021-11-16T05:01:19.432860Z",
     "iopub.status.idle": "2021-11-16T05:01:22.853029Z",
     "shell.execute_reply": "2021-11-16T05:01:22.852354Z",
     "shell.execute_reply.started": "2021-11-16T04:58:03.997844Z"
    },
    "papermill": {
     "duration": 3.448154,
     "end_time": "2021-11-16T05:01:22.853199",
     "exception": false,
     "start_time": "2021-11-16T05:01:19.405045",
     "status": "completed"
    },
    "tags": []
   },
   "outputs": [
    {
     "name": "stdout",
     "output_type": "stream",
     "text": [
      "Parse progress: |████████████████████████████████████████████████████████████████| (done) 100%\n",
      "Parse progress: |████████████████████████████████████████████████████████████████| (done) 100%\n"
     ]
    }
   ],
   "source": [
    "train = pd.read_csv(\"../input/house-prices-advanced-regression-techniques/train.csv\")\n",
    "test = pd.read_csv(\"../input/house-prices-advanced-regression-techniques/test.csv\")\n",
    "subs = pd.read_csv(\"../input/house-prices-advanced-regression-techniques/sample_submission.csv\")\n",
    "\n",
    "train = h2o.H2OFrame(train)\n",
    "test = h2o.H2OFrame(test)"
   ]
  },
  {
   "cell_type": "code",
   "execution_count": 4,
   "id": "752b67bf",
   "metadata": {
    "_kg_hide-input": true,
    "execution": {
     "iopub.execute_input": "2021-11-16T05:01:22.966545Z",
     "iopub.status.busy": "2021-11-16T05:01:22.965596Z",
     "iopub.status.idle": "2021-11-16T05:01:23.101347Z",
     "shell.execute_reply": "2021-11-16T05:01:23.102302Z",
     "shell.execute_reply.started": "2021-11-16T04:58:07.381558Z"
    },
    "papermill": {
     "duration": 0.201267,
     "end_time": "2021-11-16T05:01:23.102506",
     "exception": false,
     "start_time": "2021-11-16T05:01:22.901239",
     "status": "completed"
    },
    "tags": []
   },
   "outputs": [
    {
     "name": "stdout",
     "output_type": "stream",
     "text": [
      "Rows:1460\n",
      "Cols:81\n",
      "\n",
      "\n"
     ]
    },
    {
     "data": {
      "text/html": [
       "<table>\n",
       "<thead>\n",
       "<tr><th>       </th><th>Id               </th><th>MSSubClass       </th><th>MSZoning  </th><th>LotFrontage      </th><th>LotArea           </th><th>Street  </th><th>Alley  </th><th>LotShape  </th><th>LandContour  </th><th>Utilities  </th><th>LotConfig  </th><th>LandSlope  </th><th>Neighborhood  </th><th>Condition1  </th><th>Condition2  </th><th>BldgType  </th><th>HouseStyle  </th><th>OverallQual       </th><th>OverallCond       </th><th>YearBuilt         </th><th>YearRemodAdd     </th><th>RoofStyle  </th><th>RoofMatl  </th><th>Exterior1st  </th><th>Exterior2nd  </th><th>MasVnrType  </th><th>MasVnrArea        </th><th>ExterQual  </th><th>ExterCond  </th><th>Foundation  </th><th>BsmtQual  </th><th>BsmtCond  </th><th>BsmtExposure  </th><th>BsmtFinType1  </th><th>BsmtFinSF1       </th><th>BsmtFinType2  </th><th>BsmtFinSF2        </th><th>BsmtUnfSF        </th><th>TotalBsmtSF      </th><th>Heating  </th><th>HeatingQC  </th><th>CentralAir  </th><th>Electrical  </th><th>1stFlrSF          </th><th>2ndFlrSF          </th><th>LowQualFinSF     </th><th>GrLivArea        </th><th>BsmtFullBath      </th><th>BsmtHalfBath        </th><th>FullBath          </th><th>HalfBath          </th><th>BedroomAbvGr      </th><th>KitchenAbvGr       </th><th>KitchenQual  </th><th>TotRmsAbvGrd      </th><th>Functional  </th><th>Fireplaces        </th><th>FireplaceQu  </th><th>GarageType  </th><th>GarageYrBlt       </th><th>GarageFinish  </th><th>GarageCars        </th><th>GarageArea        </th><th>GarageQual  </th><th>GarageCond  </th><th>PavedDrive  </th><th>WoodDeckSF        </th><th>OpenPorchSF      </th><th>EnclosedPorch     </th><th>3SsnPorch         </th><th>ScreenPorch       </th><th>PoolArea         </th><th>PoolQC  </th><th>Fence  </th><th>MiscFeature  </th><th>MiscVal           </th><th>MoSold            </th><th>YrSold            </th><th>SaleType  </th><th>SaleCondition  </th><th>SalePrice        </th></tr>\n",
       "</thead>\n",
       "<tbody>\n",
       "<tr><td>type   </td><td>int              </td><td>int              </td><td>enum      </td><td>int              </td><td>int               </td><td>enum    </td><td>enum   </td><td>enum      </td><td>enum         </td><td>enum       </td><td>enum       </td><td>enum       </td><td>enum          </td><td>enum        </td><td>enum        </td><td>enum      </td><td>enum        </td><td>int               </td><td>int               </td><td>int               </td><td>int              </td><td>enum       </td><td>enum      </td><td>enum         </td><td>enum         </td><td>enum        </td><td>int               </td><td>enum       </td><td>enum       </td><td>enum        </td><td>enum      </td><td>enum      </td><td>enum          </td><td>enum          </td><td>int              </td><td>enum          </td><td>int               </td><td>int              </td><td>int              </td><td>enum     </td><td>enum       </td><td>enum        </td><td>enum        </td><td>int               </td><td>int               </td><td>int              </td><td>int              </td><td>int               </td><td>int                 </td><td>int               </td><td>int               </td><td>int               </td><td>int                </td><td>enum         </td><td>int               </td><td>enum        </td><td>int               </td><td>enum         </td><td>enum        </td><td>int               </td><td>enum          </td><td>int               </td><td>int               </td><td>enum        </td><td>enum        </td><td>enum        </td><td>int               </td><td>int              </td><td>int               </td><td>int               </td><td>int               </td><td>int              </td><td>enum    </td><td>enum   </td><td>enum         </td><td>int               </td><td>int               </td><td>int               </td><td>enum      </td><td>enum           </td><td>int              </td></tr>\n",
       "<tr><td>mins   </td><td>1.0              </td><td>20.0             </td><td>          </td><td>21.0             </td><td>1300.0            </td><td>        </td><td>       </td><td>          </td><td>             </td><td>           </td><td>           </td><td>           </td><td>              </td><td>            </td><td>            </td><td>          </td><td>            </td><td>1.0               </td><td>1.0               </td><td>1872.0            </td><td>1950.0           </td><td>           </td><td>          </td><td>             </td><td>             </td><td>            </td><td>0.0               </td><td>           </td><td>           </td><td>            </td><td>          </td><td>          </td><td>              </td><td>              </td><td>0.0              </td><td>              </td><td>0.0               </td><td>0.0              </td><td>0.0              </td><td>         </td><td>           </td><td>            </td><td>            </td><td>334.0             </td><td>0.0               </td><td>0.0              </td><td>334.0            </td><td>0.0               </td><td>0.0                 </td><td>0.0               </td><td>0.0               </td><td>0.0               </td><td>0.0                </td><td>             </td><td>2.0               </td><td>            </td><td>0.0               </td><td>             </td><td>            </td><td>1900.0            </td><td>              </td><td>0.0               </td><td>0.0               </td><td>            </td><td>            </td><td>            </td><td>0.0               </td><td>0.0              </td><td>0.0               </td><td>0.0               </td><td>0.0               </td><td>0.0              </td><td>        </td><td>       </td><td>             </td><td>0.0               </td><td>1.0               </td><td>2006.0            </td><td>          </td><td>               </td><td>34900.0          </td></tr>\n",
       "<tr><td>mean   </td><td>730.5            </td><td>56.89726027397261</td><td>          </td><td>70.04995836802661</td><td>10516.828082191787</td><td>        </td><td>       </td><td>          </td><td>             </td><td>           </td><td>           </td><td>           </td><td>              </td><td>            </td><td>            </td><td>          </td><td>            </td><td>6.099315068493142 </td><td>5.57534246575342  </td><td>1971.2678082191774</td><td>1984.86575342466 </td><td>           </td><td>          </td><td>             </td><td>             </td><td>            </td><td>103.68526170798897</td><td>           </td><td>           </td><td>            </td><td>          </td><td>          </td><td>              </td><td>              </td><td>443.639726027397 </td><td>              </td><td>46.549315068493144</td><td>567.2404109589045</td><td>1057.429452054793</td><td>         </td><td>           </td><td>            </td><td>            </td><td>1162.6267123287648</td><td>346.99246575342397</td><td>5.844520547945204</td><td>1515.463698630138</td><td>0.4253424657534246</td><td>0.057534246575342445</td><td>1.565068493150685 </td><td>0.3828767123287676</td><td>2.866438356164384 </td><td>1.0465753424657545 </td><td>             </td><td>6.517808219178076 </td><td>            </td><td>0.6130136986301383</td><td>             </td><td>            </td><td>1978.5061638868735</td><td>              </td><td>1.7671232876712313</td><td>472.98013698630143</td><td>            </td><td>            </td><td>            </td><td>94.24452054794516 </td><td>46.66027397260276</td><td>21.954109589041092</td><td>3.4095890410958902</td><td>15.060958904109588</td><td>2.758904109589041</td><td>        </td><td>       </td><td>             </td><td>43.489041095890414</td><td>6.321917808219178 </td><td>2007.8157534246575</td><td>          </td><td>               </td><td>180921.1958904111</td></tr>\n",
       "<tr><td>maxs   </td><td>1460.0           </td><td>190.0            </td><td>          </td><td>313.0            </td><td>215245.0          </td><td>        </td><td>       </td><td>          </td><td>             </td><td>           </td><td>           </td><td>           </td><td>              </td><td>            </td><td>            </td><td>          </td><td>            </td><td>10.0              </td><td>9.0               </td><td>2010.0            </td><td>2010.0           </td><td>           </td><td>          </td><td>             </td><td>             </td><td>            </td><td>1600.0            </td><td>           </td><td>           </td><td>            </td><td>          </td><td>          </td><td>              </td><td>              </td><td>5644.0           </td><td>              </td><td>1474.0            </td><td>2336.0           </td><td>6110.0           </td><td>         </td><td>           </td><td>            </td><td>            </td><td>4692.0            </td><td>2065.0            </td><td>572.0            </td><td>5642.0           </td><td>3.0               </td><td>2.0                 </td><td>3.0               </td><td>2.0               </td><td>8.0               </td><td>3.0                </td><td>             </td><td>14.0              </td><td>            </td><td>3.0               </td><td>             </td><td>            </td><td>2010.0            </td><td>              </td><td>4.0               </td><td>1418.0            </td><td>            </td><td>            </td><td>            </td><td>857.0             </td><td>547.0            </td><td>552.0             </td><td>508.0             </td><td>480.0             </td><td>738.0            </td><td>        </td><td>       </td><td>             </td><td>15500.0           </td><td>12.0              </td><td>2010.0            </td><td>          </td><td>               </td><td>755000.0         </td></tr>\n",
       "<tr><td>sigma  </td><td>421.6100093688479</td><td>42.30057099381045</td><td>          </td><td>24.28475177448321</td><td>9981.26493237915  </td><td>        </td><td>       </td><td>          </td><td>             </td><td>           </td><td>           </td><td>           </td><td>              </td><td>            </td><td>            </td><td>          </td><td>            </td><td>1.3829965467415926</td><td>1.1127993367127316</td><td>30.202904042525297</td><td>20.64540680770938</td><td>           </td><td>          </td><td>             </td><td>             </td><td>            </td><td>181.06620658721647</td><td>           </td><td>           </td><td>            </td><td>          </td><td>          </td><td>              </td><td>              </td><td>456.0980908409278</td><td>              </td><td>161.31927280654173</td><td>441.8669552924343</td><td>438.7053244594709</td><td>         </td><td>           </td><td>            </td><td>            </td><td>386.5877380410744 </td><td>436.528435886257  </td><td>48.62308143352018</td><td>525.4803834232024</td><td>0.5189106060898062</td><td>0.23875264627921167 </td><td>0.5509158012954317</td><td>0.5028853810928912</td><td>0.8157780441442279</td><td>0.22033819838403076</td><td>             </td><td>1.6253932905840511</td><td>            </td><td>0.6446663863122297</td><td>             </td><td>            </td><td>24.689724768590267</td><td>              </td><td>0.7473150101111095</td><td>213.8048414533803 </td><td>            </td><td>            </td><td>            </td><td>125.33879435172422</td><td>66.2560276766497 </td><td>61.11914860172857 </td><td>29.31733055678188 </td><td>55.757415281874174</td><td>40.17730694453019</td><td>        </td><td>       </td><td>             </td><td>496.12302445794415</td><td>2.7036262083595113</td><td>1.3280951205521143</td><td>          </td><td>               </td><td>79442.50288288663</td></tr>\n",
       "<tr><td>zeros  </td><td>0                </td><td>0                </td><td>          </td><td>0                </td><td>0                 </td><td>        </td><td>       </td><td>          </td><td>             </td><td>           </td><td>           </td><td>           </td><td>              </td><td>            </td><td>            </td><td>          </td><td>            </td><td>0                 </td><td>0                 </td><td>0                 </td><td>0                </td><td>           </td><td>          </td><td>             </td><td>             </td><td>            </td><td>861               </td><td>           </td><td>           </td><td>            </td><td>          </td><td>          </td><td>              </td><td>              </td><td>467              </td><td>              </td><td>1293              </td><td>118              </td><td>37               </td><td>         </td><td>           </td><td>            </td><td>            </td><td>0                 </td><td>829               </td><td>1434             </td><td>0                </td><td>856               </td><td>1378                </td><td>9                 </td><td>913               </td><td>6                 </td><td>1                  </td><td>             </td><td>0                 </td><td>            </td><td>690               </td><td>             </td><td>            </td><td>0                 </td><td>              </td><td>81                </td><td>81                </td><td>            </td><td>            </td><td>            </td><td>761               </td><td>656              </td><td>1252              </td><td>1436              </td><td>1344              </td><td>1453             </td><td>        </td><td>       </td><td>             </td><td>1408              </td><td>0                 </td><td>0                 </td><td>          </td><td>               </td><td>0                </td></tr>\n",
       "<tr><td>missing</td><td>0                </td><td>0                </td><td>0         </td><td>259              </td><td>0                 </td><td>0       </td><td>0      </td><td>0         </td><td>0            </td><td>0          </td><td>0          </td><td>0          </td><td>0             </td><td>0           </td><td>0           </td><td>0         </td><td>0           </td><td>0                 </td><td>0                 </td><td>0                 </td><td>0                </td><td>0          </td><td>0         </td><td>0            </td><td>0            </td><td>0           </td><td>8                 </td><td>0          </td><td>0          </td><td>0           </td><td>0         </td><td>0         </td><td>0             </td><td>0             </td><td>0                </td><td>0             </td><td>0                 </td><td>0                </td><td>0                </td><td>0        </td><td>0          </td><td>0           </td><td>0           </td><td>0                 </td><td>0                 </td><td>0                </td><td>0                </td><td>0                 </td><td>0                   </td><td>0                 </td><td>0                 </td><td>0                 </td><td>0                  </td><td>0            </td><td>0                 </td><td>0           </td><td>0                 </td><td>0            </td><td>0           </td><td>81                </td><td>0             </td><td>0                 </td><td>0                 </td><td>0           </td><td>0           </td><td>0           </td><td>0                 </td><td>0                </td><td>0                 </td><td>0                 </td><td>0                 </td><td>0                </td><td>0       </td><td>0      </td><td>0            </td><td>0                 </td><td>0                 </td><td>0                 </td><td>0         </td><td>0              </td><td>0                </td></tr>\n",
       "<tr><td>0      </td><td>1.0              </td><td>60.0             </td><td>RL        </td><td>65.0             </td><td>8450.0            </td><td>Pave    </td><td>nan    </td><td>Reg       </td><td>Lvl          </td><td>AllPub     </td><td>Inside     </td><td>Gtl        </td><td>CollgCr       </td><td>Norm        </td><td>Norm        </td><td>1Fam      </td><td>2Story      </td><td>7.0               </td><td>5.0               </td><td>2003.0            </td><td>2003.0           </td><td>Gable      </td><td>CompShg   </td><td>VinylSd      </td><td>VinylSd      </td><td>BrkFace     </td><td>196.0             </td><td>Gd         </td><td>TA         </td><td>PConc       </td><td>Gd        </td><td>TA        </td><td>No            </td><td>GLQ           </td><td>706.0            </td><td>Unf           </td><td>0.0               </td><td>150.0            </td><td>856.0            </td><td>GasA     </td><td>Ex         </td><td>Y           </td><td>SBrkr       </td><td>856.0             </td><td>854.0             </td><td>0.0              </td><td>1710.0           </td><td>1.0               </td><td>0.0                 </td><td>2.0               </td><td>1.0               </td><td>3.0               </td><td>1.0                </td><td>Gd           </td><td>8.0               </td><td>Typ         </td><td>0.0               </td><td>nan          </td><td>Attchd      </td><td>2003.0            </td><td>RFn           </td><td>2.0               </td><td>548.0             </td><td>TA          </td><td>TA          </td><td>Y           </td><td>0.0               </td><td>61.0             </td><td>0.0               </td><td>0.0               </td><td>0.0               </td><td>0.0              </td><td>nan     </td><td>nan    </td><td>nan          </td><td>0.0               </td><td>2.0               </td><td>2008.0            </td><td>WD        </td><td>Normal         </td><td>208500.0         </td></tr>\n",
       "<tr><td>1      </td><td>2.0              </td><td>20.0             </td><td>RL        </td><td>80.0             </td><td>9600.0            </td><td>Pave    </td><td>nan    </td><td>Reg       </td><td>Lvl          </td><td>AllPub     </td><td>FR2        </td><td>Gtl        </td><td>Veenker       </td><td>Feedr       </td><td>Norm        </td><td>1Fam      </td><td>1Story      </td><td>6.0               </td><td>8.0               </td><td>1976.0            </td><td>1976.0           </td><td>Gable      </td><td>CompShg   </td><td>MetalSd      </td><td>MetalSd      </td><td>None        </td><td>0.0               </td><td>TA         </td><td>TA         </td><td>CBlock      </td><td>Gd        </td><td>TA        </td><td>Gd            </td><td>ALQ           </td><td>978.0            </td><td>Unf           </td><td>0.0               </td><td>284.0            </td><td>1262.0           </td><td>GasA     </td><td>Ex         </td><td>Y           </td><td>SBrkr       </td><td>1262.0            </td><td>0.0               </td><td>0.0              </td><td>1262.0           </td><td>0.0               </td><td>1.0                 </td><td>2.0               </td><td>0.0               </td><td>3.0               </td><td>1.0                </td><td>TA           </td><td>6.0               </td><td>Typ         </td><td>1.0               </td><td>TA           </td><td>Attchd      </td><td>1976.0            </td><td>RFn           </td><td>2.0               </td><td>460.0             </td><td>TA          </td><td>TA          </td><td>Y           </td><td>298.0             </td><td>0.0              </td><td>0.0               </td><td>0.0               </td><td>0.0               </td><td>0.0              </td><td>nan     </td><td>nan    </td><td>nan          </td><td>0.0               </td><td>5.0               </td><td>2007.0            </td><td>WD        </td><td>Normal         </td><td>181500.0         </td></tr>\n",
       "<tr><td>2      </td><td>3.0              </td><td>60.0             </td><td>RL        </td><td>68.0             </td><td>11250.0           </td><td>Pave    </td><td>nan    </td><td>IR1       </td><td>Lvl          </td><td>AllPub     </td><td>Inside     </td><td>Gtl        </td><td>CollgCr       </td><td>Norm        </td><td>Norm        </td><td>1Fam      </td><td>2Story      </td><td>7.0               </td><td>5.0               </td><td>2001.0            </td><td>2002.0           </td><td>Gable      </td><td>CompShg   </td><td>VinylSd      </td><td>VinylSd      </td><td>BrkFace     </td><td>162.0             </td><td>Gd         </td><td>TA         </td><td>PConc       </td><td>Gd        </td><td>TA        </td><td>Mn            </td><td>GLQ           </td><td>486.0            </td><td>Unf           </td><td>0.0               </td><td>434.0            </td><td>920.0            </td><td>GasA     </td><td>Ex         </td><td>Y           </td><td>SBrkr       </td><td>920.0             </td><td>866.0             </td><td>0.0              </td><td>1786.0           </td><td>1.0               </td><td>0.0                 </td><td>2.0               </td><td>1.0               </td><td>3.0               </td><td>1.0                </td><td>Gd           </td><td>6.0               </td><td>Typ         </td><td>1.0               </td><td>TA           </td><td>Attchd      </td><td>2001.0            </td><td>RFn           </td><td>2.0               </td><td>608.0             </td><td>TA          </td><td>TA          </td><td>Y           </td><td>0.0               </td><td>42.0             </td><td>0.0               </td><td>0.0               </td><td>0.0               </td><td>0.0              </td><td>nan     </td><td>nan    </td><td>nan          </td><td>0.0               </td><td>9.0               </td><td>2008.0            </td><td>WD        </td><td>Normal         </td><td>223500.0         </td></tr>\n",
       "<tr><td>3      </td><td>4.0              </td><td>70.0             </td><td>RL        </td><td>60.0             </td><td>9550.0            </td><td>Pave    </td><td>nan    </td><td>IR1       </td><td>Lvl          </td><td>AllPub     </td><td>Corner     </td><td>Gtl        </td><td>Crawfor       </td><td>Norm        </td><td>Norm        </td><td>1Fam      </td><td>2Story      </td><td>7.0               </td><td>5.0               </td><td>1915.0            </td><td>1970.0           </td><td>Gable      </td><td>CompShg   </td><td>Wd Sdng      </td><td>Wd Shng      </td><td>None        </td><td>0.0               </td><td>TA         </td><td>TA         </td><td>BrkTil      </td><td>TA        </td><td>Gd        </td><td>No            </td><td>ALQ           </td><td>216.0            </td><td>Unf           </td><td>0.0               </td><td>540.0            </td><td>756.0            </td><td>GasA     </td><td>Gd         </td><td>Y           </td><td>SBrkr       </td><td>961.0             </td><td>756.0             </td><td>0.0              </td><td>1717.0           </td><td>1.0               </td><td>0.0                 </td><td>1.0               </td><td>0.0               </td><td>3.0               </td><td>1.0                </td><td>Gd           </td><td>7.0               </td><td>Typ         </td><td>1.0               </td><td>Gd           </td><td>Detchd      </td><td>1998.0            </td><td>Unf           </td><td>3.0               </td><td>642.0             </td><td>TA          </td><td>TA          </td><td>Y           </td><td>0.0               </td><td>35.0             </td><td>272.0             </td><td>0.0               </td><td>0.0               </td><td>0.0              </td><td>nan     </td><td>nan    </td><td>nan          </td><td>0.0               </td><td>2.0               </td><td>2006.0            </td><td>WD        </td><td>Abnorml        </td><td>140000.0         </td></tr>\n",
       "<tr><td>4      </td><td>5.0              </td><td>60.0             </td><td>RL        </td><td>84.0             </td><td>14260.0           </td><td>Pave    </td><td>nan    </td><td>IR1       </td><td>Lvl          </td><td>AllPub     </td><td>FR2        </td><td>Gtl        </td><td>NoRidge       </td><td>Norm        </td><td>Norm        </td><td>1Fam      </td><td>2Story      </td><td>8.0               </td><td>5.0               </td><td>2000.0            </td><td>2000.0           </td><td>Gable      </td><td>CompShg   </td><td>VinylSd      </td><td>VinylSd      </td><td>BrkFace     </td><td>350.0             </td><td>Gd         </td><td>TA         </td><td>PConc       </td><td>Gd        </td><td>TA        </td><td>Av            </td><td>GLQ           </td><td>655.0            </td><td>Unf           </td><td>0.0               </td><td>490.0            </td><td>1145.0           </td><td>GasA     </td><td>Ex         </td><td>Y           </td><td>SBrkr       </td><td>1145.0            </td><td>1053.0            </td><td>0.0              </td><td>2198.0           </td><td>1.0               </td><td>0.0                 </td><td>2.0               </td><td>1.0               </td><td>4.0               </td><td>1.0                </td><td>Gd           </td><td>9.0               </td><td>Typ         </td><td>1.0               </td><td>TA           </td><td>Attchd      </td><td>2000.0            </td><td>RFn           </td><td>3.0               </td><td>836.0             </td><td>TA          </td><td>TA          </td><td>Y           </td><td>192.0             </td><td>84.0             </td><td>0.0               </td><td>0.0               </td><td>0.0               </td><td>0.0              </td><td>nan     </td><td>nan    </td><td>nan          </td><td>0.0               </td><td>12.0              </td><td>2008.0            </td><td>WD        </td><td>Normal         </td><td>250000.0         </td></tr>\n",
       "<tr><td>5      </td><td>6.0              </td><td>50.0             </td><td>RL        </td><td>85.0             </td><td>14115.0           </td><td>Pave    </td><td>nan    </td><td>IR1       </td><td>Lvl          </td><td>AllPub     </td><td>Inside     </td><td>Gtl        </td><td>Mitchel       </td><td>Norm        </td><td>Norm        </td><td>1Fam      </td><td>1.5Fin      </td><td>5.0               </td><td>5.0               </td><td>1993.0            </td><td>1995.0           </td><td>Gable      </td><td>CompShg   </td><td>VinylSd      </td><td>VinylSd      </td><td>None        </td><td>0.0               </td><td>TA         </td><td>TA         </td><td>Wood        </td><td>Gd        </td><td>TA        </td><td>No            </td><td>GLQ           </td><td>732.0            </td><td>Unf           </td><td>0.0               </td><td>64.0             </td><td>796.0            </td><td>GasA     </td><td>Ex         </td><td>Y           </td><td>SBrkr       </td><td>796.0             </td><td>566.0             </td><td>0.0              </td><td>1362.0           </td><td>1.0               </td><td>0.0                 </td><td>1.0               </td><td>1.0               </td><td>1.0               </td><td>1.0                </td><td>TA           </td><td>5.0               </td><td>Typ         </td><td>0.0               </td><td>nan          </td><td>Attchd      </td><td>1993.0            </td><td>Unf           </td><td>2.0               </td><td>480.0             </td><td>TA          </td><td>TA          </td><td>Y           </td><td>40.0              </td><td>30.0             </td><td>0.0               </td><td>320.0             </td><td>0.0               </td><td>0.0              </td><td>nan     </td><td>MnPrv  </td><td>Shed         </td><td>700.0             </td><td>10.0              </td><td>2009.0            </td><td>WD        </td><td>Normal         </td><td>143000.0         </td></tr>\n",
       "<tr><td>6      </td><td>7.0              </td><td>20.0             </td><td>RL        </td><td>75.0             </td><td>10084.0           </td><td>Pave    </td><td>nan    </td><td>Reg       </td><td>Lvl          </td><td>AllPub     </td><td>Inside     </td><td>Gtl        </td><td>Somerst       </td><td>Norm        </td><td>Norm        </td><td>1Fam      </td><td>1Story      </td><td>8.0               </td><td>5.0               </td><td>2004.0            </td><td>2005.0           </td><td>Gable      </td><td>CompShg   </td><td>VinylSd      </td><td>VinylSd      </td><td>Stone       </td><td>186.0             </td><td>Gd         </td><td>TA         </td><td>PConc       </td><td>Ex        </td><td>TA        </td><td>Av            </td><td>GLQ           </td><td>1369.0           </td><td>Unf           </td><td>0.0               </td><td>317.0            </td><td>1686.0           </td><td>GasA     </td><td>Ex         </td><td>Y           </td><td>SBrkr       </td><td>1694.0            </td><td>0.0               </td><td>0.0              </td><td>1694.0           </td><td>1.0               </td><td>0.0                 </td><td>2.0               </td><td>0.0               </td><td>3.0               </td><td>1.0                </td><td>Gd           </td><td>7.0               </td><td>Typ         </td><td>1.0               </td><td>Gd           </td><td>Attchd      </td><td>2004.0            </td><td>RFn           </td><td>2.0               </td><td>636.0             </td><td>TA          </td><td>TA          </td><td>Y           </td><td>255.0             </td><td>57.0             </td><td>0.0               </td><td>0.0               </td><td>0.0               </td><td>0.0              </td><td>nan     </td><td>nan    </td><td>nan          </td><td>0.0               </td><td>8.0               </td><td>2007.0            </td><td>WD        </td><td>Normal         </td><td>307000.0         </td></tr>\n",
       "<tr><td>7      </td><td>8.0              </td><td>60.0             </td><td>RL        </td><td>nan              </td><td>10382.0           </td><td>Pave    </td><td>nan    </td><td>IR1       </td><td>Lvl          </td><td>AllPub     </td><td>Corner     </td><td>Gtl        </td><td>NWAmes        </td><td>PosN        </td><td>Norm        </td><td>1Fam      </td><td>2Story      </td><td>7.0               </td><td>6.0               </td><td>1973.0            </td><td>1973.0           </td><td>Gable      </td><td>CompShg   </td><td>HdBoard      </td><td>HdBoard      </td><td>Stone       </td><td>240.0             </td><td>TA         </td><td>TA         </td><td>CBlock      </td><td>Gd        </td><td>TA        </td><td>Mn            </td><td>ALQ           </td><td>859.0            </td><td>BLQ           </td><td>32.0              </td><td>216.0            </td><td>1107.0           </td><td>GasA     </td><td>Ex         </td><td>Y           </td><td>SBrkr       </td><td>1107.0            </td><td>983.0             </td><td>0.0              </td><td>2090.0           </td><td>1.0               </td><td>0.0                 </td><td>2.0               </td><td>1.0               </td><td>3.0               </td><td>1.0                </td><td>TA           </td><td>7.0               </td><td>Typ         </td><td>2.0               </td><td>TA           </td><td>Attchd      </td><td>1973.0            </td><td>RFn           </td><td>2.0               </td><td>484.0             </td><td>TA          </td><td>TA          </td><td>Y           </td><td>235.0             </td><td>204.0            </td><td>228.0             </td><td>0.0               </td><td>0.0               </td><td>0.0              </td><td>nan     </td><td>nan    </td><td>Shed         </td><td>350.0             </td><td>11.0              </td><td>2009.0            </td><td>WD        </td><td>Normal         </td><td>200000.0         </td></tr>\n",
       "<tr><td>8      </td><td>9.0              </td><td>50.0             </td><td>RM        </td><td>51.0             </td><td>6120.0            </td><td>Pave    </td><td>nan    </td><td>Reg       </td><td>Lvl          </td><td>AllPub     </td><td>Inside     </td><td>Gtl        </td><td>OldTown       </td><td>Artery      </td><td>Norm        </td><td>1Fam      </td><td>1.5Fin      </td><td>7.0               </td><td>5.0               </td><td>1931.0            </td><td>1950.0           </td><td>Gable      </td><td>CompShg   </td><td>BrkFace      </td><td>Wd Shng      </td><td>None        </td><td>0.0               </td><td>TA         </td><td>TA         </td><td>BrkTil      </td><td>TA        </td><td>TA        </td><td>No            </td><td>Unf           </td><td>0.0              </td><td>Unf           </td><td>0.0               </td><td>952.0            </td><td>952.0            </td><td>GasA     </td><td>Gd         </td><td>Y           </td><td>FuseF       </td><td>1022.0            </td><td>752.0             </td><td>0.0              </td><td>1774.0           </td><td>0.0               </td><td>0.0                 </td><td>2.0               </td><td>0.0               </td><td>2.0               </td><td>2.0                </td><td>TA           </td><td>8.0               </td><td>Min1        </td><td>2.0               </td><td>TA           </td><td>Detchd      </td><td>1931.0            </td><td>Unf           </td><td>2.0               </td><td>468.0             </td><td>Fa          </td><td>TA          </td><td>Y           </td><td>90.0              </td><td>0.0              </td><td>205.0             </td><td>0.0               </td><td>0.0               </td><td>0.0              </td><td>nan     </td><td>nan    </td><td>nan          </td><td>0.0               </td><td>4.0               </td><td>2008.0            </td><td>WD        </td><td>Abnorml        </td><td>129900.0         </td></tr>\n",
       "<tr><td>9      </td><td>10.0             </td><td>190.0            </td><td>RL        </td><td>50.0             </td><td>7420.0            </td><td>Pave    </td><td>nan    </td><td>Reg       </td><td>Lvl          </td><td>AllPub     </td><td>Corner     </td><td>Gtl        </td><td>BrkSide       </td><td>Artery      </td><td>Artery      </td><td>2fmCon    </td><td>1.5Unf      </td><td>5.0               </td><td>6.0               </td><td>1939.0            </td><td>1950.0           </td><td>Gable      </td><td>CompShg   </td><td>MetalSd      </td><td>MetalSd      </td><td>None        </td><td>0.0               </td><td>TA         </td><td>TA         </td><td>BrkTil      </td><td>TA        </td><td>TA        </td><td>No            </td><td>GLQ           </td><td>851.0            </td><td>Unf           </td><td>0.0               </td><td>140.0            </td><td>991.0            </td><td>GasA     </td><td>Ex         </td><td>Y           </td><td>SBrkr       </td><td>1077.0            </td><td>0.0               </td><td>0.0              </td><td>1077.0           </td><td>1.0               </td><td>0.0                 </td><td>1.0               </td><td>0.0               </td><td>2.0               </td><td>2.0                </td><td>TA           </td><td>5.0               </td><td>Typ         </td><td>2.0               </td><td>TA           </td><td>Attchd      </td><td>1939.0            </td><td>RFn           </td><td>1.0               </td><td>205.0             </td><td>Gd          </td><td>TA          </td><td>Y           </td><td>0.0               </td><td>4.0              </td><td>0.0               </td><td>0.0               </td><td>0.0               </td><td>0.0              </td><td>nan     </td><td>nan    </td><td>nan          </td><td>0.0               </td><td>1.0               </td><td>2008.0            </td><td>WD        </td><td>Normal         </td><td>118000.0         </td></tr>\n",
       "</tbody>\n",
       "</table>"
      ]
     },
     "metadata": {},
     "output_type": "display_data"
    }
   ],
   "source": [
    "train.describe()"
   ]
  },
  {
   "cell_type": "markdown",
   "id": "8f439d91",
   "metadata": {
    "papermill": {
     "duration": 0.034682,
     "end_time": "2021-11-16T05:01:23.176501",
     "exception": false,
     "start_time": "2021-11-16T05:01:23.141819",
     "status": "completed"
    },
    "tags": []
   },
   "source": [
    "# AutoML"
   ]
  },
  {
   "cell_type": "code",
   "execution_count": 5,
   "id": "83163a1c",
   "metadata": {
    "_kg_hide-input": true,
    "execution": {
     "iopub.execute_input": "2021-11-16T05:01:23.326066Z",
     "iopub.status.busy": "2021-11-16T05:01:23.325044Z",
     "iopub.status.idle": "2021-11-16T05:01:23.327007Z",
     "shell.execute_reply": "2021-11-16T05:01:23.336783Z",
     "shell.execute_reply.started": "2021-11-16T04:58:07.458921Z"
    },
    "papermill": {
     "duration": 0.102502,
     "end_time": "2021-11-16T05:01:23.336998",
     "exception": false,
     "start_time": "2021-11-16T05:01:23.234496",
     "status": "completed"
    },
    "tags": []
   },
   "outputs": [],
   "source": [
    "RANDOM_STATE = 12\n",
    "RUNTIME = 1800 #30 mins\n",
    "N_FOLDS = 5\n",
    "\n",
    "x = train.columns\n",
    "y = \"SalePrice\"\n",
    "x.remove(y)\n",
    "x.remove('Id')"
   ]
  },
  {
   "cell_type": "code",
   "execution_count": 6,
   "id": "86f63051",
   "metadata": {
    "execution": {
     "iopub.execute_input": "2021-11-16T05:01:23.502527Z",
     "iopub.status.busy": "2021-11-16T05:01:23.501770Z",
     "iopub.status.idle": "2021-11-16T05:31:29.165425Z",
     "shell.execute_reply": "2021-11-16T05:31:29.166471Z",
     "shell.execute_reply.started": "2021-11-16T04:59:22.615598Z"
    },
    "papermill": {
     "duration": 1805.752763,
     "end_time": "2021-11-16T05:31:29.166692",
     "exception": false,
     "start_time": "2021-11-16T05:01:23.413929",
     "status": "completed"
    },
    "tags": []
   },
   "outputs": [
    {
     "name": "stdout",
     "output_type": "stream",
     "text": [
      "AutoML progress: |███████████████████████████████████████████████████████████████| (done) 100%\n",
      "Model Details\n",
      "=============\n",
      "H2OStackedEnsembleEstimator :  Stacked Ensemble\n",
      "Model Key:  StackedEnsemble_BestOfFamily_4_AutoML_1_20211116_50123\n",
      "\n",
      "No model summary for this model\n",
      "\n",
      "ModelMetricsRegressionGLM: stackedensemble\n",
      "** Reported on train data. **\n",
      "\n",
      "MSE: 238481573.42398208\n",
      "RMSE: 15442.848617531095\n",
      "MAE: 8089.385696741185\n",
      "RMSLE: 0.07092001016840364\n",
      "R^2: 0.9621865280250592\n",
      "Mean Residual Deviance: 238481573.42398208\n",
      "Null degrees of freedom: 1459\n",
      "Residual degrees of freedom: 1455\n",
      "Null deviance: 9207911334609.979\n",
      "Residual deviance: 348183097199.01385\n",
      "AIC: 32318.412320303105\n",
      "\n",
      "ModelMetricsRegressionGLM: stackedensemble\n",
      "** Reported on cross-validation data. **\n",
      "\n",
      "MSE: 712249722.2564694\n",
      "RMSE: 26688.007086638547\n",
      "MAE: 15136.911607008673\n",
      "RMSLE: 0.12610445129800615\n",
      "R^2: 0.8870661807324525\n",
      "Mean Residual Deviance: 712249722.2564694\n",
      "Null degrees of freedom: 1459\n",
      "Residual degrees of freedom: 1455\n",
      "Null deviance: 9214679010535.895\n",
      "Residual deviance: 1039884594494.4453\n",
      "AIC: 33915.85166338691\n"
     ]
    },
    {
     "data": {
      "text/plain": []
     },
     "execution_count": 6,
     "metadata": {},
     "output_type": "execute_result"
    }
   ],
   "source": [
    "aml = H2OAutoML(nfolds=N_FOLDS, seed=RANDOM_STATE, max_runtime_secs=RUNTIME)\n",
    "aml.train(x=x, y=y, training_frame=train)"
   ]
  },
  {
   "cell_type": "markdown",
   "id": "8fe459f2",
   "metadata": {
    "papermill": {
     "duration": 0.053821,
     "end_time": "2021-11-16T05:31:29.274024",
     "exception": false,
     "start_time": "2021-11-16T05:31:29.220203",
     "status": "completed"
    },
    "tags": []
   },
   "source": [
    "# Results Leaderboard"
   ]
  },
  {
   "cell_type": "markdown",
   "id": "a3576766",
   "metadata": {
    "papermill": {
     "duration": 0.054179,
     "end_time": "2021-11-16T05:31:29.381988",
     "exception": false,
     "start_time": "2021-11-16T05:31:29.327809",
     "status": "completed"
    },
    "tags": []
   },
   "source": [
    "### Top 10 models"
   ]
  },
  {
   "cell_type": "code",
   "execution_count": 7,
   "id": "933987c2",
   "metadata": {
    "execution": {
     "iopub.execute_input": "2021-11-16T05:31:29.495959Z",
     "iopub.status.busy": "2021-11-16T05:31:29.495138Z",
     "iopub.status.idle": "2021-11-16T05:31:29.557231Z",
     "shell.execute_reply": "2021-11-16T05:31:29.558208Z",
     "shell.execute_reply.started": "2021-11-16T04:59:59.967993Z"
    },
    "papermill": {
     "duration": 0.123915,
     "end_time": "2021-11-16T05:31:29.558404",
     "exception": false,
     "start_time": "2021-11-16T05:31:29.434489",
     "status": "completed"
    },
    "tags": []
   },
   "outputs": [
    {
     "data": {
      "text/html": [
       "<table>\n",
       "<thead>\n",
       "<tr><th>model_id                                              </th><th style=\"text-align: right;\">  mean_residual_deviance</th><th style=\"text-align: right;\">   rmse</th><th style=\"text-align: right;\">        mse</th><th style=\"text-align: right;\">    mae</th><th style=\"text-align: right;\">   rmsle</th></tr>\n",
       "</thead>\n",
       "<tbody>\n",
       "<tr><td>StackedEnsemble_BestOfFamily_4_AutoML_1_20211116_50123</td><td style=\"text-align: right;\">             7.1225e+08 </td><td style=\"text-align: right;\">26688  </td><td style=\"text-align: right;\">7.1225e+08 </td><td style=\"text-align: right;\">15136.9</td><td style=\"text-align: right;\">0.126104</td></tr>\n",
       "<tr><td>GBM_grid_1_AutoML_1_20211116_50123_model_81           </td><td style=\"text-align: right;\">             7.21706e+08</td><td style=\"text-align: right;\">26864.6</td><td style=\"text-align: right;\">7.21706e+08</td><td style=\"text-align: right;\">15613.2</td><td style=\"text-align: right;\">0.129927</td></tr>\n",
       "<tr><td>GBM_grid_1_AutoML_1_20211116_50123_model_40           </td><td style=\"text-align: right;\">             7.26945e+08</td><td style=\"text-align: right;\">26961.9</td><td style=\"text-align: right;\">7.26945e+08</td><td style=\"text-align: right;\">15712.8</td><td style=\"text-align: right;\">0.130604</td></tr>\n",
       "<tr><td>GBM_grid_1_AutoML_1_20211116_50123_model_17           </td><td style=\"text-align: right;\">             7.27529e+08</td><td style=\"text-align: right;\">26972.8</td><td style=\"text-align: right;\">7.27529e+08</td><td style=\"text-align: right;\">16030.5</td><td style=\"text-align: right;\">0.133301</td></tr>\n",
       "<tr><td>GBM_grid_1_AutoML_1_20211116_50123_model_4            </td><td style=\"text-align: right;\">             7.35686e+08</td><td style=\"text-align: right;\">27123.5</td><td style=\"text-align: right;\">7.35686e+08</td><td style=\"text-align: right;\">15668.6</td><td style=\"text-align: right;\">0.130634</td></tr>\n",
       "<tr><td>GBM_grid_1_AutoML_1_20211116_50123_model_1            </td><td style=\"text-align: right;\">             7.36054e+08</td><td style=\"text-align: right;\">27130.3</td><td style=\"text-align: right;\">7.36054e+08</td><td style=\"text-align: right;\">16024.6</td><td style=\"text-align: right;\">0.132459</td></tr>\n",
       "<tr><td>GBM_grid_1_AutoML_1_20211116_50123_model_42           </td><td style=\"text-align: right;\">             7.38336e+08</td><td style=\"text-align: right;\">27172.3</td><td style=\"text-align: right;\">7.38336e+08</td><td style=\"text-align: right;\">15786  </td><td style=\"text-align: right;\">0.131371</td></tr>\n",
       "<tr><td>GBM_grid_1_AutoML_1_20211116_50123_model_26           </td><td style=\"text-align: right;\">             7.50815e+08</td><td style=\"text-align: right;\">27401  </td><td style=\"text-align: right;\">7.50815e+08</td><td style=\"text-align: right;\">15994.9</td><td style=\"text-align: right;\">0.132515</td></tr>\n",
       "<tr><td>StackedEnsemble_BestOfFamily_3_AutoML_1_20211116_50123</td><td style=\"text-align: right;\">             7.52265e+08</td><td style=\"text-align: right;\">27427.5</td><td style=\"text-align: right;\">7.52265e+08</td><td style=\"text-align: right;\">15548.2</td><td style=\"text-align: right;\">0.129054</td></tr>\n",
       "<tr><td>GBM_grid_1_AutoML_1_20211116_50123_model_76           </td><td style=\"text-align: right;\">             7.55429e+08</td><td style=\"text-align: right;\">27485.1</td><td style=\"text-align: right;\">7.55429e+08</td><td style=\"text-align: right;\">16231.4</td><td style=\"text-align: right;\">0.13484 </td></tr>\n",
       "</tbody>\n",
       "</table>"
      ]
     },
     "metadata": {},
     "output_type": "display_data"
    },
    {
     "data": {
      "text/plain": []
     },
     "execution_count": 7,
     "metadata": {},
     "output_type": "execute_result"
    }
   ],
   "source": [
    "lb = aml.leaderboard\n",
    "lb.head(10)"
   ]
  },
  {
   "cell_type": "markdown",
   "id": "4df5e890",
   "metadata": {
    "papermill": {
     "duration": 0.055769,
     "end_time": "2021-11-16T05:31:29.669729",
     "exception": false,
     "start_time": "2021-11-16T05:31:29.613960",
     "status": "completed"
    },
    "tags": []
   },
   "source": [
    "### Submission"
   ]
  },
  {
   "cell_type": "code",
   "execution_count": 8,
   "id": "f30f0d2a",
   "metadata": {
    "execution": {
     "iopub.execute_input": "2021-11-16T05:31:29.789428Z",
     "iopub.status.busy": "2021-11-16T05:31:29.788598Z",
     "iopub.status.idle": "2021-11-16T05:31:30.404127Z",
     "shell.execute_reply": "2021-11-16T05:31:30.403325Z",
     "shell.execute_reply.started": "2021-11-16T05:00:01.270739Z"
    },
    "papermill": {
     "duration": 0.67943,
     "end_time": "2021-11-16T05:31:30.404292",
     "exception": false,
     "start_time": "2021-11-16T05:31:29.724862",
     "status": "completed"
    },
    "tags": []
   },
   "outputs": [
    {
     "data": {
      "text/html": [
       "<div>\n",
       "<style scoped>\n",
       "    .dataframe tbody tr th:only-of-type {\n",
       "        vertical-align: middle;\n",
       "    }\n",
       "\n",
       "    .dataframe tbody tr th {\n",
       "        vertical-align: top;\n",
       "    }\n",
       "\n",
       "    .dataframe thead th {\n",
       "        text-align: right;\n",
       "    }\n",
       "</style>\n",
       "<table border=\"1\" class=\"dataframe\">\n",
       "  <thead>\n",
       "    <tr style=\"text-align: right;\">\n",
       "      <th></th>\n",
       "      <th>Id</th>\n",
       "      <th>SalePrice</th>\n",
       "    </tr>\n",
       "  </thead>\n",
       "  <tbody>\n",
       "    <tr>\n",
       "      <th>0</th>\n",
       "      <td>1461</td>\n",
       "      <td>120001.418574</td>\n",
       "    </tr>\n",
       "    <tr>\n",
       "      <th>1</th>\n",
       "      <td>1462</td>\n",
       "      <td>153638.047319</td>\n",
       "    </tr>\n",
       "    <tr>\n",
       "      <th>2</th>\n",
       "      <td>1463</td>\n",
       "      <td>183015.942978</td>\n",
       "    </tr>\n",
       "    <tr>\n",
       "      <th>3</th>\n",
       "      <td>1464</td>\n",
       "      <td>192486.489368</td>\n",
       "    </tr>\n",
       "    <tr>\n",
       "      <th>4</th>\n",
       "      <td>1465</td>\n",
       "      <td>191120.353649</td>\n",
       "    </tr>\n",
       "  </tbody>\n",
       "</table>\n",
       "</div>"
      ],
      "text/plain": [
       "     Id      SalePrice\n",
       "0  1461  120001.418574\n",
       "1  1462  153638.047319\n",
       "2  1463  183015.942978\n",
       "3  1464  192486.489368\n",
       "4  1465  191120.353649"
      ]
     },
     "execution_count": 8,
     "metadata": {},
     "output_type": "execute_result"
    }
   ],
   "source": [
    "preds = aml.leader.predict(test)\n",
    "clear_output()\n",
    "sub = preds[0].as_data_frame()  ## Converting to dataframe\n",
    "subs['SalePrice'] = sub\n",
    "subs.to_csv('h20.ai-automl.csv',index = False)\n",
    "subs.head()"
   ]
  }
 ],
 "metadata": {
  "kernelspec": {
   "display_name": "Python 3",
   "language": "python",
   "name": "python3"
  },
  "language_info": {
   "codemirror_mode": {
    "name": "ipython",
    "version": 3
   },
   "file_extension": ".py",
   "mimetype": "text/x-python",
   "name": "python",
   "nbconvert_exporter": "python",
   "pygments_lexer": "ipython3",
   "version": "3.7.10"
  },
  "papermill": {
   "default_parameters": {},
   "duration": 1827.882731,
   "end_time": "2021-11-16T05:31:32.062867",
   "environment_variables": {},
   "exception": null,
   "input_path": "__notebook__.ipynb",
   "output_path": "__notebook__.ipynb",
   "parameters": {},
   "start_time": "2021-11-16T05:01:04.180136",
   "version": "2.3.3"
  }
 },
 "nbformat": 4,
 "nbformat_minor": 5
}
