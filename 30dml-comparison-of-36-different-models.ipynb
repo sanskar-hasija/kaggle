{
 "cells": [
  {
   "cell_type": "markdown",
   "id": "5b18be78",
   "metadata": {
    "_cell_guid": "b1076dfc-b9ad-4769-8c92-a6c4dae69d19",
    "_uuid": "8f2839f25d086af736a60e9eeb907d3b93b6e0e5",
    "execution": {
     "iopub.execute_input": "2021-08-20T11:02:04.384388Z",
     "iopub.status.busy": "2021-08-20T11:02:04.384004Z",
     "iopub.status.idle": "2021-08-20T11:02:04.398561Z",
     "shell.execute_reply": "2021-08-20T11:02:04.397275Z",
     "shell.execute_reply.started": "2021-08-20T11:02:04.384306Z"
    },
    "papermill": {
     "duration": 0.016819,
     "end_time": "2021-08-20T15:01:31.608282",
     "exception": false,
     "start_time": "2021-08-20T15:01:31.591463",
     "status": "completed"
    },
    "tags": []
   },
   "source": [
    "**Created by Sanskar Hasija**\n",
    "\n",
    "**30dml- Comparison on 36 different models**\n",
    "\n",
    "**20 August 2021**\n"
   ]
  },
  {
   "cell_type": "markdown",
   "id": "b58213f2",
   "metadata": {
    "papermill": {
     "duration": 0.016088,
     "end_time": "2021-08-20T15:01:31.642250",
     "exception": false,
     "start_time": "2021-08-20T15:01:31.626162",
     "status": "completed"
    },
    "tags": []
   },
   "source": [
    "# Installing Lazy Predict"
   ]
  },
  {
   "cell_type": "code",
   "execution_count": 1,
   "id": "78548b93",
   "metadata": {
    "execution": {
     "iopub.execute_input": "2021-08-20T15:01:31.676674Z",
     "iopub.status.busy": "2021-08-20T15:01:31.675348Z",
     "iopub.status.idle": "2021-08-20T15:02:50.487554Z",
     "shell.execute_reply": "2021-08-20T15:02:50.486702Z",
     "shell.execute_reply.started": "2021-08-20T12:54:59.759256Z"
    },
    "papermill": {
     "duration": 78.830363,
     "end_time": "2021-08-20T15:02:50.487749",
     "exception": false,
     "start_time": "2021-08-20T15:01:31.657386",
     "status": "completed"
    },
    "tags": []
   },
   "outputs": [],
   "source": [
    "from IPython.display import clear_output\n",
    "!pip3 install -U lazypredict\n",
    "\n",
    "clear_output()"
   ]
  },
  {
   "cell_type": "markdown",
   "id": "a81fc6fe",
   "metadata": {
    "papermill": {
     "duration": 0.014737,
     "end_time": "2021-08-20T15:02:50.517388",
     "exception": false,
     "start_time": "2021-08-20T15:02:50.502651",
     "status": "completed"
    },
    "tags": []
   },
   "source": [
    "# Import Libraries"
   ]
  },
  {
   "cell_type": "code",
   "execution_count": 2,
   "id": "6393b909",
   "metadata": {
    "execution": {
     "iopub.execute_input": "2021-08-20T15:02:50.564672Z",
     "iopub.status.busy": "2021-08-20T15:02:50.559197Z",
     "iopub.status.idle": "2021-08-20T15:03:08.555623Z",
     "shell.execute_reply": "2021-08-20T15:03:08.555029Z",
     "shell.execute_reply.started": "2021-08-20T12:55:58.616809Z"
    },
    "papermill": {
     "duration": 18.023134,
     "end_time": "2021-08-20T15:03:08.555807",
     "exception": false,
     "start_time": "2021-08-20T15:02:50.532673",
     "status": "completed"
    },
    "tags": []
   },
   "outputs": [],
   "source": [
    "!pip3 install -U pandas==1.2.3 #Upgrading pandas\n",
    "import numpy as np\n",
    "import pandas as pd \n",
    "import matplotlib.pyplot as plt \n",
    "import lazypredict\n",
    "from lazypredict import Supervised\n",
    "from lazypredict.Supervised import LazyRegressor\n",
    "\n",
    "\n",
    "plt.style.use('fivethirtyeight')\n",
    "plt.rcParams[\"figure.figsize\"] = (20,5)\n",
    "num_models = 36   #Number of Models\n",
    "clear_output()"
   ]
  },
  {
   "cell_type": "markdown",
   "id": "8539b97b",
   "metadata": {
    "papermill": {
     "duration": 0.014419,
     "end_time": "2021-08-20T15:03:08.584897",
     "exception": false,
     "start_time": "2021-08-20T15:03:08.570478",
     "status": "completed"
    },
    "tags": []
   },
   "source": [
    "# Data Pre-Processing"
   ]
  },
  {
   "cell_type": "code",
   "execution_count": 3,
   "id": "b7c47edf",
   "metadata": {
    "execution": {
     "iopub.execute_input": "2021-08-20T15:03:08.626411Z",
     "iopub.status.busy": "2021-08-20T15:03:08.625735Z",
     "iopub.status.idle": "2021-08-20T15:03:17.423840Z",
     "shell.execute_reply": "2021-08-20T15:03:17.423052Z",
     "shell.execute_reply.started": "2021-08-20T12:56:12.615465Z"
    },
    "papermill": {
     "duration": 8.824332,
     "end_time": "2021-08-20T15:03:17.424003",
     "exception": false,
     "start_time": "2021-08-20T15:03:08.599671",
     "status": "completed"
    },
    "tags": []
   },
   "outputs": [],
   "source": [
    "from sklearn.preprocessing import OrdinalEncoder\n",
    "from sklearn.model_selection import train_test_split\n",
    "\n",
    "train = pd.read_csv(\"../input/30-days-of-ml/train.csv\")\n",
    "test = pd.read_csv(\"../input/30-days-of-ml/train.csv\")\n",
    "\n",
    "cat_features = [\"cat\" + str(i) for i in range(10)]\n",
    "num_features = [\"cont\" + str(i) for i in range(14)]\n",
    "\n",
    "for col in cat_features:\n",
    "    encoder = OrdinalEncoder()\n",
    "    train[col] = encoder.fit_transform(np.array(train[col]).reshape(-1, 1))\n",
    "    test[col] = encoder.transform(np.array(test[col]).reshape(-1, 1))\n",
    "    \n",
    "X = train.drop([\"id\", \"target\"], axis=1)\n",
    "X_test = test.drop([\"id\"], axis=1)\n",
    "y = train[\"target\"]\n",
    "\n",
    "\n",
    "#Spliting into training and validation set\n",
    "offset = int(X.shape[0] * 0.67)\n",
    "X_train, y_train = X[:offset], y[:offset]\n",
    "X_valid, y_valid = X[offset:], y[offset:]"
   ]
  },
  {
   "cell_type": "markdown",
   "id": "6bc2c191",
   "metadata": {
    "execution": {
     "iopub.execute_input": "2021-08-20T11:28:15.533407Z",
     "iopub.status.busy": "2021-08-20T11:28:15.532981Z",
     "iopub.status.idle": "2021-08-20T11:28:15.538905Z",
     "shell.execute_reply": "2021-08-20T11:28:15.537606Z",
     "shell.execute_reply.started": "2021-08-20T11:28:15.533319Z"
    },
    "papermill": {
     "duration": 0.014548,
     "end_time": "2021-08-20T15:03:17.453591",
     "exception": false,
     "start_time": "2021-08-20T15:03:17.439043",
     "status": "completed"
    },
    "tags": []
   },
   "source": [
    "# MODEL SELECTION "
   ]
  },
  {
   "cell_type": "code",
   "execution_count": 4,
   "id": "51e642f4",
   "metadata": {
    "execution": {
     "iopub.execute_input": "2021-08-20T15:03:17.489660Z",
     "iopub.status.busy": "2021-08-20T15:03:17.488966Z",
     "iopub.status.idle": "2021-08-20T15:03:17.492349Z",
     "shell.execute_reply": "2021-08-20T15:03:17.491664Z",
     "shell.execute_reply.started": "2021-08-20T12:56:19.426358Z"
    },
    "papermill": {
     "duration": 0.02468,
     "end_time": "2021-08-20T15:03:17.492502",
     "exception": false,
     "start_time": "2021-08-20T15:03:17.467822",
     "status": "completed"
    },
    "tags": []
   },
   "outputs": [],
   "source": [
    "reg_idx = [i for i in range(num_models)]\n",
    "noregs_idx = [10,15,23,24,29,32] # Removing 6 models from 42 models. Some of these models are time consuming whereas other require lot of ram.\n",
    "regs_name =[]\n",
    "regs = []\n",
    "for i in range(42):\n",
    "    regs_name.append(lazypredict.Supervised.REGRESSORS[i][0])\n",
    "    regs.append(lazypredict.Supervised.REGRESSORS[i][1])\n",
    "\n",
    "for i in noregs_idx:\n",
    "    del regs_name[i]\n",
    "    del regs[i]"
   ]
  },
  {
   "cell_type": "code",
   "execution_count": 5,
   "id": "9e9102c0",
   "metadata": {
    "execution": {
     "iopub.execute_input": "2021-08-20T15:03:17.534897Z",
     "iopub.status.busy": "2021-08-20T15:03:17.533486Z",
     "iopub.status.idle": "2021-08-20T15:03:17.548723Z",
     "shell.execute_reply": "2021-08-20T15:03:17.547895Z",
     "shell.execute_reply.started": "2021-08-20T12:56:19.433625Z"
    },
    "papermill": {
     "duration": 0.040893,
     "end_time": "2021-08-20T15:03:17.548908",
     "exception": false,
     "start_time": "2021-08-20T15:03:17.508015",
     "status": "completed"
    },
    "tags": []
   },
   "outputs": [
    {
     "name": "stdout",
     "output_type": "stream",
     "text": [
      "ALL 36 AVAILABLE REGRESSION MODELS:\n",
      "1 AdaBoostRegressor\n",
      "2 BaggingRegressor\n",
      "3 BayesianRidge\n",
      "4 DecisionTreeRegressor\n",
      "5 DummyRegressor\n",
      "6 ElasticNet\n",
      "7 ElasticNetCV\n",
      "8 ExtraTreeRegressor\n",
      "9 ExtraTreesRegressor\n",
      "10 GammaRegressor\n",
      "11 GeneralizedLinearRegressor\n",
      "12 GradientBoostingRegressor\n",
      "13 HistGradientBoostingRegressor\n",
      "14 HuberRegressor\n",
      "15 KNeighborsRegressor\n",
      "16 Lars\n",
      "17 LarsCV\n",
      "18 Lasso\n",
      "19 LassoCV\n",
      "20 LassoLars\n",
      "21 LassoLarsCV\n",
      "22 LassoLarsIC\n",
      "23 LinearRegression\n",
      "24 MLPRegressor\n",
      "25 OrthogonalMatchingPursuit\n",
      "26 OrthogonalMatchingPursuitCV\n",
      "27 PassiveAggressiveRegressor\n",
      "28 PoissonRegressor\n",
      "29 RANSACRegressor\n",
      "30 Ridge\n",
      "31 RidgeCV\n",
      "32 SGDRegressor\n",
      "33 TransformedTargetRegressor\n",
      "34 TweedieRegressor\n",
      "35 XGBRegressor\n",
      "36 LGBMRegressor\n"
     ]
    }
   ],
   "source": [
    "print(\"ALL 36 AVAILABLE REGRESSION MODELS:\")\n",
    "for i in range(num_models):\n",
    "    print(i+1 , regs_name[i])"
   ]
  },
  {
   "cell_type": "markdown",
   "id": "f71c1534",
   "metadata": {
    "papermill": {
     "duration": 0.014542,
     "end_time": "2021-08-20T15:03:17.578388",
     "exception": false,
     "start_time": "2021-08-20T15:03:17.563846",
     "status": "completed"
    },
    "tags": []
   },
   "source": [
    "# Training on 36 different models"
   ]
  },
  {
   "cell_type": "code",
   "execution_count": 6,
   "id": "4ffa7952",
   "metadata": {
    "execution": {
     "iopub.execute_input": "2021-08-20T15:03:17.642848Z",
     "iopub.status.busy": "2021-08-20T15:03:17.641760Z",
     "iopub.status.idle": "2021-08-20T15:47:54.158904Z",
     "shell.execute_reply": "2021-08-20T15:47:54.159843Z",
     "shell.execute_reply.started": "2021-08-20T13:39:27.211201Z"
    },
    "papermill": {
     "duration": 2676.567057,
     "end_time": "2021-08-20T15:47:54.160072",
     "exception": false,
     "start_time": "2021-08-20T15:03:17.593015",
     "status": "completed"
    },
    "tags": []
   },
   "outputs": [],
   "source": [
    "results = pd.DataFrame()\n",
    "for i in range(num_models):\n",
    "    reg = LazyRegressor(verbose=0, \n",
    "                    ignore_warnings=False,\n",
    "                    custom_metric=None,\n",
    "                    regressors = [regs[i]])\n",
    "    models, predictions = reg.fit(X_train, X_valid, y_train, y_valid)\n",
    "    models.index = [regs_name[i]]\n",
    "    results = results.append(models)\n",
    "clear_output()"
   ]
  },
  {
   "cell_type": "markdown",
   "id": "ed36d25f",
   "metadata": {
    "papermill": {
     "duration": 0.014618,
     "end_time": "2021-08-20T15:47:54.189792",
     "exception": false,
     "start_time": "2021-08-20T15:47:54.175174",
     "status": "completed"
    },
    "tags": []
   },
   "source": [
    "# RESULTS"
   ]
  },
  {
   "cell_type": "code",
   "execution_count": 7,
   "id": "e2624362",
   "metadata": {
    "execution": {
     "iopub.execute_input": "2021-08-20T15:47:54.228308Z",
     "iopub.status.busy": "2021-08-20T15:47:54.227599Z",
     "iopub.status.idle": "2021-08-20T15:47:54.247073Z",
     "shell.execute_reply": "2021-08-20T15:47:54.245917Z",
     "shell.execute_reply.started": "2021-08-20T13:41:15.906519Z"
    },
    "papermill": {
     "duration": 0.042681,
     "end_time": "2021-08-20T15:47:54.247283",
     "exception": false,
     "start_time": "2021-08-20T15:47:54.204602",
     "status": "completed"
    },
    "tags": []
   },
   "outputs": [
    {
     "data": {
      "text/html": [
       "<div>\n",
       "<style scoped>\n",
       "    .dataframe tbody tr th:only-of-type {\n",
       "        vertical-align: middle;\n",
       "    }\n",
       "\n",
       "    .dataframe tbody tr th {\n",
       "        vertical-align: top;\n",
       "    }\n",
       "\n",
       "    .dataframe thead th {\n",
       "        text-align: right;\n",
       "    }\n",
       "</style>\n",
       "<table border=\"1\" class=\"dataframe\">\n",
       "  <thead>\n",
       "    <tr style=\"text-align: right;\">\n",
       "      <th></th>\n",
       "      <th>Adjusted R-Squared</th>\n",
       "      <th>R-Squared</th>\n",
       "      <th>RMSE</th>\n",
       "      <th>Time Taken</th>\n",
       "    </tr>\n",
       "  </thead>\n",
       "  <tbody>\n",
       "    <tr>\n",
       "      <th>LGBMRegressor</th>\n",
       "      <td>0.06</td>\n",
       "      <td>0.06</td>\n",
       "      <td>0.72</td>\n",
       "      <td>2.71</td>\n",
       "    </tr>\n",
       "    <tr>\n",
       "      <th>HistGradientBoostingRegressor</th>\n",
       "      <td>0.06</td>\n",
       "      <td>0.06</td>\n",
       "      <td>0.72</td>\n",
       "      <td>4.01</td>\n",
       "    </tr>\n",
       "    <tr>\n",
       "      <th>XGBRegressor</th>\n",
       "      <td>0.06</td>\n",
       "      <td>0.06</td>\n",
       "      <td>0.72</td>\n",
       "      <td>30.15</td>\n",
       "    </tr>\n",
       "    <tr>\n",
       "      <th>GradientBoostingRegressor</th>\n",
       "      <td>0.04</td>\n",
       "      <td>0.04</td>\n",
       "      <td>0.73</td>\n",
       "      <td>206.35</td>\n",
       "    </tr>\n",
       "    <tr>\n",
       "      <th>ExtraTreesRegressor</th>\n",
       "      <td>0.02</td>\n",
       "      <td>0.02</td>\n",
       "      <td>0.74</td>\n",
       "      <td>186.99</td>\n",
       "    </tr>\n",
       "    <tr>\n",
       "      <th>BayesianRidge</th>\n",
       "      <td>0.02</td>\n",
       "      <td>0.02</td>\n",
       "      <td>0.74</td>\n",
       "      <td>0.71</td>\n",
       "    </tr>\n",
       "    <tr>\n",
       "      <th>ElasticNetCV</th>\n",
       "      <td>0.02</td>\n",
       "      <td>0.02</td>\n",
       "      <td>0.74</td>\n",
       "      <td>2.78</td>\n",
       "    </tr>\n",
       "    <tr>\n",
       "      <th>LassoCV</th>\n",
       "      <td>0.02</td>\n",
       "      <td>0.02</td>\n",
       "      <td>0.74</td>\n",
       "      <td>2.46</td>\n",
       "    </tr>\n",
       "    <tr>\n",
       "      <th>LassoLarsIC</th>\n",
       "      <td>0.02</td>\n",
       "      <td>0.02</td>\n",
       "      <td>0.74</td>\n",
       "      <td>0.51</td>\n",
       "    </tr>\n",
       "    <tr>\n",
       "      <th>LassoLarsCV</th>\n",
       "      <td>0.02</td>\n",
       "      <td>0.02</td>\n",
       "      <td>0.74</td>\n",
       "      <td>1.94</td>\n",
       "    </tr>\n",
       "    <tr>\n",
       "      <th>Lars</th>\n",
       "      <td>0.02</td>\n",
       "      <td>0.02</td>\n",
       "      <td>0.74</td>\n",
       "      <td>0.38</td>\n",
       "    </tr>\n",
       "    <tr>\n",
       "      <th>LarsCV</th>\n",
       "      <td>0.02</td>\n",
       "      <td>0.02</td>\n",
       "      <td>0.74</td>\n",
       "      <td>1.93</td>\n",
       "    </tr>\n",
       "    <tr>\n",
       "      <th>RidgeCV</th>\n",
       "      <td>0.02</td>\n",
       "      <td>0.02</td>\n",
       "      <td>0.74</td>\n",
       "      <td>0.72</td>\n",
       "    </tr>\n",
       "    <tr>\n",
       "      <th>Ridge</th>\n",
       "      <td>0.02</td>\n",
       "      <td>0.02</td>\n",
       "      <td>0.74</td>\n",
       "      <td>0.34</td>\n",
       "    </tr>\n",
       "    <tr>\n",
       "      <th>TransformedTargetRegressor</th>\n",
       "      <td>0.02</td>\n",
       "      <td>0.02</td>\n",
       "      <td>0.74</td>\n",
       "      <td>0.46</td>\n",
       "    </tr>\n",
       "    <tr>\n",
       "      <th>LinearRegression</th>\n",
       "      <td>0.02</td>\n",
       "      <td>0.02</td>\n",
       "      <td>0.74</td>\n",
       "      <td>0.55</td>\n",
       "    </tr>\n",
       "    <tr>\n",
       "      <th>PoissonRegressor</th>\n",
       "      <td>0.02</td>\n",
       "      <td>0.02</td>\n",
       "      <td>0.74</td>\n",
       "      <td>0.71</td>\n",
       "    </tr>\n",
       "    <tr>\n",
       "      <th>HuberRegressor</th>\n",
       "      <td>0.02</td>\n",
       "      <td>0.02</td>\n",
       "      <td>0.74</td>\n",
       "      <td>2.07</td>\n",
       "    </tr>\n",
       "    <tr>\n",
       "      <th>SGDRegressor</th>\n",
       "      <td>0.02</td>\n",
       "      <td>0.02</td>\n",
       "      <td>0.74</td>\n",
       "      <td>0.84</td>\n",
       "    </tr>\n",
       "    <tr>\n",
       "      <th>GeneralizedLinearRegressor</th>\n",
       "      <td>0.01</td>\n",
       "      <td>0.01</td>\n",
       "      <td>0.74</td>\n",
       "      <td>0.47</td>\n",
       "    </tr>\n",
       "    <tr>\n",
       "      <th>TweedieRegressor</th>\n",
       "      <td>0.01</td>\n",
       "      <td>0.01</td>\n",
       "      <td>0.74</td>\n",
       "      <td>0.39</td>\n",
       "    </tr>\n",
       "    <tr>\n",
       "      <th>GammaRegressor</th>\n",
       "      <td>0.01</td>\n",
       "      <td>0.01</td>\n",
       "      <td>0.74</td>\n",
       "      <td>0.60</td>\n",
       "    </tr>\n",
       "    <tr>\n",
       "      <th>OrthogonalMatchingPursuitCV</th>\n",
       "      <td>0.01</td>\n",
       "      <td>0.01</td>\n",
       "      <td>0.74</td>\n",
       "      <td>1.61</td>\n",
       "    </tr>\n",
       "    <tr>\n",
       "      <th>OrthogonalMatchingPursuit</th>\n",
       "      <td>0.01</td>\n",
       "      <td>0.01</td>\n",
       "      <td>0.74</td>\n",
       "      <td>0.39</td>\n",
       "    </tr>\n",
       "    <tr>\n",
       "      <th>MLPRegressor</th>\n",
       "      <td>0.00</td>\n",
       "      <td>0.00</td>\n",
       "      <td>0.74</td>\n",
       "      <td>174.42</td>\n",
       "    </tr>\n",
       "    <tr>\n",
       "      <th>Lasso</th>\n",
       "      <td>-0.00</td>\n",
       "      <td>-0.00</td>\n",
       "      <td>0.75</td>\n",
       "      <td>0.39</td>\n",
       "    </tr>\n",
       "    <tr>\n",
       "      <th>ElasticNet</th>\n",
       "      <td>-0.00</td>\n",
       "      <td>-0.00</td>\n",
       "      <td>0.75</td>\n",
       "      <td>0.43</td>\n",
       "    </tr>\n",
       "    <tr>\n",
       "      <th>DummyRegressor</th>\n",
       "      <td>-0.00</td>\n",
       "      <td>-0.00</td>\n",
       "      <td>0.75</td>\n",
       "      <td>0.32</td>\n",
       "    </tr>\n",
       "    <tr>\n",
       "      <th>LassoLars</th>\n",
       "      <td>-0.00</td>\n",
       "      <td>-0.00</td>\n",
       "      <td>0.75</td>\n",
       "      <td>0.37</td>\n",
       "    </tr>\n",
       "    <tr>\n",
       "      <th>BaggingRegressor</th>\n",
       "      <td>-0.07</td>\n",
       "      <td>-0.07</td>\n",
       "      <td>0.77</td>\n",
       "      <td>64.57</td>\n",
       "    </tr>\n",
       "    <tr>\n",
       "      <th>AdaBoostRegressor</th>\n",
       "      <td>-0.11</td>\n",
       "      <td>-0.11</td>\n",
       "      <td>0.79</td>\n",
       "      <td>58.25</td>\n",
       "    </tr>\n",
       "    <tr>\n",
       "      <th>KNeighborsRegressor</th>\n",
       "      <td>-0.17</td>\n",
       "      <td>-0.17</td>\n",
       "      <td>0.81</td>\n",
       "      <td>1911.23</td>\n",
       "    </tr>\n",
       "    <tr>\n",
       "      <th>DecisionTreeRegressor</th>\n",
       "      <td>-1.01</td>\n",
       "      <td>-1.01</td>\n",
       "      <td>1.06</td>\n",
       "      <td>10.26</td>\n",
       "    </tr>\n",
       "    <tr>\n",
       "      <th>ExtraTreeRegressor</th>\n",
       "      <td>-1.04</td>\n",
       "      <td>-1.04</td>\n",
       "      <td>1.07</td>\n",
       "      <td>2.30</td>\n",
       "    </tr>\n",
       "    <tr>\n",
       "      <th>RANSACRegressor</th>\n",
       "      <td>-1.16</td>\n",
       "      <td>-1.16</td>\n",
       "      <td>1.10</td>\n",
       "      <td>1.63</td>\n",
       "    </tr>\n",
       "    <tr>\n",
       "      <th>PassiveAggressiveRegressor</th>\n",
       "      <td>-1.96</td>\n",
       "      <td>-1.96</td>\n",
       "      <td>1.28</td>\n",
       "      <td>0.95</td>\n",
       "    </tr>\n",
       "  </tbody>\n",
       "</table>\n",
       "</div>"
      ],
      "text/plain": [
       "                               Adjusted R-Squared  R-Squared  RMSE  Time Taken\n",
       "LGBMRegressor                                0.06       0.06  0.72        2.71\n",
       "HistGradientBoostingRegressor                0.06       0.06  0.72        4.01\n",
       "XGBRegressor                                 0.06       0.06  0.72       30.15\n",
       "GradientBoostingRegressor                    0.04       0.04  0.73      206.35\n",
       "ExtraTreesRegressor                          0.02       0.02  0.74      186.99\n",
       "BayesianRidge                                0.02       0.02  0.74        0.71\n",
       "ElasticNetCV                                 0.02       0.02  0.74        2.78\n",
       "LassoCV                                      0.02       0.02  0.74        2.46\n",
       "LassoLarsIC                                  0.02       0.02  0.74        0.51\n",
       "LassoLarsCV                                  0.02       0.02  0.74        1.94\n",
       "Lars                                         0.02       0.02  0.74        0.38\n",
       "LarsCV                                       0.02       0.02  0.74        1.93\n",
       "RidgeCV                                      0.02       0.02  0.74        0.72\n",
       "Ridge                                        0.02       0.02  0.74        0.34\n",
       "TransformedTargetRegressor                   0.02       0.02  0.74        0.46\n",
       "LinearRegression                             0.02       0.02  0.74        0.55\n",
       "PoissonRegressor                             0.02       0.02  0.74        0.71\n",
       "HuberRegressor                               0.02       0.02  0.74        2.07\n",
       "SGDRegressor                                 0.02       0.02  0.74        0.84\n",
       "GeneralizedLinearRegressor                   0.01       0.01  0.74        0.47\n",
       "TweedieRegressor                             0.01       0.01  0.74        0.39\n",
       "GammaRegressor                               0.01       0.01  0.74        0.60\n",
       "OrthogonalMatchingPursuitCV                  0.01       0.01  0.74        1.61\n",
       "OrthogonalMatchingPursuit                    0.01       0.01  0.74        0.39\n",
       "MLPRegressor                                 0.00       0.00  0.74      174.42\n",
       "Lasso                                       -0.00      -0.00  0.75        0.39\n",
       "ElasticNet                                  -0.00      -0.00  0.75        0.43\n",
       "DummyRegressor                              -0.00      -0.00  0.75        0.32\n",
       "LassoLars                                   -0.00      -0.00  0.75        0.37\n",
       "BaggingRegressor                            -0.07      -0.07  0.77       64.57\n",
       "AdaBoostRegressor                           -0.11      -0.11  0.79       58.25\n",
       "KNeighborsRegressor                         -0.17      -0.17  0.81     1911.23\n",
       "DecisionTreeRegressor                       -1.01      -1.01  1.06       10.26\n",
       "ExtraTreeRegressor                          -1.04      -1.04  1.07        2.30\n",
       "RANSACRegressor                             -1.16      -1.16  1.10        1.63\n",
       "PassiveAggressiveRegressor                  -1.96      -1.96  1.28        0.95"
      ]
     },
     "execution_count": 7,
     "metadata": {},
     "output_type": "execute_result"
    }
   ],
   "source": [
    "results = results.sort_values(by = \"RMSE\")\n",
    "results"
   ]
  },
  {
   "cell_type": "markdown",
   "id": "7cbbb0d0",
   "metadata": {
    "execution": {
     "iopub.execute_input": "2021-08-20T11:47:01.926992Z",
     "iopub.status.busy": "2021-08-20T11:47:01.926617Z",
     "iopub.status.idle": "2021-08-20T11:47:01.939796Z",
     "shell.execute_reply": "2021-08-20T11:47:01.938933Z",
     "shell.execute_reply.started": "2021-08-20T11:47:01.926961Z"
    },
    "papermill": {
     "duration": 0.015206,
     "end_time": "2021-08-20T15:47:54.278573",
     "exception": false,
     "start_time": "2021-08-20T15:47:54.263367",
     "status": "completed"
    },
    "tags": []
   },
   "source": [
    "## TOP 5 Performing Models (BY RMSE)"
   ]
  },
  {
   "cell_type": "code",
   "execution_count": 8,
   "id": "db5a9824",
   "metadata": {
    "execution": {
     "iopub.execute_input": "2021-08-20T15:47:54.322050Z",
     "iopub.status.busy": "2021-08-20T15:47:54.321032Z",
     "iopub.status.idle": "2021-08-20T15:47:54.325898Z",
     "shell.execute_reply": "2021-08-20T15:47:54.325349Z",
     "shell.execute_reply.started": "2021-08-20T13:42:32.917215Z"
    },
    "papermill": {
     "duration": 0.031066,
     "end_time": "2021-08-20T15:47:54.326048",
     "exception": false,
     "start_time": "2021-08-20T15:47:54.294982",
     "status": "completed"
    },
    "tags": []
   },
   "outputs": [
    {
     "data": {
      "text/html": [
       "<div>\n",
       "<style scoped>\n",
       "    .dataframe tbody tr th:only-of-type {\n",
       "        vertical-align: middle;\n",
       "    }\n",
       "\n",
       "    .dataframe tbody tr th {\n",
       "        vertical-align: top;\n",
       "    }\n",
       "\n",
       "    .dataframe thead th {\n",
       "        text-align: right;\n",
       "    }\n",
       "</style>\n",
       "<table border=\"1\" class=\"dataframe\">\n",
       "  <thead>\n",
       "    <tr style=\"text-align: right;\">\n",
       "      <th></th>\n",
       "      <th>Adjusted R-Squared</th>\n",
       "      <th>R-Squared</th>\n",
       "      <th>RMSE</th>\n",
       "      <th>Time Taken</th>\n",
       "    </tr>\n",
       "  </thead>\n",
       "  <tbody>\n",
       "    <tr>\n",
       "      <th>LGBMRegressor</th>\n",
       "      <td>0.06</td>\n",
       "      <td>0.06</td>\n",
       "      <td>0.72</td>\n",
       "      <td>2.71</td>\n",
       "    </tr>\n",
       "    <tr>\n",
       "      <th>HistGradientBoostingRegressor</th>\n",
       "      <td>0.06</td>\n",
       "      <td>0.06</td>\n",
       "      <td>0.72</td>\n",
       "      <td>4.01</td>\n",
       "    </tr>\n",
       "    <tr>\n",
       "      <th>XGBRegressor</th>\n",
       "      <td>0.06</td>\n",
       "      <td>0.06</td>\n",
       "      <td>0.72</td>\n",
       "      <td>30.15</td>\n",
       "    </tr>\n",
       "    <tr>\n",
       "      <th>GradientBoostingRegressor</th>\n",
       "      <td>0.04</td>\n",
       "      <td>0.04</td>\n",
       "      <td>0.73</td>\n",
       "      <td>206.35</td>\n",
       "    </tr>\n",
       "    <tr>\n",
       "      <th>ExtraTreesRegressor</th>\n",
       "      <td>0.02</td>\n",
       "      <td>0.02</td>\n",
       "      <td>0.74</td>\n",
       "      <td>186.99</td>\n",
       "    </tr>\n",
       "  </tbody>\n",
       "</table>\n",
       "</div>"
      ],
      "text/plain": [
       "                               Adjusted R-Squared  R-Squared  RMSE  Time Taken\n",
       "LGBMRegressor                                0.06       0.06  0.72        2.71\n",
       "HistGradientBoostingRegressor                0.06       0.06  0.72        4.01\n",
       "XGBRegressor                                 0.06       0.06  0.72       30.15\n",
       "GradientBoostingRegressor                    0.04       0.04  0.73      206.35\n",
       "ExtraTreesRegressor                          0.02       0.02  0.74      186.99"
      ]
     },
     "execution_count": 8,
     "metadata": {},
     "output_type": "execute_result"
    }
   ],
   "source": [
    "results.head()"
   ]
  },
  {
   "cell_type": "markdown",
   "id": "309606a3",
   "metadata": {
    "papermill": {
     "duration": 0.016008,
     "end_time": "2021-08-20T15:47:54.358197",
     "exception": false,
     "start_time": "2021-08-20T15:47:54.342189",
     "status": "completed"
    },
    "tags": []
   },
   "source": [
    "# Comparison Plots"
   ]
  },
  {
   "cell_type": "code",
   "execution_count": 9,
   "id": "95e6df62",
   "metadata": {
    "_kg_hide-input": false,
    "execution": {
     "iopub.execute_input": "2021-08-20T15:47:54.393734Z",
     "iopub.status.busy": "2021-08-20T15:47:54.393080Z",
     "iopub.status.idle": "2021-08-20T15:47:54.632174Z",
     "shell.execute_reply": "2021-08-20T15:47:54.631627Z",
     "shell.execute_reply.started": "2021-08-20T13:43:50.690932Z"
    },
    "papermill": {
     "duration": 0.258125,
     "end_time": "2021-08-20T15:47:54.632345",
     "exception": false,
     "start_time": "2021-08-20T15:47:54.374220",
     "status": "completed"
    },
    "tags": []
   },
   "outputs": [
    {
     "data": {
      "image/png": "[encoded data removed]",
      "text/plain": [
       "<Figure size 1440x360 with 1 Axes>"
      ]
     },
     "metadata": {},
     "output_type": "display_data"
    }
   ],
   "source": [
    "plt.plot(reg_idx , results[\"RMSE\"],label = \"RMSE\" ,marker='o')\n",
    "plt.xlabel(\"Model ID\")\n",
    "plt.ylabel(\"RMSE\")\n",
    "plt.title(\"RMSE Comparison of 36 Different Models\")\n",
    "plt.legend()\n",
    "plt.show()"
   ]
  },
  {
   "cell_type": "code",
   "execution_count": 10,
   "id": "bf66f2ae",
   "metadata": {
    "execution": {
     "iopub.execute_input": "2021-08-20T15:47:54.703281Z",
     "iopub.status.busy": "2021-08-20T15:47:54.702282Z",
     "iopub.status.idle": "2021-08-20T15:47:54.907907Z",
     "shell.execute_reply": "2021-08-20T15:47:54.907343Z",
     "shell.execute_reply.started": "2021-08-20T13:43:52.524605Z"
    },
    "papermill": {
     "duration": 0.258328,
     "end_time": "2021-08-20T15:47:54.908051",
     "exception": false,
     "start_time": "2021-08-20T15:47:54.649723",
     "status": "completed"
    },
    "tags": []
   },
   "outputs": [
    {
     "data": {
      "image/png": "[encoded data removed]",
      "text/plain": [
       "<Figure size 1440x360 with 1 Axes>"
      ]
     },
     "metadata": {},
     "output_type": "display_data"
    }
   ],
   "source": [
    "plt.plot(reg_idx , results[\"Time Taken\"],label = \"Time Taken\" ,marker='*' , color = 'r')\n",
    "plt.xlabel(\"Model ID\")\n",
    "plt.ylabel(\"Time Taken\")\n",
    "plt.title(\"TIME TAKEN of 36 Different Models\")\n",
    "plt.legend()\n",
    "plt.show()"
   ]
  },
  {
   "cell_type": "markdown",
   "id": "a3c737f7",
   "metadata": {
    "execution": {
     "iopub.execute_input": "2021-08-20T12:04:36.605775Z",
     "iopub.status.busy": "2021-08-20T12:04:36.605323Z",
     "iopub.status.idle": "2021-08-20T12:04:36.61043Z",
     "shell.execute_reply": "2021-08-20T12:04:36.609124Z",
     "shell.execute_reply.started": "2021-08-20T12:04:36.60574Z"
    },
    "papermill": {
     "duration": 0.01873,
     "end_time": "2021-08-20T15:47:54.945846",
     "exception": false,
     "start_time": "2021-08-20T15:47:54.927116",
     "status": "completed"
    },
    "tags": []
   },
   "source": [
    "# <center>If you find this notebook useful, support with an upvote!</center>"
   ]
  }
 ],
 "metadata": {
  "kernelspec": {
   "display_name": "Python 3",
   "language": "python",
   "name": "python3"
  },
  "language_info": {
   "codemirror_mode": {
    "name": "ipython",
    "version": 3
   },
   "file_extension": ".py",
   "mimetype": "text/x-python",
   "name": "python",
   "nbconvert_exporter": "python",
   "pygments_lexer": "ipython3",
   "version": "3.7.10"
  },
  "papermill": {
   "default_parameters": {},
   "duration": 2793.929375,
   "end_time": "2021-08-20T15:47:56.078970",
   "environment_variables": {},
   "exception": null,
   "input_path": "__notebook__.ipynb",
   "output_path": "__notebook__.ipynb",
   "parameters": {},
   "start_time": "2021-08-20T15:01:22.149595",
   "version": "2.3.3"
  }
 },
 "nbformat": 4,
 "nbformat_minor": 5
}
