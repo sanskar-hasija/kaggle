{
 "cells": [
  {
   "cell_type": "markdown",
   "id": "8fb9bc43",
   "metadata": {
    "papermill": {
     "duration": 0.002807,
     "end_time": "2022-06-15T23:29:21.196920",
     "exception": false,
     "start_time": "2022-06-15T23:29:21.194113",
     "status": "completed"
    },
    "tags": []
   },
   "source": [
    "**Created by Sanskar Hasija**\n",
    "\n",
    "**Play Store App Reviews Scrapper**\n",
    "\n",
    "**16 July 2021**\n"
   ]
  },
  {
   "cell_type": "markdown",
   "id": "56b7551a",
   "metadata": {
    "papermill": {
     "duration": 0.001547,
     "end_time": "2022-06-15T23:29:21.200480",
     "exception": false,
     "start_time": "2022-06-15T23:29:21.198933",
     "status": "completed"
    },
    "tags": []
   },
   "source": [
    "#### Dataset link - https://www.kaggle.com/datasets/odins0n/top-20-play-store-app-reviews-daily-update"
   ]
  },
  {
   "cell_type": "code",
   "execution_count": 1,
   "id": "402aee20",
   "metadata": {
    "_cell_guid": "b1076dfc-b9ad-4769-8c92-a6c4dae69d19",
    "_uuid": "8f2839f25d086af736a60e9eeb907d3b93b6e0e5",
    "execution": {
     "iopub.execute_input": "2022-06-15T23:29:21.206462Z",
     "iopub.status.busy": "2022-06-15T23:29:21.205863Z",
     "iopub.status.idle": "2022-06-15T23:58:30.301283Z",
     "shell.execute_reply": "2022-06-15T23:58:30.300150Z"
    },
    "papermill": {
     "duration": 1749.103661,
     "end_time": "2022-06-15T23:58:30.305810",
     "exception": false,
     "start_time": "2022-06-15T23:29:21.202149",
     "status": "completed"
    },
    "tags": []
   },
   "outputs": [
    {
     "name": "stdout",
     "output_type": "stream",
     "text": [
      "\u001b[33mWARNING: Running pip as the 'root' user can result in broken permissions and conflicting behaviour with the system package manager. It is recommended to use a virtual environment instead: https://pip.pypa.io/warnings/venv\u001b[0m\u001b[33m\r\n",
      "\u001b[0mDONE :) \n"
     ]
    },
    {
     "data": {
      "text/html": [
       "<div>\n",
       "<style scoped>\n",
       "    .dataframe tbody tr th:only-of-type {\n",
       "        vertical-align: middle;\n",
       "    }\n",
       "\n",
       "    .dataframe tbody tr th {\n",
       "        vertical-align: top;\n",
       "    }\n",
       "\n",
       "    .dataframe thead th {\n",
       "        text-align: right;\n",
       "    }\n",
       "</style>\n",
       "<table border=\"1\" class=\"dataframe\">\n",
       "  <thead>\n",
       "    <tr style=\"text-align: right;\">\n",
       "      <th></th>\n",
       "      <th>reviewId</th>\n",
       "      <th>content</th>\n",
       "      <th>score</th>\n",
       "      <th>app</th>\n",
       "    </tr>\n",
       "  </thead>\n",
       "  <tbody>\n",
       "    <tr>\n",
       "      <th>0</th>\n",
       "      <td>65801342-e556-4071-a360-f6d5b20536be</td>\n",
       "      <td>mst</td>\n",
       "      <td>5</td>\n",
       "      <td>Facebook</td>\n",
       "    </tr>\n",
       "    <tr>\n",
       "      <th>1</th>\n",
       "      <td>fa90e350-dcaa-4748-803e-a8c7a0c62142</td>\n",
       "      <td>Instagram is best app gayesh</td>\n",
       "      <td>4</td>\n",
       "      <td>Facebook</td>\n",
       "    </tr>\n",
       "    <tr>\n",
       "      <th>2</th>\n",
       "      <td>981d8633-db62-43d8-a3b0-26872debeca2</td>\n",
       "      <td>Extra ordinary</td>\n",
       "      <td>4</td>\n",
       "      <td>Facebook</td>\n",
       "    </tr>\n",
       "    <tr>\n",
       "      <th>3</th>\n",
       "      <td>bea952da-07a7-4cc1-aa16-91114d1edd84</td>\n",
       "      <td>Good 🙂</td>\n",
       "      <td>4</td>\n",
       "      <td>Facebook</td>\n",
       "    </tr>\n",
       "    <tr>\n",
       "      <th>4</th>\n",
       "      <td>4993510f-efcd-4068-ada1-404477624308</td>\n",
       "      <td>Bad</td>\n",
       "      <td>2</td>\n",
       "      <td>Facebook</td>\n",
       "    </tr>\n",
       "  </tbody>\n",
       "</table>\n",
       "</div>"
      ],
      "text/plain": [
       "                               reviewId                       content  score  \\\n",
       "0  65801342-e556-4071-a360-f6d5b20536be                           mst      5   \n",
       "1  fa90e350-dcaa-4748-803e-a8c7a0c62142  Instagram is best app gayesh      4   \n",
       "2  981d8633-db62-43d8-a3b0-26872debeca2                Extra ordinary      4   \n",
       "3  bea952da-07a7-4cc1-aa16-91114d1edd84                        Good 🙂      4   \n",
       "4  4993510f-efcd-4068-ada1-404477624308                           Bad      2   \n",
       "\n",
       "        app  \n",
       "0  Facebook  \n",
       "1  Facebook  \n",
       "2  Facebook  \n",
       "3  Facebook  \n",
       "4  Facebook  "
      ]
     },
     "execution_count": 1,
     "metadata": {},
     "output_type": "execute_result"
    }
   ],
   "source": [
    "## This notebook scrapes 10000 newest reviews for top 20 apps on the google play store and updates the dataset daily.\n",
    "\n",
    "!pip install -q google-play-scraper\n",
    "import pandas as pd\n",
    "from google_play_scraper import reviews\n",
    "from google_play_scraper import Sort\n",
    "\n",
    "\n",
    "## top 20 apps \n",
    "apps = {\n",
    "    \"Facebook\": \"com.facebook.katana\",\n",
    "    \"WhatsApp\": \"com.whatsapp\",\n",
    "    \"Facebook Messenger\": \"com.facebook.orca\",\n",
    "    \"Instagram\": \"com.instagram.android\",\n",
    "    \"TikTok\": \"com.zhiliaoapp.musically\",\n",
    "    \"Subway Surfers\": \"com.kiloo.subwaysurf\",\n",
    "    \"Facebook Lite\": \"com.facebook.lite\",\n",
    "    \"Microsoft Word\": 'com.microsoft.office.word',\n",
    "    \"Microsoft PowerPoint\": \"com.microsoft.office.powerpoint\",\n",
    "    \"Snapchat\": \"com.snapchat.android\",\n",
    "    \"SHAREit\": \"com.lenovo.anyshare.gps\",\n",
    "    \"Netflix\": \"com.netflix.mediaclient\",\n",
    "    \"Twitter\": \"com.twitter.android\",\n",
    "    \"Flipboard\": \"flipboard.app\",\n",
    "    \"Candy Crush Saga\": \"com.king.candycrushsaga\",\n",
    "    \"Skype\": \"com.skype.raider\",\n",
    "    \"Spotify\": \"com.spotify.music\",\n",
    "    \"Dropbox\": \"com.dropbox.android\",\n",
    "    \"Viber\": \"com.viber.voip\",\n",
    "    \"LINE\" : \"jp.naver.line.android\"\n",
    "    \n",
    "}\n",
    "\n",
    "SORT = Sort.NEWEST\n",
    "N_REVIEWS = 10000\n",
    "reviews_dict =  {k : {} for k in apps}\n",
    "\n",
    "\n",
    "## Scraping reviews\n",
    "for app in apps.keys():\n",
    "    result, continuation_token = reviews(\n",
    "        apps[app],\n",
    "        lang='en',\n",
    "        country='us',\n",
    "        sort= SORT,\n",
    "        count=N_REVIEWS, \n",
    "        filter_score_with=None\n",
    "    )\n",
    "    reviews_dict[app], _ = reviews(\n",
    "        'com.instagram.android',\n",
    "        continuation_token=continuation_token \n",
    "    )\n",
    "    assert len(reviews_dict[app]) == N_REVIEWS\n",
    "\n",
    "    \n",
    "## saving reviews\n",
    "df = pd.DataFrame()\n",
    "for app in apps.keys():\n",
    "    SAVE_DIR = app  + \".csv\"\n",
    "    temp_df = pd.DataFrame(\n",
    "        reviews_dict[app],\n",
    "        columns = [\"reviewId\", \"content\", \"score\"]\n",
    "                          )\n",
    "    temp_df.to_csv(SAVE_DIR, index = False)\n",
    "    temp_df[\"app\"] = app\n",
    "    df = pd.concat((df ,temp_df))\n",
    "df.to_csv(\"all_combined.csv\", index = False)\n",
    "print(\"DONE :) \")\n",
    "df.head()\n",
    "\n",
    "\n",
    "## references \n",
    "## https://github.com/facundoolano/google-play-scraper\n",
    "## https://www.makeuseof.com/tag/most-popular-android-apps/"
   ]
  }
 ],
 "metadata": {
  "kernelspec": {
   "display_name": "Python 3",
   "language": "python",
   "name": "python3"
  },
  "language_info": {
   "codemirror_mode": {
    "name": "ipython",
    "version": 3
   },
   "file_extension": ".py",
   "mimetype": "text/x-python",
   "name": "python",
   "nbconvert_exporter": "python",
   "pygments_lexer": "ipython3",
   "version": "3.7.12"
  },
  "papermill": {
   "default_parameters": {},
   "duration": 1760.585284,
   "end_time": "2022-06-15T23:58:31.135706",
   "environment_variables": {},
   "exception": null,
   "input_path": "__notebook__.ipynb",
   "output_path": "__notebook__.ipynb",
   "parameters": {},
   "start_time": "2022-06-15T23:29:10.550422",
   "version": "2.3.4"
  }
 },
 "nbformat": 4,
 "nbformat_minor": 5
}
