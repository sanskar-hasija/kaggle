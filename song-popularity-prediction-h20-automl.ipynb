{
 "cells": [
  {
   "cell_type": "markdown",
   "id": "0c38b3fb",
   "metadata": {
    "_cell_guid": "b1076dfc-b9ad-4769-8c92-a6c4dae69d19",
    "_uuid": "8f2839f25d086af736a60e9eeb907d3b93b6e0e5",
    "execution": {
     "iopub.execute_input": "2021-11-30T00:03:31.436721Z",
     "iopub.status.busy": "2021-11-30T00:03:31.436339Z",
     "iopub.status.idle": "2021-11-30T00:03:31.462058Z",
     "shell.execute_reply": "2021-11-30T00:03:31.461037Z",
     "shell.execute_reply.started": "2021-11-30T00:03:31.436625Z"
    },
    "papermill": {
     "duration": 0.011964,
     "end_time": "2022-01-18T21:20:34.197430",
     "exception": false,
     "start_time": "2022-01-18T21:20:34.185466",
     "status": "completed"
    },
    "tags": []
   },
   "source": [
    "**Created by Sanskar Hasija**\n",
    "\n",
    "**Song Popularity Prediction- H20 AUTOML 🤖**\n",
    "\n",
    "**19 JANUARY 2022**\n"
   ]
  },
  {
   "cell_type": "markdown",
   "id": "079d2b56",
   "metadata": {
    "papermill": {
     "duration": 0.010836,
     "end_time": "2022-01-18T21:20:34.219447",
     "exception": false,
     "start_time": "2022-01-18T21:20:34.208611",
     "status": "completed"
    },
    "tags": []
   },
   "source": [
    "# <center> SONG POPULARITY PREDICTION - H20 AUTOML 🤖</center>\n",
    "## <center>If you find this notebook useful, support with an upvote👍</center>"
   ]
  },
  {
   "cell_type": "markdown",
   "id": "2accdf33",
   "metadata": {
    "papermill": {
     "duration": 0.011063,
     "end_time": "2022-01-18T21:20:34.241506",
     "exception": false,
     "start_time": "2022-01-18T21:20:34.230443",
     "status": "completed"
    },
    "tags": []
   },
   "source": [
    "# Imports"
   ]
  },
  {
   "cell_type": "code",
   "execution_count": 1,
   "id": "cd2d7738",
   "metadata": {
    "execution": {
     "iopub.execute_input": "2022-01-18T21:20:34.274295Z",
     "iopub.status.busy": "2022-01-18T21:20:34.273545Z",
     "iopub.status.idle": "2022-01-18T21:20:34.389048Z",
     "shell.execute_reply": "2022-01-18T21:20:34.389505Z",
     "shell.execute_reply.started": "2022-01-18T21:14:52.444241Z"
    },
    "papermill": {
     "duration": 0.13727,
     "end_time": "2022-01-18T21:20:34.389746",
     "exception": false,
     "start_time": "2022-01-18T21:20:34.252476",
     "status": "completed"
    },
    "tags": []
   },
   "outputs": [],
   "source": [
    "from IPython.display import clear_output\n",
    "\n",
    "import numpy as np\n",
    "import pandas as pd\n",
    "\n",
    "import h2o\n",
    "from h2o.automl import H2OAutoML"
   ]
  },
  {
   "cell_type": "markdown",
   "id": "40384c9f",
   "metadata": {
    "papermill": {
     "duration": 0.010724,
     "end_time": "2022-01-18T21:20:34.411949",
     "exception": false,
     "start_time": "2022-01-18T21:20:34.401225",
     "status": "completed"
    },
    "tags": []
   },
   "source": [
    "# Initializing H20 Cluster"
   ]
  },
  {
   "cell_type": "code",
   "execution_count": 2,
   "id": "b482b079",
   "metadata": {
    "execution": {
     "iopub.execute_input": "2022-01-18T21:20:34.516853Z",
     "iopub.status.busy": "2022-01-18T21:20:34.439758Z",
     "iopub.status.idle": "2022-01-18T21:20:41.861932Z",
     "shell.execute_reply": "2022-01-18T21:20:41.862514Z",
     "shell.execute_reply.started": "2022-01-18T21:19:05.063141Z"
    },
    "papermill": {
     "duration": 7.439866,
     "end_time": "2022-01-18T21:20:41.862719",
     "exception": false,
     "start_time": "2022-01-18T21:20:34.422853",
     "status": "completed"
    },
    "tags": []
   },
   "outputs": [],
   "source": [
    "from h2o.automl import H2OAutoML\n",
    "h2o.init()\n",
    "clear_output()"
   ]
  },
  {
   "cell_type": "markdown",
   "id": "0633d531",
   "metadata": {
    "papermill": {
     "duration": 0.017657,
     "end_time": "2022-01-18T21:20:41.897826",
     "exception": false,
     "start_time": "2022-01-18T21:20:41.880169",
     "status": "completed"
    },
    "tags": []
   },
   "source": [
    "# Data Loading and Preprocessing"
   ]
  },
  {
   "cell_type": "code",
   "execution_count": 3,
   "id": "86709cd5",
   "metadata": {
    "execution": {
     "iopub.execute_input": "2022-01-18T21:20:41.941091Z",
     "iopub.status.busy": "2022-01-18T21:20:41.940278Z",
     "iopub.status.idle": "2022-01-18T21:20:47.516989Z",
     "shell.execute_reply": "2022-01-18T21:20:47.515872Z",
     "shell.execute_reply.started": "2022-01-18T21:15:00.282832Z"
    },
    "papermill": {
     "duration": 5.601487,
     "end_time": "2022-01-18T21:20:47.517157",
     "exception": false,
     "start_time": "2022-01-18T21:20:41.915670",
     "status": "completed"
    },
    "tags": []
   },
   "outputs": [
    {
     "name": "stdout",
     "output_type": "stream",
     "text": [
      "Parse progress: |████████████████████████████████████████████████████████████████| (done) 100%\n",
      "Parse progress: |████████████████████████████████████████████████████████████████| (done) 100%\n"
     ]
    }
   ],
   "source": [
    "train = pd.read_csv(\"../input/song-popularity-prediction/train.csv\")\n",
    "test = pd.read_csv(\"../input/song-popularity-prediction/test.csv\")\n",
    "subs = pd.read_csv(\"../input/song-popularity-prediction/sample_submission.csv\")\n",
    "\n",
    "train = h2o.H2OFrame(train)\n",
    "test = h2o.H2OFrame(test)"
   ]
  },
  {
   "cell_type": "code",
   "execution_count": 4,
   "id": "713cdcc0",
   "metadata": {
    "execution": {
     "iopub.execute_input": "2022-01-18T21:20:47.584265Z",
     "iopub.status.busy": "2022-01-18T21:20:47.583262Z",
     "iopub.status.idle": "2022-01-18T21:20:47.665421Z",
     "shell.execute_reply": "2022-01-18T21:20:47.663463Z",
     "shell.execute_reply.started": "2022-01-18T21:15:05.926533Z"
    },
    "papermill": {
     "duration": 0.111349,
     "end_time": "2022-01-18T21:20:47.665578",
     "exception": false,
     "start_time": "2022-01-18T21:20:47.554229",
     "status": "completed"
    },
    "tags": []
   },
   "outputs": [
    {
     "name": "stdout",
     "output_type": "stream",
     "text": [
      "Rows:40000\n",
      "Cols:15\n",
      "\n",
      "\n"
     ]
    },
    {
     "data": {
      "text/html": [
       "<table>\n",
       "<thead>\n",
       "<tr><th>       </th><th>id                </th><th>song_duration_ms  </th><th>acousticness       </th><th>danceability       </th><th>energy             </th><th>instrumentalness      </th><th>key              </th><th>liveness           </th><th>loudness           </th><th>audio_mode         </th><th>speechiness        </th><th>tempo             </th><th>time_signature    </th><th>audio_valence      </th><th>song_popularity   </th></tr>\n",
       "</thead>\n",
       "<tbody>\n",
       "<tr><td>type   </td><td>int               </td><td>int               </td><td>real               </td><td>real               </td><td>real               </td><td>real                  </td><td>int              </td><td>real               </td><td>real               </td><td>int                </td><td>real               </td><td>real              </td><td>int               </td><td>real               </td><td>int               </td></tr>\n",
       "<tr><td>mins   </td><td>0.0               </td><td>25658.0           </td><td>-0.0135511552613696</td><td>0.0439606763362077 </td><td>-0.0016822004137934</td><td>-0.0043980509966391   </td><td>0.0              </td><td>0.0278431130171187 </td><td>-32.117910852313194</td><td>0.0                </td><td>0.0150646591183137 </td><td>62.05577907947696 </td><td>2.0               </td><td>0.0133978546055058 </td><td>0.0               </td></tr>\n",
       "<tr><td>mean   </td><td>19999.5           </td><td>193165.84757235544</td><td>0.27640443038795165</td><td>0.5709511548062322 </td><td>0.6839319477138375 </td><td>0.036526755987754074  </td><td>5.042604702935854</td><td>0.19851369124259596</td><td>-7.407596207923757 </td><td>0.32115            </td><td>0.09410654997438588</td><td>116.56281488147955</td><td>3.394374999999997 </td><td>0.5806448560934723 </td><td>0.3644            </td></tr>\n",
       "<tr><td>maxs   </td><td>39999.0           </td><td>491671.0          </td><td>1.0652843610501974 </td><td>0.9571308047062228 </td><td>1.0397413046716637 </td><td>1.0754146806463265    </td><td>11.0             </td><td>1.0652980309790911 </td><td>-0.8773458492126069</td><td>1.0                </td><td>0.5607483509425971 </td><td>219.16357815182727</td><td>5.0               </td><td>1.022557575991481  </td><td>1.0               </td></tr>\n",
       "<tr><td>sigma  </td><td>11547.149720457714</td><td>45822.12767873012 </td><td>0.2979279292732251 </td><td>0.19001048177959726</td><td>0.2126620001780217 </td><td>0.15002390250923878   </td><td>3.372727801078067</td><td>0.15166991342438588</td><td>3.877197599462794  </td><td>0.46692411369857395</td><td>0.08359080852981951</td><td>26.167910622054425</td><td>0.5244046475584092</td><td>0.23735076368850347</td><td>0.4812675248349524</td></tr>\n",
       "<tr><td>zeros  </td><td>1                 </td><td>0                 </td><td>0                  </td><td>0                  </td><td>0                  </td><td>0                     </td><td>5175             </td><td>0                  </td><td>0                  </td><td>27154              </td><td>0                  </td><td>0                 </td><td>0                 </td><td>0                  </td><td>25424             </td></tr>\n",
       "<tr><td>missing</td><td>0                 </td><td>4101              </td><td>3992               </td><td>4026               </td><td>3975               </td><td>3985                  </td><td>4065             </td><td>4086               </td><td>3957               </td><td>0                  </td><td>0                  </td><td>0                 </td><td>0                 </td><td>0                  </td><td>0                 </td></tr>\n",
       "<tr><td>0      </td><td>0.0               </td><td>212990.0          </td><td>0.6422855173628494 </td><td>0.856520289337845  </td><td>0.7070729145792185 </td><td>0.0020014003683315    </td><td>10.0             </td><td>nan                </td><td>-5.619087886398954 </td><td>0.0                </td><td>0.0825695868720497 </td><td>158.38623597149538</td><td>4.0               </td><td>0.734641556566576  </td><td>0.0               </td></tr>\n",
       "<tr><td>1      </td><td>1.0               </td><td>nan               </td><td>0.0548656387519871 </td><td>0.733288830346718  </td><td>0.8355448104272071 </td><td>0.0009956592034431    </td><td>8.0              </td><td>0.4364280587619082 </td><td>-5.236965003084969 </td><td>1.0                </td><td>0.1273584942720993 </td><td>102.75298842030163</td><td>3.0               </td><td>0.711530550966967  </td><td>1.0               </td></tr>\n",
       "<tr><td>2      </td><td>2.0               </td><td>193213.0          </td><td>nan                </td><td>0.1883870987713084 </td><td>0.7835236013353863 </td><td>-0.0026940563945809   </td><td>5.0              </td><td>0.1704986788521591 </td><td>-4.951758857474628 </td><td>0.0                </td><td>0.0522816125702891 </td><td>178.6857910658144 </td><td>3.0               </td><td>0.4255360161572187 </td><td>0.0               </td></tr>\n",
       "<tr><td>3      </td><td>3.0               </td><td>249893.0          </td><td>0.4886602468505483 </td><td>0.5852336297006756 </td><td>0.5526849221318392 </td><td>0.0006080444831914    </td><td>0.0              </td><td>0.094805113232533  </td><td>-7.893694184837813 </td><td>0.0                </td><td>0.0356175483877896 </td><td>128.71563019492078</td><td>3.0               </td><td>0.4535968782164791 </td><td>0.0               </td></tr>\n",
       "<tr><td>4      </td><td>4.0               </td><td>165969.0          </td><td>0.4930173123484193 </td><td>nan                </td><td>0.7409815944295417 </td><td>0.0020331500905456    </td><td>10.0             </td><td>0.0948910352080855 </td><td>-2.684094927381996 </td><td>0.0                </td><td>0.0507461349066023 </td><td>121.92815692271876</td><td>4.0               </td><td>0.7413105907789028 </td><td>0.0               </td></tr>\n",
       "<tr><td>5      </td><td>5.0               </td><td>188891.0          </td><td>0.0356550834808143 </td><td>0.8259187779270587 </td><td>0.8045279218270384 </td><td>-5.267871270452041e-06</td><td>4.0              </td><td>0.1207578601360055 </td><td>-6.12292631235842  </td><td>0.0                </td><td>0.039012362045373  </td><td>115.67912820331097</td><td>4.0               </td><td>0.709407807652722  </td><td>0.0               </td></tr>\n",
       "<tr><td>6      </td><td>6.0               </td><td>161061.0          </td><td>0.0817429624113786 </td><td>0.6735877616555301 </td><td>0.880180541692627  </td><td>0.0003270819933589    </td><td>0.0              </td><td>0.5354107831198076 </td><td>-2.9096066869725896</td><td>1.0                </td><td>0.0309018862830341 </td><td>98.04620470035066 </td><td>4.0               </td><td>0.982729181837492  </td><td>0.0               </td></tr>\n",
       "<tr><td>7      </td><td>7.0               </td><td>196202.0          </td><td>0.2597470653781838 </td><td>0.8132139075761463 </td><td>0.5543848268261697 </td><td>0.0003899676051201    </td><td>8.0              </td><td>0.2765796796998152 </td><td>-7.794236764269682 </td><td>0.0                </td><td>0.2070667909627752 </td><td>158.62676424347035</td><td>3.0               </td><td>0.6629874027363606 </td><td>1.0               </td></tr>\n",
       "<tr><td>8      </td><td>8.0               </td><td>169660.0          </td><td>nan                </td><td>0.6532631404130667 </td><td>0.9170336254424212 </td><td>0.0017477517734776    </td><td>0.0              </td><td>nan                </td><td>-4.422088941346725 </td><td>0.0                </td><td>0.0316082162344191 </td><td>122.3823975619474 </td><td>3.0               </td><td>0.2976831167084435 </td><td>1.0               </td></tr>\n",
       "<tr><td>9      </td><td>9.0               </td><td>167245.0          </td><td>0.0196170215735336 </td><td>0.595234896402911  </td><td>0.8200386521225401 </td><td>0.7618836616140077    </td><td>5.0              </td><td>0.1810983170866529 </td><td>-5.154293141572247 </td><td>0.0                </td><td>0.0544928222293764 </td><td>110.52482403942822</td><td>4.0               </td><td>0.535452695296076  </td><td>0.0               </td></tr>\n",
       "</tbody>\n",
       "</table>"
      ]
     },
     "metadata": {},
     "output_type": "display_data"
    }
   ],
   "source": [
    "train.describe()"
   ]
  },
  {
   "cell_type": "markdown",
   "id": "3959d3aa",
   "metadata": {
    "papermill": {
     "duration": 0.035489,
     "end_time": "2022-01-18T21:20:47.735685",
     "exception": false,
     "start_time": "2022-01-18T21:20:47.700196",
     "status": "completed"
    },
    "tags": []
   },
   "source": [
    "# AutoML"
   ]
  },
  {
   "cell_type": "code",
   "execution_count": 5,
   "id": "a9d6b773",
   "metadata": {
    "_kg_hide-input": true,
    "execution": {
     "iopub.execute_input": "2022-01-18T21:20:47.817061Z",
     "iopub.status.busy": "2022-01-18T21:20:47.816250Z",
     "iopub.status.idle": "2022-01-18T21:20:47.825904Z",
     "shell.execute_reply": "2022-01-18T21:20:47.827035Z",
     "shell.execute_reply.started": "2022-01-18T21:15:58.185223Z"
    },
    "papermill": {
     "duration": 0.059978,
     "end_time": "2022-01-18T21:20:47.827229",
     "exception": false,
     "start_time": "2022-01-18T21:20:47.767251",
     "status": "completed"
    },
    "tags": []
   },
   "outputs": [],
   "source": [
    "RANDOM_STATE = 12\n",
    "RUNTIME = 3600* 2 #2 hours\n",
    "N_FOLDS = 5\n",
    "STOPPING_METRIC = \"auto\"\n",
    "SORT_METRIC = \"auc\"\n",
    "\n",
    "x = train.columns\n",
    "y = \"song_popularity\"\n",
    "x.remove(y)\n",
    "x.remove('id')\n",
    "\n",
    "train[y] = train[y].asfactor()"
   ]
  },
  {
   "cell_type": "code",
   "execution_count": 6,
   "id": "8ec0acfb",
   "metadata": {
    "execution": {
     "iopub.execute_input": "2022-01-18T21:20:47.931226Z",
     "iopub.status.busy": "2022-01-18T21:20:47.930430Z",
     "iopub.status.idle": "2022-01-18T23:19:47.560265Z",
     "shell.execute_reply": "2022-01-18T23:19:47.560730Z",
     "shell.execute_reply.started": "2022-01-18T21:19:12.793013Z"
    },
    "papermill": {
     "duration": 7139.690954,
     "end_time": "2022-01-18T23:19:47.560919",
     "exception": false,
     "start_time": "2022-01-18T21:20:47.869965",
     "status": "completed"
    },
    "tags": []
   },
   "outputs": [],
   "source": [
    "aml = H2OAutoML(stopping_metric=STOPPING_METRIC , \n",
    "                nfolds=N_FOLDS, seed=RANDOM_STATE,\n",
    "                max_runtime_secs=RUNTIME , \n",
    "                sort_metric = SORT_METRIC)\n",
    "aml.train(x=x, y=y, training_frame=train)\n",
    "clear_output()"
   ]
  },
  {
   "cell_type": "markdown",
   "id": "d1756db6",
   "metadata": {
    "papermill": {
     "duration": 0.020517,
     "end_time": "2022-01-18T23:19:47.600962",
     "exception": false,
     "start_time": "2022-01-18T23:19:47.580445",
     "status": "completed"
    },
    "tags": []
   },
   "source": [
    "# Results Leaderboard"
   ]
  },
  {
   "cell_type": "markdown",
   "id": "da6b1121",
   "metadata": {
    "execution": {
     "iopub.execute_input": "2021-11-30T00:13:17.972843Z",
     "iopub.status.busy": "2021-11-30T00:13:17.972468Z",
     "iopub.status.idle": "2021-11-30T00:13:17.977579Z",
     "shell.execute_reply": "2021-11-30T00:13:17.976749Z",
     "shell.execute_reply.started": "2021-11-30T00:13:17.972806Z"
    },
    "papermill": {
     "duration": 0.019877,
     "end_time": "2022-01-18T23:19:47.640868",
     "exception": false,
     "start_time": "2022-01-18T23:19:47.620991",
     "status": "completed"
    },
    "tags": []
   },
   "source": [
    "### Top 10 models"
   ]
  },
  {
   "cell_type": "code",
   "execution_count": 7,
   "id": "bd56f06d",
   "metadata": {
    "_kg_hide-input": true,
    "execution": {
     "iopub.execute_input": "2022-01-18T23:19:47.685212Z",
     "iopub.status.busy": "2022-01-18T23:19:47.684452Z",
     "iopub.status.idle": "2022-01-18T23:19:47.770143Z",
     "shell.execute_reply": "2022-01-18T23:19:47.770676Z",
     "shell.execute_reply.started": "2022-01-18T21:18:01.580687Z"
    },
    "papermill": {
     "duration": 0.110278,
     "end_time": "2022-01-18T23:19:47.770868",
     "exception": false,
     "start_time": "2022-01-18T23:19:47.660590",
     "status": "completed"
    },
    "tags": []
   },
   "outputs": [
    {
     "data": {
      "text/html": [
       "<table>\n",
       "<thead>\n",
       "<tr><th>model_id                                               </th><th style=\"text-align: right;\">     auc</th><th style=\"text-align: right;\">  logloss</th><th style=\"text-align: right;\">   aucpr</th><th style=\"text-align: right;\">  mean_per_class_error</th><th style=\"text-align: right;\">    rmse</th><th style=\"text-align: right;\">     mse</th></tr>\n",
       "</thead>\n",
       "<tbody>\n",
       "<tr><td>StackedEnsemble_AllModels_3_AutoML_1_20220118_212048   </td><td style=\"text-align: right;\">0.576173</td><td style=\"text-align: right;\"> 0.647529</td><td style=\"text-align: right;\">0.424622</td><td style=\"text-align: right;\">              0.471001</td><td style=\"text-align: right;\">0.477268</td><td style=\"text-align: right;\">0.227785</td></tr>\n",
       "<tr><td>StackedEnsemble_Best1000_1_AutoML_1_20220118_212048    </td><td style=\"text-align: right;\">0.575879</td><td style=\"text-align: right;\"> 0.64757 </td><td style=\"text-align: right;\">0.424579</td><td style=\"text-align: right;\">              0.476299</td><td style=\"text-align: right;\">0.477288</td><td style=\"text-align: right;\">0.227804</td></tr>\n",
       "<tr><td>StackedEnsemble_AllModels_4_AutoML_1_20220118_212048   </td><td style=\"text-align: right;\">0.575761</td><td style=\"text-align: right;\"> 0.647644</td><td style=\"text-align: right;\">0.423542</td><td style=\"text-align: right;\">              0.46973 </td><td style=\"text-align: right;\">0.477328</td><td style=\"text-align: right;\">0.227842</td></tr>\n",
       "<tr><td>StackedEnsemble_BestOfFamily_4_AutoML_1_20220118_212048</td><td style=\"text-align: right;\">0.575518</td><td style=\"text-align: right;\"> 0.647753</td><td style=\"text-align: right;\">0.422713</td><td style=\"text-align: right;\">              0.467952</td><td style=\"text-align: right;\">0.477378</td><td style=\"text-align: right;\">0.22789 </td></tr>\n",
       "<tr><td>StackedEnsemble_BestOfFamily_7_AutoML_1_20220118_212048</td><td style=\"text-align: right;\">0.575251</td><td style=\"text-align: right;\"> 0.647965</td><td style=\"text-align: right;\">0.422336</td><td style=\"text-align: right;\">              0.479963</td><td style=\"text-align: right;\">0.477471</td><td style=\"text-align: right;\">0.227979</td></tr>\n",
       "<tr><td>StackedEnsemble_AllModels_7_AutoML_1_20220118_212048   </td><td style=\"text-align: right;\">0.574536</td><td style=\"text-align: right;\"> 0.647917</td><td style=\"text-align: right;\">0.422817</td><td style=\"text-align: right;\">              0.474025</td><td style=\"text-align: right;\">0.477452</td><td style=\"text-align: right;\">0.22796 </td></tr>\n",
       "<tr><td>XGBoost_grid_1_AutoML_1_20220118_212048_model_45       </td><td style=\"text-align: right;\">0.573701</td><td style=\"text-align: right;\"> 0.648103</td><td style=\"text-align: right;\">0.421273</td><td style=\"text-align: right;\">              0.473143</td><td style=\"text-align: right;\">0.477553</td><td style=\"text-align: right;\">0.228057</td></tr>\n",
       "<tr><td>XGBoost_grid_1_AutoML_1_20220118_212048_model_33       </td><td style=\"text-align: right;\">0.572701</td><td style=\"text-align: right;\"> 0.648671</td><td style=\"text-align: right;\">0.420451</td><td style=\"text-align: right;\">              0.485518</td><td style=\"text-align: right;\">0.477795</td><td style=\"text-align: right;\">0.228288</td></tr>\n",
       "<tr><td>XGBoost_grid_1_AutoML_1_20220118_212048_model_31       </td><td style=\"text-align: right;\">0.572612</td><td style=\"text-align: right;\"> 0.648582</td><td style=\"text-align: right;\">0.421118</td><td style=\"text-align: right;\">              0.489944</td><td style=\"text-align: right;\">0.477768</td><td style=\"text-align: right;\">0.228263</td></tr>\n",
       "<tr><td>GBM_grid_1_AutoML_1_20220118_212048_model_16           </td><td style=\"text-align: right;\">0.57101 </td><td style=\"text-align: right;\"> 0.649198</td><td style=\"text-align: right;\">0.418974</td><td style=\"text-align: right;\">              0.478168</td><td style=\"text-align: right;\">0.47805 </td><td style=\"text-align: right;\">0.228532</td></tr>\n",
       "</tbody>\n",
       "</table>"
      ]
     },
     "metadata": {},
     "output_type": "display_data"
    },
    {
     "data": {
      "text/plain": []
     },
     "execution_count": 7,
     "metadata": {},
     "output_type": "execute_result"
    }
   ],
   "source": [
    "lb = aml.leaderboard\n",
    "lb.head(10)"
   ]
  },
  {
   "cell_type": "markdown",
   "id": "359944bc",
   "metadata": {
    "papermill": {
     "duration": 0.021625,
     "end_time": "2022-01-18T23:19:47.814921",
     "exception": false,
     "start_time": "2022-01-18T23:19:47.793296",
     "status": "completed"
    },
    "tags": []
   },
   "source": [
    "### Models Correlation"
   ]
  },
  {
   "cell_type": "code",
   "execution_count": 8,
   "id": "0f91e25a",
   "metadata": {
    "execution": {
     "iopub.execute_input": "2022-01-18T23:19:47.889781Z",
     "iopub.status.busy": "2022-01-18T23:19:47.888998Z",
     "iopub.status.idle": "2022-01-18T23:20:36.495855Z",
     "shell.execute_reply": "2022-01-18T23:20:36.496316Z",
     "shell.execute_reply.started": "2022-01-18T21:18:01.648449Z"
    },
    "papermill": {
     "duration": 48.660105,
     "end_time": "2022-01-18T23:20:36.496505",
     "exception": false,
     "start_time": "2022-01-18T23:19:47.836400",
     "status": "completed"
    },
    "tags": []
   },
   "outputs": [
    {
     "data": {
      "image/png": "[encoded data removed]",
      "text/plain": [
       "<Figure size 936x936 with 2 Axes>"
      ]
     },
     "metadata": {
      "needs_background": "light"
     },
     "output_type": "display_data"
    }
   ],
   "source": [
    "mc_plot = aml.model_correlation_heatmap(train)"
   ]
  },
  {
   "cell_type": "markdown",
   "id": "652fc671",
   "metadata": {
    "papermill": {
     "duration": 0.016251,
     "end_time": "2022-01-18T23:20:36.529682",
     "exception": false,
     "start_time": "2022-01-18T23:20:36.513431",
     "status": "completed"
    },
    "tags": []
   },
   "source": [
    "# Submission"
   ]
  },
  {
   "cell_type": "code",
   "execution_count": 9,
   "id": "9d59a65e",
   "metadata": {
    "execution": {
     "iopub.execute_input": "2022-01-18T23:20:36.567692Z",
     "iopub.status.busy": "2022-01-18T23:20:36.567203Z",
     "iopub.status.idle": "2022-01-18T23:20:38.028514Z",
     "shell.execute_reply": "2022-01-18T23:20:38.029200Z",
     "shell.execute_reply.started": "2022-01-18T21:18:39.018284Z"
    },
    "papermill": {
     "duration": 1.483786,
     "end_time": "2022-01-18T23:20:38.029351",
     "exception": false,
     "start_time": "2022-01-18T23:20:36.545565",
     "status": "completed"
    },
    "tags": []
   },
   "outputs": [
    {
     "data": {
      "text/html": [
       "<div>\n",
       "<style scoped>\n",
       "    .dataframe tbody tr th:only-of-type {\n",
       "        vertical-align: middle;\n",
       "    }\n",
       "\n",
       "    .dataframe tbody tr th {\n",
       "        vertical-align: top;\n",
       "    }\n",
       "\n",
       "    .dataframe thead th {\n",
       "        text-align: right;\n",
       "    }\n",
       "</style>\n",
       "<table border=\"1\" class=\"dataframe\">\n",
       "  <thead>\n",
       "    <tr style=\"text-align: right;\">\n",
       "      <th></th>\n",
       "      <th>id</th>\n",
       "      <th>song_popularity</th>\n",
       "    </tr>\n",
       "  </thead>\n",
       "  <tbody>\n",
       "    <tr>\n",
       "      <th>0</th>\n",
       "      <td>0</td>\n",
       "      <td>0.425464</td>\n",
       "    </tr>\n",
       "    <tr>\n",
       "      <th>1</th>\n",
       "      <td>1</td>\n",
       "      <td>0.479685</td>\n",
       "    </tr>\n",
       "    <tr>\n",
       "      <th>2</th>\n",
       "      <td>2</td>\n",
       "      <td>0.227759</td>\n",
       "    </tr>\n",
       "    <tr>\n",
       "      <th>3</th>\n",
       "      <td>3</td>\n",
       "      <td>0.330024</td>\n",
       "    </tr>\n",
       "    <tr>\n",
       "      <th>4</th>\n",
       "      <td>4</td>\n",
       "      <td>0.356407</td>\n",
       "    </tr>\n",
       "  </tbody>\n",
       "</table>\n",
       "</div>"
      ],
      "text/plain": [
       "   id  song_popularity\n",
       "0   0         0.425464\n",
       "1   1         0.479685\n",
       "2   2         0.227759\n",
       "3   3         0.330024\n",
       "4   4         0.356407"
      ]
     },
     "execution_count": 9,
     "metadata": {},
     "output_type": "execute_result"
    }
   ],
   "source": [
    "sub = aml.leader.predict(test).as_data_frame()[\"p1\"]\n",
    "clear_output()\n",
    "subs['song_popularity'] = sub\n",
    "subs.to_csv('submission.csv',index = False)\n",
    "subs.head()"
   ]
  }
 ],
 "metadata": {
  "kernelspec": {
   "display_name": "Python 3",
   "language": "python",
   "name": "python3"
  },
  "language_info": {
   "codemirror_mode": {
    "name": "ipython",
    "version": 3
   },
   "file_extension": ".py",
   "mimetype": "text/x-python",
   "name": "python",
   "nbconvert_exporter": "python",
   "pygments_lexer": "ipython3",
   "version": "3.7.12"
  },
  "papermill": {
   "default_parameters": {},
   "duration": 7213.145398,
   "end_time": "2022-01-18T23:20:39.166697",
   "environment_variables": {},
   "exception": null,
   "input_path": "__notebook__.ipynb",
   "output_path": "__notebook__.ipynb",
   "parameters": {},
   "start_time": "2022-01-18T21:20:26.021299",
   "version": "2.3.3"
  }
 },
 "nbformat": 4,
 "nbformat_minor": 5
}
