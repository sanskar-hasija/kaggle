{
 "cells": [
  {
   "cell_type": "markdown",
   "id": "63ef34a3",
   "metadata": {
    "_cell_guid": "b1076dfc-b9ad-4769-8c92-a6c4dae69d19",
    "_uuid": "8f2839f25d086af736a60e9eeb907d3b93b6e0e5",
    "papermill": {
     "duration": 0.017223,
     "end_time": "2023-01-31T01:37:47.767186",
     "exception": false,
     "start_time": "2023-01-31T01:37:47.749963",
     "status": "completed"
    },
    "tags": []
   },
   "source": [
    "**Created by Sanskar Hasija**\n",
    "\n",
    "**[PLAYGROUND S-3,E-5] 📊EDA + MODELLING📈**\n",
    "\n",
    "**24 January 2023**\n"
   ]
  },
  {
   "cell_type": "markdown",
   "id": "0022bfda",
   "metadata": {
    "papermill": {
     "duration": 0.014219,
     "end_time": "2023-01-31T01:37:47.796261",
     "exception": false,
     "start_time": "2023-01-31T01:37:47.782042",
     "status": "completed"
    },
    "tags": []
   },
   "source": [
    "# <center> [Playground S-3,E-5] 📊EDA + Modelling📈 </center>\n",
    "## <center>If you find this notebook useful, support with an upvote👍</center>"
   ]
  },
  {
   "cell_type": "markdown",
   "id": "35a62bf7",
   "metadata": {
    "papermill": {
     "duration": 0.01465,
     "end_time": "2023-01-31T01:37:47.827533",
     "exception": false,
     "start_time": "2023-01-31T01:37:47.812883",
     "status": "completed"
    },
    "tags": []
   },
   "source": [
    "# Table of Contents\n",
    "<a id=\"toc\"></a>\n",
    "- [1. Introduction](#1)\n",
    "- [2. Imports](#2)\n",
    "- [3. Data Loading and Preperation](#3)\n",
    "    - [3.1 Exploring Train Data](#3.1)\n",
    "    - [3.2 Exploring Test Data](#3.2)\n",
    "    - [3.3 Submission File](#3.3)\n",
    "- [4. EDA](#4)\n",
    "    - [4.1 Overview of Data](#4.1)\n",
    "    - [4.3 Continuos and Categorical Data Distribution](#4.2)\n",
    "    - [4.4 Feature Distribution of Continous Features](#4.3)\n",
    "    - [4.5 Feature Distribution of Categorical Features](#4.4)\n",
    "    - [4.6 Target Distribution ](#4.5)\n",
    "- [5. Data Cleaning and Processing ](#5)   \n",
    "- [6. Modelling](#6)\n",
    "    - [6.1 LGBM Classifier](#6.1)\n",
    "    - [6.2 Catboost Classifier](#6.2)\n",
    "    - [6.3 XGBoost Classifier](#6.3)\n",
    "- [7. Submission](#7)  "
   ]
  },
  {
   "cell_type": "markdown",
   "id": "7c1c5df4",
   "metadata": {
    "papermill": {
     "duration": 0.014358,
     "end_time": "2023-01-31T01:37:47.856352",
     "exception": false,
     "start_time": "2023-01-31T01:37:47.841994",
     "status": "completed"
    },
    "tags": []
   },
   "source": [
    "<a id=\"1\"></a>\n",
    "# **<center><span style=\"color:#00BFC4;\">Introduction  </span></center>**"
   ]
  },
  {
   "cell_type": "markdown",
   "id": "87d11e93",
   "metadata": {
    "papermill": {
     "duration": 0.014934,
     "end_time": "2023-01-31T01:37:47.886019",
     "exception": false,
     "start_time": "2023-01-31T01:37:47.871085",
     "status": "completed"
    },
    "tags": []
   },
   "source": [
    "![](https://storage.googleapis.com/kaggle-competitions/kaggle/45890/logos/header.png?t=2023-01-27-19-09-50)"
   ]
  },
  {
   "cell_type": "markdown",
   "id": "b6cd3ed7",
   "metadata": {
    "papermill": {
     "duration": 0.014275,
     "end_time": "2023-01-31T01:37:47.915049",
     "exception": false,
     "start_time": "2023-01-31T01:37:47.900774",
     "status": "completed"
    },
    "tags": []
   },
   "source": [
    "**The competition is organised by `Kaggle` and is in the `Playground Series Season 3 ` series.**\n",
    "\n",
    "\n",
    "**The task of this compeition is to predict the quality of for the target variable `Class` using synthetic data from a Wine Quality Detection. The dataset used for this compeition is derived from this [Orginal Dataset](https://www.kaggle.com/datasets/yasserh/wine-quality-dataset).**\n",
    "\n",
    "**Submissions are evaluated based on  </u>Quadratic Weighted Kappa Metric.</u>**\n",
    "\n",
    "**For better undestanding of the evaluation metric used, refer to [this notebook](https://www.kaggle.com/competitions/playground-series-s3e5/discussion/382421).**"
   ]
  },
  {
   "cell_type": "markdown",
   "id": "ef93e004",
   "metadata": {
    "papermill": {
     "duration": 0.01475,
     "end_time": "2023-01-31T01:37:47.944486",
     "exception": false,
     "start_time": "2023-01-31T01:37:47.929736",
     "status": "completed"
    },
    "tags": []
   },
   "source": [
    "<a href=\"#toc\" role=\"button\" aria-pressed=\"true\" >⬆️Back to Table of Contents ⬆️</a>"
   ]
  },
  {
   "cell_type": "markdown",
   "id": "b1cdece3",
   "metadata": {
    "papermill": {
     "duration": 0.014332,
     "end_time": "2023-01-31T01:37:47.974185",
     "exception": false,
     "start_time": "2023-01-31T01:37:47.959853",
     "status": "completed"
    },
    "tags": []
   },
   "source": [
    "<a id=\"2\"></a>\n",
    "# **<center><span style=\"color:#00BFC4;\">Imports  </span></center>**"
   ]
  },
  {
   "cell_type": "code",
   "execution_count": 1,
   "id": "6a5b3b26",
   "metadata": {
    "execution": {
     "iopub.execute_input": "2023-01-31T01:37:48.012641Z",
     "iopub.status.busy": "2023-01-31T01:37:48.011408Z",
     "iopub.status.idle": "2023-01-31T01:38:50.622859Z",
     "shell.execute_reply": "2023-01-31T01:38:50.621113Z"
    },
    "papermill": {
     "duration": 62.636456,
     "end_time": "2023-01-31T01:38:50.626241",
     "exception": false,
     "start_time": "2023-01-31T01:37:47.989785",
     "status": "completed"
    },
    "tags": []
   },
   "outputs": [
    {
     "name": "stdout",
     "output_type": "stream",
     "text": [
      "\u001b[33mWARNING: Running pip as the 'root' user can result in broken permissions and conflicting behaviour with the system package manager. It is recommended to use a virtual environment instead: https://pip.pypa.io/warnings/venv\u001b[0m\u001b[33m\r\n",
      "\u001b[0m"
     ]
    }
   ],
   "source": [
    "!pip install -U -q plotly==5.5.0"
   ]
  },
  {
   "cell_type": "code",
   "execution_count": 2,
   "id": "ec157648",
   "metadata": {
    "_kg_hide-input": false,
    "execution": {
     "iopub.execute_input": "2023-01-31T01:38:50.658002Z",
     "iopub.status.busy": "2023-01-31T01:38:50.657545Z",
     "iopub.status.idle": "2023-01-31T01:38:54.075762Z",
     "shell.execute_reply": "2023-01-31T01:38:54.074247Z"
    },
    "papermill": {
     "duration": 3.438158,
     "end_time": "2023-01-31T01:38:54.078924",
     "exception": false,
     "start_time": "2023-01-31T01:38:50.640766",
     "status": "completed"
    },
    "tags": []
   },
   "outputs": [
    {
     "data": {
      "text/html": [
       "<style type='text/css'>\n",
       ".datatable table.frame { margin-bottom: 0; }\n",
       ".datatable table.frame thead { border-bottom: none; }\n",
       ".datatable table.frame tr.coltypes td {  color: #FFFFFF;  line-height: 6px;  padding: 0 0.5em;}\n",
       ".datatable .bool    { background: #DDDD99; }\n",
       ".datatable .object  { background: #565656; }\n",
       ".datatable .int     { background: #5D9E5D; }\n",
       ".datatable .float   { background: #4040CC; }\n",
       ".datatable .str     { background: #CC4040; }\n",
       ".datatable .time    { background: #40CC40; }\n",
       ".datatable .row_index {  background: var(--jp-border-color3);  border-right: 1px solid var(--jp-border-color0);  color: var(--jp-ui-font-color3);  font-size: 9px;}\n",
       ".datatable .frame tbody td { text-align: left; }\n",
       ".datatable .frame tr.coltypes .row_index {  background: var(--jp-border-color0);}\n",
       ".datatable th:nth-child(2) { padding-left: 12px; }\n",
       ".datatable .hellipsis {  color: var(--jp-cell-editor-border-color);}\n",
       ".datatable .vellipsis {  background: var(--jp-layout-color0);  color: var(--jp-cell-editor-border-color);}\n",
       ".datatable .na {  color: var(--jp-cell-editor-border-color);  font-size: 80%;}\n",
       ".datatable .sp {  opacity: 0.25;}\n",
       ".datatable .footer { font-size: 9px; }\n",
       ".datatable .frame_dimensions {  background: var(--jp-border-color3);  border-top: 1px solid var(--jp-border-color0);  color: var(--jp-ui-font-color3);  display: inline-block;  opacity: 0.6;  padding: 1px 10px 1px 5px;}\n",
       "</style>\n"
      ],
      "text/plain": [
       "<IPython.core.display.HTML object>"
      ]
     },
     "metadata": {},
     "output_type": "display_data"
    }
   ],
   "source": [
    "import numpy as np\n",
    "import pandas as pd\n",
    "import matplotlib.pyplot as plt\n",
    "import seaborn as sns\n",
    "import plotly.express as px\n",
    "from plotly.subplots import make_subplots\n",
    "import plotly.graph_objects as go\n",
    "\n",
    "\n",
    "from sklearn.model_selection import StratifiedKFold\n",
    "from sklearn.preprocessing import OrdinalEncoder\n",
    "from sklearn.preprocessing import LabelEncoder\n",
    "from sklearn.metrics import cohen_kappa_score, accuracy_score\n",
    "from sklearn.model_selection import train_test_split\n",
    "from scipy.stats import mode\n",
    "\n",
    "\n",
    "from xgboost import XGBClassifier\n",
    "from catboost import CatBoostClassifier\n",
    "from lightgbm import LGBMClassifier\n",
    "\n",
    "\n",
    "from matplotlib import ticker\n",
    "import time\n",
    "import warnings\n",
    "warnings.filterwarnings('ignore')"
   ]
  },
  {
   "cell_type": "markdown",
   "id": "0e8710bc",
   "metadata": {
    "papermill": {
     "duration": 0.021912,
     "end_time": "2023-01-31T01:38:54.124469",
     "exception": false,
     "start_time": "2023-01-31T01:38:54.102557",
     "status": "completed"
    },
    "tags": []
   },
   "source": [
    "<a href=\"#toc\" role=\"button\" aria-pressed=\"true\" >⬆️Back to Table of Contents ⬆️</a>"
   ]
  },
  {
   "cell_type": "markdown",
   "id": "f3a8b2e7",
   "metadata": {
    "papermill": {
     "duration": 0.014788,
     "end_time": "2023-01-31T01:38:54.157760",
     "exception": false,
     "start_time": "2023-01-31T01:38:54.142972",
     "status": "completed"
    },
    "tags": []
   },
   "source": [
    "<a id=\"3\"></a>\n",
    "# **<center><span style=\"color:#00BFC4;\">Data Loading and Preparation </span></center>**"
   ]
  },
  {
   "cell_type": "code",
   "execution_count": 3,
   "id": "a5222b17",
   "metadata": {
    "_kg_hide-input": true,
    "execution": {
     "iopub.execute_input": "2023-01-31T01:38:54.189357Z",
     "iopub.status.busy": "2023-01-31T01:38:54.188948Z",
     "iopub.status.idle": "2023-01-31T01:38:54.236380Z",
     "shell.execute_reply": "2023-01-31T01:38:54.235201Z"
    },
    "papermill": {
     "duration": 0.066621,
     "end_time": "2023-01-31T01:38:54.239274",
     "exception": false,
     "start_time": "2023-01-31T01:38:54.172653",
     "status": "completed"
    },
    "tags": []
   },
   "outputs": [],
   "source": [
    "train = pd.read_csv(\"/kaggle/input/playground-series-s3e5/train.csv\")\n",
    "test = pd.read_csv(\"/kaggle/input/playground-series-s3e5/test.csv\")\n",
    "submission = pd.read_csv(\"/kaggle/input/playground-series-s3e5/sample_submission.csv\")\n",
    "\n",
    "RANDOM_STATE = 12 \n",
    "FOLDS = 5\n",
    "STRATEGY = 'median'"
   ]
  },
  {
   "cell_type": "markdown",
   "id": "2229a04c",
   "metadata": {
    "papermill": {
     "duration": 0.01439,
     "end_time": "2023-01-31T01:38:54.268736",
     "exception": false,
     "start_time": "2023-01-31T01:38:54.254346",
     "status": "completed"
    },
    "tags": []
   },
   "source": [
    "## <span style=\"color:#e76f51;\"> Columns in dataset  : </span>\n",
    "\n",
    "\n",
    "- `Id`\n",
    "- `fixed acidity`\n",
    "- `volatile acidity`\n",
    "- `citric acid`\n",
    "- `residual sugar`\n",
    "- `chlorides`\n",
    "- `free sulfur dioxide`\n",
    "- `total sulfur dioxide`\n",
    "- `density`\n",
    "- `pH`\n",
    "- `sulphates`\n",
    "- `alcohol`\n",
    "- `quality (score between 0 and 10)`"
   ]
  },
  {
   "cell_type": "markdown",
   "id": "4fbd5b85",
   "metadata": {
    "papermill": {
     "duration": 0.014354,
     "end_time": "2023-01-31T01:38:54.297709",
     "exception": false,
     "start_time": "2023-01-31T01:38:54.283355",
     "status": "completed"
    },
    "tags": []
   },
   "source": [
    "<a id=\"3.1\"></a>\n",
    "## <span style=\"color:#e76f51;\"> Exploring Train Data : </span>"
   ]
  },
  {
   "cell_type": "markdown",
   "id": "69c75390",
   "metadata": {
    "papermill": {
     "duration": 0.014257,
     "end_time": "2023-01-31T01:38:54.326923",
     "exception": false,
     "start_time": "2023-01-31T01:38:54.312666",
     "status": "completed"
    },
    "tags": []
   },
   "source": [
    "<div class=\"alert alert-block alert-info\" style=\"font-size:14px; font-family:verdana; line-height: 1.7em;\">\n",
    "    📌 &nbsp;<b><u>Observations in Train Data:</u></b><br>\n",
    " \n",
    "* <i> There are total of <b><u>13</u></b> columns and <b><u>2056</u></b> rows in <b><u>train</u></b> data.</i><br>\n",
    "* <i> Train data contains <b><u>26728</u></b> values with <b><u>0</u></b>  missing values.</i><br>\n",
    "* <i></i>There are total of <b><u>13</u></b> columns : <b><u>11</u></b> continous , <b><u>0</u></b> categorical <b><u>1</u></b> id and <b><u>1</u></b> target column<br>\n",
    "* <i> <b><u>Class</u></b> is the target variable which is only available in the <b><u>train</u></b> dataset.</i><br>\n",
    "* <i> <b><u>No Missing </u></b> values in the <b><u>train</u></b> dataset.</i><br>\n",
    "</div>"
   ]
  },
  {
   "cell_type": "markdown",
   "id": "1fcab969",
   "metadata": {
    "papermill": {
     "duration": 0.014474,
     "end_time": "2023-01-31T01:38:54.355947",
     "exception": false,
     "start_time": "2023-01-31T01:38:54.341473",
     "status": "completed"
    },
    "tags": []
   },
   "source": [
    "### <span style=\"color:#e76f51;\"> Quick view of Train Data : </span>"
   ]
  },
  {
   "cell_type": "markdown",
   "id": "a1f32464",
   "metadata": {
    "papermill": {
     "duration": 0.014312,
     "end_time": "2023-01-31T01:38:54.385550",
     "exception": false,
     "start_time": "2023-01-31T01:38:54.371238",
     "status": "completed"
    },
    "tags": []
   },
   "source": [
    "Below are the first 5 rows of train dataset:"
   ]
  },
  {
   "cell_type": "code",
   "execution_count": 4,
   "id": "2309204e",
   "metadata": {
    "_kg_hide-input": true,
    "execution": {
     "iopub.execute_input": "2023-01-31T01:38:54.417224Z",
     "iopub.status.busy": "2023-01-31T01:38:54.416712Z",
     "iopub.status.idle": "2023-01-31T01:38:54.452842Z",
     "shell.execute_reply": "2023-01-31T01:38:54.451631Z"
    },
    "papermill": {
     "duration": 0.055664,
     "end_time": "2023-01-31T01:38:54.455860",
     "exception": false,
     "start_time": "2023-01-31T01:38:54.400196",
     "status": "completed"
    },
    "tags": []
   },
   "outputs": [
    {
     "data": {
      "text/html": [
       "<div>\n",
       "<style scoped>\n",
       "    .dataframe tbody tr th:only-of-type {\n",
       "        vertical-align: middle;\n",
       "    }\n",
       "\n",
       "    .dataframe tbody tr th {\n",
       "        vertical-align: top;\n",
       "    }\n",
       "\n",
       "    .dataframe thead th {\n",
       "        text-align: right;\n",
       "    }\n",
       "</style>\n",
       "<table border=\"1\" class=\"dataframe\">\n",
       "  <thead>\n",
       "    <tr style=\"text-align: right;\">\n",
       "      <th></th>\n",
       "      <th>Id</th>\n",
       "      <th>fixed acidity</th>\n",
       "      <th>volatile acidity</th>\n",
       "      <th>citric acid</th>\n",
       "      <th>residual sugar</th>\n",
       "      <th>chlorides</th>\n",
       "      <th>free sulfur dioxide</th>\n",
       "      <th>total sulfur dioxide</th>\n",
       "      <th>density</th>\n",
       "      <th>pH</th>\n",
       "      <th>sulphates</th>\n",
       "      <th>alcohol</th>\n",
       "      <th>quality</th>\n",
       "    </tr>\n",
       "  </thead>\n",
       "  <tbody>\n",
       "    <tr>\n",
       "      <th>0</th>\n",
       "      <td>0</td>\n",
       "      <td>8.0</td>\n",
       "      <td>0.50</td>\n",
       "      <td>0.39</td>\n",
       "      <td>2.2</td>\n",
       "      <td>0.073</td>\n",
       "      <td>30.0</td>\n",
       "      <td>39.0</td>\n",
       "      <td>0.99572</td>\n",
       "      <td>3.33</td>\n",
       "      <td>0.77</td>\n",
       "      <td>12.1</td>\n",
       "      <td>6</td>\n",
       "    </tr>\n",
       "    <tr>\n",
       "      <th>1</th>\n",
       "      <td>1</td>\n",
       "      <td>9.3</td>\n",
       "      <td>0.30</td>\n",
       "      <td>0.73</td>\n",
       "      <td>2.3</td>\n",
       "      <td>0.092</td>\n",
       "      <td>30.0</td>\n",
       "      <td>67.0</td>\n",
       "      <td>0.99854</td>\n",
       "      <td>3.32</td>\n",
       "      <td>0.67</td>\n",
       "      <td>12.8</td>\n",
       "      <td>6</td>\n",
       "    </tr>\n",
       "    <tr>\n",
       "      <th>2</th>\n",
       "      <td>2</td>\n",
       "      <td>7.1</td>\n",
       "      <td>0.51</td>\n",
       "      <td>0.03</td>\n",
       "      <td>2.1</td>\n",
       "      <td>0.059</td>\n",
       "      <td>3.0</td>\n",
       "      <td>12.0</td>\n",
       "      <td>0.99660</td>\n",
       "      <td>3.52</td>\n",
       "      <td>0.73</td>\n",
       "      <td>11.3</td>\n",
       "      <td>7</td>\n",
       "    </tr>\n",
       "    <tr>\n",
       "      <th>3</th>\n",
       "      <td>3</td>\n",
       "      <td>8.1</td>\n",
       "      <td>0.87</td>\n",
       "      <td>0.22</td>\n",
       "      <td>2.6</td>\n",
       "      <td>0.084</td>\n",
       "      <td>11.0</td>\n",
       "      <td>65.0</td>\n",
       "      <td>0.99730</td>\n",
       "      <td>3.20</td>\n",
       "      <td>0.53</td>\n",
       "      <td>9.8</td>\n",
       "      <td>5</td>\n",
       "    </tr>\n",
       "    <tr>\n",
       "      <th>4</th>\n",
       "      <td>4</td>\n",
       "      <td>8.5</td>\n",
       "      <td>0.36</td>\n",
       "      <td>0.30</td>\n",
       "      <td>2.3</td>\n",
       "      <td>0.079</td>\n",
       "      <td>10.0</td>\n",
       "      <td>45.0</td>\n",
       "      <td>0.99444</td>\n",
       "      <td>3.20</td>\n",
       "      <td>1.36</td>\n",
       "      <td>9.5</td>\n",
       "      <td>6</td>\n",
       "    </tr>\n",
       "  </tbody>\n",
       "</table>\n",
       "</div>"
      ],
      "text/plain": [
       "   Id  fixed acidity  volatile acidity  citric acid  residual sugar  \\\n",
       "0   0            8.0              0.50         0.39             2.2   \n",
       "1   1            9.3              0.30         0.73             2.3   \n",
       "2   2            7.1              0.51         0.03             2.1   \n",
       "3   3            8.1              0.87         0.22             2.6   \n",
       "4   4            8.5              0.36         0.30             2.3   \n",
       "\n",
       "   chlorides  free sulfur dioxide  total sulfur dioxide  density    pH  \\\n",
       "0      0.073                 30.0                  39.0  0.99572  3.33   \n",
       "1      0.092                 30.0                  67.0  0.99854  3.32   \n",
       "2      0.059                  3.0                  12.0  0.99660  3.52   \n",
       "3      0.084                 11.0                  65.0  0.99730  3.20   \n",
       "4      0.079                 10.0                  45.0  0.99444  3.20   \n",
       "\n",
       "   sulphates  alcohol  quality  \n",
       "0       0.77     12.1        6  \n",
       "1       0.67     12.8        6  \n",
       "2       0.73     11.3        7  \n",
       "3       0.53      9.8        5  \n",
       "4       1.36      9.5        6  "
      ]
     },
     "execution_count": 4,
     "metadata": {},
     "output_type": "execute_result"
    }
   ],
   "source": [
    "train.head()"
   ]
  },
  {
   "cell_type": "code",
   "execution_count": 5,
   "id": "f490a992",
   "metadata": {
    "_kg_hide-input": true,
    "execution": {
     "iopub.execute_input": "2023-01-31T01:38:54.489848Z",
     "iopub.status.busy": "2023-01-31T01:38:54.488924Z",
     "iopub.status.idle": "2023-01-31T01:38:54.503017Z",
     "shell.execute_reply": "2023-01-31T01:38:54.501199Z"
    },
    "papermill": {
     "duration": 0.034205,
     "end_time": "2023-01-31T01:38:54.506188",
     "exception": false,
     "start_time": "2023-01-31T01:38:54.471983",
     "status": "completed"
    },
    "tags": []
   },
   "outputs": [
    {
     "name": "stdout",
     "output_type": "stream",
     "text": [
      "\u001b[94mNumber of rows in train data: 2056\n",
      "\u001b[94mNumber of columns in train data: 13\n",
      "\u001b[94mNumber of values in train data: 26728\n",
      "\u001b[94mNumber missing values in train data: 0\n"
     ]
    }
   ],
   "source": [
    "print(f'\\033[94mNumber of rows in train data: {train.shape[0]}')\n",
    "print(f'\\033[94mNumber of columns in train data: {train.shape[1]}')\n",
    "print(f'\\033[94mNumber of values in train data: {train.count().sum()}')\n",
    "print(f'\\033[94mNumber missing values in train data: {sum(train.isna().sum())}')"
   ]
  },
  {
   "cell_type": "markdown",
   "id": "948acffa",
   "metadata": {
    "papermill": {
     "duration": 0.01536,
     "end_time": "2023-01-31T01:38:54.536810",
     "exception": false,
     "start_time": "2023-01-31T01:38:54.521450",
     "status": "completed"
    },
    "tags": []
   },
   "source": [
    "### <span style=\"color:#e76f51;\"> Basic statistics of training data : </span>"
   ]
  },
  {
   "cell_type": "markdown",
   "id": "d763a7c9",
   "metadata": {
    "papermill": {
     "duration": 0.01478,
     "end_time": "2023-01-31T01:38:54.566788",
     "exception": false,
     "start_time": "2023-01-31T01:38:54.552008",
     "status": "completed"
    },
    "tags": []
   },
   "source": [
    "Below is the basic statistics for each variables which contain information on `count`, `mean`, `standard deviation`, `minimum`, `1st quartile`, `median`, `3rd quartile` and `maximum`."
   ]
  },
  {
   "cell_type": "code",
   "execution_count": 6,
   "id": "f6fe6843",
   "metadata": {
    "_kg_hide-input": true,
    "execution": {
     "iopub.execute_input": "2023-01-31T01:38:54.600231Z",
     "iopub.status.busy": "2023-01-31T01:38:54.599284Z",
     "iopub.status.idle": "2023-01-31T01:38:54.667335Z",
     "shell.execute_reply": "2023-01-31T01:38:54.666038Z"
    },
    "papermill": {
     "duration": 0.088537,
     "end_time": "2023-01-31T01:38:54.670383",
     "exception": false,
     "start_time": "2023-01-31T01:38:54.581846",
     "status": "completed"
    },
    "tags": []
   },
   "outputs": [
    {
     "data": {
      "text/html": [
       "<div>\n",
       "<style scoped>\n",
       "    .dataframe tbody tr th:only-of-type {\n",
       "        vertical-align: middle;\n",
       "    }\n",
       "\n",
       "    .dataframe tbody tr th {\n",
       "        vertical-align: top;\n",
       "    }\n",
       "\n",
       "    .dataframe thead th {\n",
       "        text-align: right;\n",
       "    }\n",
       "</style>\n",
       "<table border=\"1\" class=\"dataframe\">\n",
       "  <thead>\n",
       "    <tr style=\"text-align: right;\">\n",
       "      <th></th>\n",
       "      <th>Id</th>\n",
       "      <th>fixed acidity</th>\n",
       "      <th>volatile acidity</th>\n",
       "      <th>citric acid</th>\n",
       "      <th>residual sugar</th>\n",
       "      <th>chlorides</th>\n",
       "      <th>free sulfur dioxide</th>\n",
       "      <th>total sulfur dioxide</th>\n",
       "      <th>density</th>\n",
       "      <th>pH</th>\n",
       "      <th>sulphates</th>\n",
       "      <th>alcohol</th>\n",
       "      <th>quality</th>\n",
       "    </tr>\n",
       "  </thead>\n",
       "  <tbody>\n",
       "    <tr>\n",
       "      <th>count</th>\n",
       "      <td>2056.000000</td>\n",
       "      <td>2056.000000</td>\n",
       "      <td>2056.000000</td>\n",
       "      <td>2056.000000</td>\n",
       "      <td>2056.000000</td>\n",
       "      <td>2056.000000</td>\n",
       "      <td>2056.000000</td>\n",
       "      <td>2056.000000</td>\n",
       "      <td>2056.000000</td>\n",
       "      <td>2056.000000</td>\n",
       "      <td>2056.000000</td>\n",
       "      <td>2056.000000</td>\n",
       "      <td>2056.000000</td>\n",
       "    </tr>\n",
       "    <tr>\n",
       "      <th>mean</th>\n",
       "      <td>1027.500000</td>\n",
       "      <td>8.365175</td>\n",
       "      <td>0.527601</td>\n",
       "      <td>0.265058</td>\n",
       "      <td>2.398881</td>\n",
       "      <td>0.081856</td>\n",
       "      <td>16.955982</td>\n",
       "      <td>49.236868</td>\n",
       "      <td>0.996748</td>\n",
       "      <td>3.310569</td>\n",
       "      <td>0.641308</td>\n",
       "      <td>10.414972</td>\n",
       "      <td>5.720817</td>\n",
       "    </tr>\n",
       "    <tr>\n",
       "      <th>std</th>\n",
       "      <td>593.660397</td>\n",
       "      <td>1.705390</td>\n",
       "      <td>0.173164</td>\n",
       "      <td>0.188267</td>\n",
       "      <td>0.858824</td>\n",
       "      <td>0.023729</td>\n",
       "      <td>10.009710</td>\n",
       "      <td>32.961141</td>\n",
       "      <td>0.001827</td>\n",
       "      <td>0.142321</td>\n",
       "      <td>0.137942</td>\n",
       "      <td>1.028825</td>\n",
       "      <td>0.853146</td>\n",
       "    </tr>\n",
       "    <tr>\n",
       "      <th>min</th>\n",
       "      <td>0.000000</td>\n",
       "      <td>5.000000</td>\n",
       "      <td>0.180000</td>\n",
       "      <td>0.000000</td>\n",
       "      <td>1.200000</td>\n",
       "      <td>0.012000</td>\n",
       "      <td>1.000000</td>\n",
       "      <td>7.000000</td>\n",
       "      <td>0.990070</td>\n",
       "      <td>2.740000</td>\n",
       "      <td>0.390000</td>\n",
       "      <td>8.700000</td>\n",
       "      <td>3.000000</td>\n",
       "    </tr>\n",
       "    <tr>\n",
       "      <th>25%</th>\n",
       "      <td>513.750000</td>\n",
       "      <td>7.200000</td>\n",
       "      <td>0.390000</td>\n",
       "      <td>0.090000</td>\n",
       "      <td>1.900000</td>\n",
       "      <td>0.071000</td>\n",
       "      <td>8.000000</td>\n",
       "      <td>22.000000</td>\n",
       "      <td>0.995600</td>\n",
       "      <td>3.200000</td>\n",
       "      <td>0.550000</td>\n",
       "      <td>9.500000</td>\n",
       "      <td>5.000000</td>\n",
       "    </tr>\n",
       "    <tr>\n",
       "      <th>50%</th>\n",
       "      <td>1027.500000</td>\n",
       "      <td>7.950000</td>\n",
       "      <td>0.520000</td>\n",
       "      <td>0.250000</td>\n",
       "      <td>2.200000</td>\n",
       "      <td>0.079000</td>\n",
       "      <td>16.000000</td>\n",
       "      <td>44.000000</td>\n",
       "      <td>0.996700</td>\n",
       "      <td>3.310000</td>\n",
       "      <td>0.610000</td>\n",
       "      <td>10.100000</td>\n",
       "      <td>6.000000</td>\n",
       "    </tr>\n",
       "    <tr>\n",
       "      <th>75%</th>\n",
       "      <td>1541.250000</td>\n",
       "      <td>9.200000</td>\n",
       "      <td>0.640000</td>\n",
       "      <td>0.420000</td>\n",
       "      <td>2.600000</td>\n",
       "      <td>0.090000</td>\n",
       "      <td>24.000000</td>\n",
       "      <td>65.000000</td>\n",
       "      <td>0.997800</td>\n",
       "      <td>3.390000</td>\n",
       "      <td>0.720000</td>\n",
       "      <td>11.000000</td>\n",
       "      <td>6.000000</td>\n",
       "    </tr>\n",
       "    <tr>\n",
       "      <th>max</th>\n",
       "      <td>2055.000000</td>\n",
       "      <td>15.900000</td>\n",
       "      <td>1.580000</td>\n",
       "      <td>0.760000</td>\n",
       "      <td>14.000000</td>\n",
       "      <td>0.414000</td>\n",
       "      <td>68.000000</td>\n",
       "      <td>289.000000</td>\n",
       "      <td>1.003690</td>\n",
       "      <td>3.780000</td>\n",
       "      <td>1.950000</td>\n",
       "      <td>14.000000</td>\n",
       "      <td>8.000000</td>\n",
       "    </tr>\n",
       "  </tbody>\n",
       "</table>\n",
       "</div>"
      ],
      "text/plain": [
       "                Id  fixed acidity  volatile acidity  citric acid  \\\n",
       "count  2056.000000    2056.000000       2056.000000  2056.000000   \n",
       "mean   1027.500000       8.365175          0.527601     0.265058   \n",
       "std     593.660397       1.705390          0.173164     0.188267   \n",
       "min       0.000000       5.000000          0.180000     0.000000   \n",
       "25%     513.750000       7.200000          0.390000     0.090000   \n",
       "50%    1027.500000       7.950000          0.520000     0.250000   \n",
       "75%    1541.250000       9.200000          0.640000     0.420000   \n",
       "max    2055.000000      15.900000          1.580000     0.760000   \n",
       "\n",
       "       residual sugar    chlorides  free sulfur dioxide  total sulfur dioxide  \\\n",
       "count     2056.000000  2056.000000          2056.000000           2056.000000   \n",
       "mean         2.398881     0.081856            16.955982             49.236868   \n",
       "std          0.858824     0.023729            10.009710             32.961141   \n",
       "min          1.200000     0.012000             1.000000              7.000000   \n",
       "25%          1.900000     0.071000             8.000000             22.000000   \n",
       "50%          2.200000     0.079000            16.000000             44.000000   \n",
       "75%          2.600000     0.090000            24.000000             65.000000   \n",
       "max         14.000000     0.414000            68.000000            289.000000   \n",
       "\n",
       "           density           pH    sulphates      alcohol      quality  \n",
       "count  2056.000000  2056.000000  2056.000000  2056.000000  2056.000000  \n",
       "mean      0.996748     3.310569     0.641308    10.414972     5.720817  \n",
       "std       0.001827     0.142321     0.137942     1.028825     0.853146  \n",
       "min       0.990070     2.740000     0.390000     8.700000     3.000000  \n",
       "25%       0.995600     3.200000     0.550000     9.500000     5.000000  \n",
       "50%       0.996700     3.310000     0.610000    10.100000     6.000000  \n",
       "75%       0.997800     3.390000     0.720000    11.000000     6.000000  \n",
       "max       1.003690     3.780000     1.950000    14.000000     8.000000  "
      ]
     },
     "execution_count": 6,
     "metadata": {},
     "output_type": "execute_result"
    }
   ],
   "source": [
    "train.describe()"
   ]
  },
  {
   "cell_type": "markdown",
   "id": "9b631968",
   "metadata": {
    "papermill": {
     "duration": 0.016218,
     "end_time": "2023-01-31T01:38:54.702910",
     "exception": false,
     "start_time": "2023-01-31T01:38:54.686692",
     "status": "completed"
    },
    "tags": []
   },
   "source": [
    "<a id=\"3.2\"></a>\n",
    "## <span style=\"color:#e76f51;\"> Exploring Test Data </span>"
   ]
  },
  {
   "cell_type": "markdown",
   "id": "64048bcc",
   "metadata": {
    "papermill": {
     "duration": 0.015724,
     "end_time": "2023-01-31T01:38:54.734327",
     "exception": false,
     "start_time": "2023-01-31T01:38:54.718603",
     "status": "completed"
    },
    "tags": []
   },
   "source": [
    "<div class=\"alert alert-block alert-info\" style=\"font-size:14px; font-family:verdana; line-height: 1.7em;\">\n",
    "    📌 &nbsp;<b><u>Observations in Test Data:</u></b><br>\n",
    " \n",
    "* <i> There are total of <b><u>12</u></b> columns and <b><u>1372</u></b> rows in <b><u>test</u></b> data.</i><br>\n",
    "* <i> Train data contains <b><u>16464</u></b> observation with <b><u>0</u></b>  missing values.</i><br>\n",
    "* <i></i>There are total of <b><u>12</u></b> columns : <b><u>11</u></b> continous , <b><u>0</u></b> categorical <b><u>1</u></b> id column<br>\n",
    "* <i> <b><u>No Missing </u></b> values in the <b><u>test</u></b> dataset as well.</i>\n",
    "</div>"
   ]
  },
  {
   "cell_type": "markdown",
   "id": "3bcf79e0",
   "metadata": {
    "papermill": {
     "duration": 0.015921,
     "end_time": "2023-01-31T01:38:54.765848",
     "exception": false,
     "start_time": "2023-01-31T01:38:54.749927",
     "status": "completed"
    },
    "tags": []
   },
   "source": [
    "### <span style=\"color:#e76f51;\"> Quick view of Test Data </span>"
   ]
  },
  {
   "cell_type": "code",
   "execution_count": 7,
   "id": "c4121885",
   "metadata": {
    "_kg_hide-input": true,
    "execution": {
     "iopub.execute_input": "2023-01-31T01:38:54.798377Z",
     "iopub.status.busy": "2023-01-31T01:38:54.798004Z",
     "iopub.status.idle": "2023-01-31T01:38:54.818358Z",
     "shell.execute_reply": "2023-01-31T01:38:54.817150Z"
    },
    "papermill": {
     "duration": 0.039631,
     "end_time": "2023-01-31T01:38:54.820892",
     "exception": false,
     "start_time": "2023-01-31T01:38:54.781261",
     "status": "completed"
    },
    "tags": []
   },
   "outputs": [
    {
     "data": {
      "text/html": [
       "<div>\n",
       "<style scoped>\n",
       "    .dataframe tbody tr th:only-of-type {\n",
       "        vertical-align: middle;\n",
       "    }\n",
       "\n",
       "    .dataframe tbody tr th {\n",
       "        vertical-align: top;\n",
       "    }\n",
       "\n",
       "    .dataframe thead th {\n",
       "        text-align: right;\n",
       "    }\n",
       "</style>\n",
       "<table border=\"1\" class=\"dataframe\">\n",
       "  <thead>\n",
       "    <tr style=\"text-align: right;\">\n",
       "      <th></th>\n",
       "      <th>Id</th>\n",
       "      <th>fixed acidity</th>\n",
       "      <th>volatile acidity</th>\n",
       "      <th>citric acid</th>\n",
       "      <th>residual sugar</th>\n",
       "      <th>chlorides</th>\n",
       "      <th>free sulfur dioxide</th>\n",
       "      <th>total sulfur dioxide</th>\n",
       "      <th>density</th>\n",
       "      <th>pH</th>\n",
       "      <th>sulphates</th>\n",
       "      <th>alcohol</th>\n",
       "    </tr>\n",
       "  </thead>\n",
       "  <tbody>\n",
       "    <tr>\n",
       "      <th>0</th>\n",
       "      <td>2056</td>\n",
       "      <td>7.2</td>\n",
       "      <td>0.510</td>\n",
       "      <td>0.01</td>\n",
       "      <td>2.0</td>\n",
       "      <td>0.077</td>\n",
       "      <td>31.0</td>\n",
       "      <td>54.0</td>\n",
       "      <td>0.99748</td>\n",
       "      <td>3.39</td>\n",
       "      <td>0.59</td>\n",
       "      <td>9.8</td>\n",
       "    </tr>\n",
       "    <tr>\n",
       "      <th>1</th>\n",
       "      <td>2057</td>\n",
       "      <td>7.2</td>\n",
       "      <td>0.755</td>\n",
       "      <td>0.15</td>\n",
       "      <td>2.0</td>\n",
       "      <td>0.102</td>\n",
       "      <td>14.0</td>\n",
       "      <td>35.0</td>\n",
       "      <td>0.99586</td>\n",
       "      <td>3.33</td>\n",
       "      <td>0.68</td>\n",
       "      <td>10.0</td>\n",
       "    </tr>\n",
       "    <tr>\n",
       "      <th>2</th>\n",
       "      <td>2058</td>\n",
       "      <td>8.4</td>\n",
       "      <td>0.460</td>\n",
       "      <td>0.40</td>\n",
       "      <td>2.0</td>\n",
       "      <td>0.065</td>\n",
       "      <td>21.0</td>\n",
       "      <td>50.0</td>\n",
       "      <td>0.99774</td>\n",
       "      <td>3.08</td>\n",
       "      <td>0.65</td>\n",
       "      <td>9.5</td>\n",
       "    </tr>\n",
       "    <tr>\n",
       "      <th>3</th>\n",
       "      <td>2059</td>\n",
       "      <td>8.0</td>\n",
       "      <td>0.470</td>\n",
       "      <td>0.40</td>\n",
       "      <td>1.8</td>\n",
       "      <td>0.056</td>\n",
       "      <td>14.0</td>\n",
       "      <td>25.0</td>\n",
       "      <td>0.99480</td>\n",
       "      <td>3.30</td>\n",
       "      <td>0.65</td>\n",
       "      <td>11.7</td>\n",
       "    </tr>\n",
       "    <tr>\n",
       "      <th>4</th>\n",
       "      <td>2060</td>\n",
       "      <td>6.5</td>\n",
       "      <td>0.340</td>\n",
       "      <td>0.32</td>\n",
       "      <td>2.1</td>\n",
       "      <td>0.044</td>\n",
       "      <td>8.0</td>\n",
       "      <td>94.0</td>\n",
       "      <td>0.99356</td>\n",
       "      <td>3.23</td>\n",
       "      <td>0.48</td>\n",
       "      <td>12.8</td>\n",
       "    </tr>\n",
       "  </tbody>\n",
       "</table>\n",
       "</div>"
      ],
      "text/plain": [
       "     Id  fixed acidity  volatile acidity  citric acid  residual sugar  \\\n",
       "0  2056            7.2             0.510         0.01             2.0   \n",
       "1  2057            7.2             0.755         0.15             2.0   \n",
       "2  2058            8.4             0.460         0.40             2.0   \n",
       "3  2059            8.0             0.470         0.40             1.8   \n",
       "4  2060            6.5             0.340         0.32             2.1   \n",
       "\n",
       "   chlorides  free sulfur dioxide  total sulfur dioxide  density    pH  \\\n",
       "0      0.077                 31.0                  54.0  0.99748  3.39   \n",
       "1      0.102                 14.0                  35.0  0.99586  3.33   \n",
       "2      0.065                 21.0                  50.0  0.99774  3.08   \n",
       "3      0.056                 14.0                  25.0  0.99480  3.30   \n",
       "4      0.044                  8.0                  94.0  0.99356  3.23   \n",
       "\n",
       "   sulphates  alcohol  \n",
       "0       0.59      9.8  \n",
       "1       0.68     10.0  \n",
       "2       0.65      9.5  \n",
       "3       0.65     11.7  \n",
       "4       0.48     12.8  "
      ]
     },
     "execution_count": 7,
     "metadata": {},
     "output_type": "execute_result"
    }
   ],
   "source": [
    "test.head()"
   ]
  },
  {
   "cell_type": "code",
   "execution_count": 8,
   "id": "dff91883",
   "metadata": {
    "_kg_hide-input": true,
    "execution": {
     "iopub.execute_input": "2023-01-31T01:38:54.855788Z",
     "iopub.status.busy": "2023-01-31T01:38:54.855068Z",
     "iopub.status.idle": "2023-01-31T01:38:54.865649Z",
     "shell.execute_reply": "2023-01-31T01:38:54.864366Z"
    },
    "papermill": {
     "duration": 0.032746,
     "end_time": "2023-01-31T01:38:54.869496",
     "exception": false,
     "start_time": "2023-01-31T01:38:54.836750",
     "status": "completed"
    },
    "tags": []
   },
   "outputs": [
    {
     "name": "stdout",
     "output_type": "stream",
     "text": [
      "\u001b[94mNumber of rows in test data: 1372\n",
      "\u001b[94mNumber of columns in test data: 12\n",
      "\u001b[94mNumber of values in train data: 16464\n",
      "\u001b[94mNo of rows with missing values  in test data: 0\n"
     ]
    }
   ],
   "source": [
    "print(f'\\033[94mNumber of rows in test data: {test.shape[0]}')\n",
    "print(f'\\033[94mNumber of columns in test data: {test.shape[1]}')\n",
    "print(f'\\033[94mNumber of values in train data: {test.count().sum()}')\n",
    "print(f'\\033[94mNo of rows with missing values  in test data: {sum(test.isna().sum())}')"
   ]
  },
  {
   "cell_type": "markdown",
   "id": "d0454cc9",
   "metadata": {
    "papermill": {
     "duration": 0.015687,
     "end_time": "2023-01-31T01:38:54.901773",
     "exception": false,
     "start_time": "2023-01-31T01:38:54.886086",
     "status": "completed"
    },
    "tags": []
   },
   "source": [
    "### <span style=\"color:#e76f51;\"> Basic statistics of test data </span>"
   ]
  },
  {
   "cell_type": "markdown",
   "id": "9cb0e461",
   "metadata": {
    "papermill": {
     "duration": 0.015754,
     "end_time": "2023-01-31T01:38:54.934207",
     "exception": false,
     "start_time": "2023-01-31T01:38:54.918453",
     "status": "completed"
    },
    "tags": []
   },
   "source": [
    "Below is the basic statistics for each variables which contain information on `count`, `mean`, `standard deviation`, `minimum`, `1st quartile`, `median`, `3rd quartile` and `maximum`."
   ]
  },
  {
   "cell_type": "code",
   "execution_count": 9,
   "id": "b43baa3c",
   "metadata": {
    "_kg_hide-input": true,
    "execution": {
     "iopub.execute_input": "2023-01-31T01:38:54.969190Z",
     "iopub.status.busy": "2023-01-31T01:38:54.968359Z",
     "iopub.status.idle": "2023-01-31T01:38:55.017044Z",
     "shell.execute_reply": "2023-01-31T01:38:55.015912Z"
    },
    "papermill": {
     "duration": 0.069297,
     "end_time": "2023-01-31T01:38:55.019626",
     "exception": false,
     "start_time": "2023-01-31T01:38:54.950329",
     "status": "completed"
    },
    "tags": []
   },
   "outputs": [
    {
     "data": {
      "text/html": [
       "<div>\n",
       "<style scoped>\n",
       "    .dataframe tbody tr th:only-of-type {\n",
       "        vertical-align: middle;\n",
       "    }\n",
       "\n",
       "    .dataframe tbody tr th {\n",
       "        vertical-align: top;\n",
       "    }\n",
       "\n",
       "    .dataframe thead th {\n",
       "        text-align: right;\n",
       "    }\n",
       "</style>\n",
       "<table border=\"1\" class=\"dataframe\">\n",
       "  <thead>\n",
       "    <tr style=\"text-align: right;\">\n",
       "      <th></th>\n",
       "      <th>Id</th>\n",
       "      <th>fixed acidity</th>\n",
       "      <th>volatile acidity</th>\n",
       "      <th>citric acid</th>\n",
       "      <th>residual sugar</th>\n",
       "      <th>chlorides</th>\n",
       "      <th>free sulfur dioxide</th>\n",
       "      <th>total sulfur dioxide</th>\n",
       "      <th>density</th>\n",
       "      <th>pH</th>\n",
       "      <th>sulphates</th>\n",
       "      <th>alcohol</th>\n",
       "    </tr>\n",
       "  </thead>\n",
       "  <tbody>\n",
       "    <tr>\n",
       "      <th>count</th>\n",
       "      <td>1372.000000</td>\n",
       "      <td>1372.000000</td>\n",
       "      <td>1372.000000</td>\n",
       "      <td>1372.000000</td>\n",
       "      <td>1372.000000</td>\n",
       "      <td>1372.000000</td>\n",
       "      <td>1372.000000</td>\n",
       "      <td>1372.000000</td>\n",
       "      <td>1372.000000</td>\n",
       "      <td>1372.000000</td>\n",
       "      <td>1372.000000</td>\n",
       "      <td>1372.000000</td>\n",
       "    </tr>\n",
       "    <tr>\n",
       "      <th>mean</th>\n",
       "      <td>2741.500000</td>\n",
       "      <td>8.369606</td>\n",
       "      <td>0.524311</td>\n",
       "      <td>0.270569</td>\n",
       "      <td>2.415926</td>\n",
       "      <td>0.081307</td>\n",
       "      <td>17.162536</td>\n",
       "      <td>49.089286</td>\n",
       "      <td>0.996670</td>\n",
       "      <td>3.312223</td>\n",
       "      <td>0.647267</td>\n",
       "      <td>10.473081</td>\n",
       "    </tr>\n",
       "    <tr>\n",
       "      <th>std</th>\n",
       "      <td>396.206596</td>\n",
       "      <td>1.664694</td>\n",
       "      <td>0.176942</td>\n",
       "      <td>0.185731</td>\n",
       "      <td>0.921155</td>\n",
       "      <td>0.026566</td>\n",
       "      <td>9.974082</td>\n",
       "      <td>32.803721</td>\n",
       "      <td>0.001822</td>\n",
       "      <td>0.141405</td>\n",
       "      <td>0.134792</td>\n",
       "      <td>1.027170</td>\n",
       "    </tr>\n",
       "    <tr>\n",
       "      <th>min</th>\n",
       "      <td>2056.000000</td>\n",
       "      <td>4.900000</td>\n",
       "      <td>0.120000</td>\n",
       "      <td>0.000000</td>\n",
       "      <td>1.300000</td>\n",
       "      <td>0.012000</td>\n",
       "      <td>1.000000</td>\n",
       "      <td>8.000000</td>\n",
       "      <td>0.990070</td>\n",
       "      <td>2.740000</td>\n",
       "      <td>0.390000</td>\n",
       "      <td>8.800000</td>\n",
       "    </tr>\n",
       "    <tr>\n",
       "      <th>25%</th>\n",
       "      <td>2398.750000</td>\n",
       "      <td>7.100000</td>\n",
       "      <td>0.390000</td>\n",
       "      <td>0.110000</td>\n",
       "      <td>2.000000</td>\n",
       "      <td>0.070000</td>\n",
       "      <td>8.000000</td>\n",
       "      <td>23.000000</td>\n",
       "      <td>0.995380</td>\n",
       "      <td>3.210000</td>\n",
       "      <td>0.550000</td>\n",
       "      <td>9.600000</td>\n",
       "    </tr>\n",
       "    <tr>\n",
       "      <th>50%</th>\n",
       "      <td>2741.500000</td>\n",
       "      <td>7.900000</td>\n",
       "      <td>0.500000</td>\n",
       "      <td>0.260000</td>\n",
       "      <td>2.200000</td>\n",
       "      <td>0.078000</td>\n",
       "      <td>16.000000</td>\n",
       "      <td>43.000000</td>\n",
       "      <td>0.996600</td>\n",
       "      <td>3.310000</td>\n",
       "      <td>0.620000</td>\n",
       "      <td>10.200000</td>\n",
       "    </tr>\n",
       "    <tr>\n",
       "      <th>75%</th>\n",
       "      <td>3084.250000</td>\n",
       "      <td>9.100000</td>\n",
       "      <td>0.635000</td>\n",
       "      <td>0.420000</td>\n",
       "      <td>2.500000</td>\n",
       "      <td>0.087000</td>\n",
       "      <td>24.000000</td>\n",
       "      <td>66.000000</td>\n",
       "      <td>0.997800</td>\n",
       "      <td>3.390000</td>\n",
       "      <td>0.730000</td>\n",
       "      <td>11.200000</td>\n",
       "    </tr>\n",
       "    <tr>\n",
       "      <th>max</th>\n",
       "      <td>3427.000000</td>\n",
       "      <td>15.600000</td>\n",
       "      <td>1.330000</td>\n",
       "      <td>0.760000</td>\n",
       "      <td>8.300000</td>\n",
       "      <td>0.467000</td>\n",
       "      <td>68.000000</td>\n",
       "      <td>165.000000</td>\n",
       "      <td>1.003200</td>\n",
       "      <td>4.010000</td>\n",
       "      <td>1.620000</td>\n",
       "      <td>14.000000</td>\n",
       "    </tr>\n",
       "  </tbody>\n",
       "</table>\n",
       "</div>"
      ],
      "text/plain": [
       "                Id  fixed acidity  volatile acidity  citric acid  \\\n",
       "count  1372.000000    1372.000000       1372.000000  1372.000000   \n",
       "mean   2741.500000       8.369606          0.524311     0.270569   \n",
       "std     396.206596       1.664694          0.176942     0.185731   \n",
       "min    2056.000000       4.900000          0.120000     0.000000   \n",
       "25%    2398.750000       7.100000          0.390000     0.110000   \n",
       "50%    2741.500000       7.900000          0.500000     0.260000   \n",
       "75%    3084.250000       9.100000          0.635000     0.420000   \n",
       "max    3427.000000      15.600000          1.330000     0.760000   \n",
       "\n",
       "       residual sugar    chlorides  free sulfur dioxide  total sulfur dioxide  \\\n",
       "count     1372.000000  1372.000000          1372.000000           1372.000000   \n",
       "mean         2.415926     0.081307            17.162536             49.089286   \n",
       "std          0.921155     0.026566             9.974082             32.803721   \n",
       "min          1.300000     0.012000             1.000000              8.000000   \n",
       "25%          2.000000     0.070000             8.000000             23.000000   \n",
       "50%          2.200000     0.078000            16.000000             43.000000   \n",
       "75%          2.500000     0.087000            24.000000             66.000000   \n",
       "max          8.300000     0.467000            68.000000            165.000000   \n",
       "\n",
       "           density           pH    sulphates      alcohol  \n",
       "count  1372.000000  1372.000000  1372.000000  1372.000000  \n",
       "mean      0.996670     3.312223     0.647267    10.473081  \n",
       "std       0.001822     0.141405     0.134792     1.027170  \n",
       "min       0.990070     2.740000     0.390000     8.800000  \n",
       "25%       0.995380     3.210000     0.550000     9.600000  \n",
       "50%       0.996600     3.310000     0.620000    10.200000  \n",
       "75%       0.997800     3.390000     0.730000    11.200000  \n",
       "max       1.003200     4.010000     1.620000    14.000000  "
      ]
     },
     "execution_count": 9,
     "metadata": {},
     "output_type": "execute_result"
    }
   ],
   "source": [
    "test.describe()"
   ]
  },
  {
   "cell_type": "markdown",
   "id": "453b4617",
   "metadata": {
    "papermill": {
     "duration": 0.015904,
     "end_time": "2023-01-31T01:38:55.052041",
     "exception": false,
     "start_time": "2023-01-31T01:38:55.036137",
     "status": "completed"
    },
    "tags": []
   },
   "source": [
    "<a id=\"3.3\"></a>\n",
    "## <span style=\"color:#e76f51;\"> Submission File </span>"
   ]
  },
  {
   "cell_type": "markdown",
   "id": "914916da",
   "metadata": {
    "papermill": {
     "duration": 0.015835,
     "end_time": "2023-01-31T01:38:55.084286",
     "exception": false,
     "start_time": "2023-01-31T01:38:55.068451",
     "status": "completed"
    },
    "tags": []
   },
   "source": [
    "### <span style=\"color:#e76f51;\"> Quick view of Submission File </span>"
   ]
  },
  {
   "cell_type": "code",
   "execution_count": 10,
   "id": "dae0f0bb",
   "metadata": {
    "_kg_hide-input": true,
    "execution": {
     "iopub.execute_input": "2023-01-31T01:38:55.119489Z",
     "iopub.status.busy": "2023-01-31T01:38:55.118252Z",
     "iopub.status.idle": "2023-01-31T01:38:55.128749Z",
     "shell.execute_reply": "2023-01-31T01:38:55.127353Z"
    },
    "papermill": {
     "duration": 0.031073,
     "end_time": "2023-01-31T01:38:55.131583",
     "exception": false,
     "start_time": "2023-01-31T01:38:55.100510",
     "status": "completed"
    },
    "tags": []
   },
   "outputs": [
    {
     "data": {
      "text/html": [
       "<div>\n",
       "<style scoped>\n",
       "    .dataframe tbody tr th:only-of-type {\n",
       "        vertical-align: middle;\n",
       "    }\n",
       "\n",
       "    .dataframe tbody tr th {\n",
       "        vertical-align: top;\n",
       "    }\n",
       "\n",
       "    .dataframe thead th {\n",
       "        text-align: right;\n",
       "    }\n",
       "</style>\n",
       "<table border=\"1\" class=\"dataframe\">\n",
       "  <thead>\n",
       "    <tr style=\"text-align: right;\">\n",
       "      <th></th>\n",
       "      <th>Id</th>\n",
       "      <th>quality</th>\n",
       "    </tr>\n",
       "  </thead>\n",
       "  <tbody>\n",
       "    <tr>\n",
       "      <th>0</th>\n",
       "      <td>2056</td>\n",
       "      <td>5</td>\n",
       "    </tr>\n",
       "    <tr>\n",
       "      <th>1</th>\n",
       "      <td>2057</td>\n",
       "      <td>5</td>\n",
       "    </tr>\n",
       "    <tr>\n",
       "      <th>2</th>\n",
       "      <td>2058</td>\n",
       "      <td>5</td>\n",
       "    </tr>\n",
       "    <tr>\n",
       "      <th>3</th>\n",
       "      <td>2059</td>\n",
       "      <td>5</td>\n",
       "    </tr>\n",
       "    <tr>\n",
       "      <th>4</th>\n",
       "      <td>2060</td>\n",
       "      <td>5</td>\n",
       "    </tr>\n",
       "  </tbody>\n",
       "</table>\n",
       "</div>"
      ],
      "text/plain": [
       "     Id  quality\n",
       "0  2056        5\n",
       "1  2057        5\n",
       "2  2058        5\n",
       "3  2059        5\n",
       "4  2060        5"
      ]
     },
     "execution_count": 10,
     "metadata": {},
     "output_type": "execute_result"
    }
   ],
   "source": [
    "submission.head()"
   ]
  },
  {
   "cell_type": "markdown",
   "id": "df6781dc",
   "metadata": {
    "papermill": {
     "duration": 0.017298,
     "end_time": "2023-01-31T01:38:55.166364",
     "exception": false,
     "start_time": "2023-01-31T01:38:55.149066",
     "status": "completed"
    },
    "tags": []
   },
   "source": [
    "<a href=\"#toc\" role=\"button\" aria-pressed=\"true\" >⬆️Back to Table of Contents ⬆️</a>"
   ]
  },
  {
   "cell_type": "markdown",
   "id": "216e9ff5",
   "metadata": {
    "papermill": {
     "duration": 0.017211,
     "end_time": "2023-01-31T01:38:55.202024",
     "exception": false,
     "start_time": "2023-01-31T01:38:55.184813",
     "status": "completed"
    },
    "tags": []
   },
   "source": [
    "<a id=\"4\"></a>\n",
    "# **<center><span style=\"color:#00BFC4;\"> EDA </span></center>**"
   ]
  },
  {
   "cell_type": "markdown",
   "id": "0d4fd998",
   "metadata": {
    "papermill": {
     "duration": 0.016342,
     "end_time": "2023-01-31T01:38:55.236141",
     "exception": false,
     "start_time": "2023-01-31T01:38:55.219799",
     "status": "completed"
    },
    "tags": []
   },
   "source": [
    "<a id=\"4.1\"></a>\n",
    "## <span style=\"color:#e76f51;\"> Overview of Data </span>"
   ]
  },
  {
   "cell_type": "code",
   "execution_count": 11,
   "id": "2663a250",
   "metadata": {
    "_kg_hide-input": true,
    "execution": {
     "iopub.execute_input": "2023-01-31T01:38:55.272268Z",
     "iopub.status.busy": "2023-01-31T01:38:55.271847Z",
     "iopub.status.idle": "2023-01-31T01:38:55.279325Z",
     "shell.execute_reply": "2023-01-31T01:38:55.278332Z"
    },
    "papermill": {
     "duration": 0.028528,
     "end_time": "2023-01-31T01:38:55.281712",
     "exception": false,
     "start_time": "2023-01-31T01:38:55.253184",
     "status": "completed"
    },
    "tags": []
   },
   "outputs": [],
   "source": [
    "train.drop([\"Id\"] , axis = 1 , inplace = True)\n",
    "test.drop([\"Id\"] , axis = 1 , inplace = True)\n",
    "TARGET = 'quality'\n",
    "FEATURES = [col for col in train.columns if col != TARGET]\n",
    "RANDOM_STATE = 12 "
   ]
  },
  {
   "cell_type": "code",
   "execution_count": 12,
   "id": "bd15cc15",
   "metadata": {
    "_kg_hide-input": true,
    "execution": {
     "iopub.execute_input": "2023-01-31T01:38:55.317225Z",
     "iopub.status.busy": "2023-01-31T01:38:55.316795Z",
     "iopub.status.idle": "2023-01-31T01:38:55.441017Z",
     "shell.execute_reply": "2023-01-31T01:38:55.439696Z"
    },
    "papermill": {
     "duration": 0.145983,
     "end_time": "2023-01-31T01:38:55.444312",
     "exception": false,
     "start_time": "2023-01-31T01:38:55.298329",
     "status": "completed"
    },
    "tags": []
   },
   "outputs": [
    {
     "data": {
      "text/html": [
       "<style type=\"text/css\">\n",
       "#T_5c315_row0_col0, #T_5c315_row1_col0, #T_5c315_row2_col0, #T_5c315_row3_col0, #T_5c315_row4_col0, #T_5c315_row5_col0, #T_5c315_row6_col0, #T_5c315_row6_col2, #T_5c315_row7_col0, #T_5c315_row8_col0, #T_5c315_row9_col0, #T_5c315_row9_col3, #T_5c315_row9_col4, #T_5c315_row9_col5, #T_5c315_row10_col0, #T_5c315_row10_col2, #T_5c315_row10_col3, #T_5c315_row10_col4, #T_5c315_row10_col5, #T_5c315_row10_col6 {\n",
       "  background-color: #f7fcf0;\n",
       "  color: #000000;\n",
       "}\n",
       "#T_5c315_row0_col1 {\n",
       "  background-color: #084081;\n",
       "  color: #f1f1f1;\n",
       "  width: 10em;\n",
       "  height: 80%;\n",
       "  background: linear-gradient(90deg,green 100.0%, transparent 100.0%);\n",
       "}\n",
       "#T_5c315_row0_col2, #T_5c315_row0_col4, #T_5c315_row0_col5, #T_5c315_row0_col6, #T_5c315_row2_col3 {\n",
       "  background-color: #084081;\n",
       "  color: #f1f1f1;\n",
       "}\n",
       "#T_5c315_row0_col3 {\n",
       "  background-color: #1c7cb6;\n",
       "  color: #f1f1f1;\n",
       "}\n",
       "#T_5c315_row0_col7 {\n",
       "  background-color: #084081;\n",
       "  color: #f1f1f1;\n",
       "  width: 10em;\n",
       "  height: 80%;\n",
       "  background: linear-gradient(90deg,#BB0000 100.0%, transparent 100.0%);\n",
       "}\n",
       "#T_5c315_row1_col1 {\n",
       "  background-color: #b2e1b9;\n",
       "  color: #000000;\n",
       "  width: 10em;\n",
       "  height: 80%;\n",
       "  background: linear-gradient(90deg,green 34.3%, transparent 34.3%);\n",
       "}\n",
       "#T_5c315_row1_col2 {\n",
       "  background-color: #bde5be;\n",
       "  color: #000000;\n",
       "}\n",
       "#T_5c315_row1_col3, #T_5c315_row6_col3 {\n",
       "  background-color: #e2f4dd;\n",
       "  color: #000000;\n",
       "}\n",
       "#T_5c315_row1_col4, #T_5c315_row1_col5 {\n",
       "  background-color: #acdfb7;\n",
       "  color: #000000;\n",
       "}\n",
       "#T_5c315_row1_col6 {\n",
       "  background-color: #aadeb6;\n",
       "  color: #000000;\n",
       "}\n",
       "#T_5c315_row1_col7 {\n",
       "  background-color: #cfecc8;\n",
       "  color: #000000;\n",
       "  width: 10em;\n",
       "  height: 80%;\n",
       "  background: linear-gradient(90deg,#BB0000 23.4%, transparent 23.4%);\n",
       "}\n",
       "#T_5c315_row2_col1 {\n",
       "  background-color: #d3eecc;\n",
       "  color: #000000;\n",
       "  width: 10em;\n",
       "  height: 80%;\n",
       "  background: linear-gradient(90deg,green 21.0%, transparent 21.0%);\n",
       "}\n",
       "#T_5c315_row2_col2 {\n",
       "  background-color: #f2faeb;\n",
       "  color: #000000;\n",
       "}\n",
       "#T_5c315_row2_col4 {\n",
       "  background-color: #94d5bc;\n",
       "  color: #000000;\n",
       "}\n",
       "#T_5c315_row2_col5 {\n",
       "  background-color: #d0ecc9;\n",
       "  color: #000000;\n",
       "}\n",
       "#T_5c315_row2_col6 {\n",
       "  background-color: #d9f0d3;\n",
       "  color: #000000;\n",
       "}\n",
       "#T_5c315_row2_col7, #T_5c315_row5_col7 {\n",
       "  background-color: #eef9e8;\n",
       "  color: #000000;\n",
       "  width: 10em;\n",
       "  height: 80%;\n",
       "  background: linear-gradient(90deg,#BB0000 4.7%, transparent 4.7%);\n",
       "}\n",
       "#T_5c315_row3_col1 {\n",
       "  background-color: #d9f0d3;\n",
       "  color: #000000;\n",
       "  width: 10em;\n",
       "  height: 80%;\n",
       "  background: linear-gradient(90deg,green 16.9%, transparent 16.9%);\n",
       "}\n",
       "#T_5c315_row3_col2, #T_5c315_row4_col6 {\n",
       "  background-color: #eef8e7;\n",
       "  color: #000000;\n",
       "}\n",
       "#T_5c315_row3_col3 {\n",
       "  background-color: #5fbdcd;\n",
       "  color: #000000;\n",
       "}\n",
       "#T_5c315_row3_col4 {\n",
       "  background-color: #b6e3bb;\n",
       "  color: #000000;\n",
       "}\n",
       "#T_5c315_row3_col5 {\n",
       "  background-color: #d8f0d2;\n",
       "  color: #000000;\n",
       "}\n",
       "#T_5c315_row3_col6, #T_5c315_row5_col3 {\n",
       "  background-color: #def2d9;\n",
       "  color: #000000;\n",
       "}\n",
       "#T_5c315_row3_col7 {\n",
       "  background-color: #eef8e7;\n",
       "  color: #000000;\n",
       "  width: 10em;\n",
       "  height: 80%;\n",
       "  background: linear-gradient(90deg,#BB0000 5.4%, transparent 5.4%);\n",
       "}\n",
       "#T_5c315_row4_col1 {\n",
       "  background-color: #ebf7e5;\n",
       "  color: #000000;\n",
       "  width: 10em;\n",
       "  height: 80%;\n",
       "  background: linear-gradient(90deg,green 6.6%, transparent 6.6%);\n",
       "}\n",
       "#T_5c315_row4_col2, #T_5c315_row7_col2, #T_5c315_row8_col2, #T_5c315_row9_col2, #T_5c315_row9_col6 {\n",
       "  background-color: #f6fcef;\n",
       "  color: #000000;\n",
       "}\n",
       "#T_5c315_row4_col3 {\n",
       "  background-color: #bae4bd;\n",
       "  color: #000000;\n",
       "}\n",
       "#T_5c315_row4_col4 {\n",
       "  background-color: #ddf2d8;\n",
       "  color: #000000;\n",
       "}\n",
       "#T_5c315_row4_col5 {\n",
       "  background-color: #eaf7e4;\n",
       "  color: #000000;\n",
       "}\n",
       "#T_5c315_row4_col7 {\n",
       "  background-color: #f6fbef;\n",
       "  color: #000000;\n",
       "  width: 10em;\n",
       "  height: 80%;\n",
       "  background: linear-gradient(90deg,#BB0000 1.2%, transparent 1.2%);\n",
       "}\n",
       "#T_5c315_row5_col1 {\n",
       "  background-color: #eef9e8;\n",
       "  color: #000000;\n",
       "  width: 10em;\n",
       "  height: 80%;\n",
       "  background: linear-gradient(90deg,green 4.7%, transparent 4.7%);\n",
       "}\n",
       "#T_5c315_row5_col2 {\n",
       "  background-color: #f3faec;\n",
       "  color: #000000;\n",
       "}\n",
       "#T_5c315_row5_col4 {\n",
       "  background-color: #e8f6e2;\n",
       "  color: #000000;\n",
       "}\n",
       "#T_5c315_row5_col5 {\n",
       "  background-color: #eef9e8;\n",
       "  color: #000000;\n",
       "}\n",
       "#T_5c315_row5_col6 {\n",
       "  background-color: #f1f9ea;\n",
       "  color: #000000;\n",
       "}\n",
       "#T_5c315_row6_col1 {\n",
       "  background-color: #f4fbed;\n",
       "  color: #000000;\n",
       "  width: 10em;\n",
       "  height: 80%;\n",
       "  background: linear-gradient(90deg,green 1.9%, transparent 1.9%);\n",
       "}\n",
       "#T_5c315_row6_col4 {\n",
       "  background-color: #f0f9e9;\n",
       "  color: #000000;\n",
       "}\n",
       "#T_5c315_row6_col5, #T_5c315_row7_col4, #T_5c315_row8_col3 {\n",
       "  background-color: #f3fbed;\n",
       "  color: #000000;\n",
       "}\n",
       "#T_5c315_row6_col6, #T_5c315_row7_col5, #T_5c315_row8_col4 {\n",
       "  background-color: #f5fbee;\n",
       "  color: #000000;\n",
       "}\n",
       "#T_5c315_row6_col7 {\n",
       "  background-color: #f7fcf0;\n",
       "  color: #000000;\n",
       "  width: 10em;\n",
       "  height: 80%;\n",
       "  background: linear-gradient(90deg,#BB0000 0.2%, transparent 0.2%);\n",
       "}\n",
       "#T_5c315_row7_col1 {\n",
       "  background-color: #f6fbef;\n",
       "  color: #000000;\n",
       "  width: 10em;\n",
       "  height: 80%;\n",
       "  background: linear-gradient(90deg,green 1.1%, transparent 1.1%);\n",
       "}\n",
       "#T_5c315_row7_col3 {\n",
       "  background-color: #eff9e9;\n",
       "  color: #000000;\n",
       "}\n",
       "#T_5c315_row7_col6, #T_5c315_row8_col5, #T_5c315_row8_col6 {\n",
       "  background-color: #f6fbef;\n",
       "  color: #000000;\n",
       "}\n",
       "#T_5c315_row7_col7 {\n",
       "  background-color: #f6fcef;\n",
       "  color: #000000;\n",
       "  width: 10em;\n",
       "  height: 80%;\n",
       "  background: linear-gradient(90deg,#BB0000 0.5%, transparent 0.5%);\n",
       "}\n",
       "#T_5c315_row8_col1 {\n",
       "  background-color: #f6fbef;\n",
       "  color: #000000;\n",
       "  width: 10em;\n",
       "  height: 80%;\n",
       "  background: linear-gradient(90deg,green 0.9%, transparent 0.9%);\n",
       "}\n",
       "#T_5c315_row8_col7 {\n",
       "  background-color: #f6fcef;\n",
       "  color: #000000;\n",
       "  width: 10em;\n",
       "  height: 80%;\n",
       "  background: linear-gradient(90deg,#BB0000 0.4%, transparent 0.4%);\n",
       "}\n",
       "#T_5c315_row9_col1 {\n",
       "  background-color: #f7fcf0;\n",
       "  color: #000000;\n",
       "  width: 10em;\n",
       "  height: 80%;\n",
       "  background: linear-gradient(90deg,green 0.4%, transparent 0.4%);\n",
       "}\n",
       "#T_5c315_row9_col7 {\n",
       "  background-color: #f7fcf0;\n",
       "  color: #000000;\n",
       "  width: 10em;\n",
       "  height: 80%;\n",
       "  background: linear-gradient(90deg,#BB0000 0.1%, transparent 0.1%);\n",
       "}\n",
       "#T_5c315_row10_col1, #T_5c315_row10_col7 {\n",
       "  background-color: #f7fcf0;\n",
       "  color: #000000;\n",
       "  width: 10em;\n",
       "  height: 80%;\n",
       "}\n",
       "</style>\n",
       "<table id=\"T_5c315_\">\n",
       "  <thead>\n",
       "    <tr>\n",
       "      <th class=\"blank level0\" >&nbsp;</th>\n",
       "      <th class=\"col_heading level0 col0\" >count</th>\n",
       "      <th class=\"col_heading level0 col1\" >mean</th>\n",
       "      <th class=\"col_heading level0 col2\" >std</th>\n",
       "      <th class=\"col_heading level0 col3\" >min</th>\n",
       "      <th class=\"col_heading level0 col4\" >25%</th>\n",
       "      <th class=\"col_heading level0 col5\" >50%</th>\n",
       "      <th class=\"col_heading level0 col6\" >75%</th>\n",
       "      <th class=\"col_heading level0 col7\" >max</th>\n",
       "    </tr>\n",
       "  </thead>\n",
       "  <tbody>\n",
       "    <tr>\n",
       "      <th id=\"T_5c315_level0_row0\" class=\"row_heading level0 row0\" >total sulfur dioxide</th>\n",
       "      <td id=\"T_5c315_row0_col0\" class=\"data row0 col0\" >2056.000000</td>\n",
       "      <td id=\"T_5c315_row0_col1\" class=\"data row0 col1\" >49.236868</td>\n",
       "      <td id=\"T_5c315_row0_col2\" class=\"data row0 col2\" >32.961141</td>\n",
       "      <td id=\"T_5c315_row0_col3\" class=\"data row0 col3\" >7.000000</td>\n",
       "      <td id=\"T_5c315_row0_col4\" class=\"data row0 col4\" >22.000000</td>\n",
       "      <td id=\"T_5c315_row0_col5\" class=\"data row0 col5\" >44.000000</td>\n",
       "      <td id=\"T_5c315_row0_col6\" class=\"data row0 col6\" >65.000000</td>\n",
       "      <td id=\"T_5c315_row0_col7\" class=\"data row0 col7\" >289.000000</td>\n",
       "    </tr>\n",
       "    <tr>\n",
       "      <th id=\"T_5c315_level0_row1\" class=\"row_heading level0 row1\" >free sulfur dioxide</th>\n",
       "      <td id=\"T_5c315_row1_col0\" class=\"data row1 col0\" >2056.000000</td>\n",
       "      <td id=\"T_5c315_row1_col1\" class=\"data row1 col1\" >16.955982</td>\n",
       "      <td id=\"T_5c315_row1_col2\" class=\"data row1 col2\" >10.009710</td>\n",
       "      <td id=\"T_5c315_row1_col3\" class=\"data row1 col3\" >1.000000</td>\n",
       "      <td id=\"T_5c315_row1_col4\" class=\"data row1 col4\" >8.000000</td>\n",
       "      <td id=\"T_5c315_row1_col5\" class=\"data row1 col5\" >16.000000</td>\n",
       "      <td id=\"T_5c315_row1_col6\" class=\"data row1 col6\" >24.000000</td>\n",
       "      <td id=\"T_5c315_row1_col7\" class=\"data row1 col7\" >68.000000</td>\n",
       "    </tr>\n",
       "    <tr>\n",
       "      <th id=\"T_5c315_level0_row2\" class=\"row_heading level0 row2\" >alcohol</th>\n",
       "      <td id=\"T_5c315_row2_col0\" class=\"data row2 col0\" >2056.000000</td>\n",
       "      <td id=\"T_5c315_row2_col1\" class=\"data row2 col1\" >10.414972</td>\n",
       "      <td id=\"T_5c315_row2_col2\" class=\"data row2 col2\" >1.028825</td>\n",
       "      <td id=\"T_5c315_row2_col3\" class=\"data row2 col3\" >8.700000</td>\n",
       "      <td id=\"T_5c315_row2_col4\" class=\"data row2 col4\" >9.500000</td>\n",
       "      <td id=\"T_5c315_row2_col5\" class=\"data row2 col5\" >10.100000</td>\n",
       "      <td id=\"T_5c315_row2_col6\" class=\"data row2 col6\" >11.000000</td>\n",
       "      <td id=\"T_5c315_row2_col7\" class=\"data row2 col7\" >14.000000</td>\n",
       "    </tr>\n",
       "    <tr>\n",
       "      <th id=\"T_5c315_level0_row3\" class=\"row_heading level0 row3\" >fixed acidity</th>\n",
       "      <td id=\"T_5c315_row3_col0\" class=\"data row3 col0\" >2056.000000</td>\n",
       "      <td id=\"T_5c315_row3_col1\" class=\"data row3 col1\" >8.365175</td>\n",
       "      <td id=\"T_5c315_row3_col2\" class=\"data row3 col2\" >1.705390</td>\n",
       "      <td id=\"T_5c315_row3_col3\" class=\"data row3 col3\" >5.000000</td>\n",
       "      <td id=\"T_5c315_row3_col4\" class=\"data row3 col4\" >7.200000</td>\n",
       "      <td id=\"T_5c315_row3_col5\" class=\"data row3 col5\" >7.950000</td>\n",
       "      <td id=\"T_5c315_row3_col6\" class=\"data row3 col6\" >9.200000</td>\n",
       "      <td id=\"T_5c315_row3_col7\" class=\"data row3 col7\" >15.900000</td>\n",
       "    </tr>\n",
       "    <tr>\n",
       "      <th id=\"T_5c315_level0_row4\" class=\"row_heading level0 row4\" >pH</th>\n",
       "      <td id=\"T_5c315_row4_col0\" class=\"data row4 col0\" >2056.000000</td>\n",
       "      <td id=\"T_5c315_row4_col1\" class=\"data row4 col1\" >3.310569</td>\n",
       "      <td id=\"T_5c315_row4_col2\" class=\"data row4 col2\" >0.142321</td>\n",
       "      <td id=\"T_5c315_row4_col3\" class=\"data row4 col3\" >2.740000</td>\n",
       "      <td id=\"T_5c315_row4_col4\" class=\"data row4 col4\" >3.200000</td>\n",
       "      <td id=\"T_5c315_row4_col5\" class=\"data row4 col5\" >3.310000</td>\n",
       "      <td id=\"T_5c315_row4_col6\" class=\"data row4 col6\" >3.390000</td>\n",
       "      <td id=\"T_5c315_row4_col7\" class=\"data row4 col7\" >3.780000</td>\n",
       "    </tr>\n",
       "    <tr>\n",
       "      <th id=\"T_5c315_level0_row5\" class=\"row_heading level0 row5\" >residual sugar</th>\n",
       "      <td id=\"T_5c315_row5_col0\" class=\"data row5 col0\" >2056.000000</td>\n",
       "      <td id=\"T_5c315_row5_col1\" class=\"data row5 col1\" >2.398881</td>\n",
       "      <td id=\"T_5c315_row5_col2\" class=\"data row5 col2\" >0.858824</td>\n",
       "      <td id=\"T_5c315_row5_col3\" class=\"data row5 col3\" >1.200000</td>\n",
       "      <td id=\"T_5c315_row5_col4\" class=\"data row5 col4\" >1.900000</td>\n",
       "      <td id=\"T_5c315_row5_col5\" class=\"data row5 col5\" >2.200000</td>\n",
       "      <td id=\"T_5c315_row5_col6\" class=\"data row5 col6\" >2.600000</td>\n",
       "      <td id=\"T_5c315_row5_col7\" class=\"data row5 col7\" >14.000000</td>\n",
       "    </tr>\n",
       "    <tr>\n",
       "      <th id=\"T_5c315_level0_row6\" class=\"row_heading level0 row6\" >density</th>\n",
       "      <td id=\"T_5c315_row6_col0\" class=\"data row6 col0\" >2056.000000</td>\n",
       "      <td id=\"T_5c315_row6_col1\" class=\"data row6 col1\" >0.996748</td>\n",
       "      <td id=\"T_5c315_row6_col2\" class=\"data row6 col2\" >0.001827</td>\n",
       "      <td id=\"T_5c315_row6_col3\" class=\"data row6 col3\" >0.990070</td>\n",
       "      <td id=\"T_5c315_row6_col4\" class=\"data row6 col4\" >0.995600</td>\n",
       "      <td id=\"T_5c315_row6_col5\" class=\"data row6 col5\" >0.996700</td>\n",
       "      <td id=\"T_5c315_row6_col6\" class=\"data row6 col6\" >0.997800</td>\n",
       "      <td id=\"T_5c315_row6_col7\" class=\"data row6 col7\" >1.003690</td>\n",
       "    </tr>\n",
       "    <tr>\n",
       "      <th id=\"T_5c315_level0_row7\" class=\"row_heading level0 row7\" >sulphates</th>\n",
       "      <td id=\"T_5c315_row7_col0\" class=\"data row7 col0\" >2056.000000</td>\n",
       "      <td id=\"T_5c315_row7_col1\" class=\"data row7 col1\" >0.641308</td>\n",
       "      <td id=\"T_5c315_row7_col2\" class=\"data row7 col2\" >0.137942</td>\n",
       "      <td id=\"T_5c315_row7_col3\" class=\"data row7 col3\" >0.390000</td>\n",
       "      <td id=\"T_5c315_row7_col4\" class=\"data row7 col4\" >0.550000</td>\n",
       "      <td id=\"T_5c315_row7_col5\" class=\"data row7 col5\" >0.610000</td>\n",
       "      <td id=\"T_5c315_row7_col6\" class=\"data row7 col6\" >0.720000</td>\n",
       "      <td id=\"T_5c315_row7_col7\" class=\"data row7 col7\" >1.950000</td>\n",
       "    </tr>\n",
       "    <tr>\n",
       "      <th id=\"T_5c315_level0_row8\" class=\"row_heading level0 row8\" >volatile acidity</th>\n",
       "      <td id=\"T_5c315_row8_col0\" class=\"data row8 col0\" >2056.000000</td>\n",
       "      <td id=\"T_5c315_row8_col1\" class=\"data row8 col1\" >0.527601</td>\n",
       "      <td id=\"T_5c315_row8_col2\" class=\"data row8 col2\" >0.173164</td>\n",
       "      <td id=\"T_5c315_row8_col3\" class=\"data row8 col3\" >0.180000</td>\n",
       "      <td id=\"T_5c315_row8_col4\" class=\"data row8 col4\" >0.390000</td>\n",
       "      <td id=\"T_5c315_row8_col5\" class=\"data row8 col5\" >0.520000</td>\n",
       "      <td id=\"T_5c315_row8_col6\" class=\"data row8 col6\" >0.640000</td>\n",
       "      <td id=\"T_5c315_row8_col7\" class=\"data row8 col7\" >1.580000</td>\n",
       "    </tr>\n",
       "    <tr>\n",
       "      <th id=\"T_5c315_level0_row9\" class=\"row_heading level0 row9\" >citric acid</th>\n",
       "      <td id=\"T_5c315_row9_col0\" class=\"data row9 col0\" >2056.000000</td>\n",
       "      <td id=\"T_5c315_row9_col1\" class=\"data row9 col1\" >0.265058</td>\n",
       "      <td id=\"T_5c315_row9_col2\" class=\"data row9 col2\" >0.188267</td>\n",
       "      <td id=\"T_5c315_row9_col3\" class=\"data row9 col3\" >0.000000</td>\n",
       "      <td id=\"T_5c315_row9_col4\" class=\"data row9 col4\" >0.090000</td>\n",
       "      <td id=\"T_5c315_row9_col5\" class=\"data row9 col5\" >0.250000</td>\n",
       "      <td id=\"T_5c315_row9_col6\" class=\"data row9 col6\" >0.420000</td>\n",
       "      <td id=\"T_5c315_row9_col7\" class=\"data row9 col7\" >0.760000</td>\n",
       "    </tr>\n",
       "    <tr>\n",
       "      <th id=\"T_5c315_level0_row10\" class=\"row_heading level0 row10\" >chlorides</th>\n",
       "      <td id=\"T_5c315_row10_col0\" class=\"data row10 col0\" >2056.000000</td>\n",
       "      <td id=\"T_5c315_row10_col1\" class=\"data row10 col1\" >0.081856</td>\n",
       "      <td id=\"T_5c315_row10_col2\" class=\"data row10 col2\" >0.023729</td>\n",
       "      <td id=\"T_5c315_row10_col3\" class=\"data row10 col3\" >0.012000</td>\n",
       "      <td id=\"T_5c315_row10_col4\" class=\"data row10 col4\" >0.071000</td>\n",
       "      <td id=\"T_5c315_row10_col5\" class=\"data row10 col5\" >0.079000</td>\n",
       "      <td id=\"T_5c315_row10_col6\" class=\"data row10 col6\" >0.090000</td>\n",
       "      <td id=\"T_5c315_row10_col7\" class=\"data row10 col7\" >0.414000</td>\n",
       "    </tr>\n",
       "  </tbody>\n",
       "</table>\n"
      ],
      "text/plain": [
       "<pandas.io.formats.style.Styler at 0x7f77cadab050>"
      ]
     },
     "execution_count": 12,
     "metadata": {},
     "output_type": "execute_result"
    }
   ],
   "source": [
    "train.iloc[:, :-1].describe().T.sort_values(by='mean' , ascending = False)\\\n",
    "                     .style.background_gradient(cmap='GnBu')\\\n",
    "                     .bar(subset=[\"max\"], color='#BB0000')\\\n",
    "                     .bar(subset=[\"mean\",], color='green')"
   ]
  },
  {
   "cell_type": "markdown",
   "id": "16566966",
   "metadata": {
    "papermill": {
     "duration": 0.017033,
     "end_time": "2023-01-31T01:38:55.479335",
     "exception": false,
     "start_time": "2023-01-31T01:38:55.462302",
     "status": "completed"
    },
    "tags": []
   },
   "source": [
    "<a href=\"#toc\" role=\"button\" aria-pressed=\"true\" >⬆️Back to Table of Contents ⬆️</a>"
   ]
  },
  {
   "cell_type": "markdown",
   "id": "d8d61502",
   "metadata": {
    "papermill": {
     "duration": 0.01704,
     "end_time": "2023-01-31T01:38:55.514005",
     "exception": false,
     "start_time": "2023-01-31T01:38:55.496965",
     "status": "completed"
    },
    "tags": []
   },
   "source": [
    "<a id=\"4.2\"></a>\n",
    "## <span style=\"color:#e76f51;\">Continuos and Categorical Data Distribution </span>"
   ]
  },
  {
   "cell_type": "markdown",
   "id": "f890a7cd",
   "metadata": {
    "papermill": {
     "duration": 0.016813,
     "end_time": "2023-01-31T01:38:55.548048",
     "exception": false,
     "start_time": "2023-01-31T01:38:55.531235",
     "status": "completed"
    },
    "tags": []
   },
   "source": [
    "<div class=\"alert alert-block alert-info\" style=\"font-size:14px; font-family:verdana; line-height: 1.7em;\">\n",
    "    📌 &nbsp;<b><u>Observations in Column Distribution :</u></b><br>\n",
    " \n",
    "* <i> Out of <b><u>11</u></b> features, all <b><u>11</u></b> features are continous.</i><br>\n",
    "\n",
    "</div>"
   ]
  },
  {
   "cell_type": "code",
   "execution_count": 13,
   "id": "c2d027cd",
   "metadata": {
    "_kg_hide-input": true,
    "execution": {
     "iopub.execute_input": "2023-01-31T01:38:55.584690Z",
     "iopub.status.busy": "2023-01-31T01:38:55.584033Z",
     "iopub.status.idle": "2023-01-31T01:38:55.643351Z",
     "shell.execute_reply": "2023-01-31T01:38:55.641905Z"
    },
    "papermill": {
     "duration": 0.080841,
     "end_time": "2023-01-31T01:38:55.645975",
     "exception": false,
     "start_time": "2023-01-31T01:38:55.565134",
     "status": "completed"
    },
    "tags": []
   },
   "outputs": [
    {
     "name": "stdout",
     "output_type": "stream",
     "text": [
      "\u001b[94mTotal number of features: 11\n",
      "\u001b[94mNumber of categorical features: 0\n",
      "\u001b[94mNumber of continuos features: 11\n"
     ]
    },
    {
     "data": {
      "text/html": [
       "        <script type=\"text/javascript\">\n",
       "        window.PlotlyConfig = {MathJaxConfig: 'local'};\n",
       "        if (window.MathJax) {MathJax.Hub.Config({SVG: {font: \"STIX-Web\"}});}\n",
       "        if (typeof require !== 'undefined') {\n",
       "        require.undef(\"plotly\");\n",
       "        requirejs.config({\n",
       "            paths: {\n",
       "                'plotly': ['https://cdn.plot.ly/plotly-2.8.3.min']\n",
       "            }\n",
       "        });\n",
       "        require(['plotly'], function(Plotly) {\n",
       "            window._Plotly = Plotly;\n",
       "        });\n",
       "        }\n",
       "        </script>\n",
       "        "
      ]
     },
     "metadata": {},
     "output_type": "display_data"
    },
    {
     "data": {
      "text/html": [
       "<div>                            <div id=\"28936640-0351-4b33-9a5d-5c99a4083cef\" class=\"plotly-graph-div\" style=\"height:525px; width:100%;\"></div>            <script type=\"text/javascript\">                require([\"plotly\"], function(Plotly) {                    window.PLOTLYENV=window.PLOTLYENV || {};                                    if (document.getElementById(\"28936640-0351-4b33-9a5d-5c99a4083cef\")) {                    Plotly.newPlot(                        \"28936640-0351-4b33-9a5d-5c99a4083cef\",                        [{\"labels\":[\"Categorical\",\"Continuos\"],\"marker\":{\"colors\":[\"#DE3163\",\"#58D68D\"]},\"values\":[0,11],\"type\":\"pie\"}],                        {\"template\":{\"data\":{\"bar\":[{\"error_x\":{\"color\":\"#2a3f5f\"},\"error_y\":{\"color\":\"#2a3f5f\"},\"marker\":{\"line\":{\"color\":\"#E5ECF6\",\"width\":0.5},\"pattern\":{\"fillmode\":\"overlay\",\"size\":10,\"solidity\":0.2}},\"type\":\"bar\"}],\"barpolar\":[{\"marker\":{\"line\":{\"color\":\"#E5ECF6\",\"width\":0.5},\"pattern\":{\"fillmode\":\"overlay\",\"size\":10,\"solidity\":0.2}},\"type\":\"barpolar\"}],\"carpet\":[{\"aaxis\":{\"endlinecolor\":\"#2a3f5f\",\"gridcolor\":\"white\",\"linecolor\":\"white\",\"minorgridcolor\":\"white\",\"startlinecolor\":\"#2a3f5f\"},\"baxis\":{\"endlinecolor\":\"#2a3f5f\",\"gridcolor\":\"white\",\"linecolor\":\"white\",\"minorgridcolor\":\"white\",\"startlinecolor\":\"#2a3f5f\"},\"type\":\"carpet\"}],\"choropleth\":[{\"colorbar\":{\"outlinewidth\":0,\"ticks\":\"\"},\"type\":\"choropleth\"}],\"contour\":[{\"colorbar\":{\"outlinewidth\":0,\"ticks\":\"\"},\"colorscale\":[[0.0,\"#0d0887\"],[0.1111111111111111,\"#46039f\"],[0.2222222222222222,\"#7201a8\"],[0.3333333333333333,\"#9c179e\"],[0.4444444444444444,\"#bd3786\"],[0.5555555555555556,\"#d8576b\"],[0.6666666666666666,\"#ed7953\"],[0.7777777777777778,\"#fb9f3a\"],[0.8888888888888888,\"#fdca26\"],[1.0,\"#f0f921\"]],\"type\":\"contour\"}],\"contourcarpet\":[{\"colorbar\":{\"outlinewidth\":0,\"ticks\":\"\"},\"type\":\"contourcarpet\"}],\"heatmap\":[{\"colorbar\":{\"outlinewidth\":0,\"ticks\":\"\"},\"colorscale\":[[0.0,\"#0d0887\"],[0.1111111111111111,\"#46039f\"],[0.2222222222222222,\"#7201a8\"],[0.3333333333333333,\"#9c179e\"],[0.4444444444444444,\"#bd3786\"],[0.5555555555555556,\"#d8576b\"],[0.6666666666666666,\"#ed7953\"],[0.7777777777777778,\"#fb9f3a\"],[0.8888888888888888,\"#fdca26\"],[1.0,\"#f0f921\"]],\"type\":\"heatmap\"}],\"heatmapgl\":[{\"colorbar\":{\"outlinewidth\":0,\"ticks\":\"\"},\"colorscale\":[[0.0,\"#0d0887\"],[0.1111111111111111,\"#46039f\"],[0.2222222222222222,\"#7201a8\"],[0.3333333333333333,\"#9c179e\"],[0.4444444444444444,\"#bd3786\"],[0.5555555555555556,\"#d8576b\"],[0.6666666666666666,\"#ed7953\"],[0.7777777777777778,\"#fb9f3a\"],[0.8888888888888888,\"#fdca26\"],[1.0,\"#f0f921\"]],\"type\":\"heatmapgl\"}],\"histogram\":[{\"marker\":{\"pattern\":{\"fillmode\":\"overlay\",\"size\":10,\"solidity\":0.2}},\"type\":\"histogram\"}],\"histogram2d\":[{\"colorbar\":{\"outlinewidth\":0,\"ticks\":\"\"},\"colorscale\":[[0.0,\"#0d0887\"],[0.1111111111111111,\"#46039f\"],[0.2222222222222222,\"#7201a8\"],[0.3333333333333333,\"#9c179e\"],[0.4444444444444444,\"#bd3786\"],[0.5555555555555556,\"#d8576b\"],[0.6666666666666666,\"#ed7953\"],[0.7777777777777778,\"#fb9f3a\"],[0.8888888888888888,\"#fdca26\"],[1.0,\"#f0f921\"]],\"type\":\"histogram2d\"}],\"histogram2dcontour\":[{\"colorbar\":{\"outlinewidth\":0,\"ticks\":\"\"},\"colorscale\":[[0.0,\"#0d0887\"],[0.1111111111111111,\"#46039f\"],[0.2222222222222222,\"#7201a8\"],[0.3333333333333333,\"#9c179e\"],[0.4444444444444444,\"#bd3786\"],[0.5555555555555556,\"#d8576b\"],[0.6666666666666666,\"#ed7953\"],[0.7777777777777778,\"#fb9f3a\"],[0.8888888888888888,\"#fdca26\"],[1.0,\"#f0f921\"]],\"type\":\"histogram2dcontour\"}],\"mesh3d\":[{\"colorbar\":{\"outlinewidth\":0,\"ticks\":\"\"},\"type\":\"mesh3d\"}],\"parcoords\":[{\"line\":{\"colorbar\":{\"outlinewidth\":0,\"ticks\":\"\"}},\"type\":\"parcoords\"}],\"pie\":[{\"automargin\":true,\"type\":\"pie\"}],\"scatter\":[{\"marker\":{\"colorbar\":{\"outlinewidth\":0,\"ticks\":\"\"}},\"type\":\"scatter\"}],\"scatter3d\":[{\"line\":{\"colorbar\":{\"outlinewidth\":0,\"ticks\":\"\"}},\"marker\":{\"colorbar\":{\"outlinewidth\":0,\"ticks\":\"\"}},\"type\":\"scatter3d\"}],\"scattercarpet\":[{\"marker\":{\"colorbar\":{\"outlinewidth\":0,\"ticks\":\"\"}},\"type\":\"scattercarpet\"}],\"scattergeo\":[{\"marker\":{\"colorbar\":{\"outlinewidth\":0,\"ticks\":\"\"}},\"type\":\"scattergeo\"}],\"scattergl\":[{\"marker\":{\"colorbar\":{\"outlinewidth\":0,\"ticks\":\"\"}},\"type\":\"scattergl\"}],\"scattermapbox\":[{\"marker\":{\"colorbar\":{\"outlinewidth\":0,\"ticks\":\"\"}},\"type\":\"scattermapbox\"}],\"scatterpolar\":[{\"marker\":{\"colorbar\":{\"outlinewidth\":0,\"ticks\":\"\"}},\"type\":\"scatterpolar\"}],\"scatterpolargl\":[{\"marker\":{\"colorbar\":{\"outlinewidth\":0,\"ticks\":\"\"}},\"type\":\"scatterpolargl\"}],\"scatterternary\":[{\"marker\":{\"colorbar\":{\"outlinewidth\":0,\"ticks\":\"\"}},\"type\":\"scatterternary\"}],\"surface\":[{\"colorbar\":{\"outlinewidth\":0,\"ticks\":\"\"},\"colorscale\":[[0.0,\"#0d0887\"],[0.1111111111111111,\"#46039f\"],[0.2222222222222222,\"#7201a8\"],[0.3333333333333333,\"#9c179e\"],[0.4444444444444444,\"#bd3786\"],[0.5555555555555556,\"#d8576b\"],[0.6666666666666666,\"#ed7953\"],[0.7777777777777778,\"#fb9f3a\"],[0.8888888888888888,\"#fdca26\"],[1.0,\"#f0f921\"]],\"type\":\"surface\"}],\"table\":[{\"cells\":{\"fill\":{\"color\":\"#EBF0F8\"},\"line\":{\"color\":\"white\"}},\"header\":{\"fill\":{\"color\":\"#C8D4E3\"},\"line\":{\"color\":\"white\"}},\"type\":\"table\"}]},\"layout\":{\"annotationdefaults\":{\"arrowcolor\":\"#2a3f5f\",\"arrowhead\":0,\"arrowwidth\":1},\"autotypenumbers\":\"strict\",\"coloraxis\":{\"colorbar\":{\"outlinewidth\":0,\"ticks\":\"\"}},\"colorscale\":{\"diverging\":[[0,\"#8e0152\"],[0.1,\"#c51b7d\"],[0.2,\"#de77ae\"],[0.3,\"#f1b6da\"],[0.4,\"#fde0ef\"],[0.5,\"#f7f7f7\"],[0.6,\"#e6f5d0\"],[0.7,\"#b8e186\"],[0.8,\"#7fbc41\"],[0.9,\"#4d9221\"],[1,\"#276419\"]],\"sequential\":[[0.0,\"#0d0887\"],[0.1111111111111111,\"#46039f\"],[0.2222222222222222,\"#7201a8\"],[0.3333333333333333,\"#9c179e\"],[0.4444444444444444,\"#bd3786\"],[0.5555555555555556,\"#d8576b\"],[0.6666666666666666,\"#ed7953\"],[0.7777777777777778,\"#fb9f3a\"],[0.8888888888888888,\"#fdca26\"],[1.0,\"#f0f921\"]],\"sequentialminus\":[[0.0,\"#0d0887\"],[0.1111111111111111,\"#46039f\"],[0.2222222222222222,\"#7201a8\"],[0.3333333333333333,\"#9c179e\"],[0.4444444444444444,\"#bd3786\"],[0.5555555555555556,\"#d8576b\"],[0.6666666666666666,\"#ed7953\"],[0.7777777777777778,\"#fb9f3a\"],[0.8888888888888888,\"#fdca26\"],[1.0,\"#f0f921\"]]},\"colorway\":[\"#636efa\",\"#EF553B\",\"#00cc96\",\"#ab63fa\",\"#FFA15A\",\"#19d3f3\",\"#FF6692\",\"#B6E880\",\"#FF97FF\",\"#FECB52\"],\"font\":{\"color\":\"#2a3f5f\"},\"geo\":{\"bgcolor\":\"white\",\"lakecolor\":\"white\",\"landcolor\":\"#E5ECF6\",\"showlakes\":true,\"showland\":true,\"subunitcolor\":\"white\"},\"hoverlabel\":{\"align\":\"left\"},\"hovermode\":\"closest\",\"mapbox\":{\"style\":\"light\"},\"paper_bgcolor\":\"white\",\"plot_bgcolor\":\"#E5ECF6\",\"polar\":{\"angularaxis\":{\"gridcolor\":\"white\",\"linecolor\":\"white\",\"ticks\":\"\"},\"bgcolor\":\"#E5ECF6\",\"radialaxis\":{\"gridcolor\":\"white\",\"linecolor\":\"white\",\"ticks\":\"\"}},\"scene\":{\"xaxis\":{\"backgroundcolor\":\"#E5ECF6\",\"gridcolor\":\"white\",\"gridwidth\":2,\"linecolor\":\"white\",\"showbackground\":true,\"ticks\":\"\",\"zerolinecolor\":\"white\"},\"yaxis\":{\"backgroundcolor\":\"#E5ECF6\",\"gridcolor\":\"white\",\"gridwidth\":2,\"linecolor\":\"white\",\"showbackground\":true,\"ticks\":\"\",\"zerolinecolor\":\"white\"},\"zaxis\":{\"backgroundcolor\":\"#E5ECF6\",\"gridcolor\":\"white\",\"gridwidth\":2,\"linecolor\":\"white\",\"showbackground\":true,\"ticks\":\"\",\"zerolinecolor\":\"white\"}},\"shapedefaults\":{\"line\":{\"color\":\"#2a3f5f\"}},\"ternary\":{\"aaxis\":{\"gridcolor\":\"white\",\"linecolor\":\"white\",\"ticks\":\"\"},\"baxis\":{\"gridcolor\":\"white\",\"linecolor\":\"white\",\"ticks\":\"\"},\"bgcolor\":\"#E5ECF6\",\"caxis\":{\"gridcolor\":\"white\",\"linecolor\":\"white\",\"ticks\":\"\"}},\"title\":{\"x\":0.05},\"xaxis\":{\"automargin\":true,\"gridcolor\":\"white\",\"linecolor\":\"white\",\"ticks\":\"\",\"title\":{\"standoff\":15},\"zerolinecolor\":\"white\",\"zerolinewidth\":2},\"yaxis\":{\"automargin\":true,\"gridcolor\":\"white\",\"linecolor\":\"white\",\"ticks\":\"\",\"title\":{\"standoff\":15},\"zerolinecolor\":\"white\",\"zerolinewidth\":2}}}},                        {\"responsive\": true}                    ).then(function(){\n",
       "                            \n",
       "var gd = document.getElementById('28936640-0351-4b33-9a5d-5c99a4083cef');\n",
       "var x = new MutationObserver(function (mutations, observer) {{\n",
       "        var display = window.getComputedStyle(gd).display;\n",
       "        if (!display || display === 'none') {{\n",
       "            console.log([gd, 'removed!']);\n",
       "            Plotly.purge(gd);\n",
       "            observer.disconnect();\n",
       "        }}\n",
       "}});\n",
       "\n",
       "// Listen for the removal of the full notebook cells\n",
       "var notebookContainer = gd.closest('#notebook-container');\n",
       "if (notebookContainer) {{\n",
       "    x.observe(notebookContainer, {childList: true});\n",
       "}}\n",
       "\n",
       "// Listen for the clearing of the current output cell\n",
       "var outputEl = gd.closest('.output');\n",
       "if (outputEl) {{\n",
       "    x.observe(outputEl, {childList: true});\n",
       "}}\n",
       "\n",
       "                        })                };                });            </script>        </div>"
      ]
     },
     "metadata": {},
     "output_type": "display_data"
    }
   ],
   "source": [
    "df = pd.concat([train[FEATURES], test[FEATURES]], axis=0)\n",
    "cat_features = [col for col in FEATURES if df[col].nunique() < 25 ]\n",
    "cont_features = [col for col in FEATURES if df[col].nunique() >= 25 ]\n",
    "\n",
    "del df\n",
    "print(f'\\033[94mTotal number of features: {len(FEATURES)}')\n",
    "print(f'\\033[94mNumber of categorical features: {len(cat_features)}')\n",
    "print(f'\\033[94mNumber of continuos features: {len(cont_features)}')\n",
    "\n",
    "\n",
    "labels=['Categorical', 'Continuos']\n",
    "values= [len(cat_features), len(cont_features)]\n",
    "colors = ['#DE3163', '#58D68D']\n",
    "\n",
    "fig = go.Figure(data=[go.Pie(\n",
    "    labels=labels, \n",
    "    values=values, \n",
    "    marker=dict(colors=colors, \n",
    "               )\n",
    ")])\n",
    "fig.show()"
   ]
  },
  {
   "cell_type": "markdown",
   "id": "aec617a0",
   "metadata": {
    "papermill": {
     "duration": 0.017567,
     "end_time": "2023-01-31T01:38:55.682875",
     "exception": false,
     "start_time": "2023-01-31T01:38:55.665308",
     "status": "completed"
    },
    "tags": []
   },
   "source": [
    "<a href=\"#toc\" role=\"button\" aria-pressed=\"true\" >⬆️Back to Table of Contents ⬆️</a>"
   ]
  },
  {
   "cell_type": "markdown",
   "id": "7dd87427",
   "metadata": {
    "papermill": {
     "duration": 0.018329,
     "end_time": "2023-01-31T01:38:55.720131",
     "exception": false,
     "start_time": "2023-01-31T01:38:55.701802",
     "status": "completed"
    },
    "tags": []
   },
   "source": [
    "<a id=\"4.3\"></a>\n",
    "## <span style=\"color:#e76f51;\"> Feature Distribution of Continous Features </span>\n"
   ]
  },
  {
   "cell_type": "code",
   "execution_count": 14,
   "id": "abe91f39",
   "metadata": {
    "execution": {
     "iopub.execute_input": "2023-01-31T01:38:55.758353Z",
     "iopub.status.busy": "2023-01-31T01:38:55.757373Z",
     "iopub.status.idle": "2023-01-31T01:39:06.668447Z",
     "shell.execute_reply": "2023-01-31T01:39:06.666859Z"
    },
    "papermill": {
     "duration": 10.935438,
     "end_time": "2023-01-31T01:39:06.673679",
     "exception": false,
     "start_time": "2023-01-31T01:38:55.738241",
     "status": "completed"
    },
    "tags": []
   },
   "outputs": [
    {
     "data": {
      "image/png": "[encoded data removed]",
      "text/plain": [
       "<Figure size 1296x3960 with 44 Axes>"
      ]
     },
     "metadata": {
      "needs_background": "light"
     },
     "output_type": "display_data"
    }
   ],
   "source": [
    "ncols = 4\n",
    "nrows = len(cont_features)\n",
    "\n",
    "fig, axes = plt.subplots(nrows, ncols, figsize=(18, 5*nrows))\n",
    "\n",
    "for r in range(nrows):\n",
    "    row = cont_features[r]\n",
    "    \n",
    "    \n",
    "    sns.histplot(x=train[row], ax=axes[r,0], color='#F8766D', label='Train data' , fill =True )\n",
    "    sns.histplot(x=test[row], ax=axes[r,0], color='#00BFC4', label='Test data', fill =True)\n",
    "    \n",
    "    sns.kdeplot(x=train[row], ax=axes[r,1], color='#F8766D', label='Train data' , fill =True )\n",
    "    sns.kdeplot(x=test[row], ax=axes[r,1], color='#00BFC4', label='Test data', fill =True)\n",
    "    \n",
    "    sns.boxplot(x=train[row], y = train[TARGET], ax=axes[r,2], color='#F8766D', orient = \"h\")\n",
    "    sns.boxplot(x=test[row], ax=axes[r,3], color='#00BFC4', orient = \"h\")\n",
    "    \n",
    "    axes[r,0].legend()\n",
    "    axes[r,1].legend()\n",
    "    axes[r,0].title.set_text(\"Histogram Plot\")\n",
    "    axes[r,1].title.set_text(\"Distribution Plot\")\n",
    "    axes[r,2].title.set_text(\"Box Plot- Train Data\")\n",
    "    axes[r,3].title.set_text(\"Box Plot- Test Data\")\n",
    "fig.tight_layout()\n",
    "plt.show()"
   ]
  },
  {
   "cell_type": "markdown",
   "id": "bd9f8ee6",
   "metadata": {
    "papermill": {
     "duration": 0.030547,
     "end_time": "2023-01-31T01:39:06.732518",
     "exception": false,
     "start_time": "2023-01-31T01:39:06.701971",
     "status": "completed"
    },
    "tags": []
   },
   "source": [
    "<a id=\"4.4\"></a>\n",
    "## <span style=\"color:#e76f51;\">  Feature Distribution of Categorical Features </span>"
   ]
  },
  {
   "cell_type": "markdown",
   "id": "c9713793",
   "metadata": {
    "papermill": {
     "duration": 0.027198,
     "end_time": "2023-01-31T01:39:06.788426",
     "exception": false,
     "start_time": "2023-01-31T01:39:06.761228",
     "status": "completed"
    },
    "tags": []
   },
   "source": [
    "* There are no categorical features "
   ]
  },
  {
   "cell_type": "markdown",
   "id": "f58c5d89",
   "metadata": {
    "papermill": {
     "duration": 0.028063,
     "end_time": "2023-01-31T01:39:06.844455",
     "exception": false,
     "start_time": "2023-01-31T01:39:06.816392",
     "status": "completed"
    },
    "tags": []
   },
   "source": [
    "<a href=\"#toc\" role=\"button\" aria-pressed=\"true\" >⬆️Back to Table of Contents ⬆️</a>"
   ]
  },
  {
   "cell_type": "markdown",
   "id": "f321fba5",
   "metadata": {
    "papermill": {
     "duration": 0.027106,
     "end_time": "2023-01-31T01:39:06.899430",
     "exception": false,
     "start_time": "2023-01-31T01:39:06.872324",
     "status": "completed"
    },
    "tags": []
   },
   "source": [
    "<a id=\"4.5\"></a>\n",
    "## <span style=\"color:#e76f51;\">  Target Distribution </span>"
   ]
  },
  {
   "cell_type": "markdown",
   "id": "21117783",
   "metadata": {
    "execution": {
     "iopub.execute_input": "2022-02-24T00:39:27.972624Z",
     "iopub.status.busy": "2022-02-24T00:39:27.972052Z",
     "iopub.status.idle": "2022-02-24T00:39:27.984571Z",
     "shell.execute_reply": "2022-02-24T00:39:27.983081Z",
     "shell.execute_reply.started": "2022-02-24T00:39:27.972572Z"
    },
    "papermill": {
     "duration": 0.027475,
     "end_time": "2023-01-31T01:39:06.954523",
     "exception": false,
     "start_time": "2023-01-31T01:39:06.927048",
     "status": "completed"
    },
    "tags": []
   },
   "source": [
    "<div class=\"alert alert-block alert-info\" style=\"font-size:14px; font-family:verdana; line-height: 1.7em;\">\n",
    "    📌 &nbsp;<b><u>Observations in Target Distribution :</u></b><br>\n",
    " \n",
    "* <i>There are six target values - <b><u>3,4,5,6,7</u></b> and <b><u>8</u></b></i><br>\n",
    "\n",
    "* <i>Targets are highly imbalanced.</i><br>\n",
    "</div>"
   ]
  },
  {
   "cell_type": "code",
   "execution_count": 15,
   "id": "a86f71f8",
   "metadata": {
    "_kg_hide-input": true,
    "execution": {
     "iopub.execute_input": "2023-01-31T01:39:07.023221Z",
     "iopub.status.busy": "2023-01-31T01:39:07.021498Z",
     "iopub.status.idle": "2023-01-31T01:39:07.344998Z",
     "shell.execute_reply": "2023-01-31T01:39:07.343387Z"
    },
    "papermill": {
     "duration": 0.364518,
     "end_time": "2023-01-31T01:39:07.347638",
     "exception": false,
     "start_time": "2023-01-31T01:39:06.983120",
     "status": "completed"
    },
    "tags": []
   },
   "outputs": [
    {
     "data": {
      "text/html": [
       "<div>                            <div id=\"b139e816-703d-4f96-bd24-41b7e516b64f\" class=\"plotly-graph-div\" style=\"height:525px; width:100%;\"></div>            <script type=\"text/javascript\">                require([\"plotly\"], function(Plotly) {                    window.PLOTLYENV=window.PLOTLYENV || {};                                    if (document.getElementById(\"b139e816-703d-4f96-bd24-41b7e516b64f\")) {                    Plotly.newPlot(                        \"b139e816-703d-4f96-bd24-41b7e516b64f\",                        [{\"alignmentgroup\":\"True\",\"hovertemplate\":\"quality=%{x}<br>count=%{marker.color}<extra></extra>\",\"legendgroup\":\"\",\"marker\":{\"color\":[839,778,333,55,39,12],\"coloraxis\":\"coloraxis\",\"pattern\":{\"shape\":\"\"}},\"name\":\"\",\"offsetgroup\":\"\",\"orientation\":\"v\",\"showlegend\":false,\"textposition\":\"auto\",\"x\":[5,6,7,4,8,3],\"xaxis\":\"x\",\"y\":[839,778,333,55,39,12],\"yaxis\":\"y\",\"type\":\"bar\"}],                        {\"template\":{\"data\":{\"bar\":[{\"error_x\":{\"color\":\"#2a3f5f\"},\"error_y\":{\"color\":\"#2a3f5f\"},\"marker\":{\"line\":{\"color\":\"#E5ECF6\",\"width\":0.5},\"pattern\":{\"fillmode\":\"overlay\",\"size\":10,\"solidity\":0.2}},\"type\":\"bar\"}],\"barpolar\":[{\"marker\":{\"line\":{\"color\":\"#E5ECF6\",\"width\":0.5},\"pattern\":{\"fillmode\":\"overlay\",\"size\":10,\"solidity\":0.2}},\"type\":\"barpolar\"}],\"carpet\":[{\"aaxis\":{\"endlinecolor\":\"#2a3f5f\",\"gridcolor\":\"white\",\"linecolor\":\"white\",\"minorgridcolor\":\"white\",\"startlinecolor\":\"#2a3f5f\"},\"baxis\":{\"endlinecolor\":\"#2a3f5f\",\"gridcolor\":\"white\",\"linecolor\":\"white\",\"minorgridcolor\":\"white\",\"startlinecolor\":\"#2a3f5f\"},\"type\":\"carpet\"}],\"choropleth\":[{\"colorbar\":{\"outlinewidth\":0,\"ticks\":\"\"},\"type\":\"choropleth\"}],\"contour\":[{\"colorbar\":{\"outlinewidth\":0,\"ticks\":\"\"},\"colorscale\":[[0.0,\"#0d0887\"],[0.1111111111111111,\"#46039f\"],[0.2222222222222222,\"#7201a8\"],[0.3333333333333333,\"#9c179e\"],[0.4444444444444444,\"#bd3786\"],[0.5555555555555556,\"#d8576b\"],[0.6666666666666666,\"#ed7953\"],[0.7777777777777778,\"#fb9f3a\"],[0.8888888888888888,\"#fdca26\"],[1.0,\"#f0f921\"]],\"type\":\"contour\"}],\"contourcarpet\":[{\"colorbar\":{\"outlinewidth\":0,\"ticks\":\"\"},\"type\":\"contourcarpet\"}],\"heatmap\":[{\"colorbar\":{\"outlinewidth\":0,\"ticks\":\"\"},\"colorscale\":[[0.0,\"#0d0887\"],[0.1111111111111111,\"#46039f\"],[0.2222222222222222,\"#7201a8\"],[0.3333333333333333,\"#9c179e\"],[0.4444444444444444,\"#bd3786\"],[0.5555555555555556,\"#d8576b\"],[0.6666666666666666,\"#ed7953\"],[0.7777777777777778,\"#fb9f3a\"],[0.8888888888888888,\"#fdca26\"],[1.0,\"#f0f921\"]],\"type\":\"heatmap\"}],\"heatmapgl\":[{\"colorbar\":{\"outlinewidth\":0,\"ticks\":\"\"},\"colorscale\":[[0.0,\"#0d0887\"],[0.1111111111111111,\"#46039f\"],[0.2222222222222222,\"#7201a8\"],[0.3333333333333333,\"#9c179e\"],[0.4444444444444444,\"#bd3786\"],[0.5555555555555556,\"#d8576b\"],[0.6666666666666666,\"#ed7953\"],[0.7777777777777778,\"#fb9f3a\"],[0.8888888888888888,\"#fdca26\"],[1.0,\"#f0f921\"]],\"type\":\"heatmapgl\"}],\"histogram\":[{\"marker\":{\"pattern\":{\"fillmode\":\"overlay\",\"size\":10,\"solidity\":0.2}},\"type\":\"histogram\"}],\"histogram2d\":[{\"colorbar\":{\"outlinewidth\":0,\"ticks\":\"\"},\"colorscale\":[[0.0,\"#0d0887\"],[0.1111111111111111,\"#46039f\"],[0.2222222222222222,\"#7201a8\"],[0.3333333333333333,\"#9c179e\"],[0.4444444444444444,\"#bd3786\"],[0.5555555555555556,\"#d8576b\"],[0.6666666666666666,\"#ed7953\"],[0.7777777777777778,\"#fb9f3a\"],[0.8888888888888888,\"#fdca26\"],[1.0,\"#f0f921\"]],\"type\":\"histogram2d\"}],\"histogram2dcontour\":[{\"colorbar\":{\"outlinewidth\":0,\"ticks\":\"\"},\"colorscale\":[[0.0,\"#0d0887\"],[0.1111111111111111,\"#46039f\"],[0.2222222222222222,\"#7201a8\"],[0.3333333333333333,\"#9c179e\"],[0.4444444444444444,\"#bd3786\"],[0.5555555555555556,\"#d8576b\"],[0.6666666666666666,\"#ed7953\"],[0.7777777777777778,\"#fb9f3a\"],[0.8888888888888888,\"#fdca26\"],[1.0,\"#f0f921\"]],\"type\":\"histogram2dcontour\"}],\"mesh3d\":[{\"colorbar\":{\"outlinewidth\":0,\"ticks\":\"\"},\"type\":\"mesh3d\"}],\"parcoords\":[{\"line\":{\"colorbar\":{\"outlinewidth\":0,\"ticks\":\"\"}},\"type\":\"parcoords\"}],\"pie\":[{\"automargin\":true,\"type\":\"pie\"}],\"scatter\":[{\"marker\":{\"colorbar\":{\"outlinewidth\":0,\"ticks\":\"\"}},\"type\":\"scatter\"}],\"scatter3d\":[{\"line\":{\"colorbar\":{\"outlinewidth\":0,\"ticks\":\"\"}},\"marker\":{\"colorbar\":{\"outlinewidth\":0,\"ticks\":\"\"}},\"type\":\"scatter3d\"}],\"scattercarpet\":[{\"marker\":{\"colorbar\":{\"outlinewidth\":0,\"ticks\":\"\"}},\"type\":\"scattercarpet\"}],\"scattergeo\":[{\"marker\":{\"colorbar\":{\"outlinewidth\":0,\"ticks\":\"\"}},\"type\":\"scattergeo\"}],\"scattergl\":[{\"marker\":{\"colorbar\":{\"outlinewidth\":0,\"ticks\":\"\"}},\"type\":\"scattergl\"}],\"scattermapbox\":[{\"marker\":{\"colorbar\":{\"outlinewidth\":0,\"ticks\":\"\"}},\"type\":\"scattermapbox\"}],\"scatterpolar\":[{\"marker\":{\"colorbar\":{\"outlinewidth\":0,\"ticks\":\"\"}},\"type\":\"scatterpolar\"}],\"scatterpolargl\":[{\"marker\":{\"colorbar\":{\"outlinewidth\":0,\"ticks\":\"\"}},\"type\":\"scatterpolargl\"}],\"scatterternary\":[{\"marker\":{\"colorbar\":{\"outlinewidth\":0,\"ticks\":\"\"}},\"type\":\"scatterternary\"}],\"surface\":[{\"colorbar\":{\"outlinewidth\":0,\"ticks\":\"\"},\"colorscale\":[[0.0,\"#0d0887\"],[0.1111111111111111,\"#46039f\"],[0.2222222222222222,\"#7201a8\"],[0.3333333333333333,\"#9c179e\"],[0.4444444444444444,\"#bd3786\"],[0.5555555555555556,\"#d8576b\"],[0.6666666666666666,\"#ed7953\"],[0.7777777777777778,\"#fb9f3a\"],[0.8888888888888888,\"#fdca26\"],[1.0,\"#f0f921\"]],\"type\":\"surface\"}],\"table\":[{\"cells\":{\"fill\":{\"color\":\"#EBF0F8\"},\"line\":{\"color\":\"white\"}},\"header\":{\"fill\":{\"color\":\"#C8D4E3\"},\"line\":{\"color\":\"white\"}},\"type\":\"table\"}]},\"layout\":{\"annotationdefaults\":{\"arrowcolor\":\"#2a3f5f\",\"arrowhead\":0,\"arrowwidth\":1},\"autotypenumbers\":\"strict\",\"coloraxis\":{\"colorbar\":{\"outlinewidth\":0,\"ticks\":\"\"}},\"colorscale\":{\"diverging\":[[0,\"#8e0152\"],[0.1,\"#c51b7d\"],[0.2,\"#de77ae\"],[0.3,\"#f1b6da\"],[0.4,\"#fde0ef\"],[0.5,\"#f7f7f7\"],[0.6,\"#e6f5d0\"],[0.7,\"#b8e186\"],[0.8,\"#7fbc41\"],[0.9,\"#4d9221\"],[1,\"#276419\"]],\"sequential\":[[0.0,\"#0d0887\"],[0.1111111111111111,\"#46039f\"],[0.2222222222222222,\"#7201a8\"],[0.3333333333333333,\"#9c179e\"],[0.4444444444444444,\"#bd3786\"],[0.5555555555555556,\"#d8576b\"],[0.6666666666666666,\"#ed7953\"],[0.7777777777777778,\"#fb9f3a\"],[0.8888888888888888,\"#fdca26\"],[1.0,\"#f0f921\"]],\"sequentialminus\":[[0.0,\"#0d0887\"],[0.1111111111111111,\"#46039f\"],[0.2222222222222222,\"#7201a8\"],[0.3333333333333333,\"#9c179e\"],[0.4444444444444444,\"#bd3786\"],[0.5555555555555556,\"#d8576b\"],[0.6666666666666666,\"#ed7953\"],[0.7777777777777778,\"#fb9f3a\"],[0.8888888888888888,\"#fdca26\"],[1.0,\"#f0f921\"]]},\"colorway\":[\"#636efa\",\"#EF553B\",\"#00cc96\",\"#ab63fa\",\"#FFA15A\",\"#19d3f3\",\"#FF6692\",\"#B6E880\",\"#FF97FF\",\"#FECB52\"],\"font\":{\"color\":\"#2a3f5f\"},\"geo\":{\"bgcolor\":\"white\",\"lakecolor\":\"white\",\"landcolor\":\"#E5ECF6\",\"showlakes\":true,\"showland\":true,\"subunitcolor\":\"white\"},\"hoverlabel\":{\"align\":\"left\"},\"hovermode\":\"closest\",\"mapbox\":{\"style\":\"light\"},\"paper_bgcolor\":\"white\",\"plot_bgcolor\":\"#E5ECF6\",\"polar\":{\"angularaxis\":{\"gridcolor\":\"white\",\"linecolor\":\"white\",\"ticks\":\"\"},\"bgcolor\":\"#E5ECF6\",\"radialaxis\":{\"gridcolor\":\"white\",\"linecolor\":\"white\",\"ticks\":\"\"}},\"scene\":{\"xaxis\":{\"backgroundcolor\":\"#E5ECF6\",\"gridcolor\":\"white\",\"gridwidth\":2,\"linecolor\":\"white\",\"showbackground\":true,\"ticks\":\"\",\"zerolinecolor\":\"white\"},\"yaxis\":{\"backgroundcolor\":\"#E5ECF6\",\"gridcolor\":\"white\",\"gridwidth\":2,\"linecolor\":\"white\",\"showbackground\":true,\"ticks\":\"\",\"zerolinecolor\":\"white\"},\"zaxis\":{\"backgroundcolor\":\"#E5ECF6\",\"gridcolor\":\"white\",\"gridwidth\":2,\"linecolor\":\"white\",\"showbackground\":true,\"ticks\":\"\",\"zerolinecolor\":\"white\"}},\"shapedefaults\":{\"line\":{\"color\":\"#2a3f5f\"}},\"ternary\":{\"aaxis\":{\"gridcolor\":\"white\",\"linecolor\":\"white\",\"ticks\":\"\"},\"baxis\":{\"gridcolor\":\"white\",\"linecolor\":\"white\",\"ticks\":\"\"},\"bgcolor\":\"#E5ECF6\",\"caxis\":{\"gridcolor\":\"white\",\"linecolor\":\"white\",\"ticks\":\"\"}},\"title\":{\"x\":0.05},\"xaxis\":{\"automargin\":true,\"gridcolor\":\"white\",\"linecolor\":\"white\",\"ticks\":\"\",\"title\":{\"standoff\":15},\"zerolinecolor\":\"white\",\"zerolinewidth\":2},\"yaxis\":{\"automargin\":true,\"gridcolor\":\"white\",\"linecolor\":\"white\",\"ticks\":\"\",\"title\":{\"standoff\":15},\"zerolinecolor\":\"white\",\"zerolinewidth\":2}}},\"xaxis\":{\"anchor\":\"y\",\"domain\":[0.0,1.0],\"title\":{\"text\":\"quality\"}},\"yaxis\":{\"anchor\":\"x\",\"domain\":[0.0,1.0],\"title\":{\"text\":\"count\"}},\"coloraxis\":{\"colorbar\":{\"title\":{\"text\":\"count\"}},\"colorscale\":[[0.0,\"rgb(211, 242, 163)\"],[0.16666666666666666,\"rgb(151, 225, 150)\"],[0.3333333333333333,\"rgb(108, 192, 139)\"],[0.5,\"rgb(76, 155, 130)\"],[0.6666666666666666,\"rgb(33, 122, 121)\"],[0.8333333333333334,\"rgb(16, 89, 101)\"],[1.0,\"rgb(7, 64, 80)\"]]},\"legend\":{\"tracegroupgap\":0},\"margin\":{\"t\":60},\"barmode\":\"relative\"},                        {\"responsive\": true}                    ).then(function(){\n",
       "                            \n",
       "var gd = document.getElementById('b139e816-703d-4f96-bd24-41b7e516b64f');\n",
       "var x = new MutationObserver(function (mutations, observer) {{\n",
       "        var display = window.getComputedStyle(gd).display;\n",
       "        if (!display || display === 'none') {{\n",
       "            console.log([gd, 'removed!']);\n",
       "            Plotly.purge(gd);\n",
       "            observer.disconnect();\n",
       "        }}\n",
       "}});\n",
       "\n",
       "// Listen for the removal of the full notebook cells\n",
       "var notebookContainer = gd.closest('#notebook-container');\n",
       "if (notebookContainer) {{\n",
       "    x.observe(notebookContainer, {childList: true});\n",
       "}}\n",
       "\n",
       "// Listen for the clearing of the current output cell\n",
       "var outputEl = gd.closest('.output');\n",
       "if (outputEl) {{\n",
       "    x.observe(outputEl, {childList: true});\n",
       "}}\n",
       "\n",
       "                        })                };                });            </script>        </div>"
      ]
     },
     "metadata": {},
     "output_type": "display_data"
    },
    {
     "data": {
      "text/html": [
       "<div>\n",
       "<style scoped>\n",
       "    .dataframe tbody tr th:only-of-type {\n",
       "        vertical-align: middle;\n",
       "    }\n",
       "\n",
       "    .dataframe tbody tr th {\n",
       "        vertical-align: top;\n",
       "    }\n",
       "\n",
       "    .dataframe thead th {\n",
       "        text-align: right;\n",
       "    }\n",
       "</style>\n",
       "<table border=\"1\" class=\"dataframe\">\n",
       "  <thead>\n",
       "    <tr style=\"text-align: right;\">\n",
       "      <th></th>\n",
       "      <th>quality</th>\n",
       "      <th>count</th>\n",
       "    </tr>\n",
       "  </thead>\n",
       "  <tbody>\n",
       "    <tr>\n",
       "      <th>0</th>\n",
       "      <td>3</td>\n",
       "      <td>12</td>\n",
       "    </tr>\n",
       "    <tr>\n",
       "      <th>1</th>\n",
       "      <td>4</td>\n",
       "      <td>55</td>\n",
       "    </tr>\n",
       "    <tr>\n",
       "      <th>2</th>\n",
       "      <td>5</td>\n",
       "      <td>839</td>\n",
       "    </tr>\n",
       "    <tr>\n",
       "      <th>3</th>\n",
       "      <td>6</td>\n",
       "      <td>778</td>\n",
       "    </tr>\n",
       "    <tr>\n",
       "      <th>4</th>\n",
       "      <td>7</td>\n",
       "      <td>333</td>\n",
       "    </tr>\n",
       "    <tr>\n",
       "      <th>5</th>\n",
       "      <td>8</td>\n",
       "      <td>39</td>\n",
       "    </tr>\n",
       "  </tbody>\n",
       "</table>\n",
       "</div>"
      ],
      "text/plain": [
       "   quality  count\n",
       "0        3     12\n",
       "1        4     55\n",
       "2        5    839\n",
       "3        6    778\n",
       "4        7    333\n",
       "5        8     39"
      ]
     },
     "execution_count": 15,
     "metadata": {},
     "output_type": "execute_result"
    }
   ],
   "source": [
    "target_df = pd.DataFrame(train[TARGET].value_counts()).reset_index()\n",
    "target_df.columns = [TARGET, 'count']\n",
    "fig = px.bar(data_frame =target_df, \n",
    "             x = TARGET,\n",
    "             y = 'count' , \n",
    "             color = \"count\",\n",
    "             color_continuous_scale=\"Emrld\") \n",
    "fig.show()\n",
    "target_df.sort_values(by =TARGET , ignore_index = True)"
   ]
  },
  {
   "cell_type": "markdown",
   "id": "1d5f18fd",
   "metadata": {
    "papermill": {
     "duration": 0.028417,
     "end_time": "2023-01-31T01:39:07.406079",
     "exception": false,
     "start_time": "2023-01-31T01:39:07.377662",
     "status": "completed"
    },
    "tags": []
   },
   "source": [
    "<a href=\"#toc\" role=\"button\" aria-pressed=\"true\" >⬆️Back to Table of Contents ⬆️</a>"
   ]
  },
  {
   "cell_type": "markdown",
   "id": "c172db46",
   "metadata": {
    "papermill": {
     "duration": 0.028636,
     "end_time": "2023-01-31T01:39:07.463374",
     "exception": false,
     "start_time": "2023-01-31T01:39:07.434738",
     "status": "completed"
    },
    "tags": []
   },
   "source": [
    "<a id=\"4.6\"></a>\n",
    "## <span style=\"color:#e76f51;\">  Correlation matrix </span>"
   ]
  },
  {
   "cell_type": "code",
   "execution_count": 16,
   "id": "49f9e67d",
   "metadata": {
    "execution": {
     "iopub.execute_input": "2023-01-31T01:39:07.524154Z",
     "iopub.status.busy": "2023-01-31T01:39:07.523743Z",
     "iopub.status.idle": "2023-01-31T01:39:07.576761Z",
     "shell.execute_reply": "2023-01-31T01:39:07.575151Z"
    },
    "papermill": {
     "duration": 0.086823,
     "end_time": "2023-01-31T01:39:07.579532",
     "exception": false,
     "start_time": "2023-01-31T01:39:07.492709",
     "status": "completed"
    },
    "tags": []
   },
   "outputs": [
    {
     "data": {
      "text/html": [
       "<div>                            <div id=\"4ba31330-4ee0-447c-b47c-fc72a70efef9\" class=\"plotly-graph-div\" style=\"height:525px; width:100%;\"></div>            <script type=\"text/javascript\">                require([\"plotly\"], function(Plotly) {                    window.PLOTLYENV=window.PLOTLYENV || {};                                    if (document.getElementById(\"4ba31330-4ee0-447c-b47c-fc72a70efef9\")) {                    Plotly.newPlot(                        \"4ba31330-4ee0-447c-b47c-fc72a70efef9\",                        [{\"coloraxis\":\"coloraxis\",\"name\":\"0\",\"x\":[\"fixed acidity\",\"volatile acidity\",\"citric acid\",\"residual sugar\",\"chlorides\",\"free sulfur dioxide\",\"total sulfur dioxide\",\"density\",\"pH\",\"sulphates\",\"alcohol\",\"quality\"],\"y\":[\"fixed acidity\",\"volatile acidity\",\"citric acid\",\"residual sugar\",\"chlorides\",\"free sulfur dioxide\",\"total sulfur dioxide\",\"density\",\"pH\",\"sulphates\",\"alcohol\",\"quality\"],\"z\":[[1.0,-0.31843590934137617,0.6959371316446037,0.2165168224084274,0.17314158236821128,-0.23865601964355168,-0.12942791051334895,0.6155996598451396,-0.6737013856816152,0.14243235459939882,-0.025393295386841548,0.07385176097299473],[-0.31843590934137617,1.0,-0.5856973187358162,-0.0800666569044613,0.03474072459414592,0.05275266651684057,0.08332360803962041,-0.07515986850575955,0.2441707080223771,-0.3440143996805577,-0.21629622464738685,-0.21928693770375993],[0.6959371316446037,-0.5856973187358162,1.0,0.14518672136047522,0.1413467308337386,-0.19156581293672326,-0.08573374309105276,0.37675884485239336,-0.5584443122060319,0.26002748502120643,0.08206544361411003,0.14179738137377498],[0.2165168224084274,-0.0800666569044613,0.14518672136047522,1.0,0.08678985487412788,-0.0987464739854663,-0.022819277363935336,0.2837966906996059,-0.10733189966672044,0.031907905455824975,0.07759364218171812,0.048155511559212515],[0.17314158236821128,0.03474072459414592,0.1413467308337386,0.08678985487412788,1.0,-0.04900553678603907,0.008749079297993598,0.25045258534381065,-0.12826195718464944,0.04720028811249982,-0.14992065729735066,-0.046624187033312406],[-0.23865601964355168,0.05275266651684057,-0.19156581293672326,-0.0987464739854663,-0.04900553678603907,1.0,0.6378489769564853,-0.06745554035413938,0.13939202530955958,-0.04824802083163186,-0.11473440323816432,-0.06021741227181566],[-0.12942791051334895,0.08332360803962041,-0.08573374309105276,-0.022819277363935336,0.008749079297993598,0.6378489769564853,1.0,0.11227808688118958,-0.016653984386095434,-0.15101157611147137,-0.31985718429131643,-0.22567042393360354],[0.6155996598451396,-0.07515986850575955,0.37675884485239336,0.2837966906996059,0.25045258534381065,-0.06745554035413938,0.11227808688118958,1.0,-0.3884487177705373,-0.0022488905098556732,-0.3557502787777698,-0.15319825821332764],[-0.6737013856816152,0.2441707080223771,-0.5584443122060319,-0.10733189966672044,-0.12826195718464944,0.13939202530955958,-0.016653984386095434,-0.3884487177705373,1.0,-0.04572762871322308,0.1250083242065022,0.01637801183185745],[0.14243235459939882,-0.3440143996805577,0.26002748502120643,0.031907905455824975,0.04720028811249982,-0.04824802083163186,-0.15101157611147137,-0.0022488905098556732,-0.04572762871322308,1.0,0.24728846605654398,0.36693857042753975],[-0.025393295386841548,-0.21629622464738685,0.08206544361411003,0.07759364218171812,-0.14992065729735066,-0.11473440323816432,-0.31985718429131643,-0.3557502787777698,0.1250083242065022,0.24728846605654398,1.0,0.4828327730337376],[0.07385176097299473,-0.21928693770375993,0.14179738137377498,0.048155511559212515,-0.046624187033312406,-0.06021741227181566,-0.22567042393360354,-0.15319825821332764,0.01637801183185745,0.36693857042753975,0.4828327730337376,1.0]],\"type\":\"heatmap\",\"xaxis\":\"x\",\"yaxis\":\"y\",\"hovertemplate\":\"x: %{x}<br>y: %{y}<br>color: %{z}<extra></extra>\"}],                        {\"template\":{\"data\":{\"bar\":[{\"error_x\":{\"color\":\"#2a3f5f\"},\"error_y\":{\"color\":\"#2a3f5f\"},\"marker\":{\"line\":{\"color\":\"#E5ECF6\",\"width\":0.5},\"pattern\":{\"fillmode\":\"overlay\",\"size\":10,\"solidity\":0.2}},\"type\":\"bar\"}],\"barpolar\":[{\"marker\":{\"line\":{\"color\":\"#E5ECF6\",\"width\":0.5},\"pattern\":{\"fillmode\":\"overlay\",\"size\":10,\"solidity\":0.2}},\"type\":\"barpolar\"}],\"carpet\":[{\"aaxis\":{\"endlinecolor\":\"#2a3f5f\",\"gridcolor\":\"white\",\"linecolor\":\"white\",\"minorgridcolor\":\"white\",\"startlinecolor\":\"#2a3f5f\"},\"baxis\":{\"endlinecolor\":\"#2a3f5f\",\"gridcolor\":\"white\",\"linecolor\":\"white\",\"minorgridcolor\":\"white\",\"startlinecolor\":\"#2a3f5f\"},\"type\":\"carpet\"}],\"choropleth\":[{\"colorbar\":{\"outlinewidth\":0,\"ticks\":\"\"},\"type\":\"choropleth\"}],\"contour\":[{\"colorbar\":{\"outlinewidth\":0,\"ticks\":\"\"},\"colorscale\":[[0.0,\"#0d0887\"],[0.1111111111111111,\"#46039f\"],[0.2222222222222222,\"#7201a8\"],[0.3333333333333333,\"#9c179e\"],[0.4444444444444444,\"#bd3786\"],[0.5555555555555556,\"#d8576b\"],[0.6666666666666666,\"#ed7953\"],[0.7777777777777778,\"#fb9f3a\"],[0.8888888888888888,\"#fdca26\"],[1.0,\"#f0f921\"]],\"type\":\"contour\"}],\"contourcarpet\":[{\"colorbar\":{\"outlinewidth\":0,\"ticks\":\"\"},\"type\":\"contourcarpet\"}],\"heatmap\":[{\"colorbar\":{\"outlinewidth\":0,\"ticks\":\"\"},\"colorscale\":[[0.0,\"#0d0887\"],[0.1111111111111111,\"#46039f\"],[0.2222222222222222,\"#7201a8\"],[0.3333333333333333,\"#9c179e\"],[0.4444444444444444,\"#bd3786\"],[0.5555555555555556,\"#d8576b\"],[0.6666666666666666,\"#ed7953\"],[0.7777777777777778,\"#fb9f3a\"],[0.8888888888888888,\"#fdca26\"],[1.0,\"#f0f921\"]],\"type\":\"heatmap\"}],\"heatmapgl\":[{\"colorbar\":{\"outlinewidth\":0,\"ticks\":\"\"},\"colorscale\":[[0.0,\"#0d0887\"],[0.1111111111111111,\"#46039f\"],[0.2222222222222222,\"#7201a8\"],[0.3333333333333333,\"#9c179e\"],[0.4444444444444444,\"#bd3786\"],[0.5555555555555556,\"#d8576b\"],[0.6666666666666666,\"#ed7953\"],[0.7777777777777778,\"#fb9f3a\"],[0.8888888888888888,\"#fdca26\"],[1.0,\"#f0f921\"]],\"type\":\"heatmapgl\"}],\"histogram\":[{\"marker\":{\"pattern\":{\"fillmode\":\"overlay\",\"size\":10,\"solidity\":0.2}},\"type\":\"histogram\"}],\"histogram2d\":[{\"colorbar\":{\"outlinewidth\":0,\"ticks\":\"\"},\"colorscale\":[[0.0,\"#0d0887\"],[0.1111111111111111,\"#46039f\"],[0.2222222222222222,\"#7201a8\"],[0.3333333333333333,\"#9c179e\"],[0.4444444444444444,\"#bd3786\"],[0.5555555555555556,\"#d8576b\"],[0.6666666666666666,\"#ed7953\"],[0.7777777777777778,\"#fb9f3a\"],[0.8888888888888888,\"#fdca26\"],[1.0,\"#f0f921\"]],\"type\":\"histogram2d\"}],\"histogram2dcontour\":[{\"colorbar\":{\"outlinewidth\":0,\"ticks\":\"\"},\"colorscale\":[[0.0,\"#0d0887\"],[0.1111111111111111,\"#46039f\"],[0.2222222222222222,\"#7201a8\"],[0.3333333333333333,\"#9c179e\"],[0.4444444444444444,\"#bd3786\"],[0.5555555555555556,\"#d8576b\"],[0.6666666666666666,\"#ed7953\"],[0.7777777777777778,\"#fb9f3a\"],[0.8888888888888888,\"#fdca26\"],[1.0,\"#f0f921\"]],\"type\":\"histogram2dcontour\"}],\"mesh3d\":[{\"colorbar\":{\"outlinewidth\":0,\"ticks\":\"\"},\"type\":\"mesh3d\"}],\"parcoords\":[{\"line\":{\"colorbar\":{\"outlinewidth\":0,\"ticks\":\"\"}},\"type\":\"parcoords\"}],\"pie\":[{\"automargin\":true,\"type\":\"pie\"}],\"scatter\":[{\"marker\":{\"colorbar\":{\"outlinewidth\":0,\"ticks\":\"\"}},\"type\":\"scatter\"}],\"scatter3d\":[{\"line\":{\"colorbar\":{\"outlinewidth\":0,\"ticks\":\"\"}},\"marker\":{\"colorbar\":{\"outlinewidth\":0,\"ticks\":\"\"}},\"type\":\"scatter3d\"}],\"scattercarpet\":[{\"marker\":{\"colorbar\":{\"outlinewidth\":0,\"ticks\":\"\"}},\"type\":\"scattercarpet\"}],\"scattergeo\":[{\"marker\":{\"colorbar\":{\"outlinewidth\":0,\"ticks\":\"\"}},\"type\":\"scattergeo\"}],\"scattergl\":[{\"marker\":{\"colorbar\":{\"outlinewidth\":0,\"ticks\":\"\"}},\"type\":\"scattergl\"}],\"scattermapbox\":[{\"marker\":{\"colorbar\":{\"outlinewidth\":0,\"ticks\":\"\"}},\"type\":\"scattermapbox\"}],\"scatterpolar\":[{\"marker\":{\"colorbar\":{\"outlinewidth\":0,\"ticks\":\"\"}},\"type\":\"scatterpolar\"}],\"scatterpolargl\":[{\"marker\":{\"colorbar\":{\"outlinewidth\":0,\"ticks\":\"\"}},\"type\":\"scatterpolargl\"}],\"scatterternary\":[{\"marker\":{\"colorbar\":{\"outlinewidth\":0,\"ticks\":\"\"}},\"type\":\"scatterternary\"}],\"surface\":[{\"colorbar\":{\"outlinewidth\":0,\"ticks\":\"\"},\"colorscale\":[[0.0,\"#0d0887\"],[0.1111111111111111,\"#46039f\"],[0.2222222222222222,\"#7201a8\"],[0.3333333333333333,\"#9c179e\"],[0.4444444444444444,\"#bd3786\"],[0.5555555555555556,\"#d8576b\"],[0.6666666666666666,\"#ed7953\"],[0.7777777777777778,\"#fb9f3a\"],[0.8888888888888888,\"#fdca26\"],[1.0,\"#f0f921\"]],\"type\":\"surface\"}],\"table\":[{\"cells\":{\"fill\":{\"color\":\"#EBF0F8\"},\"line\":{\"color\":\"white\"}},\"header\":{\"fill\":{\"color\":\"#C8D4E3\"},\"line\":{\"color\":\"white\"}},\"type\":\"table\"}]},\"layout\":{\"annotationdefaults\":{\"arrowcolor\":\"#2a3f5f\",\"arrowhead\":0,\"arrowwidth\":1},\"autotypenumbers\":\"strict\",\"coloraxis\":{\"colorbar\":{\"outlinewidth\":0,\"ticks\":\"\"}},\"colorscale\":{\"diverging\":[[0,\"#8e0152\"],[0.1,\"#c51b7d\"],[0.2,\"#de77ae\"],[0.3,\"#f1b6da\"],[0.4,\"#fde0ef\"],[0.5,\"#f7f7f7\"],[0.6,\"#e6f5d0\"],[0.7,\"#b8e186\"],[0.8,\"#7fbc41\"],[0.9,\"#4d9221\"],[1,\"#276419\"]],\"sequential\":[[0.0,\"#0d0887\"],[0.1111111111111111,\"#46039f\"],[0.2222222222222222,\"#7201a8\"],[0.3333333333333333,\"#9c179e\"],[0.4444444444444444,\"#bd3786\"],[0.5555555555555556,\"#d8576b\"],[0.6666666666666666,\"#ed7953\"],[0.7777777777777778,\"#fb9f3a\"],[0.8888888888888888,\"#fdca26\"],[1.0,\"#f0f921\"]],\"sequentialminus\":[[0.0,\"#0d0887\"],[0.1111111111111111,\"#46039f\"],[0.2222222222222222,\"#7201a8\"],[0.3333333333333333,\"#9c179e\"],[0.4444444444444444,\"#bd3786\"],[0.5555555555555556,\"#d8576b\"],[0.6666666666666666,\"#ed7953\"],[0.7777777777777778,\"#fb9f3a\"],[0.8888888888888888,\"#fdca26\"],[1.0,\"#f0f921\"]]},\"colorway\":[\"#636efa\",\"#EF553B\",\"#00cc96\",\"#ab63fa\",\"#FFA15A\",\"#19d3f3\",\"#FF6692\",\"#B6E880\",\"#FF97FF\",\"#FECB52\"],\"font\":{\"color\":\"#2a3f5f\"},\"geo\":{\"bgcolor\":\"white\",\"lakecolor\":\"white\",\"landcolor\":\"#E5ECF6\",\"showlakes\":true,\"showland\":true,\"subunitcolor\":\"white\"},\"hoverlabel\":{\"align\":\"left\"},\"hovermode\":\"closest\",\"mapbox\":{\"style\":\"light\"},\"paper_bgcolor\":\"white\",\"plot_bgcolor\":\"#E5ECF6\",\"polar\":{\"angularaxis\":{\"gridcolor\":\"white\",\"linecolor\":\"white\",\"ticks\":\"\"},\"bgcolor\":\"#E5ECF6\",\"radialaxis\":{\"gridcolor\":\"white\",\"linecolor\":\"white\",\"ticks\":\"\"}},\"scene\":{\"xaxis\":{\"backgroundcolor\":\"#E5ECF6\",\"gridcolor\":\"white\",\"gridwidth\":2,\"linecolor\":\"white\",\"showbackground\":true,\"ticks\":\"\",\"zerolinecolor\":\"white\"},\"yaxis\":{\"backgroundcolor\":\"#E5ECF6\",\"gridcolor\":\"white\",\"gridwidth\":2,\"linecolor\":\"white\",\"showbackground\":true,\"ticks\":\"\",\"zerolinecolor\":\"white\"},\"zaxis\":{\"backgroundcolor\":\"#E5ECF6\",\"gridcolor\":\"white\",\"gridwidth\":2,\"linecolor\":\"white\",\"showbackground\":true,\"ticks\":\"\",\"zerolinecolor\":\"white\"}},\"shapedefaults\":{\"line\":{\"color\":\"#2a3f5f\"}},\"ternary\":{\"aaxis\":{\"gridcolor\":\"white\",\"linecolor\":\"white\",\"ticks\":\"\"},\"baxis\":{\"gridcolor\":\"white\",\"linecolor\":\"white\",\"ticks\":\"\"},\"bgcolor\":\"#E5ECF6\",\"caxis\":{\"gridcolor\":\"white\",\"linecolor\":\"white\",\"ticks\":\"\"}},\"title\":{\"x\":0.05},\"xaxis\":{\"automargin\":true,\"gridcolor\":\"white\",\"linecolor\":\"white\",\"ticks\":\"\",\"title\":{\"standoff\":15},\"zerolinecolor\":\"white\",\"zerolinewidth\":2},\"yaxis\":{\"automargin\":true,\"gridcolor\":\"white\",\"linecolor\":\"white\",\"ticks\":\"\",\"title\":{\"standoff\":15},\"zerolinecolor\":\"white\",\"zerolinewidth\":2}}},\"xaxis\":{\"anchor\":\"y\",\"domain\":[0.0,1.0]},\"yaxis\":{\"anchor\":\"x\",\"domain\":[0.0,1.0],\"autorange\":\"reversed\"},\"coloraxis\":{\"colorscale\":[[0.0,\"#440154\"],[0.1111111111111111,\"#482878\"],[0.2222222222222222,\"#3e4989\"],[0.3333333333333333,\"#31688e\"],[0.4444444444444444,\"#26828e\"],[0.5555555555555556,\"#1f9e89\"],[0.6666666666666666,\"#35b779\"],[0.7777777777777778,\"#6ece58\"],[0.8888888888888888,\"#b5de2b\"],[1.0,\"#fde725\"]]},\"margin\":{\"t\":60}},                        {\"responsive\": true}                    ).then(function(){\n",
       "                            \n",
       "var gd = document.getElementById('4ba31330-4ee0-447c-b47c-fc72a70efef9');\n",
       "var x = new MutationObserver(function (mutations, observer) {{\n",
       "        var display = window.getComputedStyle(gd).display;\n",
       "        if (!display || display === 'none') {{\n",
       "            console.log([gd, 'removed!']);\n",
       "            Plotly.purge(gd);\n",
       "            observer.disconnect();\n",
       "        }}\n",
       "}});\n",
       "\n",
       "// Listen for the removal of the full notebook cells\n",
       "var notebookContainer = gd.closest('#notebook-container');\n",
       "if (notebookContainer) {{\n",
       "    x.observe(notebookContainer, {childList: true});\n",
       "}}\n",
       "\n",
       "// Listen for the clearing of the current output cell\n",
       "var outputEl = gd.closest('.output');\n",
       "if (outputEl) {{\n",
       "    x.observe(outputEl, {childList: true});\n",
       "}}\n",
       "\n",
       "                        })                };                });            </script>        </div>"
      ]
     },
     "metadata": {},
     "output_type": "display_data"
    }
   ],
   "source": [
    "fig = px.imshow(train.corr() , aspect=\"auto\" , color_continuous_scale = \"viridis\")\n",
    "fig.show()"
   ]
  },
  {
   "cell_type": "markdown",
   "id": "50d1d7d5",
   "metadata": {
    "papermill": {
     "duration": 0.029149,
     "end_time": "2023-01-31T01:39:07.637107",
     "exception": false,
     "start_time": "2023-01-31T01:39:07.607958",
     "status": "completed"
    },
    "tags": []
   },
   "source": [
    "<a href=\"#toc\" role=\"button\" aria-pressed=\"true\" >⬆️Back to Table of Contents ⬆️</a>"
   ]
  },
  {
   "cell_type": "markdown",
   "id": "0f582855",
   "metadata": {
    "papermill": {
     "duration": 0.029009,
     "end_time": "2023-01-31T01:39:07.694645",
     "exception": false,
     "start_time": "2023-01-31T01:39:07.665636",
     "status": "completed"
    },
    "tags": []
   },
   "source": [
    "<a id=\"5\"></a>\n",
    "# **<center><span style=\"color:#00BFC4;\">Data Pre-Processing  </span></center>**"
   ]
  },
  {
   "cell_type": "code",
   "execution_count": 17,
   "id": "2c93b9fd",
   "metadata": {
    "execution": {
     "iopub.execute_input": "2023-01-31T01:39:07.755227Z",
     "iopub.status.busy": "2023-01-31T01:39:07.754831Z",
     "iopub.status.idle": "2023-01-31T01:39:07.762974Z",
     "shell.execute_reply": "2023-01-31T01:39:07.761679Z"
    },
    "papermill": {
     "duration": 0.042737,
     "end_time": "2023-01-31T01:39:07.765949",
     "exception": false,
     "start_time": "2023-01-31T01:39:07.723212",
     "status": "completed"
    },
    "tags": []
   },
   "outputs": [],
   "source": [
    "encoder = LabelEncoder()\n",
    "\n",
    "train[TARGET] = encoder.fit_transform(train[TARGET])\n",
    "\n",
    "X = train.drop(TARGET , axis =1 )\n",
    "y = train[TARGET]"
   ]
  },
  {
   "cell_type": "markdown",
   "id": "f432744b",
   "metadata": {
    "papermill": {
     "duration": 0.028231,
     "end_time": "2023-01-31T01:39:07.822533",
     "exception": false,
     "start_time": "2023-01-31T01:39:07.794302",
     "status": "completed"
    },
    "tags": []
   },
   "source": [
    "<a id=\"6\"></a>\n",
    "# **<center><span style=\"color:#00BFC4;\">Modeling </span></center>**"
   ]
  },
  {
   "cell_type": "markdown",
   "id": "3b709a88",
   "metadata": {
    "papermill": {
     "duration": 0.028108,
     "end_time": "2023-01-31T01:39:07.879088",
     "exception": false,
     "start_time": "2023-01-31T01:39:07.850980",
     "status": "completed"
    },
    "tags": []
   },
   "source": [
    "<div class=\"alert alert-block alert-info\" style=\"font-size:14px; font-family:verdana; line-height: 1.7em;\">\n",
    "    📌 &nbsp;<b><u>Observations in Target Modelling :</u></b><br>\n",
    "    \n",
    "* <i> <u><b>LGBMClassifier</u></b> , <u><b>CatBoostClassifier</u></b> and <u><b>XGBClassifier</u></b> used in modelling on 5-fold validation.</i><br>\n",
    "* <i> Further Hyperparameter tuning can imporve the results.</i><br>\n",
    "    \n",
    "</div>"
   ]
  },
  {
   "cell_type": "code",
   "execution_count": 18,
   "id": "6c38c551",
   "metadata": {
    "execution": {
     "iopub.execute_input": "2023-01-31T01:39:07.937733Z",
     "iopub.status.busy": "2023-01-31T01:39:07.937277Z",
     "iopub.status.idle": "2023-01-31T01:39:11.492996Z",
     "shell.execute_reply": "2023-01-31T01:39:11.490710Z"
    },
    "papermill": {
     "duration": 3.590585,
     "end_time": "2023-01-31T01:39:11.497924",
     "exception": false,
     "start_time": "2023-01-31T01:39:07.907339",
     "status": "completed"
    },
    "tags": []
   },
   "outputs": [
    {
     "name": "stdout",
     "output_type": "stream",
     "text": [
      "========== Fold=1 ==========\n",
      "Fold=1, Quadratic Kappa Metric score: 0.49, Run Time: 0.77s\n",
      "========== Fold=2 ==========\n",
      "Fold=2, Quadratic Kappa Metric score: 0.47, Run Time: 0.61s\n",
      "========== Fold=3 ==========\n",
      "Fold=3, Quadratic Kappa Metric score: 0.49, Run Time: 0.61s\n",
      "========== Fold=4 ==========\n",
      "Fold=4, Quadratic Kappa Metric score: 0.40, Run Time: 0.70s\n",
      "========== Fold=5 ==========\n",
      "Fold=5, Quadratic Kappa Metric score: 0.51, Run Time: 0.63s\n",
      "Mean Score : 0.47376604344099915\n"
     ]
    }
   ],
   "source": [
    "lgb_params = {\n",
    "    'objective' : 'multiclass',\n",
    "    'metric' : 'multi_logloss',\n",
    "    \"n_estimators\" : 100,\n",
    "    \"learning_rate\": 0.08\n",
    "    \n",
    "}\n",
    "\n",
    "\n",
    "lgb_predictions = []\n",
    "lgb_scores = []\n",
    "lgb_fimp = []\n",
    "\n",
    "skf = StratifiedKFold(n_splits=FOLDS, shuffle=True, random_state=RANDOM_STATE)\n",
    "for fold, (train_idx, valid_idx) in enumerate(skf.split(train[FEATURES], train[TARGET])):\n",
    "    \n",
    "    print(10*\"=\", f\"Fold={fold+1}\", 10*\"=\")\n",
    "    start_time = time.time()\n",
    "    \n",
    "    X_train, X_valid = train.iloc[train_idx][FEATURES], train.iloc[valid_idx][FEATURES]\n",
    "    y_train , y_valid = train[TARGET].iloc[train_idx] , train[TARGET].iloc[valid_idx]\n",
    "    \n",
    "    model = LGBMClassifier(**lgb_params)\n",
    "    model.fit(X_train, y_train,verbose=0)\n",
    "    \n",
    "    preds_valid = model.predict(X_valid)\n",
    "    score = cohen_kappa_score(y_valid,  preds_valid, weights = \"quadratic\")\n",
    "    lgb_scores.append(score)\n",
    "    run_time = time.time() - start_time\n",
    "    \n",
    "    print(f\"Fold={fold+1}, Quadratic Kappa Metric score: {score:.2f}, Run Time: {run_time:.2f}s\")\n",
    "    fim = pd.DataFrame(index=FEATURES,\n",
    "                 data=model.feature_importances_,\n",
    "                 columns=[f'{fold}_importance'])\n",
    "    lgb_fimp.append(fim)\n",
    "    test_preds = model.predict(test[FEATURES])\n",
    "    lgb_predictions.append(test_preds)\n",
    "    \n",
    "print(\"Mean Score :\", np.mean(lgb_scores))"
   ]
  },
  {
   "cell_type": "markdown",
   "id": "940bcdb2",
   "metadata": {
    "papermill": {
     "duration": 0.031065,
     "end_time": "2023-01-31T01:39:11.562088",
     "exception": false,
     "start_time": "2023-01-31T01:39:11.531023",
     "status": "completed"
    },
    "tags": []
   },
   "source": [
    "### <span style=\"color:#e76f51;\">Feature Importance for LGBM Classifier</span>"
   ]
  },
  {
   "cell_type": "code",
   "execution_count": 19,
   "id": "9b41713e",
   "metadata": {
    "execution": {
     "iopub.execute_input": "2023-01-31T01:39:11.626321Z",
     "iopub.status.busy": "2023-01-31T01:39:11.625429Z",
     "iopub.status.idle": "2023-01-31T01:39:12.054157Z",
     "shell.execute_reply": "2023-01-31T01:39:12.052914Z"
    },
    "papermill": {
     "duration": 0.463801,
     "end_time": "2023-01-31T01:39:12.056952",
     "exception": false,
     "start_time": "2023-01-31T01:39:11.593151",
     "status": "completed"
    },
    "tags": []
   },
   "outputs": [
    {
     "data": {
      "image/png": "[encoded data removed]",
      "text/plain": [
       "<Figure size 1080x720 with 1 Axes>"
      ]
     },
     "metadata": {
      "needs_background": "light"
     },
     "output_type": "display_data"
    }
   ],
   "source": [
    "lgbm_fis_df = pd.concat(lgb_fimp, axis=1).head(15)\n",
    "lgbm_fis_df.sort_values('1_importance').plot(kind='barh', figsize=(15, 10),\n",
    "                                       title='Feature Importance Across Folds')\n",
    "plt.show()"
   ]
  },
  {
   "cell_type": "markdown",
   "id": "bc951627",
   "metadata": {
    "papermill": {
     "duration": 0.031565,
     "end_time": "2023-01-31T01:39:12.133746",
     "exception": false,
     "start_time": "2023-01-31T01:39:12.102181",
     "status": "completed"
    },
    "tags": []
   },
   "source": [
    "<a id=\"6.2\"></a>\n",
    "## <span style=\"color:#e76f51;\"> CatBoost Classifier: </span>"
   ]
  },
  {
   "cell_type": "code",
   "execution_count": 20,
   "id": "11c8559a",
   "metadata": {
    "execution": {
     "iopub.execute_input": "2023-01-31T01:39:12.198835Z",
     "iopub.status.busy": "2023-01-31T01:39:12.198070Z",
     "iopub.status.idle": "2023-01-31T01:39:39.919688Z",
     "shell.execute_reply": "2023-01-31T01:39:39.918227Z"
    },
    "papermill": {
     "duration": 27.757673,
     "end_time": "2023-01-31T01:39:39.922768",
     "exception": false,
     "start_time": "2023-01-31T01:39:12.165095",
     "status": "completed"
    },
    "tags": []
   },
   "outputs": [
    {
     "name": "stdout",
     "output_type": "stream",
     "text": [
      "========== Fold=1 ==========\n",
      "Fold=1, Quadratic Kappa Metric score: 0.47, Run Time: 5.56s\n",
      "========== Fold=2 ==========\n",
      "Fold=2, Quadratic Kappa Metric score: 0.46, Run Time: 5.64s\n",
      "========== Fold=3 ==========\n",
      "Fold=3, Quadratic Kappa Metric score: 0.52, Run Time: 5.66s\n",
      "========== Fold=4 ==========\n",
      "Fold=4, Quadratic Kappa Metric score: 0.42, Run Time: 5.44s\n",
      "========== Fold=5 ==========\n",
      "Fold=5, Quadratic Kappa Metric score: 0.49, Run Time: 5.36s\n",
      "Mean Score : 0.47298505333928775\n"
     ]
    }
   ],
   "source": [
    "catb_params = {\n",
    "    \"objective\": \"MultiClass\",\n",
    "    \"loss_function\" : \"WKappa\",\n",
    "    \"random_seed\": 12,\n",
    "}\n",
    "\n",
    "\n",
    "catb_predictions = []\n",
    "catb_scores = []\n",
    "catb_fimp = []\n",
    "\n",
    "skf = StratifiedKFold(n_splits=FOLDS, shuffle=True, random_state=RANDOM_STATE)\n",
    "for fold, (train_idx, valid_idx) in enumerate(skf.split(train[FEATURES], train[TARGET])):\n",
    "    \n",
    "    print(10*\"=\", f\"Fold={fold+1}\", 10*\"=\")\n",
    "    start_time = time.time()\n",
    "    \n",
    "    X_train, X_valid = train.iloc[train_idx][FEATURES], train.iloc[valid_idx][FEATURES]\n",
    "    y_train , y_valid = train[TARGET].iloc[train_idx] , train[TARGET].iloc[valid_idx]\n",
    "    \n",
    "    model = CatBoostClassifier(**catb_params)\n",
    "    model.fit(X_train, y_train,verbose=0)\n",
    "    \n",
    "    preds_valid = model.predict(X_valid)\n",
    "    score = cohen_kappa_score(y_valid,  preds_valid, weights = \"quadratic\")\n",
    "    catb_scores.append(score)\n",
    "    run_time = time.time() - start_time\n",
    "    \n",
    "    print(f\"Fold={fold+1}, Quadratic Kappa Metric score: {score:.2f}, Run Time: {run_time:.2f}s\")\n",
    "    fim = pd.DataFrame(index=FEATURES,\n",
    "                 data=model.feature_importances_,\n",
    "                 columns=[f'{fold}_importance'])\n",
    "    catb_fimp.append(fim)\n",
    "    test_preds = model.predict(test[FEATURES])\n",
    "    catb_predictions.append(test_preds)\n",
    "    \n",
    "print(\"Mean Score :\", np.mean(catb_scores))"
   ]
  },
  {
   "cell_type": "markdown",
   "id": "3ccbb02a",
   "metadata": {
    "papermill": {
     "duration": 0.029165,
     "end_time": "2023-01-31T01:39:39.982699",
     "exception": false,
     "start_time": "2023-01-31T01:39:39.953534",
     "status": "completed"
    },
    "tags": []
   },
   "source": [
    "### <span style=\"color:#e76f51;\">Feature Importance for CatBoost Classifier </span>"
   ]
  },
  {
   "cell_type": "code",
   "execution_count": 21,
   "id": "f4ef3f84",
   "metadata": {
    "execution": {
     "iopub.execute_input": "2023-01-31T01:39:40.064849Z",
     "iopub.status.busy": "2023-01-31T01:39:40.063995Z",
     "iopub.status.idle": "2023-01-31T01:39:40.496186Z",
     "shell.execute_reply": "2023-01-31T01:39:40.494886Z"
    },
    "papermill": {
     "duration": 0.478092,
     "end_time": "2023-01-31T01:39:40.498833",
     "exception": false,
     "start_time": "2023-01-31T01:39:40.020741",
     "status": "completed"
    },
    "tags": []
   },
   "outputs": [
    {
     "data": {
      "image/png": "[encoded data removed]",
      "text/plain": [
       "<Figure size 1080x720 with 1 Axes>"
      ]
     },
     "metadata": {
      "needs_background": "light"
     },
     "output_type": "display_data"
    }
   ],
   "source": [
    "catb_fis_df = pd.concat(catb_fimp, axis=1).head(15)\n",
    "catb_fis_df.sort_values('1_importance').plot(kind='barh', figsize=(15, 10),\n",
    "                                       title='Feature Importance Across Folds')\n",
    "plt.show()"
   ]
  },
  {
   "cell_type": "markdown",
   "id": "59c33673",
   "metadata": {
    "papermill": {
     "duration": 0.030334,
     "end_time": "2023-01-31T01:39:40.559056",
     "exception": false,
     "start_time": "2023-01-31T01:39:40.528722",
     "status": "completed"
    },
    "tags": []
   },
   "source": [
    "<a id=\"6.2\"></a>\n",
    "## <span style=\"color:#e76f51;\"> XGBoost Classifier: </span>"
   ]
  },
  {
   "cell_type": "code",
   "execution_count": 22,
   "id": "c94521a2",
   "metadata": {
    "execution": {
     "iopub.execute_input": "2023-01-31T01:39:40.622051Z",
     "iopub.status.busy": "2023-01-31T01:39:40.621352Z",
     "iopub.status.idle": "2023-01-31T01:39:45.655887Z",
     "shell.execute_reply": "2023-01-31T01:39:45.653936Z"
    },
    "papermill": {
     "duration": 5.070449,
     "end_time": "2023-01-31T01:39:45.659499",
     "exception": false,
     "start_time": "2023-01-31T01:39:40.589050",
     "status": "completed"
    },
    "tags": []
   },
   "outputs": [
    {
     "name": "stdout",
     "output_type": "stream",
     "text": [
      "========== Fold=1 ==========\n",
      "Fold=1, Quadratic Kappa Metric score : 0.51, Run Time: 1.01s\n",
      "========== Fold=2 ==========\n",
      "Fold=2, Quadratic Kappa Metric score : 0.42, Run Time: 0.98s\n",
      "========== Fold=3 ==========\n",
      "Fold=3, Quadratic Kappa Metric score : 0.47, Run Time: 1.00s\n",
      "========== Fold=4 ==========\n",
      "Fold=4, Quadratic Kappa Metric score : 0.40, Run Time: 0.97s\n",
      "========== Fold=5 ==========\n",
      "Fold=5, Quadratic Kappa Metric score : 0.47, Run Time: 0.98s\n",
      "Mean Score : 0.4529769561965634\n"
     ]
    }
   ],
   "source": [
    "xgb_params = {\n",
    "    'objective': 'multi:softmax',\n",
    "    'eval_metric': 'mlogloss',\n",
    "\n",
    "}\n",
    "\n",
    "\n",
    "xgb_predictions = []\n",
    "xgb_scores = []\n",
    "xgb_fimp = []\n",
    "\n",
    "skf = StratifiedKFold(n_splits=FOLDS, shuffle=True, random_state=RANDOM_STATE)\n",
    "for fold, (train_idx, valid_idx) in enumerate(skf.split(train[FEATURES], train[TARGET])):\n",
    "    \n",
    "    print(10*\"=\", f\"Fold={fold+1}\", 10*\"=\")\n",
    "    start_time = time.time()\n",
    "    \n",
    "    X_train, X_valid = train.iloc[train_idx][FEATURES], train.iloc[valid_idx][FEATURES]\n",
    "    y_train , y_valid = train[TARGET].iloc[train_idx] , train[TARGET].iloc[valid_idx]\n",
    "    \n",
    "    model = XGBClassifier(**xgb_params)\n",
    "    model.fit(X_train, y_train,verbose=0)\n",
    "    \n",
    "    preds_valid = model.predict(X_valid)\n",
    "    score = cohen_kappa_score(y_valid,  preds_valid, weights = \"quadratic\")\n",
    "    xgb_scores.append(score)\n",
    "    run_time = time.time() - start_time\n",
    "    \n",
    "    print(f\"Fold={fold+1}, Quadratic Kappa Metric score : {score:.2f}, Run Time: {run_time:.2f}s\")\n",
    "    test_preds = model.predict(test[FEATURES])\n",
    "    fim = pd.DataFrame(index=FEATURES,\n",
    "                 data=model.feature_importances_,\n",
    "                 columns=[f'{fold}_importance'])\n",
    "    xgb_fimp.append(fim)\n",
    "    xgb_predictions.append(test_preds)\n",
    "    \n",
    "print(\"Mean Score :\", np.mean(xgb_scores))"
   ]
  },
  {
   "cell_type": "markdown",
   "id": "2cff8a38",
   "metadata": {
    "papermill": {
     "duration": 0.031514,
     "end_time": "2023-01-31T01:39:45.723638",
     "exception": false,
     "start_time": "2023-01-31T01:39:45.692124",
     "status": "completed"
    },
    "tags": []
   },
   "source": [
    "### <span style=\"color:#e76f51;\">Feature Importance for XGBoost Classifier</span>"
   ]
  },
  {
   "cell_type": "code",
   "execution_count": 23,
   "id": "2daf42ea",
   "metadata": {
    "execution": {
     "iopub.execute_input": "2023-01-31T01:39:45.787999Z",
     "iopub.status.busy": "2023-01-31T01:39:45.787594Z",
     "iopub.status.idle": "2023-01-31T01:39:46.213286Z",
     "shell.execute_reply": "2023-01-31T01:39:46.211788Z"
    },
    "papermill": {
     "duration": 0.461909,
     "end_time": "2023-01-31T01:39:46.216164",
     "exception": false,
     "start_time": "2023-01-31T01:39:45.754255",
     "status": "completed"
    },
    "tags": []
   },
   "outputs": [
    {
     "data": {
      "image/png": "[encoded data removed]",
      "text/plain": [
       "<Figure size 1080x720 with 1 Axes>"
      ]
     },
     "metadata": {
      "needs_background": "light"
     },
     "output_type": "display_data"
    }
   ],
   "source": [
    "xgb_fis_df = pd.concat(xgb_fimp, axis=1).head(15)\n",
    "xgb_fis_df.sort_values('1_importance').plot(kind='barh', figsize=(15, 10),\n",
    "                                       title='Feature Importance Across Folds')\n",
    "plt.show()"
   ]
  },
  {
   "cell_type": "markdown",
   "id": "783a47a7",
   "metadata": {
    "papermill": {
     "duration": 0.030801,
     "end_time": "2023-01-31T01:39:46.278073",
     "exception": false,
     "start_time": "2023-01-31T01:39:46.247272",
     "status": "completed"
    },
    "tags": []
   },
   "source": [
    "<a id=\"7\"></a>\n",
    "# **<center><span style=\"color:#00BFC4;\">Submission </span></center>**"
   ]
  },
  {
   "cell_type": "markdown",
   "id": "8d6acc7f",
   "metadata": {
    "papermill": {
     "duration": 0.030845,
     "end_time": "2023-01-31T01:39:46.340764",
     "exception": false,
     "start_time": "2023-01-31T01:39:46.309919",
     "status": "completed"
    },
    "tags": []
   },
   "source": [
    "### <span style=\"color:#e76f51;\">LGBM Classifier Submission : </span>"
   ]
  },
  {
   "cell_type": "code",
   "execution_count": 24,
   "id": "f4f0bd43",
   "metadata": {
    "execution": {
     "iopub.execute_input": "2023-01-31T01:39:46.405513Z",
     "iopub.status.busy": "2023-01-31T01:39:46.405079Z",
     "iopub.status.idle": "2023-01-31T01:39:46.461436Z",
     "shell.execute_reply": "2023-01-31T01:39:46.459684Z"
    },
    "papermill": {
     "duration": 0.091803,
     "end_time": "2023-01-31T01:39:46.464002",
     "exception": false,
     "start_time": "2023-01-31T01:39:46.372199",
     "status": "completed"
    },
    "tags": []
   },
   "outputs": [
    {
     "data": {
      "text/html": [
       "<div>\n",
       "<style scoped>\n",
       "    .dataframe tbody tr th:only-of-type {\n",
       "        vertical-align: middle;\n",
       "    }\n",
       "\n",
       "    .dataframe tbody tr th {\n",
       "        vertical-align: top;\n",
       "    }\n",
       "\n",
       "    .dataframe thead th {\n",
       "        text-align: right;\n",
       "    }\n",
       "</style>\n",
       "<table border=\"1\" class=\"dataframe\">\n",
       "  <thead>\n",
       "    <tr style=\"text-align: right;\">\n",
       "      <th></th>\n",
       "      <th>Id</th>\n",
       "      <th>quality</th>\n",
       "    </tr>\n",
       "  </thead>\n",
       "  <tbody>\n",
       "    <tr>\n",
       "      <th>0</th>\n",
       "      <td>2056</td>\n",
       "      <td>6</td>\n",
       "    </tr>\n",
       "    <tr>\n",
       "      <th>1</th>\n",
       "      <td>2057</td>\n",
       "      <td>6</td>\n",
       "    </tr>\n",
       "    <tr>\n",
       "      <th>2</th>\n",
       "      <td>2058</td>\n",
       "      <td>6</td>\n",
       "    </tr>\n",
       "    <tr>\n",
       "      <th>3</th>\n",
       "      <td>2059</td>\n",
       "      <td>6</td>\n",
       "    </tr>\n",
       "    <tr>\n",
       "      <th>4</th>\n",
       "      <td>2060</td>\n",
       "      <td>5</td>\n",
       "    </tr>\n",
       "  </tbody>\n",
       "</table>\n",
       "</div>"
      ],
      "text/plain": [
       "     Id  quality\n",
       "0  2056        6\n",
       "1  2057        6\n",
       "2  2058        6\n",
       "3  2059        6\n",
       "4  2060        5"
      ]
     },
     "execution_count": 24,
     "metadata": {},
     "output_type": "execute_result"
    }
   ],
   "source": [
    "lgb_submission = submission.copy()\n",
    "lgb_submission[TARGET] = encoder.inverse_transform(np.squeeze(mode(np.column_stack(lgb_predictions),axis = 1)[0]).astype('int'))\n",
    "lgb_submission.to_csv(\"lgb-subs.csv\",index=False)\n",
    "\n",
    "lgb_submission.head()"
   ]
  },
  {
   "cell_type": "markdown",
   "id": "2e936e6c",
   "metadata": {
    "papermill": {
     "duration": 0.031185,
     "end_time": "2023-01-31T01:39:46.528088",
     "exception": false,
     "start_time": "2023-01-31T01:39:46.496903",
     "status": "completed"
    },
    "tags": []
   },
   "source": [
    "### <span style=\"color:#e76f51;\">CATBoost Classifier Submission : </span>"
   ]
  },
  {
   "cell_type": "code",
   "execution_count": 25,
   "id": "8323dac5",
   "metadata": {
    "execution": {
     "iopub.execute_input": "2023-01-31T01:39:46.595521Z",
     "iopub.status.busy": "2023-01-31T01:39:46.595080Z",
     "iopub.status.idle": "2023-01-31T01:39:46.647989Z",
     "shell.execute_reply": "2023-01-31T01:39:46.646792Z"
    },
    "papermill": {
     "duration": 0.08858,
     "end_time": "2023-01-31T01:39:46.650580",
     "exception": false,
     "start_time": "2023-01-31T01:39:46.562000",
     "status": "completed"
    },
    "tags": []
   },
   "outputs": [
    {
     "data": {
      "text/html": [
       "<div>\n",
       "<style scoped>\n",
       "    .dataframe tbody tr th:only-of-type {\n",
       "        vertical-align: middle;\n",
       "    }\n",
       "\n",
       "    .dataframe tbody tr th {\n",
       "        vertical-align: top;\n",
       "    }\n",
       "\n",
       "    .dataframe thead th {\n",
       "        text-align: right;\n",
       "    }\n",
       "</style>\n",
       "<table border=\"1\" class=\"dataframe\">\n",
       "  <thead>\n",
       "    <tr style=\"text-align: right;\">\n",
       "      <th></th>\n",
       "      <th>Id</th>\n",
       "      <th>quality</th>\n",
       "    </tr>\n",
       "  </thead>\n",
       "  <tbody>\n",
       "    <tr>\n",
       "      <th>0</th>\n",
       "      <td>2056</td>\n",
       "      <td>6</td>\n",
       "    </tr>\n",
       "    <tr>\n",
       "      <th>1</th>\n",
       "      <td>2057</td>\n",
       "      <td>6</td>\n",
       "    </tr>\n",
       "    <tr>\n",
       "      <th>2</th>\n",
       "      <td>2058</td>\n",
       "      <td>6</td>\n",
       "    </tr>\n",
       "    <tr>\n",
       "      <th>3</th>\n",
       "      <td>2059</td>\n",
       "      <td>6</td>\n",
       "    </tr>\n",
       "    <tr>\n",
       "      <th>4</th>\n",
       "      <td>2060</td>\n",
       "      <td>5</td>\n",
       "    </tr>\n",
       "  </tbody>\n",
       "</table>\n",
       "</div>"
      ],
      "text/plain": [
       "     Id  quality\n",
       "0  2056        6\n",
       "1  2057        6\n",
       "2  2058        6\n",
       "3  2059        6\n",
       "4  2060        5"
      ]
     },
     "execution_count": 25,
     "metadata": {},
     "output_type": "execute_result"
    }
   ],
   "source": [
    "catb_submission = submission.copy()\n",
    "catb_submission[TARGET] = encoder.inverse_transform(np.squeeze(mode(np.column_stack(catb_predictions),axis = 1)[0]).astype('int'))\n",
    "catb_submission.to_csv(\"catb-subs.csv\",index=False)\n",
    "catb_submission.to_csv(\"submissions.csv\",index=False)\n",
    "catb_submission.head()"
   ]
  },
  {
   "cell_type": "markdown",
   "id": "8e19b1e9",
   "metadata": {
    "papermill": {
     "duration": 0.031511,
     "end_time": "2023-01-31T01:39:46.714307",
     "exception": false,
     "start_time": "2023-01-31T01:39:46.682796",
     "status": "completed"
    },
    "tags": []
   },
   "source": [
    "### <span style=\"color:#e76f51;\">XGBoost Classifier Submission : </span>"
   ]
  },
  {
   "cell_type": "code",
   "execution_count": 26,
   "id": "51f7f00d",
   "metadata": {
    "execution": {
     "iopub.execute_input": "2023-01-31T01:39:46.780537Z",
     "iopub.status.busy": "2023-01-31T01:39:46.780111Z",
     "iopub.status.idle": "2023-01-31T01:39:46.834335Z",
     "shell.execute_reply": "2023-01-31T01:39:46.832906Z"
    },
    "papermill": {
     "duration": 0.089976,
     "end_time": "2023-01-31T01:39:46.837034",
     "exception": false,
     "start_time": "2023-01-31T01:39:46.747058",
     "status": "completed"
    },
    "tags": []
   },
   "outputs": [
    {
     "data": {
      "text/html": [
       "<div>\n",
       "<style scoped>\n",
       "    .dataframe tbody tr th:only-of-type {\n",
       "        vertical-align: middle;\n",
       "    }\n",
       "\n",
       "    .dataframe tbody tr th {\n",
       "        vertical-align: top;\n",
       "    }\n",
       "\n",
       "    .dataframe thead th {\n",
       "        text-align: right;\n",
       "    }\n",
       "</style>\n",
       "<table border=\"1\" class=\"dataframe\">\n",
       "  <thead>\n",
       "    <tr style=\"text-align: right;\">\n",
       "      <th></th>\n",
       "      <th>Id</th>\n",
       "      <th>quality</th>\n",
       "    </tr>\n",
       "  </thead>\n",
       "  <tbody>\n",
       "    <tr>\n",
       "      <th>0</th>\n",
       "      <td>2056</td>\n",
       "      <td>6</td>\n",
       "    </tr>\n",
       "    <tr>\n",
       "      <th>1</th>\n",
       "      <td>2057</td>\n",
       "      <td>7</td>\n",
       "    </tr>\n",
       "    <tr>\n",
       "      <th>2</th>\n",
       "      <td>2058</td>\n",
       "      <td>5</td>\n",
       "    </tr>\n",
       "    <tr>\n",
       "      <th>3</th>\n",
       "      <td>2059</td>\n",
       "      <td>6</td>\n",
       "    </tr>\n",
       "    <tr>\n",
       "      <th>4</th>\n",
       "      <td>2060</td>\n",
       "      <td>5</td>\n",
       "    </tr>\n",
       "  </tbody>\n",
       "</table>\n",
       "</div>"
      ],
      "text/plain": [
       "     Id  quality\n",
       "0  2056        6\n",
       "1  2057        7\n",
       "2  2058        5\n",
       "3  2059        6\n",
       "4  2060        5"
      ]
     },
     "execution_count": 26,
     "metadata": {},
     "output_type": "execute_result"
    }
   ],
   "source": [
    "xgb_submission = submission.copy()\n",
    "xgb_submission[TARGET] = encoder.inverse_transform(np.squeeze(mode(np.column_stack(xgb_predictions),axis = 1)[0]).astype('int'))\n",
    "xgb_submission.to_csv(\"xgb-subs.csv\",index=False)\n",
    "xgb_submission.head()"
   ]
  },
  {
   "cell_type": "markdown",
   "id": "4beb7830",
   "metadata": {
    "papermill": {
     "duration": 0.032236,
     "end_time": "2023-01-31T01:39:46.902316",
     "exception": false,
     "start_time": "2023-01-31T01:39:46.870080",
     "status": "completed"
    },
    "tags": []
   },
   "source": [
    "<a href=\"#toc\" role=\"button\" aria-pressed=\"true\" >⬆️Back to Table of Contents ⬆️</a>"
   ]
  },
  {
   "cell_type": "markdown",
   "id": "2a67aae6",
   "metadata": {
    "papermill": {
     "duration": 0.03147,
     "end_time": "2023-01-31T01:39:46.965897",
     "exception": false,
     "start_time": "2023-01-31T01:39:46.934427",
     "status": "completed"
    },
    "tags": []
   },
   "source": [
    "<div class=\"alert alert-block alert-info\" style=\"font-size:14px; font-family:verdana; line-height: 1.7em;\">\n",
    "    \n",
    "    \n",
    "### <center>Thank you for reading🙂</center>\n",
    "### <center>If you have any feedback or find anything wrong, please let me know!</center>\n"
   ]
  }
 ],
 "metadata": {
  "kernelspec": {
   "display_name": "Python 3",
   "language": "python",
   "name": "python3"
  },
  "language_info": {
   "codemirror_mode": {
    "name": "ipython",
    "version": 3
   },
   "file_extension": ".py",
   "mimetype": "text/x-python",
   "name": "python",
   "nbconvert_exporter": "python",
   "pygments_lexer": "ipython3",
   "version": "3.7.12"
  },
  "papermill": {
   "default_parameters": {},
   "duration": 129.981656,
   "end_time": "2023-01-31T01:39:48.224377",
   "environment_variables": {},
   "exception": null,
   "input_path": "__notebook__.ipynb",
   "output_path": "__notebook__.ipynb",
   "parameters": {},
   "start_time": "2023-01-31T01:37:38.242721",
   "version": "2.3.4"
  }
 },
 "nbformat": 4,
 "nbformat_minor": 5
}
