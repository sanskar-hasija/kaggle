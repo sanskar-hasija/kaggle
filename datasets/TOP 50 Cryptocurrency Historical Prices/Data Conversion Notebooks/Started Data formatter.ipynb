{
 "cells": [
  {
   "cell_type": "code",
   "execution_count": 253,
   "id": "d4720a00",
   "metadata": {},
   "outputs": [],
   "source": [
    "input_dir = \"data/Waves Historical Data - Investing.com.csv\"\n",
    "output_dir = \"data/final/Waves.csv\""
   ]
  },
  {
   "cell_type": "code",
   "execution_count": 254,
   "id": "d4d5f986",
   "metadata": {},
   "outputs": [],
   "source": [
    "import pandas as pd\n",
    "import numpy as np\n",
    "data = pd.read_csv(input_dir, parse_dates=['Date'])\n",
    "data[\"Price\"].replace(',','', regex=True, inplace=True)\n",
    "data[\"Open\"].replace(',','', regex=True, inplace=True)\n",
    "data[\"High\"].replace(',','', regex=True, inplace=True)\n",
    "data[\"Low\"].replace(',','', regex=True, inplace=True)\n",
    "data[\"Change %\"].replace('%','', regex=True, inplace=True)\n",
    "data['Vol.'].replace([',',','],'', regex=True, inplace=True)\n",
    "data[\"Price\"] = data[\"Price\"].astype(float)\n",
    "data[\"Open\"] = data[\"Open\"].astype(float)\n",
    "data[\"High\"] = data[\"High\"].astype(float)\n",
    "data[\"Low\"] = data[\"Low\"].astype(float)\n",
    "data[\"Change %\"].replace(['%' , ','],'', regex=True, inplace=True)\n",
    "def value_to_float(x):\n",
    "    if type(x) == float or type(x) == int:\n",
    "        return x\n",
    "    if 'K' in x:\n",
    "        if len(x) > 1:\n",
    "            return float(x.replace('K', '')) * 1000\n",
    "        return 1000.0\n",
    "    if 'M' in x:\n",
    "        if len(x) > 1:\n",
    "            return float(x.replace('M', '')) * 1000000\n",
    "        return 1000000.0\n",
    "    if 'B' in x:\n",
    "        return float(x.replace('B', '')) * 100000000\n",
    "    return 0.0\n",
    "\n",
    "data['Vol.'] = data['Vol.'].apply(value_to_float)\n",
    "data[\"SNo\"] = [i+1 for i in range(len(data))]\n",
    "cols= ['SNo','Date', 'Price', 'Open', 'High', 'Low', 'Vol.', 'Change %']\n",
    "data = data[cols]\n",
    "data.to_csv(output_dir,index = False)"
   ]
  },
  {
   "cell_type": "code",
   "execution_count": 255,
   "id": "c654c8f4",
   "metadata": {},
   "outputs": [
    {
     "data": {
      "text/html": [
       "<div>\n",
       "<style scoped>\n",
       "    .dataframe tbody tr th:only-of-type {\n",
       "        vertical-align: middle;\n",
       "    }\n",
       "\n",
       "    .dataframe tbody tr th {\n",
       "        vertical-align: top;\n",
       "    }\n",
       "\n",
       "    .dataframe thead th {\n",
       "        text-align: right;\n",
       "    }\n",
       "</style>\n",
       "<table border=\"1\" class=\"dataframe\">\n",
       "  <thead>\n",
       "    <tr style=\"text-align: right;\">\n",
       "      <th></th>\n",
       "      <th>SNo</th>\n",
       "      <th>Date</th>\n",
       "      <th>Price</th>\n",
       "      <th>Open</th>\n",
       "      <th>High</th>\n",
       "      <th>Low</th>\n",
       "      <th>Vol.</th>\n",
       "      <th>Change %</th>\n",
       "    </tr>\n",
       "  </thead>\n",
       "  <tbody>\n",
       "    <tr>\n",
       "      <th>0</th>\n",
       "      <td>1</td>\n",
       "      <td>2021-08-24</td>\n",
       "      <td>25.2903</td>\n",
       "      <td>25.9995</td>\n",
       "      <td>26.0040</td>\n",
       "      <td>25.1883</td>\n",
       "      <td>1090000.0</td>\n",
       "      <td>-2.72</td>\n",
       "    </tr>\n",
       "    <tr>\n",
       "      <th>1</th>\n",
       "      <td>2</td>\n",
       "      <td>2021-08-23</td>\n",
       "      <td>25.9970</td>\n",
       "      <td>26.0035</td>\n",
       "      <td>26.2687</td>\n",
       "      <td>25.5158</td>\n",
       "      <td>1330000.0</td>\n",
       "      <td>-0.04</td>\n",
       "    </tr>\n",
       "    <tr>\n",
       "      <th>2</th>\n",
       "      <td>3</td>\n",
       "      <td>2021-08-22</td>\n",
       "      <td>26.0085</td>\n",
       "      <td>24.9372</td>\n",
       "      <td>27.1006</td>\n",
       "      <td>24.8866</td>\n",
       "      <td>2870000.0</td>\n",
       "      <td>4.33</td>\n",
       "    </tr>\n",
       "    <tr>\n",
       "      <th>3</th>\n",
       "      <td>4</td>\n",
       "      <td>2021-08-21</td>\n",
       "      <td>24.9300</td>\n",
       "      <td>24.4829</td>\n",
       "      <td>26.6754</td>\n",
       "      <td>24.0236</td>\n",
       "      <td>1880000.0</td>\n",
       "      <td>1.83</td>\n",
       "    </tr>\n",
       "    <tr>\n",
       "      <th>4</th>\n",
       "      <td>5</td>\n",
       "      <td>2021-08-20</td>\n",
       "      <td>24.4829</td>\n",
       "      <td>23.8560</td>\n",
       "      <td>24.9573</td>\n",
       "      <td>23.5134</td>\n",
       "      <td>1430000.0</td>\n",
       "      <td>2.63</td>\n",
       "    </tr>\n",
       "  </tbody>\n",
       "</table>\n",
       "</div>"
      ],
      "text/plain": [
       "   SNo       Date    Price     Open     High      Low       Vol.  Change %\n",
       "0    1 2021-08-24  25.2903  25.9995  26.0040  25.1883  1090000.0     -2.72\n",
       "1    2 2021-08-23  25.9970  26.0035  26.2687  25.5158  1330000.0     -0.04\n",
       "2    3 2021-08-22  26.0085  24.9372  27.1006  24.8866  2870000.0      4.33\n",
       "3    4 2021-08-21  24.9300  24.4829  26.6754  24.0236  1880000.0      1.83\n",
       "4    5 2021-08-20  24.4829  23.8560  24.9573  23.5134  1430000.0      2.63"
      ]
     },
     "execution_count": 255,
     "metadata": {},
     "output_type": "execute_result"
    }
   ],
   "source": [
    "data_gen = pd.read_csv(output_dir, parse_dates=['Date'])\n",
    "data_gen.head()"
   ]
  },
  {
   "cell_type": "code",
   "execution_count": 256,
   "id": "eede5ae9",
   "metadata": {},
   "outputs": [
    {
     "name": "stdout",
     "output_type": "stream",
     "text": [
      "<class 'pandas.core.frame.DataFrame'>\n",
      "RangeIndex: 1458 entries, 0 to 1457\n",
      "Data columns (total 8 columns):\n",
      " #   Column    Non-Null Count  Dtype         \n",
      "---  ------    --------------  -----         \n",
      " 0   SNo       1458 non-null   int64         \n",
      " 1   Date      1458 non-null   datetime64[ns]\n",
      " 2   Price     1458 non-null   float64       \n",
      " 3   Open      1458 non-null   float64       \n",
      " 4   High      1458 non-null   float64       \n",
      " 5   Low       1458 non-null   float64       \n",
      " 6   Vol.      1458 non-null   float64       \n",
      " 7   Change %  1458 non-null   float64       \n",
      "dtypes: datetime64[ns](1), float64(6), int64(1)\n",
      "memory usage: 91.2 KB\n"
     ]
    }
   ],
   "source": [
    "data_gen.info()"
   ]
  }
 ],
 "metadata": {
  "kernelspec": {
   "display_name": "Python 3",
   "language": "python",
   "name": "python3"
  },
  "language_info": {
   "codemirror_mode": {
    "name": "ipython",
    "version": 3
   },
   "file_extension": ".py",
   "mimetype": "text/x-python",
   "name": "python",
   "nbconvert_exporter": "python",
   "pygments_lexer": "ipython3",
   "version": "3.6.13"
  }
 },
 "nbformat": 4,
 "nbformat_minor": 5
}
